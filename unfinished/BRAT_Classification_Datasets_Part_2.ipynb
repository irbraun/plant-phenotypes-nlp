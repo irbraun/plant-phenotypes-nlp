{
 "cells": [
  {
   "cell_type": "code",
   "execution_count": 9,
   "metadata": {},
   "outputs": [],
   "source": [
    "from nltk.tokenize import sent_tokenize\n",
    "import pandas as pd\n",
    "import sys\n",
    "import os\n",
    "import time\n",
    "sys.path.append(\"../../oats\")\n",
    "from oats.pubmed.query import search, fetch_details\n",
    "from oats.utils.utils import save_to_pickle, load_from_pickle"
   ]
  },
  {
   "cell_type": "code",
   "execution_count": 20,
   "metadata": {},
   "outputs": [],
   "source": [
    "# Reading in the lists and string from the saved objects.\n",
    "path = \"../data/corpus_related_files/brat_annotations_ath_corpus\"\n",
    "annotations_path = os.path.join(path,\"sentences.ann\")\n",
    "saved = load_from_pickle(os.path.join(path,\"saved_objects.pickle\"))\n",
    "sentences = saved[\"sentences\"]\n",
    "pubmed_ids = saved[\"pubmed_ids\"]\n",
    "delimited_sentences = saved[\"delimited_sentences\"]"
   ]
  },
  {
   "cell_type": "code",
   "execution_count": 21,
   "metadata": {},
   "outputs": [],
   "source": [
    "# Map the annotations made using brat back to the full sentences.\n",
    "header = [\"num\",\"tag\",\"start\",\"end\",\"first_word\"]\n",
    "annotations = pd.read_table(annotations_path, names=header, delim_whitespace=True)\n",
    "get_sentence_index = lambda x: len(x.split(\"[DELIM]\"))-1\n",
    "indices = [get_sentence_index(delimited_sentences[:i]) for i in annotations[\"start\"].values]"
   ]
  },
  {
   "cell_type": "code",
   "execution_count": 22,
   "metadata": {},
   "outputs": [
    {
     "name": "stdout",
     "output_type": "stream",
     "text": [
      "         pmid                                           sentence  tag\n",
      "686  31368506  Hypocotyl and root elongation was inhibited in...    1\n",
      "444  31337083  The height and thickness of the inflorescence ...    1\n",
      "445  31337083  Paraffin sections showed that the cell number ...    1\n",
      "446  31337083  In addition, the cell wall thickness of trache...    1\n",
      "447  31337083  We also found that the lignin content in the s...    1\n",
      "449  31337083  These results suggested that <i>HDT1</i> is in...    1\n",
      "557  31286324  All mutant plants exhibited substantial reduct...    1\n",
      "558  31286324  Furthermore, mutant lines exhibited reduced le...    1\n",
      "269  31159296  In Arabidopsis, two closely related transcript...    1\n",
      "270  31159296  Whereas ABA-induced transcription repressors (...    1\n",
      "272  31159296  Indeed, seed size was increased in the <i>dpa4...    1\n",
      "273  31159296  In addition, we found that shoot branching was...    1\n",
      "274  31159296  The mutant plants failed to produce secondary ...    1\n",
      "275  31159296  Floral organ number and fertility were also af...    1\n",
      "276  31159296  To examine if these phenotypes were dependent ...    1\n",
      "211  31076779  In this study, we show that sulfur modificatio...    1\n",
      "213  31076779  Analyses of the mutant phenotypes revealed tha...    1\n",
      "214  31076779  On the other hand, both mutants exhibited incr...    1\n",
      "496  31052421  Five of them <i>JcTPPA</i>, <i>JcTPPC</i>, <i>...    1\n",
      "499  31052421  Compared with control <i>Arabidopsis</i> plant...    1\n"
     ]
    }
   ],
   "source": [
    "# Create a pandas dataframe with all the annotations and the PubMed IDs.\n",
    "dataset_path = os.path.join(path,\"tagged_dataset.csv\")\n",
    "tags = [(i in indices)*1 for i in range(len(sentences))]\n",
    "df = pd.DataFrame({\"pmid\":pubmed_ids,\"sentence\":sentences,\"tag\":tags})\n",
    "df.sort_values(by=[\"tag\",\"pmid\"], inplace=True, ascending=False)\n",
    "df.to_csv(dataset_path, index=False)\n",
    "print(df.head(20))"
   ]
  }
 ],
 "metadata": {
  "kernelspec": {
   "display_name": "Python 3",
   "language": "python",
   "name": "python3"
  },
  "language_info": {
   "codemirror_mode": {
    "name": "ipython",
    "version": 3
   },
   "file_extension": ".py",
   "mimetype": "text/x-python",
   "name": "python",
   "nbconvert_exporter": "python",
   "pygments_lexer": "ipython3",
   "version": "3.6.10"
  }
 },
 "nbformat": 4,
 "nbformat_minor": 2
}
