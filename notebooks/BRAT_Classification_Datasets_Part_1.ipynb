{
 "cells": [
  {
   "cell_type": "code",
   "execution_count": 1,
   "metadata": {},
   "outputs": [],
   "source": [
    "from nltk.tokenize import sent_tokenize\n",
    "import pandas as pd\n",
    "import sys\n",
    "import time\n",
    "import os\n",
    "sys.path.append(\"../../oats\")\n",
    "from oats.pubmed.query import search, fetch_details\n",
    "from oats.utils.utils import save_to_pickle, load_from_pickle"
   ]
  },
  {
   "cell_type": "markdown",
   "metadata": {},
   "source": [
    "### Collecting dataset of sentences from Arabidopsis articles and saving"
   ]
  },
  {
   "cell_type": "code",
   "execution_count": 2,
   "metadata": {},
   "outputs": [],
   "source": [
    "# Creating the dataset of sentences related to Arabidopsis phenotypes.\n",
    "path = \"../data/corpus_related_files/brat_annotations_ath_corpus\"\n",
    "query = \"arabidopsis AND phenotype\"\n",
    "limit = 100\n",
    "results = search(query, limit)\n",
    "id_list = results[\"IdList\"]\n",
    "papers = fetch_details(id_list)\n",
    "\n",
    "# A list of the sentences and a list of the corresponding PubMed IDs of the same length.\n",
    "sentences = []\n",
    "pubmed_ids = []\n",
    "for i, paper in enumerate(papers['PubmedArticle']):\n",
    "    try:\n",
    "        abstract_text = paper['MedlineCitation']['Article']['Abstract'][\"AbstractText\"][0]\n",
    "        abstract_sentences = sent_tokenize(abstract_text)\n",
    "        for sentence in abstract_sentences:\n",
    "            sentences.append(sentence)\n",
    "            pubmed_ids.append(str(id_list[i]))\n",
    "    except KeyError:\n",
    "        continue"
   ]
  },
  {
   "cell_type": "code",
   "execution_count": 3,
   "metadata": {},
   "outputs": [],
   "source": [
    "# Produce a text file that can be annotated using brat.\n",
    "# The process of annotating with brat should then produce the ann file.\n",
    "delimited_sentences = \"\\n[DELIM]\\n\".join(sentences)\n",
    "file_to_annotate = open(os.path.join(path,\"sentences.txt\"),\"w\")\n",
    "file_to_annotate.write(delimited_sentences)\n",
    "file_to_annotate.close()\n",
    "\n",
    "# Create a pickle that holds the list of sentence strings,corresponding list of PubMed IDs, and delim sentence string.\n",
    "saved_object_dict = {}\n",
    "saved_object_dict[\"sentences\"] = sentences\n",
    "saved_object_dict[\"pubmed_ids\"] = pubmed_ids\n",
    "saved_object_dict[\"delimited_sentences\"] = delimited_sentences\n",
    "save_to_pickle(obj=saved_object_dict, path=os.path.join(path,\"saved_objects.pickle\"))"
   ]
  },
  {
   "cell_type": "code",
   "execution_count": null,
   "metadata": {},
   "outputs": [],
   "source": [
    "# Create a pandas dataframe with all of the untagged data.\n",
    "dataset_path = os.path.join(path,\"untagged_dataset.csv\")\n",
    "df = pd.DataFrame({\"pmid\":pubmed_ids,\"sentence\":sentences,})\n",
    "df.to_csv(dataset_path, index=True)\n",
    "print(df.head(20))"
   ]
  },
  {
   "cell_type": "markdown",
   "metadata": {},
   "source": [
    "### Collecting dataset of sentences from maize articles and saving"
   ]
  },
  {
   "cell_type": "code",
   "execution_count": 6,
   "metadata": {},
   "outputs": [],
   "source": [
    "# Creating the dataset of sentences related to maize phenotypes.\n",
    "path = \"../data/corpus_related_files/brat_annotations_zma_corpus\"\n",
    "query = \"maize AND phenotype\"\n",
    "limit = 100\n",
    "results = search(query, limit)\n",
    "id_list = results[\"IdList\"]\n",
    "papers = fetch_details(id_list)\n",
    "\n",
    "# A list of the sentences and a list of the corresponding PubMed IDs of the same length.\n",
    "sentences = []\n",
    "pubmed_ids = []\n",
    "for i, paper in enumerate(papers['PubmedArticle']):\n",
    "    try:\n",
    "        abstract_text = paper['MedlineCitation']['Article']['Abstract'][\"AbstractText\"][0]\n",
    "        abstract_sentences = sent_tokenize(abstract_text)\n",
    "        for sentence in abstract_sentences:\n",
    "            sentences.append(sentence)\n",
    "            pubmed_ids.append(str(id_list[i]))\n",
    "    except KeyError:\n",
    "        continue"
   ]
  },
  {
   "cell_type": "code",
   "execution_count": 7,
   "metadata": {},
   "outputs": [],
   "source": [
    "# Produce a text file that can be annotated using brat.\n",
    "# The process of annotating with brat should then produce the ann file.\n",
    "delimited_sentences = \"\\n[DELIM]\\n\".join(sentences)\n",
    "file_to_annotate = open(os.path.join(path,\"sentences.txt\"),\"w\")\n",
    "file_to_annotate.write(delimited_sentences)\n",
    "file_to_annotate.close()\n",
    "\n",
    "# Create a pickle that holds the list of sentence strings,corresponding list of PubMed IDs, and delim sentence string.\n",
    "saved_object_dict = {}\n",
    "saved_object_dict[\"sentences\"] = sentences\n",
    "saved_object_dict[\"pubmed_ids\"] = pubmed_ids\n",
    "saved_object_dict[\"delimited_sentences\"] = delimited_sentences\n",
    "save_to_pickle(obj=saved_object_dict, path=os.path.join(path,\"saved_objects.pickle\"))"
   ]
  },
  {
   "cell_type": "code",
   "execution_count": 9,
   "metadata": {},
   "outputs": [
    {
     "name": "stdout",
     "output_type": "stream",
     "text": [
      "   index      pmid tag                                           sentence\n",
      "0         30699124      The evolution of maize (Zea mays L.) is highly...\n",
      "1         30699124      Also, morphological and genetic traits of crop...\n",
      "2         30699124      In contrast in the Tarapacá region (18-21° S),...\n",
      "3         30699124      2500-400 yr BP) displayed extensive maize agri...\n",
      "4         30699124      The presence of archaeological macro-botanical...\n",
      "5         30699124      Thus, in this study, we ask how the morphologi...\n",
      "6         30699124      To answer this, we measured and compared morph...\n",
      "7         30699124      To established genetic diversity eight microsa...\n",
      "8         30699124      Genetic diversity was estimated by allelic fre...\n",
      "9         30699124      Differences between populations and genetic st...\n",
      "10        30699124      Our results indicate significant phenotypic di...\n",
      "11        30699124      This result is suggestive of an introduction o...\n",
      "12        30699124      Additionally, archaeological maize shows a low...\n",
      "13        30699124      These results suggest a human selection during...\n",
      "14        30699124      They also provide new clues for understanding ...\n",
      "15        28485471      Five maize inbred lines, 20 F<sub>1</sub> dial...\n",
      "16        30823990      Endoreduplication is a key cell cycle variant ...\n",
      "17        30823990      Therefore, identification of the key genes ass...\n",
      "18        30823990      Here, we identified 12 putative endoreduplicat...\n",
      "19        30823990      Sequence analysis indicated that all the ZmSMR...\n"
     ]
    }
   ],
   "source": [
    "# Create a pandas dataframe with all of the untagged data.\n",
    "dataset_path = os.path.join(path,\"untagged_dataset.csv\")\n",
    "df = pd.DataFrame({\"index\":\"\",\"pmid\":pubmed_ids,\"tag\":\"\",\"sentence\":sentences,})\n",
    "df.to_csv(dataset_path, index=False)\n",
    "print(df.head(20))"
   ]
  }
 ],
 "metadata": {
  "kernelspec": {
   "display_name": "Python 3",
   "language": "python",
   "name": "python3"
  },
  "language_info": {
   "codemirror_mode": {
    "name": "ipython",
    "version": 3
   },
   "file_extension": ".py",
   "mimetype": "text/x-python",
   "name": "python",
   "nbconvert_exporter": "python",
   "pygments_lexer": "ipython3",
   "version": "3.6.7"
  }
 },
 "nbformat": 4,
 "nbformat_minor": 2
}
