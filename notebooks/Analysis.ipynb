{
 "cells": [
  {
   "cell_type": "markdown",
   "metadata": {},
   "source": [
    "# Table of Contents\n",
    "\n",
    "- [Introduction](#introduction)\n",
    "\n",
    "- [Links of Interest](#links)\n",
    "\n",
    "- [Part 1. Loading and Filtering Data](#part_1)\n",
    "    - [Setting input and output paths](#paths)\n",
    "    - [Reading in genes, annotations, and phenotype descriptions](#read_this_data)\n",
    "    - [KEGG biochemcial pathways](#read_in_kegg)\n",
    "    - [PlantCyc biochemcial pathways](#read_in_plantcyc)\n",
    "    - [Phenotype hierarchical subsets](#read_in_lloyd_meinke_subsets)\n",
    "    - [Phenotype hierarchical classes](#read_in_lloyd_meinke_classes)\n",
    "    - [Relating the group datasets to genes](#relating)\n",
    "    - [Filtering the datasets](#filtering)\n",
    "    \n",
    "- [Part 2. NLP Models](#part_2)\n",
    "    - [Word2Vec and Doc2Vec](#word2vec_doc2vec)\n",
    "    - [BERT and BioBERT](#bert_biobert)\n",
    "    - [Loading models](#load_models)\n",
    "\n",
    "- [Part 3. NLP Choices](#part_3)\n",
    "    - [Preprocessing descriptions](#preprocessing)\n",
    "    - [POS Tagging](#pos_tagging)\n",
    "    - [Reducing vocabulary size](#vocab)\n",
    "    - [Annotating with biological ontologies](#annotation)\n",
    "    - [Splitting into phene descriptions](#phenes)\n",
    "    \n",
    "- [Part 4. Generating Vectors and Distance Matrices](#part_4)\n",
    "    - [Defining methods to use](#methods)\n",
    "    - [Running all methods](#running)\n",
    "    - [Merging distances into an edgelist](#merging)\n",
    "    - [Adding edge information](#merging)\n",
    "\n",
    "- [Part 5. Clustering Analysis](#part_5)\n",
    "    - [Topic modeling](#topic_modeling)\n",
    "    - [Agglomerative clustering](#clustering)\n",
    "    - [Phenologs for OMIM disease phenotypes](#phenologs)\n",
    "    \n",
    "- [Part 6. Supervised Tasks](#part_6)\n",
    "    - [Distributions of distance values](#ks)\n",
    "    - [Within-group distance values](#within)\n",
    "    - [Predictions and AUC for shared pathways or interactions](#auc)\n",
    "    - [Tests for querying to recover related genes](#y)\n",
    "    - [Producing output summary table](#output)"
   ]
  },
  {
   "cell_type": "markdown",
   "metadata": {},
   "source": [
    "<a id=\"introduction\"></a>\n",
    "### Introduction: Text Mining Analysis of Phenotype Descriptions in Plants\n",
    "The purpose of this notebook is to evaluate what can be learned from a natural language processing approach to analyzing free-text descriptions of phenotype descriptions of plants. The approach is to generate pairwise distances matrices between a set of plant phenotype descriptions across different species, sourced from academic papers and online model organism databases. These pairwise distance matrices can be constructed using any vectorization method that can be applied to natural language. In this notebook, we specifically evaluate the use of n-gram and bag-of-words techniques, word and document embedding using Word2Vec and Doc2Vec, context-dependent word-embeddings using BERT and BioBERT, and ontology term annotations with automated annotation tools such as NOBLE Coder.\n",
    "\n",
    "Loading, manipulation, and filtering of the dataset of phenotype descriptions associated with genes across different plant species is largely handled through a Python package created for this purpose called OATS (Ontology Annotation and Text Similarity) which is available [here](https://github.com/irbraun/oats). Preprocessing of the descriptions, mapping the dataset to additional resources such as protein-protein interaction databases and biochemical pathway databases are handled in this notebook using that package as well. In the evaluation of each of these natural language processing approaches to analyzing this dataset of descriptions, we compare performance against a dataset generated through manual annotation of a similar dataset in Oellrich Walls et al. (2015) and against manual annotations with experimentally determined terms from the Gene Ontology (PO) and the Plant Ontology (PO).\n",
    "\n",
    "<a id=\"links\"></a>\n",
    "### Relevant links of interest:\n",
    "- Paper describing comparison of NLP and ontology annotation approaches to curation: [Braun, Lawrence-Dill (2019)](https://doi.org/10.3389/fpls.2019.01629)\n",
    "- Paper describing results of manual phenotype description curation: [Oellrich, Walls et al. (2015](https://plantmethods.biomedcentral.com/articles/10.1186/s13007-015-0053-y)\n",
    "- Plant databases with phenotype description text data available: [TAIR](https://www.arabidopsis.org/), [SGN](https://solgenomics.net/), [MaizeGDB](https://www.maizegdb.org/)\n",
    "- Python package for working with phenotype descriptions: [OATS](https://github.com/irbraun/oats)\n",
    "- Python package used for general NLP functions: [NLTK](https://www.nltk.org/), [Gensim](https://radimrehurek.com/gensim/auto_examples/index.html)\n",
    "- Python package used for working with biological ontologies: [Pronto](https://pronto.readthedocs.io/en/latest/)\n",
    "- Python package for loading pretrained BERT models: [PyTorch Pretrained BERT](https://pypi.org/project/pytorch-pretrained-bert/)\n",
    "- For BERT Models pretrained on PubMed and PMC: [BioBERT Paper](https://arxiv.org/abs/1901.08746), [BioBERT Models](https://github.com/naver/biobert-pretrained)"
   ]
  },
  {
   "cell_type": "code",
   "execution_count": null,
   "metadata": {
    "scrolled": true
   },
   "outputs": [],
   "source": [
    "import datetime\n",
    "import nltk\n",
    "import matplotlib.pyplot as plt\n",
    "import matplotlib as mpl\n",
    "import seaborn as sns\n",
    "import pandas as pd\n",
    "import numpy as np\n",
    "import time\n",
    "import math\n",
    "import sys\n",
    "import gensim\n",
    "import os\n",
    "import warnings\n",
    "import torch\n",
    "import itertools\n",
    "import argparse\n",
    "import multiprocessing as mp\n",
    "from collections import Counter, defaultdict\n",
    "from inspect import signature\n",
    "from scipy.stats import ks_2samp, hypergeom, pearsonr, spearmanr\n",
    "from sklearn.metrics import precision_recall_curve, f1_score, auc\n",
    "from sklearn.model_selection import train_test_split, KFold\n",
    "from scipy import spatial, stats\n",
    "from statsmodels.sandbox.stats.multicomp import multipletests\n",
    "from nltk.corpus import brown\n",
    "from nltk.tokenize import word_tokenize, sent_tokenize\n",
    "from sklearn.neighbors import KNeighborsClassifier\n",
    "from pytorch_pretrained_bert import BertTokenizer, BertModel, BertForMaskedLM\n",
    "from gensim.parsing.preprocessing import strip_non_alphanum, stem_text, preprocess_string, remove_stopwords\n",
    "from gensim.utils import simple_preprocess\n",
    "from sklearn.feature_extraction.text import CountVectorizer, TfidfVectorizer\n",
    "from sklearn.decomposition import NMF\n",
    "from sklearn.decomposition import LatentDirichletAllocation as LDA\n",
    "from sklearn.cluster import AgglomerativeClustering\n",
    "\n",
    "sys.path.append(\"../../oats\")\n",
    "from oats.utils.utils import save_to_pickle, load_from_pickle, merge_list_dicts, flatten, to_hms\n",
    "from oats.utils.utils import function_wrapper_with_duration\n",
    "from oats.biology.dataset import Dataset\n",
    "from oats.biology.groupings import Groupings\n",
    "from oats.biology.relationships import ProteinInteractions, AnyInteractions\n",
    "from oats.annotation.ontology import Ontology\n",
    "from oats.annotation.annotation import annotate_using_noble_coder\n",
    "from oats.distances import pairwise as pw\n",
    "from oats.distances.edgelists import merge_edgelists, make_undirected, remove_self_loops, subset_with_ids\n",
    "from oats.nlp.vocabulary import get_overrepresented_tokens, get_vocab_from_tokens\n",
    "from oats.nlp.vocabulary import reduce_vocab_connected_components, reduce_vocab_linares_pontes\n",
    "from oats.nlp.preprocess import concatenate_with_bar_delim\n",
    "\n",
    "from _utils import Method\n",
    "from _utils import IndexedGraph\n",
    "\n",
    "mpl.rcParams[\"figure.dpi\"] = 400\n",
    "warnings.simplefilter('ignore')\n",
    "pd.set_option('display.max_rows', 500)\n",
    "pd.set_option('display.max_columns', 500)\n",
    "pd.set_option('display.width', 1000)\n",
    "nltk.download('punkt', quiet=True)\n",
    "nltk.download('brown', quiet=True)\n",
    "nltk.download('averaged_perceptron_tagger', quiet=True)"
   ]
  },
  {
   "cell_type": "markdown",
   "metadata": {},
   "source": [
    "<a id=\"part_1\"></a>\n",
    "# Part 1. Loading and Filtering Data\n",
    "<a id=\"paths\"></a>\n",
    "### Setting up the input and output paths and summarizing output table\n",
    "This section defines some constants which are used for creating a uniquely named directory to contain all the outputs from running this instance of this notebook. The naming scheme is based on the time that the notebook is run. The other constants are used for specifying information in the output table about what the topic was for this notebook when it was run, such as looking at KEGG biochemical pathways or STRING protein-protein interaction data some other type of gene function grouping or hierarchy. These values are arbitrary and are just for keeping better notes about what the output of the notebook corresponds to. All the input and output file paths for loading datasets or models are also contained within this cell, so that if anything is moved the directories and file names should only have to be changed at this point and nowhere else further into the notebook. If additional files are added to the notebook cells they should be put here as well."
   ]
  },
  {
   "cell_type": "code",
   "execution_count": null,
   "metadata": {
    "scrolled": true
   },
   "outputs": [],
   "source": [
    "# Command line arguments for running this notebook as a a script.\n",
    "parser = argparse.ArgumentParser()\n",
    "parser.add_argument(\"-o\", \"--objective\", dest=\"objective\", required=True, choices=[\"phenotypes\", \"pathways\", \"interactions\", \"orthologs\"], help=\"the biological question\")\n",
    "parser.add_argument(\"-c\", \"--curated\", dest=\"curated\", required=False, action='store_true')\n",
    "args = parser.parse_args()\n",
    "OBJECTIVE = args.objective\n",
    "CURATED_SUBSET = args.curated\n",
    "\n",
    "# Running the notebook as a notebook instead.\n",
    "#OBJECTIVE = \"orthologs\"\n",
    "#OBJECTIVE = \"phenotypes\"\n",
    "#OBJECTIVE = \"pathways\"\n",
    "#OBJECTIVE = \"interactions\"\n",
    "#OBJECTIVE = \"pairs\"\n",
    "#CURATED_SUBSET = False\n",
    "\n",
    "\n",
    "# The summarizing output dictionary has the shape TABLE[approach][metric] --> value.\n",
    "TABLE = defaultdict(dict)\n",
    "OUTPUT_DIR = os.path.join(\"../outputs\",datetime.datetime.now().strftime('%m_%d_%Y_h%Hm%Ms%S'))\n",
    "os.mkdir(OUTPUT_DIR)"
   ]
  },
  {
   "cell_type": "code",
   "execution_count": null,
   "metadata": {
    "scrolled": true
   },
   "outputs": [],
   "source": [
    "dataset_filename_for_testing = \"../data/pickles/gene_phenotype_dataset_all_text_and_annotations.pickle\"  # The full dataset pickle.\n",
    "dataset_filename_for_training = \"../data/pickles/training_dataset.pickle\"                                # The full dataset pickle.\n",
    "dataset_filename_for_pathways_objective = \"../data/pickles/gene_phenotype_dataset_for_predicting_pathways.pickle\" \n",
    "dataset_filename_for_phenotypes_objective = \"../data/pickles/gene_phenotype_dataset_for_predicting_phenotypes.pickle\" \n",
    "dataset_filename_for_interactions_objective = \"../data/pickles/gene_phenotype_dataset_for_predicting_interactions.pickle\" \n",
    "dataset_filename_for_orthologs_objective = \"../data/pickles/gene_phenotype_dataset_for_predicting_orthologs.pickle\" \n",
    "kegg_pathways_filename = \"../data/pickles/groupings_from_kegg_pathways.pickle\"                          # The pathway groupings from KEGG.\n",
    "pmn_pathways_filename = \"../data/pickles/groupings_from_pmn_pathways.pickle\"                            # The pahway groupings from Plant Metabolic Network.\n",
    "lloyd_subsets_filename = \"../data/pickles/groupings_from_lloyd_subsets.pickle\"                          # The functional subsets defined by Lloyd and Meinke (2012).\n",
    "lloyd_classes_filename = \"../data/pickles/groupings_from_lloyd_classes.pickle\"                          # The functional classes defined by Lloyd and Meinke (2012).\n",
    "background_corpus_filename = \"../data/corpus_related_files/untagged_text_corpora/background.txt\"     # Text file with background content.\n",
    "phenotypes_corpus_filename = \"../data/corpus_related_files/untagged_text_corpora/phenotypes_all.txt\" # Text file with specific content.\n",
    "doc2vec_pubmed_filename = \"../gensim/pubmed_dbow/doc2vec_2.bin\"                                      # File holding saved Doc2Vec model.\n",
    "doc2vec_wikipedia_filename = \"../gensim/enwiki_dbow/doc2vec.bin\"                                     # File holding saved Doc2Vec model.\n",
    "word2vec_model_filename = \"../gensim/wiki_sg/word2vec.bin\"                                           # File holding saved Word2Vec model.\n",
    "go_filename = \"../ontologies/go.obo\"                                                           # Ontology file in OBO format.\n",
    "po_filename = \"../ontologies/po.obo\"\n",
    "pato_filename = \"../ontologies/pato.obo\"\n",
    "pato_ontology_filename = \"../ontologies/pato.obo\"   \n",
    "noblecoder_jarfile_path = \"../lib/NobleCoder-1.0.jar\"                                                # Jar for NOBLE Coder tool.\n",
    "biobert_pmc_path = \"../gensim/biobert_v1.0_pmc/pytorch_model\"                                        # Path for PyTorch BioBERT model.\n",
    "biobert_pubmed_path = \"../gensim/biobert_v1.0_pubmed/pytorch_model\"                                  # Path for PyTorch BioBERT model.\n",
    "biobert_pubmed_pmc_path = \"../gensim/biobert_v1.0_pubmed_pmc/pytorch_model\"                          # Path for PyTorch BioBERT model.\n",
    "panther_to_omim_filename = \"../data/orthology_related_files/ath_to_hsa/pantherdb_omim_df.csv\"        # File with mappings to human orthologs and disease phenotypes."
   ]
  },
  {
   "cell_type": "markdown",
   "metadata": {},
   "source": [
    "<a id=\"read_this_data\"></a>\n",
    "### Reading in the dataset of genes and their associated phenotype descriptions and annotations\n",
    "The actual choice of pickle that is loaded here depends on the objective that is being used for this notebook."
   ]
  },
  {
   "cell_type": "code",
   "execution_count": null,
   "metadata": {},
   "outputs": [],
   "source": [
    "# Reading in the dataset of genes, descriptions, and annotations.\n",
    "objective_to_dataset_filename = {\n",
    "    \"pathways\":dataset_filename_for_pathways_objective,\n",
    "    \"phenotypes\":dataset_filename_for_phenotypes_objective,\n",
    "    \"interactions\":dataset_filename_for_interactions_objective,\n",
    "    \"orthologs\":dataset_filename_for_orthologs_objective}\n",
    "dataset_filename = objective_to_dataset_filename[OBJECTIVE]\n",
    "dataset = load_from_pickle(dataset_filename)\n",
    "dataset.describe()"
   ]
  },
  {
   "cell_type": "code",
   "execution_count": null,
   "metadata": {},
   "outputs": [],
   "source": [
    "# Should the dataset be subset to only include genes with annotations?\n",
    "if CURATED_SUBSET: dataset.filter_has_annotation(\"GO\")\n",
    "if CURATED_SUBSET: dataset.filter_has_annotation(\"PO\")    \n",
    "dataset.describe()"
   ]
  },
  {
   "cell_type": "code",
   "execution_count": null,
   "metadata": {},
   "outputs": [],
   "source": [
    "# DELETE THIS\n",
    "#dataset.filter_random_k(10)\n",
    "#dataset.describe()"
   ]
  },
  {
   "cell_type": "markdown",
   "metadata": {},
   "source": [
    "<a id=\"relating\"></a>\n",
    "### Relating the dataset of genes to the dataset of groupings or categories\n",
    "This section generates tables that indicate how the genes present in the dataset were mapped to the defined pathways or groups. This includes a summary table that indicates how many genes by species were succcessfully mapped to atleast one pathway or group, as well as a more detailed table describing how many genes from each species were mapped to each particular pathway or group."
   ]
  },
  {
   "cell_type": "code",
   "execution_count": null,
   "metadata": {},
   "outputs": [],
   "source": [
    "def read_in_groupings_object_and_write_summary_tables(dataset, groupings_filename, name):\n",
    "\n",
    "    # Load the groupings object.\n",
    "    groups = load_from_pickle(groupings_filename)\n",
    "    id_to_group_ids = groups.get_id_to_group_ids_dict(dataset.get_gene_dictionary())\n",
    "    group_id_to_ids = groups.get_group_id_to_ids_dict(dataset.get_gene_dictionary())\n",
    "    group_mapped_ids = [k for (k,v) in id_to_group_ids.items() if len(v)>0]\n",
    "    groups.to_csv(os.path.join(OUTPUT_DIR,\"part_1_{}_groupings.csv\".format(name)))\n",
    "\n",
    "    # Generate a table describing how many of the genes input from each species map to atleast one group.\n",
    "    summary = defaultdict(dict)\n",
    "    species_dict = dataset.get_species_dictionary()\n",
    "    for species in dataset.get_species():\n",
    "        summary[species][\"input\"] = len([x for x in dataset.get_ids() if species_dict[x]==species])\n",
    "        summary[species][\"mapped\"] = len([x for x in group_mapped_ids if species_dict[x]==species])\n",
    "    table = pd.DataFrame(summary).transpose()\n",
    "    table.loc[\"total\"]= table.sum()\n",
    "    table[\"fraction\"] = table.apply(lambda row: \"{:0.4f}\".format(row[\"mapped\"]/row[\"input\"]), axis=1)\n",
    "    table = table.reset_index(inplace=False)\n",
    "    table = table.rename({\"index\":\"species\"}, axis=\"columns\")\n",
    "    table.to_csv(os.path.join(OUTPUT_DIR,\"part_1_{}_mappings_summary.csv\".format(name)), index=False)\n",
    "\n",
    "    # Generate a table describing how many genes from each species map to which particular group.\n",
    "    summary = defaultdict(dict)\n",
    "    for group_id,ids in group_id_to_ids.items():\n",
    "        summary[group_id].update({species:len([x for x in ids if species_dict[x]==species]) for species in dataset.get_species()})\n",
    "        summary[group_id][\"total\"] = len([x for x in ids])\n",
    "    table = pd.DataFrame(summary).transpose()\n",
    "    table = table.sort_values(by=\"total\", ascending=False)\n",
    "    table = table.reset_index(inplace=False)\n",
    "    table = table.rename({\"index\":\"pathway_id\"}, axis=\"columns\")\n",
    "    table[\"pathway_name\"] = table[\"pathway_id\"].map(groups.get_long_name)\n",
    "    table.loc[\"total\"] = table.sum()\n",
    "    table.loc[\"total\",\"pathway_id\"] = \"total\"\n",
    "    table.loc[\"total\",\"pathway_name\"] = \"total\"\n",
    "    table = table[table.columns.tolist()[-1:] + table.columns.tolist()[:-1]]\n",
    "    table.to_csv(os.path.join(OUTPUT_DIR,\"part_1_{}_mappings_by_group.csv\".format(name)), index=False)\n",
    "    \n",
    "    # What are the similarites between the groups for the genes present in this dataset?\n",
    "    group_sims = defaultdict(dict)\n",
    "    for group_id_1,ids_1 in group_id_to_ids.items():\n",
    "        for group_id_2,ids_2 in group_id_to_ids.items():\n",
    "            jaccard_sim = len(set(ids_1).intersection(set(ids_2)))/len(set(ids_1).union(set(ids_2)))\n",
    "            group_sims[group_id_1][group_id_2] = jaccard_sim\n",
    "    table = pd.DataFrame(group_sims)\n",
    "    # Changing the order of the Lloyd, Meinke phenotype subsets to match other figures for consistency.\n",
    "    if name == \"lmsubsets\":\n",
    "        filename = \"../data/group_related_files/lloyd/lloyd_function_hierarchy_irb_cleaned.csv\"\n",
    "        lmtm_df = pd.read_csv(filename)    \n",
    "        subsets_in_order = [col for col in lmtm_df[\"Subset Symbol\"].values if col in table.columns]\n",
    "        table = table[subsets_in_order]\n",
    "        table = table.reindex(subsets_in_order)\n",
    "    # Formatting the column names for this table correctly and outputting to a file.\n",
    "    table = table.reset_index(drop=False).rename({\"index\":\"group\"},axis=1).reset_index(drop=False).rename({\"index\":\"order\"},axis=1)\n",
    "    table.to_csv(os.path.join(OUTPUT_DIR,\"part_1_{}_similarity_matrix.csv\".format(name)), index=False)\n",
    "    \n",
    "    \n",
    "\n",
    "    # Returning the read-in groupings object.\n",
    "    return(groups)"
   ]
  },
  {
   "cell_type": "markdown",
   "metadata": {},
   "source": [
    "<a id=\"read_in_kegg\"></a>\n",
    "### Reading in the dataset of groupings from KEGG"
   ]
  },
  {
   "cell_type": "code",
   "execution_count": null,
   "metadata": {},
   "outputs": [],
   "source": [
    "kegg_groups = read_in_groupings_object_and_write_summary_tables(dataset, kegg_pathways_filename, \"kegg\")\n",
    "kegg_groups.to_pandas().head(20)"
   ]
  },
  {
   "cell_type": "markdown",
   "metadata": {},
   "source": [
    "<a id=\"read_in_plantcyc\"></a>\n",
    "### Reading in the dataset of groupings from PlantCyc"
   ]
  },
  {
   "cell_type": "code",
   "execution_count": null,
   "metadata": {},
   "outputs": [],
   "source": [
    "pmn_groups = read_in_groupings_object_and_write_summary_tables(dataset, pmn_pathways_filename, \"pmn\")\n",
    "pmn_groups.to_pandas().head(20)"
   ]
  },
  {
   "cell_type": "markdown",
   "metadata": {},
   "source": [
    "<a id=\"read_in_lloyd_meinke_subsets\"></a>\n",
    "### Reading in the dataset of phenotype subsets from Lloyd and Meinke, 2012"
   ]
  },
  {
   "cell_type": "code",
   "execution_count": null,
   "metadata": {},
   "outputs": [],
   "source": [
    "phe_subsets_groups = read_in_groupings_object_and_write_summary_tables(dataset, lloyd_subsets_filename, \"lmsubsets\")\n",
    "phe_subsets_groups.to_pandas().head(20)"
   ]
  },
  {
   "cell_type": "markdown",
   "metadata": {},
   "source": [
    "<a id=\"read_in_lloyd_meinke_classes\"></a>\n",
    "### Reading in the dataset of phenotype classes from Lloyd and Meinke, 2012"
   ]
  },
  {
   "cell_type": "code",
   "execution_count": null,
   "metadata": {},
   "outputs": [],
   "source": [
    "phe_classes_groups = read_in_groupings_object_and_write_summary_tables(dataset, lloyd_classes_filename, \"lmclasses\")\n",
    "phe_classes_groups.to_pandas().head(20)"
   ]
  },
  {
   "cell_type": "markdown",
   "metadata": {},
   "source": [
    "<a id=\"filtering\"></a>\n",
    "### Option 1: Filtering the dataset based on presence in the curated Oellrich, Walls et al. (2015) dataset\n",
    "TODO maybe this part should not actually subset data? because only the non zero interactions are listed in that file? So the IDs shouldn't be used to do subsetting here?"
   ]
  },
  {
   "cell_type": "code",
   "execution_count": null,
   "metadata": {
    "scrolled": true
   },
   "outputs": [],
   "source": [
    "# Filter the dataset based on whether or not the genes were in the curated dataset.\n",
    "# This is similar to filtering based on protein interaction data because the dataset is a list of edge values.\n",
    "pppn_edgelist_path = \"../data/supplemental_files_oellrich_walls/13007_2015_53_MOESM9_ESM.txt\"\n",
    "pppn_edgelist = AnyInteractions(dataset.get_name_to_id_dictionary(), pppn_edgelist_path)\n",
    "if CURATED_SUBSET: dataset.filter_with_ids(pppn_edgelist.ids)\n",
    "dataset.describe()"
   ]
  },
  {
   "cell_type": "markdown",
   "metadata": {},
   "source": [
    "### Option 2: Filtering the dataset based on protein-protein interactions\n",
    "This is done to only include genes (and the corresponding phenotype descriptions and annotations) which are useful for the current analysis. In this case we want to only retain genes that are mentioned atleast one time in the STRING database for a given species. If a gene is not mentioned at all in STRING, there is no information available for whether or not it interacts with any other proteins in the dataset so choose to not include it in the analysis. Only genes that have atleast one true positive are included because these are the only ones for which the missing information (negatives) is meaningful. This should be run instead of the subsequent cell, or the other way around, based on whether or not protein-protein interactions is the prediction goal for the current analysis."
   ]
  },
  {
   "cell_type": "code",
   "execution_count": null,
   "metadata": {},
   "outputs": [],
   "source": [
    "# Filter the dataset based on whether or not the genes were successfully mapped to an interaction.\n",
    "# Reduce size of the dataset by removing genes not mentioned in the STRING.\n",
    "naming_file = \"../data/group_related_files/string/all_organisms.name_2_string.tsv\"\n",
    "interaction_files = [\n",
    "    \"../data/group_related_files/string/3702.protein.links.detailed.v11.0.txt\", # Arabidopsis thaliana\n",
    "    \"../data/group_related_files/string/4577.protein.links.detailed.v11.0.txt\", # maize\n",
    "    \"../data/group_related_files/string/4530.protein.links.detailed.v11.0.txt\", # tomato \n",
    "    \"../data/group_related_files/string/4081.protein.links.detailed.v11.0.txt\", # medicago\n",
    "    \"../data/group_related_files/string/3880.protein.links.detailed.v11.0.txt\", # rice \n",
    "    \"../data/group_related_files/string/3847.protein.links.detailed.v11.0.txt\", # soybean\n",
    "]\n",
    "if OBJECTIVE == \"interactions\":\n",
    "    genes = dataset.get_gene_dictionary()\n",
    "    string_data = ProteinInteractions(genes, naming_file, *interaction_files)\n",
    "    dataset.filter_with_ids(string_data.ids)\n",
    "dataset.describe()"
   ]
  },
  {
   "cell_type": "markdown",
   "metadata": {},
   "source": [
    "### Option 3: Filtering the dataset based on orthologous genes"
   ]
  },
  {
   "cell_type": "code",
   "execution_count": null,
   "metadata": {},
   "outputs": [],
   "source": [
    "if OBJECTIVE == \"orthologs\":\n",
    "    ortholog_file_path = \"../data/orthology_related_files/pantherdb/PlantGenomeOrthologs_IRB_Modified.txt\"\n",
    "    ortholog_edgelist = AnyInteractions(dataset.get_name_to_id_dictionary(), ortholog_file_path)\n",
    "    dataset.filter_with_ids(ortholog_edgelist.ids)\n",
    "dataset.describe()"
   ]
  },
  {
   "cell_type": "markdown",
   "metadata": {},
   "source": [
    "### Option 4: Filtering the dataset based on membership in pathways or phenotype category\n",
    "This is done to only include genes (and the corresponding phenotype descriptions and annotations) which are useful for the current analysis. In this case we want to only retain genes that are mapped to atleast one pathway in whatever the source of pathway membership we are using is (KEGG, Plant Metabolic Network, etc). This is because for these genes, it will be impossible to correctly predict their pathway membership, and we have no evidence that they belong or do not belong in certain pathways so they can not be identified as being true or false negatives in any case. This should not actually be necessary if the dataset used to start the notebook analysis has already be subset for just the genes that either have pathway information of phenotype classification information, this should just be used to double check that the numbers make sense."
   ]
  },
  {
   "cell_type": "code",
   "execution_count": null,
   "metadata": {
    "scrolled": true
   },
   "outputs": [],
   "source": [
    "if OBJECTIVE == \"phenotypes\":\n",
    "    id_to_group_ids = phe_subsets_groups.get_id_to_group_ids_dict(dataset.get_gene_dictionary())\n",
    "    group_id_to_ids = phe_subsets_groups.get_group_id_to_ids_dict(dataset.get_gene_dictionary())\n",
    "    group_mapped_ids = [k for (k,v) in id_to_group_ids.items() if len(v)>0]\n",
    "    dataset.filter_with_ids(group_mapped_ids)\n",
    "    \n",
    "if OBJECTIVE == \"pathways\":\n",
    "    # Using the KEGG pathways from the saved groupings object.\n",
    "    kegg_pathways_filename = \"../data/pickles/groupings_from_kegg_pathways.pickle\"                         \n",
    "    kegg_groups = load_from_pickle(kegg_pathways_filename)\n",
    "    id_to_kegg_group_ids, kegg_group_id_to_ids = kegg_groups.get_groupings_for_dataset(dataset)\n",
    "    # Using the PlantCyc pathways from the saved groupings object.\n",
    "    pmn_pathways_filename = \"../data/pickles/groupings_from_pmn_pathways.pickle\"  \n",
    "    pmn_groups = load_from_pickle(pmn_pathways_filename)\n",
    "    id_to_pmn_group_ids, pmn_group_id_to_ids = pmn_groups.get_groupings_for_dataset(dataset)\n",
    "    # Find and save the dataset that is relevant for predicting whether two genes share a phenotype\n",
    "    group_mapped_ids = []\n",
    "    group_mapped_ids.extend([k for (k,v) in id_to_kegg_group_ids.items() if len(v)>0])\n",
    "    group_mapped_ids.extend([k for (k,v) in id_to_pmn_group_ids.items() if len(v)>0])\n",
    "    group_mapped_ids = list(set(group_mapped_ids))\n",
    "    dataset.filter_with_ids(group_mapped_ids)\n",
    "\n",
    "dataset.describe()"
   ]
  },
  {
   "cell_type": "markdown",
   "metadata": {},
   "source": [
    "<a id=\"part_2\"></a>\n",
    "# Part 2. NLP Models\n",
    "\n",
    "\n",
    "<a id=\"word2vec_doc2vec\"></a>\n",
    "### Word2Vec and Doc2Vec\n",
    "Word2Vec is a word embedding technique using a neural network trained on a so-called *false task*, namely either predicting a missing word from within a sequence of context words drawn from a sentence or phrase, or predicting which contexts words surround some given input word drawn from a sentence or phrase. Each of these tasks are supervised (the correct answer is fixed and known), but can be generated from unlabelled text data such as a collection of books or wikipedia articles, meaning that even though the task itself is supervised the training data can be generated automatically, enabling the creation of enormous training sets. The internal representation for particular words learned during the training process contain semantically informative features related to that given word, and can therefore be used as embeddings used downstream for tasks such as finding similarity between words or as input into additional models. Doc2Vec is an extension of this technique that determines vector embeddings for entire documents (strings containing multiple words, could be sentences, paragraphs, or documents).\n",
    "\n",
    "\n",
    "<a id=\"bert_biobert\"></a>\n",
    "### BERT and BioBERT\n",
    "BERT ('Bidirectional Encoder Representations from Transformers') is another neueral network-based model trained on two different false tasks, namely predicting the subsequent sentence given some input sentence, or predicting the identity of a set of words masked from an input sentence. Like Word2Vec, this architecture can be used to generate vector embeddings for a particular input word by extracting values from a subset of the encoder layers that correspond to that input word. Practically, a major difference is that because the input word is input in the context of its surrounding sentence, the embedding reflects the meaning of a particular word in a particular context (such as the difference in the meaning of *root* in the phrases *plant root* and *root of the problem*. BioBERT refers to a set of BERT models which have been finetuned on the PubMed and PMC corpora. See the list of relevant links for the publications and pages associated with these models.\n",
    "\n",
    "<a id=\"load_models\"></a>\n",
    "### Loading trained and saved models\n",
    "Versions of the architectures discussed above which have been saved as trained models are loaded here. Some of these models are loaded as pretrained models from the work of other groups, and some were trained on data specific to this notebook and loaded here."
   ]
  },
  {
   "cell_type": "code",
   "execution_count": null,
   "metadata": {
    "scrolled": true
   },
   "outputs": [],
   "source": [
    "# Files and models related to the machine learning text embedding methods used here.\n",
    "doc2vec_wiki_model = gensim.models.Doc2Vec.load(doc2vec_wikipedia_filename)\n",
    "doc2vec_pubmed_model = gensim.models.Doc2Vec.load(doc2vec_pubmed_filename)\n",
    "word2vec_model = gensim.models.Word2Vec.load(word2vec_model_filename)\n",
    "bert_tokenizer_base = BertTokenizer.from_pretrained('bert-base-uncased')\n",
    "bert_tokenizer_pmc = BertTokenizer.from_pretrained(biobert_pmc_path)\n",
    "bert_tokenizer_pubmed = BertTokenizer.from_pretrained(biobert_pubmed_path)\n",
    "bert_tokenizer_pubmed_pmc = BertTokenizer.from_pretrained(biobert_pubmed_pmc_path)\n",
    "bert_model_base = BertModel.from_pretrained('bert-base-uncased')\n",
    "bert_model_pmc = BertModel.from_pretrained(biobert_pmc_path)\n",
    "bert_model_pubmed = BertModel.from_pretrained(biobert_pubmed_path)\n",
    "bert_model_pubmed_pmc = BertModel.from_pretrained(biobert_pubmed_pmc_path)"
   ]
  },
  {
   "cell_type": "markdown",
   "metadata": {},
   "source": [
    "### Reading in the descriptions from hand-picked dataset of phenotype pairs\n",
    "See the other notebook for the creation of this dataset. This is included in this notebook instead of a separated notebook because we want the treatment of the individual phenotype text instances to be the same as is done for the descriptions from the real dataset of plant phenotypes. The list of computational approaches being evaluated for this task is the same in both cases so all of the cells between the point where the descriptions are read in and when the distance matrices are found using all those methods are the same for this task as any of the biological questions that this notebook is focused on."
   ]
  },
  {
   "cell_type": "code",
   "execution_count": null,
   "metadata": {},
   "outputs": [],
   "source": [
    "# This would only impact the notebook if run in the absence of the subsequent cells, never matters in the script.\n",
    "num_pairs = 50\n",
    "mupdata = pd.read_csv(\"../data/corpus_related_files/phenotype_pairs/scored.csv\")\n",
    "assert num_pairs == mupdata.shape[0]\n",
    "descriptions = mupdata[\"Phenotype 1\"].values.tolist()\n",
    "descriptions.extend(mupdata[\"Phenotype 2\"].values.tolist())\n",
    "descriptions = {i:description for i,description in enumerate(descriptions)}\n",
    "pair_to_score = {(i,i+num_pairs):s for i,s in enumerate(mupdata[\"Score\"].values)}\n",
    "descriptions"
   ]
  },
  {
   "cell_type": "markdown",
   "metadata": {},
   "source": [
    "<a id=\"part_3\"></a>\n",
    "# Part 3. NLP Choices\n",
    "\n",
    "<a id=\"preprocessing\"></a>\n",
    "### Preprocessing text descriptions\n",
    "The preprocessing methods applied to the phenotype descriptions are a choice which impacts the subsequent vectorization and similarity methods which construct the pairwise distance matrix from each of these descriptions. The preprocessing methods that make sense are also highly dependent on the vectorization method or embedding method that is to be applied. For example, stemming (which is part of the full proprocessing done below using the Gensim preprocessing function) is useful for the n-grams and bag-of-words methods but not for the document embeddings methods which need each token to be in the vocabulary that was constructed and used when the model was trained. For this reason, embedding methods with pretrained models where the vocabulary is fixed should have a lighter degree of preprocessing not involving stemming or lemmatization but should involve things like removal of non-alphanumerics and normalizing case. "
   ]
  },
  {
   "cell_type": "code",
   "execution_count": null,
   "metadata": {
    "scrolled": true
   },
   "outputs": [],
   "source": [
    "# Obtain a mapping between IDs and the raw text descriptions associated with that ID from the dataset.\n",
    "descriptions = dataset.get_description_dictionary()\n",
    "\n",
    "# Preprocessing of the text descriptions. Different methods are necessary for different approaches.\n",
    "descriptions_full_preprocessing = {i:\" \".join(preprocess_string(d)) for i,d in descriptions.items()}\n",
    "descriptions_simple_preprocessing = {i:\" \".join(simple_preprocess(d)) for i,d in descriptions.items()}\n",
    "descriptions_no_stopwords = {i:remove_stopwords(d) for i,d in descriptions.items()}"
   ]
  },
  {
   "cell_type": "markdown",
   "metadata": {},
   "source": [
    "<a id=\"pos_tagging\"></a>\n",
    "### POS tagging the phenotype descriptions for nouns and adjectives\n",
    "Note that preprocessing of the descriptions should be done after part-of-speech tagging, because tokens that are removed during preprocessing before n-gram analysis contain information that the parser needs to accurately call parts-of-speech. This step should be done on the raw descriptions and then the resulting bags of words can be subset using additional preprocesssing steps before input in one of the vectorization methods."
   ]
  },
  {
   "cell_type": "code",
   "execution_count": null,
   "metadata": {
    "scrolled": true
   },
   "outputs": [],
   "source": [
    "get_pos_tokens = lambda text,pos: \" \".join([t[0] for t in nltk.pos_tag(word_tokenize(text)) if t[1].lower()==pos.lower()])\n",
    "descriptions_noun_only =  {i:get_pos_tokens(d,\"NN\") for i,d in descriptions.items()}\n",
    "descriptions_noun_only_full_preprocessing = {i:\" \".join(preprocess_string(d)) for i,d in descriptions_noun_only.items()}\n",
    "descriptions_noun_only_simple_preprocessing = {i:\" \".join(simple_preprocess(d)) for i,d in descriptions_noun_only.items()}\n",
    "descriptions_adj_only =  {i:get_pos_tokens(d,\"JJ\") for i,d in descriptions.items()}\n",
    "descriptions_adj_only_full_preprocessing = {i:\" \".join(preprocess_string(d)) for i,d in descriptions_adj_only.items()}\n",
    "descriptions_adj_only_simple_preprocessing = {i:\" \".join(simple_preprocess(d)) for i,d in descriptions_adj_only.items()}\n",
    "descriptions_noun_adj = {i:\"{} {}\".format(descriptions_noun_only[i],descriptions_adj_only[i]) for i in descriptions.keys()}\n",
    "descriptions_noun_adj_full_preprocessing = {i:\"{} {}\".format(descriptions_noun_only_full_preprocessing[i],descriptions_adj_only_full_preprocessing[i]) for i in descriptions.keys()}\n",
    "descriptions_noun_adj_simple_preprocessing = {i:\"{} {}\".format(descriptions_noun_only_simple_preprocessing[i],descriptions_adj_only_simple_preprocessing[i]) for i in descriptions.keys()}"
   ]
  },
  {
   "cell_type": "markdown",
   "metadata": {},
   "source": [
    "<a id=\"vocab\"></a>\n",
    "### Reducing the vocabulary size using a word distance matrix\n",
    "These approaches for reducing the vocabulary size of the dataset work by replacing multiple words that occur throughout the dataset of descriptions with an identical word that is representative of this larger group of words. The total number of unique words across all descriptions is therefore reduced, and when observing n-gram overlaps between vector representations of these descriptions, overlaps will now occur between descriptions that included different but similar words. These methods work by actually generating versions of these descriptions that have the word replacements present. The returned objects for these methods are the revised description dictionary, a dictionary mapping tokens in the full vocabulary to tokens in the reduced vocabulary, and a dictionary mapping tokens in the reduced vocabulary to a list of tokens in the full vocabulary."
   ]
  },
  {
   "cell_type": "code",
   "execution_count": null,
   "metadata": {
    "scrolled": true
   },
   "outputs": [],
   "source": [
    "# Reducing the size of the vocabulary for descriptions treated with simple preprocessing.\n",
    "tokens = list(set([w for w in flatten(d.split() for d in descriptions_simple_preprocessing.values())]))\n",
    "tokens_dict = {i:w for i,w in enumerate(tokens)}\n",
    "graph = pw.pairwise_square_word2vec(word2vec_model, tokens_dict, \"cosine\")\n",
    "\n",
    "# Make sure that the tokens list is in the same order as the indices representing each word in the distance matrix.\n",
    "# This is only trivial here because the IDs used are ordered integers 0 to n, but this might not always be the case.\n",
    "distance_matrix = graph.array\n",
    "tokens = [tokens_dict[graph.index_to_id[index]] for index in np.arange(distance_matrix.shape[0])]\n",
    "n = 3\n",
    "threshold = 0.2\n",
    "descriptions_linares_pontes, reduce_lp, unreduce_lp = reduce_vocab_linares_pontes(descriptions_simple_preprocessing, tokens, distance_matrix, n)\n",
    "descriptions_connected_components, reduce_cc, unreduce_cc = reduce_vocab_connected_components(descriptions_simple_preprocessing, tokens, distance_matrix, threshold)"
   ]
  },
  {
   "cell_type": "markdown",
   "metadata": {},
   "source": [
    "### Reducing vocabulary size based on identifying important words\n",
    "These approcahes for reducing the vocabulary size of the dataset work by identifying which words in the descriptions are likely to be the most important for identifying differences between the phenotypes and meaning of the descriptions. One approach is to determine which words occur at a higher rate in text of interest such as articles about plant phenotypes as compared to their rates in more general texts such as a corpus of news articles. These approaches do not create modified versions of the descriptions but rather provide vocabulary objects that can be passed to the sklearn vectorizer or constructors."
   ]
  },
  {
   "cell_type": "code",
   "execution_count": null,
   "metadata": {
    "scrolled": true
   },
   "outputs": [],
   "source": [
    "# Constructing a vocabulary by looking at what words are overrepresented in domain specific text.\n",
    "background_corpus = open(background_corpus_filename,\"r\").read()\n",
    "phenotypes_corpus = open(phenotypes_corpus_filename,\"r\").read()\n",
    "tokens = get_overrepresented_tokens(phenotypes_corpus, background_corpus, max_features=5000)\n",
    "vocabulary_from_text = get_vocab_from_tokens(tokens)\n",
    "\n",
    "# Constructing a vocabulary by assuming all words present in a given ontology are important.\n",
    "ontology = Ontology(pato_ontology_filename)\n",
    "vocabulary_from_ontology = get_vocab_from_tokens(ontology.tokens())"
   ]
  },
  {
   "cell_type": "markdown",
   "metadata": {},
   "source": [
    "<a id=\"annotation\"></a>\n",
    "### Annotating descriptions with ontology terms\n",
    "This section generates dictionaries that map gene IDs from the dataset to lists of strings, where those strings are ontology term IDs. How the term IDs are found for each gene entry with its corresponding phenotype description depends on the cell below. Firstly, the terms are found by using the NOBLE Coder annotation tool through these wrapper functions to identify the terms by looking for instances of the term's label or synonyms in the actual text of the phenotype descriptions. Secondly, the next cell just draws the terms directly from the dataset itself. In this case, these are high-confidence annotations done by curators for a comparison against what can be accomplished through computational analysis of the text."
   ]
  },
  {
   "cell_type": "code",
   "execution_count": null,
   "metadata": {
    "scrolled": true
   },
   "outputs": [],
   "source": [
    "# Run the ontology term annotators over the raw input text descriptions. NOBLE-Coder handles simple issues like case\n",
    "# normalization so preprocessed descriptions are not used for this step.\n",
    "pato = Ontology(pato_filename)\n",
    "po = Ontology(po_filename)\n",
    "go = Ontology(go_filename)\n",
    "annotations_noblecoder_precise = annotate_using_noble_coder(descriptions, noblecoder_jarfile_path, \"po\", precise=1)\n",
    "annotations_noblecoder_partial = annotate_using_noble_coder(descriptions, noblecoder_jarfile_path, \"po\", precise=0)"
   ]
  },
  {
   "cell_type": "code",
   "execution_count": null,
   "metadata": {
    "scrolled": true
   },
   "outputs": [],
   "source": [
    "# Get the ID to term list annotation dictionaries for each ontology in the dataset.\n",
    "annotations = dataset.get_annotations_dictionary()\n",
    "go_annotations = {k:[term for term in v if term[0:2]==\"GO\"] for k,v in annotations.items()}\n",
    "po_annotations = {k:[term for term in v if term[0:2]==\"PO\"] for k,v in annotations.items()}"
   ]
  },
  {
   "cell_type": "markdown",
   "metadata": {},
   "source": [
    "<a id=\"phenes\"></a>\n",
    "### Splitting the descriptions into individual phenes\n",
    "As a preprocessing step, split into a new set of descriptions that's larger. Note that phenotypes are split into phenes, and the phenes that are identical are retained as separate entries in the dataset. This makes the distance matrix calculation more needlessly expensive, because vectors need to be found for the same string more than once, but it simplifies converting the edgelist back to having IDs that reference the genes (full phenotypes) instead of the smaller phenes. If anything, that problem should be addressed in the pairwise functions, not here. (The package should handle it, not when creating input data for those methods)."
   ]
  },
  {
   "cell_type": "code",
   "execution_count": null,
   "metadata": {},
   "outputs": [],
   "source": [
    "# Create a dictionary of phene descriptions and a dictionary to convert back to the phenotype/gene IDs.\n",
    "phenes = {}\n",
    "phene_id_to_id = {}\n",
    "phene_id = 0\n",
    "for i,phene_list in {i:sent_tokenize(d) for i,d in descriptions.items()}.items():\n",
    "    for phene in phene_list:\n",
    "        phenes[phene_id] = phene\n",
    "        phene_id_to_id[phene_id] = i\n",
    "        phene_id = phene_id+1\n",
    "        \n",
    "# Repeating the reprocessing options for the individual phenes instead of the full phenotype descriptions.\n",
    "phenes_full_preprocessing = {i:\" \".join(preprocess_string(d)) for i,d in phenes.items()}\n",
    "phenes_simple_preprocessing = {i:\" \".join(simple_preprocess(d)) for i,d in phenes.items()}\n",
    "phenes_no_stopwords = {i:remove_stopwords(d) for i,d in phenes.items()}\n",
    "get_pos_tokens = lambda text,pos: \" \".join([t[0] for t in nltk.pos_tag(word_tokenize(text)) if t[1].lower()==pos.lower()])\n",
    "phenes_noun_only =  {i:get_pos_tokens(d,\"NN\") for i,d in phenes.items()}\n",
    "phenes_noun_only_full_preprocessing = {i:\" \".join(preprocess_string(d)) for i,d in phenes_noun_only.items()}\n",
    "phenes_noun_only_simple_preprocessing = {i:\" \".join(simple_preprocess(d)) for i,d in phenes_noun_only.items()}\n",
    "phenes_adj_only =  {i:get_pos_tokens(d,\"JJ\") for i,d in phenes.items()}\n",
    "phenes_adj_only_full_preprocessing = {i:\" \".join(preprocess_string(d)) for i,d in phenes_adj_only.items()}\n",
    "phenes_adj_only_simple_preprocessing = {i:\" \".join(simple_preprocess(d)) for i,d in phenes_adj_only.items()}\n",
    "phenes_noun_adj = {i:\"{} {}\".format(phenes_noun_only[i],phenes_adj_only[i]) for i in phenes.keys()}\n",
    "phenes_noun_adj_full_preprocessing = {i:\"{} {}\".format(phenes_noun_only_full_preprocessing[i],phenes_adj_only_full_preprocessing[i]) for i in phenes.keys()}\n",
    "phenes_noun_adj_simple_preprocessing = {i:\"{} {}\".format(phenes_noun_only_simple_preprocessing[i],phenes_adj_only_simple_preprocessing[i]) for i in phenes.keys()}\n",
    "\n",
    "# Repeating the vocbulary reduction step using the individual phenes instead of full phenotype descriptions.\n",
    "tokens = list(set([w for w in flatten(d.split() for d in phenes_simple_preprocessing.values())]))\n",
    "tokens_dict = {i:w for i,w in enumerate(tokens)}\n",
    "graph = pw.pairwise_square_word2vec(word2vec_model, tokens_dict, \"cosine\")\n",
    "distance_matrix = graph.array\n",
    "tokens = [tokens_dict[graph.index_to_id[index]] for index in np.arange(distance_matrix.shape[0])]\n",
    "n = 3\n",
    "threshold = 0.2\n",
    "phenes_linares_pontes, reduce_lp, unreduce_lp = reduce_vocab_linares_pontes(phenes_simple_preprocessing, tokens, distance_matrix, n)\n",
    "phenes_connected_components, reduce_cc, unreduce_cc = reduce_vocab_connected_components(phenes_simple_preprocessing, tokens, distance_matrix, threshold)"
   ]
  },
  {
   "cell_type": "markdown",
   "metadata": {},
   "source": [
    "<a id=\"part_4\"></a>\n",
    "# Part 4. Generating vector representations and pairwise distances matrices\n",
    "This section uses the text descriptions, preprocessed text descriptions, or ontology term annotations created or read in the previous sections to generate a vector representation for each gene and build a pairwise distance matrix for the whole dataset. Each method specified is a unique combination of a method of vectorization (bag-of-words, n-grams, document embedding model, etc) and distance metric (Euclidean, Jaccard, cosine, etc) applied to those vectors in constructing the pairwise matrix. The method of vectorization here is equivalent to feature selection, so the task is to figure out which type of vectors will encode features that are useful (n-grams, full words, only words from a certain vocabulary, etc).\n",
    "\n",
    "<a id=\"methods\"></a>\n",
    "### Specifying a list of NLP methods to use\n",
    "Something here if needed."
   ]
  },
  {
   "cell_type": "code",
   "execution_count": null,
   "metadata": {
    "scrolled": true
   },
   "outputs": [],
   "source": [
    "training_methods = [\n",
    "\n",
    "\n",
    "    # Full phenotype descriptions\n",
    "\n",
    "\n",
    "    # Methods that use neural networks to generate embeddings.\n",
    "    Method(\"Doc2Vec\", \"Wikipedia,Size=300\", pw.pairwise_square_doc2vec, {\"model\":doc2vec_wiki_model, \"ids_to_texts\":descriptions, \"metric\":\"cosine\"}, spatial.distance.cosine),\n",
    "    Method(\"Doc2Vec\", \"PubMed,Size=100\", pw.pairwise_square_doc2vec, {\"model\":doc2vec_pubmed_model, \"ids_to_texts\":descriptions, \"metric\":\"cosine\"}, spatial.distance.cosine),\n",
    "    Method(\"Word2Vec\", \"Wikipedia,Size=300,Mean\", pw.pairwise_square_word2vec, {\"model\":word2vec_model, \"ids_to_texts\":descriptions, \"metric\":\"cosine\", \"method\":\"mean\"}, spatial.distance.cosine),\n",
    "    Method(\"Word2Vec\", \"Wikipedia,Size=300,Max\", pw.pairwise_square_word2vec, {\"model\":word2vec_model, \"ids_to_texts\":descriptions, \"metric\":\"cosine\", \"method\":\"max\"}, spatial.distance.cosine),\n",
    "    Method(\"Word2Vec\", \"Wikipedia,Size=300,Mean,Nouns,Adjectives\", pw.pairwise_square_word2vec, {\"model\":word2vec_model, \"ids_to_texts\":descriptions_noun_adj_simple_preprocessing, \"metric\":\"cosine\", \"method\":\"mean\"}, spatial.distance.cosine),\n",
    "    Method(\"Word2Vec\", \"Wikipedia,Size=300,Max,Nouns,Adjectives\", pw.pairwise_square_word2vec, {\"model\":word2vec_model, \"ids_to_texts\":descriptions_noun_adj_simple_preprocessing, \"metric\":\"cosine\", \"method\":\"max\"}, spatial.distance.cosine),\n",
    "    Method(\"Word2Vec\", \"Wikipedia,Size=300,Mean,Linares Pontes\", pw.pairwise_square_word2vec, {\"model\":word2vec_model, \"ids_to_texts\":descriptions_linares_pontes, \"metric\":\"cosine\", \"method\":\"mean\"}, spatial.distance.cosine),\n",
    "    Method(\"Word2Vec\", \"Wikipedia,Size=300,Max,Linares Pontes\", pw.pairwise_square_word2vec, {\"model\":word2vec_model, \"ids_to_texts\":descriptions_linares_pontes, \"metric\":\"cosine\", \"method\":\"max\"}, spatial.distance.cosine),\n",
    "\n",
    "    #Method(\"BERT\", \"Base:Layers=2,Concatenated\", pw.pairwise_square_bert, {\"model\":bert_model_base, \"tokenizer\":bert_tokenizer_base, \"ids_to_texts\":descriptions, \"metric\":\"cosine\", \"method\":\"concat\", \"layers\":2}, spatial.distance.cosine),\n",
    "    #Method(\"BERT\", \"Base:Layers=3,Concatenated\", pw.pairwise_square_bert, {\"model\":bert_model_base, \"tokenizer\":bert_tokenizer_base, \"ids_to_texts\":descriptions, \"metric\":\"cosine\", \"method\":\"concat\", \"layers\":3}, spatial.distance.cosine),\n",
    "    #Method(\"BERT\", \"Base:Layers=4,Concatenated\", pw.pairwise_square_bert, {\"model\":bert_model_base, \"tokenizer\":bert_tokenizer_base, \"ids_to_texts\":descriptions, \"metric\":\"cosine\", \"method\":\"concat\", \"layers\":4}, spatial.distance.cosine),\n",
    "    #Method(\"BERT\", \"Base:Layers=2,Summed\", pw.pairwise_square_bert, {\"model\":bert_model_base, \"tokenizer\":bert_tokenizer_base, \"ids_to_texts\":descriptions, \"metric\":\"cosine\", \"method\":\"sum\", \"layers\":2}, spatial.distance.cosine),\n",
    "    #Method(\"BERT\", \" Base:Layers=3,Summed\", pw.pairwise_square_bert, {\"model\":bert_model_base, \"tokenizer\":bert_tokenizer_base, \"ids_to_texts\":descriptions, \"metric\":\"cosine\", \"method\":\"sum\", \"layers\":3}, spatial.distance.cosine),\n",
    "    #Method(\"BERT\", \"Base:Layers=4,Summed\", pw.pairwise_square_bert, {\"model\":bert_model_base, \"tokenizer\":bert_tokenizer_base, \"ids_to_texts\":descriptions, \"metric\":\"cosine\", \"method\":\"sum\", \"layers\":4}, spatial.distance.cosine),\n",
    "    #Method(\"BioBERT\", \"PMC,Layers=2,Concatenated\", pw.pairwise_square_bert, {\"model\":bert_model_pmc, \"tokenizer\":bert_tokenizer_pmc, \"ids_to_texts\":descriptions, \"metric\":\"cosine\", \"method\":\"concat\", \"layers\":2}, spatial.distance.cosine),\n",
    "    #Method(\"BioBERT\", \"PMC,Layers=3,Concatenated\", pw.pairwise_square_bert, {\"model\":bert_model_pmc, \"tokenizer\":bert_tokenizer_pmc, \"ids_to_texts\":descriptions, \"metric\":\"cosine\", \"method\":\"concat\", \"layers\":3}, spatial.distance.cosine),\n",
    "    #Method(\"BioBERT\", \"PMC,Layers=4,Concatenated\", pw.pairwise_square_bert, {\"model\":bert_model_pmc, \"tokenizer\":bert_tokenizer_pmc, \"ids_to_texts\":descriptions, \"metric\":\"cosine\", \"method\":\"concat\", \"layers\":4}, spatial.distance.cosine),\n",
    "    #Method(\"BioBERT\", \"PubMed,Layers=4,Concatenated\", pw.pairwise_square_bert, {\"model\":bert_model_pubmed, \"tokenizer\":bert_tokenizer_pubmed, \"ids_to_texts\":descriptions, \"metric\":\"cosine\", \"method\":\"concat\", \"layers\":4}, spatial.distance.cosine),\n",
    "    #Method(\"BioBERT\", \"PubMed,PMC,Layers=4,Concatenated\", pw.pairwise_square_bert, {\"model\":bert_model_pubmed_pmc, \"tokenizer\":bert_tokenizer_pubmed_pmc, \"ids_to_texts\":descriptions, \"metric\":\"cosine\", \"method\":\"concat\", \"layers\":4}, spatial.distance.cosine),\n",
    "\n",
    "\n",
    "    # Methods that use topic models to generate embeddings.\n",
    "    Method(\"Topic Models\", \"LDA,Simple,Topics=20\", pw.pairwise_square_topic_model, {\"ids_to_texts\":descriptions_simple_preprocessing, \"metric\":\"cosine\", \"num_topics\":20, \"algorithm\":\"lda\"}, spatial.distance.cosine),\n",
    "    Method(\"Topic Models\", \"LDA,Simple,Topics=50\", pw.pairwise_square_topic_model, {\"ids_to_texts\":descriptions_simple_preprocessing, \"metric\":\"cosine\", \"num_topics\":50, \"algorithm\":\"lda\"}, spatial.distance.cosine),\n",
    "    Method(\"Topic Models\", \"LDA,Simple,Topics=100\", pw.pairwise_square_topic_model, {\"ids_to_texts\":descriptions_simple_preprocessing, \"metric\":\"cosine\", \"num_topics\":100, \"algorithm\":\"lda\"}, spatial.distance.cosine),\n",
    "    Method(\"Topic Models\", \"LDA,Simple,Topics=200\", pw.pairwise_square_topic_model, {\"ids_to_texts\":descriptions_simple_preprocessing, \"metric\":\"cosine\", \"num_topics\":200, \"algorithm\":\"lda\"}, spatial.distance.cosine),\n",
    "    Method(\"Topic Models\", \"LDA,Full,Topics=20\", pw.pairwise_square_topic_model, {\"ids_to_texts\":descriptions_full_preprocessing, \"metric\":\"cosine\", \"num_topics\":20, \"algorithm\":\"lda\"}, spatial.distance.cosine),\n",
    "    Method(\"Topic Models\", \"LDA,Full,Topics=50\", pw.pairwise_square_topic_model, {\"ids_to_texts\":descriptions_full_preprocessing, \"metric\":\"cosine\", \"num_topics\":50, \"algorithm\":\"lda\"}, spatial.distance.cosine),\n",
    "    Method(\"Topic Models\", \"LDA,Full,Topics=100\", pw.pairwise_square_topic_model, {\"ids_to_texts\":descriptions_full_preprocessing, \"metric\":\"cosine\", \"num_topics\":100, \"algorithm\":\"lda\"}, spatial.distance.cosine),\n",
    "    Method(\"Topic Models\", \"LDA,Full,Topics=200\", pw.pairwise_square_topic_model, {\"ids_to_texts\":descriptions_full_preprocessing, \"metric\":\"cosine\", \"num_topics\":200, \"algorithm\":\"lda\"}, spatial.distance.cosine),\n",
    "\n",
    "    Method(\"Topic Models\", \"NMF,Simple,Topics=20\", pw.pairwise_square_topic_model, {\"ids_to_texts\":descriptions_simple_preprocessing, \"metric\":\"cosine\", \"num_topics\":20, \"algorithm\":\"nmf\"}, spatial.distance.cosine),\n",
    "    Method(\"Topic Models\", \"NMF,Simple,Topics=50\", pw.pairwise_square_topic_model, {\"ids_to_texts\":descriptions_simple_preprocessing, \"metric\":\"cosine\", \"num_topics\":50, \"algorithm\":\"nmf\"}, spatial.distance.cosine),\n",
    "    Method(\"Topic Models\", \"NMF,Simple,Topics=100\", pw.pairwise_square_topic_model, {\"ids_to_texts\":descriptions_simple_preprocessing, \"metric\":\"cosine\", \"num_topics\":100, \"algorithm\":\"nmf\"}, spatial.distance.cosine),\n",
    "    Method(\"Topic Models\", \"NMF,Simple,Topics=200\", pw.pairwise_square_topic_model, {\"ids_to_texts\":descriptions_simple_preprocessing, \"metric\":\"cosine\", \"num_topics\":200, \"algorithm\":\"nmf\"}, spatial.distance.cosine),\n",
    "    Method(\"Topic Models\", \"NMF,Full,Topics=20\", pw.pairwise_square_topic_model, {\"ids_to_texts\":descriptions_full_preprocessing, \"metric\":\"cosine\", \"num_topics\":20, \"algorithm\":\"nmf\"}, spatial.distance.cosine),\n",
    "    Method(\"Topic Models\", \"NMF,Full,Topics=50\", pw.pairwise_square_topic_model, {\"ids_to_texts\":descriptions_full_preprocessing, \"metric\":\"cosine\", \"num_topics\":50, \"algorithm\":\"nmf\"}, spatial.distance.cosine),\n",
    "    Method(\"Topic Models\", \"NMF,Full,Topics=100\", pw.pairwise_square_topic_model, {\"ids_to_texts\":descriptions_full_preprocessing, \"metric\":\"cosine\", \"num_topics\":100, \"algorithm\":\"nmf\"}, spatial.distance.cosine),\n",
    "    Method(\"Topic Models\", \"NMF,Full,Topics=200\", pw.pairwise_square_topic_model, {\"ids_to_texts\":descriptions_full_preprocessing, \"metric\":\"cosine\", \"num_topics\":200, \"algorithm\":\"nmf\"}, spatial.distance.cosine),\n",
    "\n",
    "\n",
    "    # Methods that use variations on the n-grams approach with full preprocessing (includes stemming).\n",
    "    Method(\"N-Grams\", \"Full,Words,1-grams,2-grams\", pw.pairwise_square_ngrams, {\"ids_to_texts\":descriptions_full_preprocessing, \"metric\":\"cosine\", \"binary\":False, \"analyzer\":\"word\", \"ngram_range\":(1,2),\"max_features\":10000, \"tfidf\":False}, spatial.distance.cosine),\n",
    "    Method(\"N-Grams\", \"Full,Words,1-grams,2-grams,Binary\", pw.pairwise_square_ngrams, {\"ids_to_texts\":descriptions_full_preprocessing, \"metric\":\"jaccard\", \"binary\":True, \"analyzer\":\"word\", \"ngram_range\":(1,2), \"max_features\":10000, \"tfidf\":False}, spatial.distance.jaccard),\n",
    "    Method(\"N-Grams\", \"Full,Words,1-grams\", pw.pairwise_square_ngrams, {\"ids_to_texts\":descriptions_full_preprocessing, \"metric\":\"cosine\", \"binary\":False, \"analyzer\":\"word\", \"ngram_range\":(1,1), \"max_features\":10000, \"tfidf\":False}, spatial.distance.cosine),\n",
    "    Method(\"N-Grams\", \"Full,Words,1-grams,Binary\", pw.pairwise_square_ngrams, {\"ids_to_texts\":descriptions_full_preprocessing, \"metric\":\"jaccard\", \"binary\":True, \"analyzer\":\"word\", \"ngram_range\":(1,1), \"max_features\":10000, \"tfidf\":False}, spatial.distance.jaccard),\n",
    "    Method(\"N-Grams\", \"Full,Words,1-grams,2-grams,TFIDF\", pw.pairwise_square_ngrams, {\"ids_to_texts\":descriptions_full_preprocessing, \"metric\":\"cosine\", \"binary\":False, \"analyzer\":\"word\", \"ngram_range\":(1,2),\"max_features\":10000, \"tfidf\":True}, spatial.distance.cosine),\n",
    "    Method(\"N-Grams\", \"Full,Words,1-grams,2-grams,Binary,TFIDF\", pw.pairwise_square_ngrams, {\"ids_to_texts\":descriptions_full_preprocessing, \"metric\":\"cosine\", \"binary\":True, \"analyzer\":\"word\", \"ngram_range\":(1,2), \"max_features\":10000, \"tfidf\":True}, spatial.distance.cosine),\n",
    "    Method(\"N-Grams\", \"Full,Words,1-grams,TFIDF\", pw.pairwise_square_ngrams, {\"ids_to_texts\":descriptions_full_preprocessing, \"metric\":\"cosine\", \"binary\":False, \"analyzer\":\"word\", \"ngram_range\":(1,1), \"max_features\":10000, \"tfidf\":True}, spatial.distance.cosine),\n",
    "    Method(\"N-Grams\", \"Full,Words,1-grams,Binary,TFIDF\", pw.pairwise_square_ngrams, {\"ids_to_texts\":descriptions_full_preprocessing, \"metric\":\"cosine\", \"binary\":True, \"analyzer\":\"word\", \"ngram_range\":(1,1), \"max_features\":10000, \"tfidf\":True}, spatial.distance.cosine),\n",
    "\n",
    "    # Methods that use variations on the n-grams approach with simple preprocessing (no stemming).\n",
    "    Method(\"N-Grams\", \"Simple,Words,1-grams,2-grams\", pw.pairwise_square_ngrams, {\"ids_to_texts\":descriptions_simple_preprocessing, \"metric\":\"cosine\", \"binary\":False, \"analyzer\":\"word\", \"ngram_range\":(1,2),\"max_features\":10000, \"tfidf\":False}, spatial.distance.cosine),\n",
    "    Method(\"N-Grams\", \"Simple,Words,1-grams,2-grams,Binary\", pw.pairwise_square_ngrams, {\"ids_to_texts\":descriptions_simple_preprocessing, \"metric\":\"jaccard\", \"binary\":True, \"analyzer\":\"word\", \"ngram_range\":(1,2), \"max_features\":10000, \"tfidf\":False}, spatial.distance.jaccard),\n",
    "    Method(\"N-Grams\", \"Simple,Words,1-grams\", pw.pairwise_square_ngrams, {\"ids_to_texts\":descriptions_simple_preprocessing, \"metric\":\"cosine\", \"binary\":False, \"analyzer\":\"word\", \"ngram_range\":(1,1), \"max_features\":10000, \"tfidf\":False}, spatial.distance.cosine),\n",
    "    Method(\"N-Grams\", \"Simple,Words,1-grams,Binary\", pw.pairwise_square_ngrams, {\"ids_to_texts\":descriptions_simple_preprocessing, \"metric\":\"jaccard\", \"binary\":True, \"analyzer\":\"word\", \"ngram_range\":(1,1), \"max_features\":10000, \"tfidf\":False}, spatial.distance.jaccard),\n",
    "    Method(\"N-Grams\", \"Simple,Words,1-grams,2-grams,TFIDF\", pw.pairwise_square_ngrams, {\"ids_to_texts\":descriptions_simple_preprocessing, \"metric\":\"cosine\", \"binary\":False, \"analyzer\":\"word\", \"ngram_range\":(1,2),\"max_features\":10000, \"tfidf\":True}, spatial.distance.cosine),\n",
    "    Method(\"N-Grams\", \"Simple,Words,1-grams,2-grams,Binary,TFIDF\", pw.pairwise_square_ngrams, {\"ids_to_texts\":descriptions_simple_preprocessing, \"metric\":\"cosine\", \"binary\":True, \"analyzer\":\"word\", \"ngram_range\":(1,2), \"max_features\":10000, \"tfidf\":True}, spatial.distance.cosine),\n",
    "    Method(\"N-Grams\", \"Simple,Words,1-grams,TFIDF\", pw.pairwise_square_ngrams, {\"ids_to_texts\":descriptions_simple_preprocessing, \"metric\":\"cosine\", \"binary\":False, \"analyzer\":\"word\", \"ngram_range\":(1,1), \"max_features\":10000, \"tfidf\":True}, spatial.distance.cosine),\n",
    "    Method(\"N-Grams\", \"Simple,Words,1-grams,Binary,TFIDF\", pw.pairwise_square_ngrams, {\"ids_to_texts\":descriptions_simple_preprocessing, \"metric\":\"cosine\", \"binary\":True, \"analyzer\":\"word\", \"ngram_range\":(1,1), \"max_features\":10000, \"tfidf\":True}, spatial.distance.cosine),\n",
    "\n",
    "    # Methods that use variations on the n-grams approach selecting for specific parts-of-speech (includes stemming).\n",
    "    Method(\"N-Grams\", \"Full,Nouns,1-grams\", pw.pairwise_square_ngrams, {\"ids_to_texts\":descriptions_noun_only_full_preprocessing, \"metric\":\"cosine\", \"binary\":False, \"analyzer\":\"word\", \"ngram_range\":(1,1), \"max_features\":10000, \"tfidf\":False}, spatial.distance.cosine),\n",
    "    Method(\"N-Grams\", \"Full,Nouns,1-grams,Binary\", pw.pairwise_square_ngrams, {\"ids_to_texts\":descriptions_noun_only_full_preprocessing, \"metric\":\"jaccard\", \"binary\":True, \"analyzer\":\"word\", \"ngram_range\":(1,1), \"max_features\":10000, \"tfidf\":False}, spatial.distance.jaccard),\n",
    "    Method(\"N-Grams\", \"Full,Nouns,1-grams,TFIDF\", pw.pairwise_square_ngrams, {\"ids_to_texts\":descriptions_noun_only_full_preprocessing, \"metric\":\"cosine\", \"binary\":False, \"analyzer\":\"word\", \"ngram_range\":(1,1), \"max_features\":10000, \"tfidf\":True}, spatial.distance.cosine),\n",
    "    Method(\"N-Grams\", \"Full,Nouns,1-grams,Binary,TFIDF\", pw.pairwise_square_ngrams, {\"ids_to_texts\":descriptions_noun_only_full_preprocessing, \"metric\":\"cosine\", \"binary\":True, \"analyzer\":\"word\", \"ngram_range\":(1,1), \"max_features\":10000, \"tfidf\":True}, spatial.distance.cosine),\n",
    "    Method(\"N-Grams\", \"Full,Adjectives,1-grams\", pw.pairwise_square_ngrams, {\"ids_to_texts\":descriptions_adj_only_full_preprocessing, \"metric\":\"cosine\", \"binary\":False, \"analyzer\":\"word\", \"ngram_range\":(1,1), \"max_features\":10000, \"tfidf\":False}, spatial.distance.cosine),\n",
    "    Method(\"N-Grams\", \"Full,Adjectives,1-grams,Binary\", pw.pairwise_square_ngrams, {\"ids_to_texts\":descriptions_adj_only_full_preprocessing, \"metric\":\"jaccard\", \"binary\":True, \"analyzer\":\"word\", \"ngram_range\":(1,1), \"max_features\":10000, \"tfidf\":False}, spatial.distance.jaccard),\n",
    "    Method(\"N-Grams\", \"Full,Adjectives,1-grams,TFIDF\", pw.pairwise_square_ngrams, {\"ids_to_texts\":descriptions_adj_only_full_preprocessing, \"metric\":\"cosine\", \"binary\":False, \"analyzer\":\"word\", \"ngram_range\":(1,1), \"max_features\":10000, \"tfidf\":True}, spatial.distance.cosine),\n",
    "    Method(\"N-Grams\", \"Full,Adjectives,1-grams,Binary,TFIDF\", pw.pairwise_square_ngrams, {\"ids_to_texts\":descriptions_adj_only_full_preprocessing, \"metric\":\"cosine\", \"binary\":True, \"analyzer\":\"word\", \"ngram_range\":(1,1), \"max_features\":10000, \"tfidf\":True}, spatial.distance.cosine),\n",
    "    Method(\"N-Grams\", \"Full,Nouns,Adjectives,1-grams\", pw.pairwise_square_ngrams, {\"ids_to_texts\":descriptions_noun_adj_full_preprocessing, \"metric\":\"cosine\", \"binary\":False, \"analyzer\":\"word\", \"ngram_range\":(1,1), \"max_features\":10000, \"tfidf\":False}, spatial.distance.cosine),\n",
    "    Method(\"N-Grams\", \"Full,Nouns,Adjectives,1-grams,Binary\", pw.pairwise_square_ngrams, {\"ids_to_texts\":descriptions_noun_adj_full_preprocessing, \"metric\":\"jaccard\", \"binary\":True, \"analyzer\":\"word\", \"ngram_range\":(1,1), \"max_features\":10000, \"tfidf\":False}, spatial.distance.jaccard),\n",
    "    Method(\"N-Grams\", \"Full,Nouns,Adjectives,1-grams,TFIDF\", pw.pairwise_square_ngrams, {\"ids_to_texts\":descriptions_noun_adj_full_preprocessing, \"metric\":\"cosine\", \"binary\":False, \"analyzer\":\"word\", \"ngram_range\":(1,1), \"max_features\":10000, \"tfidf\":True}, spatial.distance.cosine),\n",
    "    Method(\"N-Grams\", \"Full,Nouns,Adjectives,1-grams,Binary,TFIDF\", pw.pairwise_square_ngrams, {\"ids_to_texts\":descriptions_noun_adj_full_preprocessing, \"metric\":\"cosine\", \"binary\":True, \"analyzer\":\"word\", \"ngram_range\":(1,1), \"max_features\":10000, \"tfidf\":True}, spatial.distance.cosine),\n",
    "\n",
    "    # Methods that use variations on the n-grams approach with a reduced vocabulary size and simple preprocessing (no stemming).\n",
    "    Method(\"N-Grams\", \"Simple,Words,Linares Pontes,1-grams\", pw.pairwise_square_ngrams, {\"ids_to_texts\":descriptions_linares_pontes, \"metric\":\"cosine\", \"binary\":False, \"analyzer\":\"word\", \"ngram_range\":(1,1), \"max_features\":10000, \"tfidf\":False}, spatial.distance.cosine),\n",
    "    Method(\"N-Grams\", \"Simple,Words,Linares Pontes,1-grams,Binary\", pw.pairwise_square_ngrams, {\"ids_to_texts\":descriptions_linares_pontes, \"metric\":\"jaccard\", \"binary\":True, \"analyzer\":\"word\", \"ngram_range\":(1,1), \"max_features\":10000, \"tfidf\":False}, spatial.distance.jaccard),\n",
    "    Method(\"N-Grams\", \"Simple,Words,Linares Pontes,1-grams,TFIDF\", pw.pairwise_square_ngrams, {\"ids_to_texts\":descriptions_linares_pontes, \"metric\":\"cosine\", \"binary\":False, \"analyzer\":\"word\", \"ngram_range\":(1,1), \"max_features\":10000, \"tfidf\":True}, spatial.distance.cosine),\n",
    "    Method(\"N-Grams\", \"Simple,Words,Linares Pontes,1-grams,Binary,TFIDF\", pw.pairwise_square_ngrams, {\"ids_to_texts\":descriptions_linares_pontes, \"metric\":\"cosine\", \"binary\":True, \"analyzer\":\"word\", \"ngram_range\":(1,1), \"max_features\":10000, \"tfidf\":True}, spatial.distance.cosine),\n",
    "\n",
    "\n",
    "\n",
    "    # Methods that use terms inferred from automated annotation of the text.\n",
    "    Method(\"NOBLE Coder\", \"Precise\", pw.pairwise_square_annotations, {\"ids_to_annotations\":annotations_noblecoder_precise, \"ontology\":ontology, \"binary\":True, \"metric\":\"jaccard\", \"tfidf\":False}, spatial.distance.jaccard),\n",
    "    Method(\"NOBLE Coder\", \"Partial\", pw.pairwise_square_annotations, {\"ids_to_annotations\":annotations_noblecoder_partial, \"ontology\":ontology, \"binary\":True, \"metric\":\"jaccard\", \"tfidf\":False}, spatial.distance.jaccard),\n",
    "    Method(\"NOBLE Coder\", \"Precise,TFIDF\", pw.pairwise_square_annotations, {\"ids_to_annotations\":annotations_noblecoder_precise, \"ontology\":ontology, \"binary\":True, \"metric\":\"cosine\", \"tfidf\":True}, spatial.distance.cosine),\n",
    "    Method(\"NOBLE Coder\", \"Partial,TFIDF\", pw.pairwise_square_annotations, {\"ids_to_annotations\":annotations_noblecoder_partial, \"ontology\":ontology, \"binary\":True, \"metric\":\"cosine\", \"tfidf\":True}, spatial.distance.cosine),\n",
    "\n",
    "    # Methods that use terms assigned by humans that are present in the dataset.\n",
    "    Method(\"GO\", \"None\", pw.pairwise_square_annotations, {\"ids_to_annotations\":go_annotations, \"ontology\":ontology, \"metric\":\"jaccard\", \"binary\":True, \"analyzer\":\"word\", \"ngram_range\":(1,1), \"tfidf\":False}, spatial.distance.jaccard),\n",
    "    Method(\"PO\", \"None\", pw.pairwise_square_annotations, {\"ids_to_annotations\":po_annotations, \"ontology\":ontology, \"metric\":\"jaccard\", \"binary\":True, \"analyzer\":\"word\", \"ngram_range\":(1,1), \"tfidf\":False}, spatial.distance.jaccard),\n",
    "\n",
    "\n",
    "\n",
    "\n",
    "\n",
    "\n",
    "    # Individual phenes from those larger phenotypes.\n",
    "\n",
    "\n",
    "    # Approaches were the phenotype descriptions were split into individual phenes first (computationally expensive).\n",
    "    Method(\"Doc2Vec (Phenes)\", \"Wikipedia,Size=300\", pw.pairwise_square_doc2vec, {\"model\":doc2vec_wiki_model, \"ids_to_texts\":phenes, \"metric\":\"cosine\"}, spatial.distance.cosine, tag=\"phenes\"),\n",
    "    Method(\"Doc2Vec (Phenes)\", \"PubMed,Size=100\", pw.pairwise_square_doc2vec, {\"model\":doc2vec_pubmed_model, \"ids_to_texts\":phenes, \"metric\":\"cosine\"}, spatial.distance.cosine, tag=\"phenes\"),\n",
    "    Method(\"Word2Vec (Phenes)\", \"Wikipedia,Size=300,Mean\", pw.pairwise_square_word2vec, {\"model\":word2vec_model, \"ids_to_texts\":phenes, \"metric\":\"cosine\", \"method\":\"mean\"}, spatial.distance.cosine, tag=\"phenes\"),\n",
    "    Method(\"Word2Vec (Phenes)\", \"Wikipedia,Size=300,Max\", pw.pairwise_square_word2vec, {\"model\":word2vec_model, \"ids_to_texts\":phenes, \"metric\":\"cosine\", \"method\":\"max\"}, spatial.distance.cosine, tag=\"phenes\"),\n",
    "    Method(\"Word2Vec (Phenes)\", \"Wikipedia,Size=300,Mean,Nouns,Adjectives\", pw.pairwise_square_word2vec, {\"model\":word2vec_model, \"ids_to_texts\":phenes_noun_adj_simple_preprocessing, \"metric\":\"cosine\", \"method\":\"mean\"}, spatial.distance.cosine, tag=\"phenes\"),\n",
    "    Method(\"Word2Vec (Phenes)\", \"Wikipedia,Size=300,Max,Nouns,Adjectives\", pw.pairwise_square_word2vec, {\"model\":word2vec_model, \"ids_to_texts\":phenes_noun_adj_simple_preprocessing, \"metric\":\"cosine\", \"method\":\"max\"}, spatial.distance.cosine, tag=\"phenes\"),\n",
    "    Method(\"Word2Vec (Phenes)\", \"Wikipedia,Size=300,Mean,Linares Pontes\", pw.pairwise_square_word2vec, {\"model\":word2vec_model, \"ids_to_texts\":phenes_linares_pontes, \"metric\":\"cosine\", \"method\":\"mean\"}, spatial.distance.cosine, tag=\"phenes\"),\n",
    "    Method(\"Word2Vec (Phenes)\", \"Wikipedia,Size=300,Max,Linares Pontes\", pw.pairwise_square_word2vec, {\"model\":word2vec_model, \"ids_to_texts\":phenes_linares_pontes, \"metric\":\"cosine\", \"method\":\"max\"}, spatial.distance.cosine, tag=\"phenes\"),\n",
    "\n",
    "    #Method(\"BERT (Phenes)\", \"Base:Layers=2,Concatenated\", pw.pairwise_square_bert, {\"model\":bert_model_base, \"tokenizer\":bert_tokenizer_base, \"ids_to_texts\":phenes, \"metric\":\"cosine\", \"method\":\"concat\", \"layers\":2}, spatial.distance.cosine, tag=\"phenes\"),\n",
    "    #Method(\"BERT (Phenes)\", \"Base:Layers=3,Concatenated\", pw.pairwise_square_bert, {\"model\":bert_model_base, \"tokenizer\":bert_tokenizer_base, \"ids_to_texts\":phenes, \"metric\":\"cosine\", \"method\":\"concat\", \"layers\":3}, spatial.distance.cosine, tag=\"phenes\"),\n",
    "    #Method(\"BERT (Phenes)\", \"Base:Layers=4,Concatenated\", pw.pairwise_square_bert, {\"model\":bert_model_base, \"tokenizer\":bert_tokenizer_base, \"ids_to_texts\":phenes, \"metric\":\"cosine\", \"method\":\"concat\", \"layers\":4}, spatial.distance.cosine, tag=\"phenes\"),\n",
    "    #Method(\"BERT (Phenes)\", \"Base:Layers=2,Summed\", pw.pairwise_square_bert, {\"model\":bert_model_base, \"tokenizer\":bert_tokenizer_base, \"ids_to_texts\":phenes, \"metric\":\"cosine\", \"method\":\"sum\", \"layers\":2}, spatial.distance.cosine, tag=\"phenes\"),\n",
    "    #Method(\"BERT (Phenes)\", \"Base:Layers=3,Summed\", pw.pairwise_square_bert, {\"model\":bert_model_base, \"tokenizer\":bert_tokenizer_base, \"ids_to_texts\":phenes, \"metric\":\"cosine\", \"method\":\"sum\", \"layers\":3}, spatial.distance.cosine, tag=\"phenes\"),\n",
    "    #Method(\"BERT (Phenes)\", \"Base:Layers=4,Summed\", pw.pairwise_square_bert, {\"model\":bert_model_base, \"tokenizer\":bert_tokenizer_base, \"ids_to_texts\":phenes, \"metric\":\"cosine\", \"method\":\"sum\", \"layers\":4}, spatial.distance.cosine, tag=\"phenes\"),\n",
    "    #Method(\"BioBERT (Phenes)\", \"PMC,Layers=2,Concatenated\", pw.pairwise_square_bert, {\"model\":bert_model_pmc, \"tokenizer\":bert_tokenizer_pmc, \"ids_to_texts\":phenes, \"metric\":\"cosine\", \"method\":\"concat\", \"layers\":2}, spatial.distance.cosine, tag=\"phenes\"),\n",
    "    #Method(\"BioBERT (Phenes)\", \"PMC,Layers=3,Concatenated\", pw.pairwise_square_bert, {\"model\":bert_model_pmc, \"tokenizer\":bert_tokenizer_pmc, \"ids_to_texts\":phenes, \"metric\":\"cosine\", \"method\":\"concat\", \"layers\":3}, spatial.distance.cosine, tag=\"phenes\"),\n",
    "    #Method(\"BioBERT (Phenes)\", \"PMC,Layers=4,Concatenated\", pw.pairwise_square_bert, {\"model\":bert_model_pmc, \"tokenizer\":bert_tokenizer_pmc, \"ids_to_texts\":phenes, \"metric\":\"cosine\", \"method\":\"concat\", \"layers\":4}, spatial.distance.cosine, tag=\"phenes\"),\n",
    "    #Method(\"BioBERT (Phenes)\", \"PubMed,Layers=4,Concatenated\", pw.pairwise_square_bert, {\"model\":bert_model_pubmed, \"tokenizer\":bert_tokenizer_pubmed, \"ids_to_texts\":phenes, \"metric\":\"cosine\", \"method\":\"concat\", \"layers\":4}, spatial.distance.cosine, tag=\"phenes\"),\n",
    "    #Method(\"BioBERT (Phenes)\", \"PubMed,PMC,Layers=4,Concatenated\", pw.pairwise_square_bert, {\"model\":bert_model_pubmed_pmc, \"tokenizer\":bert_tokenizer_pubmed_pmc, \"ids_to_texts\":phenes, \"metric\":\"cosine\", \"method\":\"concat\", \"layers\":4}, spatial.distance.cosine, tag=\"phenes\"),\n",
    "\n",
    "\n",
    "\n",
    "    # Methods that use variations on the N-Grams (Phenes) approach with full preprocessing (includes stemming).\n",
    "    Method(\"N-Grams (Phenes)\", \"Full,Words,1-grams,2-grams\", pw.pairwise_square_ngrams, {\"ids_to_texts\":phenes_full_preprocessing, \"metric\":\"cosine\", \"binary\":False, \"analyzer\":\"word\", \"ngram_range\":(1,2),\"max_features\":10000, \"tfidf\":False}, spatial.distance.cosine, tag=\"phenes\"),\n",
    "    Method(\"N-Grams (Phenes)\", \"Full,Words,1-grams,2-grams,Binary\", pw.pairwise_square_ngrams, {\"ids_to_texts\":phenes_full_preprocessing, \"metric\":\"jaccard\", \"binary\":True, \"analyzer\":\"word\", \"ngram_range\":(1,2), \"max_features\":10000, \"tfidf\":False}, spatial.distance.jaccard, tag=\"phenes\"),\n",
    "    Method(\"N-Grams (Phenes)\", \"Full,Words,1-grams\", pw.pairwise_square_ngrams, {\"ids_to_texts\":phenes_full_preprocessing, \"metric\":\"cosine\", \"binary\":False, \"analyzer\":\"word\", \"ngram_range\":(1,1), \"max_features\":10000, \"tfidf\":False}, spatial.distance.cosine, tag=\"phenes\"),\n",
    "    Method(\"N-Grams (Phenes)\", \"Full,Words,1-grams,Binary\", pw.pairwise_square_ngrams, {\"ids_to_texts\":phenes_full_preprocessing, \"metric\":\"jaccard\", \"binary\":True, \"analyzer\":\"word\", \"ngram_range\":(1,1), \"max_features\":10000, \"tfidf\":False}, spatial.distance.jaccard, tag=\"phenes\"),\n",
    "    Method(\"N-Grams (Phenes)\", \"Full,Words,1-grams,2-grams,TFIDF\", pw.pairwise_square_ngrams, {\"ids_to_texts\":phenes_full_preprocessing, \"metric\":\"cosine\", \"binary\":False, \"analyzer\":\"word\", \"ngram_range\":(1,2),\"max_features\":10000, \"tfidf\":True}, spatial.distance.cosine, tag=\"phenes\"),\n",
    "    Method(\"N-Grams (Phenes)\", \"Full,Words,1-grams,2-grams,Binary,TFIDF\", pw.pairwise_square_ngrams, {\"ids_to_texts\":phenes_full_preprocessing, \"metric\":\"cosine\", \"binary\":True, \"analyzer\":\"word\", \"ngram_range\":(1,2), \"max_features\":10000, \"tfidf\":True}, spatial.distance.cosine, tag=\"phenes\"),\n",
    "    Method(\"N-Grams (Phenes)\", \"Full,Words,1-grams,TFIDF\", pw.pairwise_square_ngrams, {\"ids_to_texts\":phenes_full_preprocessing, \"metric\":\"cosine\", \"binary\":False, \"analyzer\":\"word\", \"ngram_range\":(1,1), \"max_features\":10000, \"tfidf\":True}, spatial.distance.cosine, tag=\"phenes\"),\n",
    "    Method(\"N-Grams (Phenes)\", \"Full,Words,1-grams,Binary,TFIDF\", pw.pairwise_square_ngrams, {\"ids_to_texts\":phenes_full_preprocessing, \"metric\":\"cosine\", \"binary\":True, \"analyzer\":\"word\", \"ngram_range\":(1,1), \"max_features\":10000, \"tfidf\":True}, spatial.distance.cosine, tag=\"phenes\"),\n",
    "\n",
    "    # Methods that use variations on the N-Grams (Phenes) approach with simple preprocessing (no stemming).\n",
    "    Method(\"N-Grams (Phenes)\", \"Simple,Words,1-grams,2-grams\", pw.pairwise_square_ngrams, {\"ids_to_texts\":phenes_simple_preprocessing, \"metric\":\"cosine\", \"binary\":False, \"analyzer\":\"word\", \"ngram_range\":(1,2),\"max_features\":10000, \"tfidf\":False}, spatial.distance.cosine, tag=\"phenes\"),\n",
    "    Method(\"N-Grams (Phenes)\", \"Simple,Words,1-grams,2-grams,Binary\", pw.pairwise_square_ngrams, {\"ids_to_texts\":phenes_simple_preprocessing, \"metric\":\"jaccard\", \"binary\":True, \"analyzer\":\"word\", \"ngram_range\":(1,2), \"max_features\":10000, \"tfidf\":False}, spatial.distance.jaccard, tag=\"phenes\"),\n",
    "    Method(\"N-Grams (Phenes)\", \"Simple,Words,1-grams\", pw.pairwise_square_ngrams, {\"ids_to_texts\":phenes_simple_preprocessing, \"metric\":\"cosine\", \"binary\":False, \"analyzer\":\"word\", \"ngram_range\":(1,1), \"max_features\":10000, \"tfidf\":False}, spatial.distance.cosine, tag=\"phenes\"),\n",
    "    Method(\"N-Grams (Phenes)\", \"Simple,Words,1-grams,Binary\", pw.pairwise_square_ngrams, {\"ids_to_texts\":phenes_simple_preprocessing, \"metric\":\"jaccard\", \"binary\":True, \"analyzer\":\"word\", \"ngram_range\":(1,1), \"max_features\":10000, \"tfidf\":False}, spatial.distance.jaccard, tag=\"phenes\"),\n",
    "    Method(\"N-Grams (Phenes)\", \"Simple,Words,1-grams,2-grams,TFIDF\", pw.pairwise_square_ngrams, {\"ids_to_texts\":phenes_simple_preprocessing, \"metric\":\"cosine\", \"binary\":False, \"analyzer\":\"word\", \"ngram_range\":(1,2),\"max_features\":10000, \"tfidf\":True}, spatial.distance.cosine, tag=\"phenes\"),\n",
    "    Method(\"N-Grams (Phenes)\", \"Simple,Words,1-grams,2-grams,Binary,TFIDF\", pw.pairwise_square_ngrams, {\"ids_to_texts\":phenes_simple_preprocessing, \"metric\":\"cosine\", \"binary\":True, \"analyzer\":\"word\", \"ngram_range\":(1,2), \"max_features\":10000, \"tfidf\":True}, spatial.distance.cosine, tag=\"phenes\"),\n",
    "    Method(\"N-Grams (Phenes)\", \"Simple,Words,1-grams,TFIDF\", pw.pairwise_square_ngrams, {\"ids_to_texts\":phenes_simple_preprocessing, \"metric\":\"cosine\", \"binary\":False, \"analyzer\":\"word\", \"ngram_range\":(1,1), \"max_features\":10000, \"tfidf\":True}, spatial.distance.cosine, tag=\"phenes\"),\n",
    "    Method(\"N-Grams (Phenes)\", \"Simple,Words,1-grams,Binary,TFIDF\", pw.pairwise_square_ngrams, {\"ids_to_texts\":phenes_simple_preprocessing, \"metric\":\"cosine\", \"binary\":True, \"analyzer\":\"word\", \"ngram_range\":(1,1), \"max_features\":10000, \"tfidf\":True}, spatial.distance.cosine, tag=\"phenes\"),\n",
    "\n",
    "    # Methods that use variations on the N-Grams (Phenes) approach selecting for specific parts-of-speech (includes stemming).\n",
    "    Method(\"N-Grams (Phenes)\", \"Full,Nouns,1-grams\", pw.pairwise_square_ngrams, {\"ids_to_texts\":phenes_noun_only_full_preprocessing, \"metric\":\"cosine\", \"binary\":False, \"analyzer\":\"word\", \"ngram_range\":(1,1), \"max_features\":10000, \"tfidf\":False}, spatial.distance.cosine, tag=\"phenes\"),\n",
    "    Method(\"N-Grams (Phenes)\", \"Full,Nouns,1-grams,Binary\", pw.pairwise_square_ngrams, {\"ids_to_texts\":phenes_noun_only_full_preprocessing, \"metric\":\"jaccard\", \"binary\":True, \"analyzer\":\"word\", \"ngram_range\":(1,1), \"max_features\":10000, \"tfidf\":False}, spatial.distance.jaccard, tag=\"phenes\"),\n",
    "    Method(\"N-Grams (Phenes)\", \"Full,Nouns,1-grams,TFIDF\", pw.pairwise_square_ngrams, {\"ids_to_texts\":phenes_noun_only_full_preprocessing, \"metric\":\"cosine\", \"binary\":False, \"analyzer\":\"word\", \"ngram_range\":(1,1), \"max_features\":10000, \"tfidf\":True}, spatial.distance.cosine, tag=\"phenes\"),\n",
    "    Method(\"N-Grams (Phenes)\", \"Full,Nouns,1-grams,Binary,TFIDF\", pw.pairwise_square_ngrams, {\"ids_to_texts\":phenes_noun_only_full_preprocessing, \"metric\":\"cosine\", \"binary\":True, \"analyzer\":\"word\", \"ngram_range\":(1,1), \"max_features\":10000, \"tfidf\":True}, spatial.distance.cosine, tag=\"phenes\"),\n",
    "    Method(\"N-Grams (Phenes)\", \"Full,Adjectives,1-grams\", pw.pairwise_square_ngrams, {\"ids_to_texts\":phenes_adj_only_full_preprocessing, \"metric\":\"cosine\", \"binary\":False, \"analyzer\":\"word\", \"ngram_range\":(1,1), \"max_features\":10000, \"tfidf\":False}, spatial.distance.cosine, tag=\"phenes\"),\n",
    "    Method(\"N-Grams (Phenes)\", \"Full,Adjectives,1-grams,Binary\", pw.pairwise_square_ngrams, {\"ids_to_texts\":phenes_adj_only_full_preprocessing, \"metric\":\"jaccard\", \"binary\":True, \"analyzer\":\"word\", \"ngram_range\":(1,1), \"max_features\":10000, \"tfidf\":False}, spatial.distance.jaccard, tag=\"phenes\"),\n",
    "    Method(\"N-Grams (Phenes)\", \"Full,Adjectives,1-grams,TFIDF\", pw.pairwise_square_ngrams, {\"ids_to_texts\":phenes_adj_only_full_preprocessing, \"metric\":\"cosine\", \"binary\":False, \"analyzer\":\"word\", \"ngram_range\":(1,1), \"max_features\":10000, \"tfidf\":True}, spatial.distance.cosine, tag=\"phenes\"),\n",
    "    Method(\"N-Grams (Phenes)\", \"Full,Adjectives,1-grams,Binary,TFIDF\", pw.pairwise_square_ngrams, {\"ids_to_texts\":phenes_adj_only_full_preprocessing, \"metric\":\"cosine\", \"binary\":True, \"analyzer\":\"word\", \"ngram_range\":(1,1), \"max_features\":10000, \"tfidf\":True}, spatial.distance.cosine, tag=\"phenes\"),\n",
    "    Method(\"N-Grams (Phenes)\", \"Full,Nouns,Adjectives,1-grams\", pw.pairwise_square_ngrams, {\"ids_to_texts\":phenes_noun_adj_full_preprocessing, \"metric\":\"cosine\", \"binary\":False, \"analyzer\":\"word\", \"ngram_range\":(1,1), \"max_features\":10000, \"tfidf\":False}, spatial.distance.cosine, tag=\"phenes\"),\n",
    "    Method(\"N-Grams (Phenes)\", \"Full,Nouns,Adjectives,1-grams,Binary\", pw.pairwise_square_ngrams, {\"ids_to_texts\":phenes_noun_adj_full_preprocessing, \"metric\":\"jaccard\", \"binary\":True, \"analyzer\":\"word\", \"ngram_range\":(1,1), \"max_features\":10000, \"tfidf\":False}, spatial.distance.jaccard, tag=\"phenes\"),\n",
    "    Method(\"N-Grams (Phenes)\", \"Full,Nouns,Adjectives,1-grams,TFIDF\", pw.pairwise_square_ngrams, {\"ids_to_texts\":phenes_noun_adj_full_preprocessing, \"metric\":\"cosine\", \"binary\":False, \"analyzer\":\"word\", \"ngram_range\":(1,1), \"max_features\":10000, \"tfidf\":True}, spatial.distance.cosine, tag=\"phenes\"),\n",
    "    Method(\"N-Grams (Phenes)\", \"Full,Nouns,Adjectives,1-grams,Binary,TFIDF\", pw.pairwise_square_ngrams, {\"ids_to_texts\":phenes_noun_adj_full_preprocessing, \"metric\":\"cosine\", \"binary\":True, \"analyzer\":\"word\", \"ngram_range\":(1,1), \"max_features\":10000, \"tfidf\":True}, spatial.distance.cosine, tag=\"phenes\"),\n",
    "\n",
    "    # Methods that use variations on the N-Grams (Phenes) approach with a reduced vocabulary size and simple preprocessing (no stemming).\n",
    "    Method(\"N-Grams (Phenes)\", \"Simple,Words,Linares Pontes,1-grams\", pw.pairwise_square_ngrams, {\"ids_to_texts\":phenes_linares_pontes, \"metric\":\"cosine\", \"binary\":False, \"analyzer\":\"word\", \"ngram_range\":(1,1), \"max_features\":10000, \"tfidf\":False}, spatial.distance.cosine, tag=\"phenes\"),\n",
    "    Method(\"N-Grams (Phenes)\", \"Simple,Words,Linares Pontes,1-grams,Binary\", pw.pairwise_square_ngrams, {\"ids_to_texts\":phenes_linares_pontes, \"metric\":\"jaccard\", \"binary\":True, \"analyzer\":\"word\", \"ngram_range\":(1,1), \"max_features\":10000, \"tfidf\":False}, spatial.distance.jaccard, tag=\"phenes\"),\n",
    "    Method(\"N-Grams (Phenes)\", \"Simple,Words,Linares Pontes,1-grams,TFIDF\", pw.pairwise_square_ngrams, {\"ids_to_texts\":phenes_linares_pontes, \"metric\":\"cosine\", \"binary\":False, \"analyzer\":\"word\", \"ngram_range\":(1,1), \"max_features\":10000, \"tfidf\":True}, spatial.distance.cosine, tag=\"phenes\"),\n",
    "    Method(\"N-Grams (Phenes)\", \"Simple,Words,Linares Pontes,1-grams,Binary,TFIDF\", pw.pairwise_square_ngrams, {\"ids_to_texts\":phenes_linares_pontes, \"metric\":\"cosine\", \"binary\":True, \"analyzer\":\"word\", \"ngram_range\":(1,1), \"max_features\":10000, \"tfidf\":True}, spatial.distance.cosine, tag=\"phenes\"),\n",
    "\n",
    "]"
   ]
  },
  {
   "cell_type": "code",
   "execution_count": null,
   "metadata": {},
   "outputs": [],
   "source": [
    "testing_methods = [\n",
    "    # Curation-based methods\n",
    "    #Method(\"GO\", \"None\", pw.pairwise_square_annotations, {\"ids_to_annotations\":go_annotations, \"ontology\":ontology, \"metric\":\"jaccard\", \"binary\":True, \"analyzer\":\"word\", \"ngram_range\":(1,1), \"tfidf\":False}, spatial.distance.jaccard),\n",
    "    #Method(\"PO\", \"None\", pw.pairwise_square_annotations, {\"ids_to_annotations\":po_annotations, \"ontology\":ontology, \"metric\":\"jaccard\", \"binary\":True, \"analyzer\":\"word\", \"ngram_range\":(1,1), \"tfidf\":False}, spatial.distance.jaccard),\n",
    "    # Phenotype descriptions\n",
    "    Method(\"Doc2Vec\", \"Wikipedia,Size=300\", pw.pairwise_square_doc2vec, {\"model\":doc2vec_wiki_model, \"ids_to_texts\":descriptions, \"metric\":\"cosine\"}, spatial.distance.cosine),\n",
    "    Method(\"Word2Vec\", \"Wikipedia,Size=300,Mean,Nouns,Adjectives\", pw.pairwise_square_word2vec, {\"model\":word2vec_model, \"ids_to_texts\":descriptions_noun_adj_simple_preprocessing, \"metric\":\"cosine\", \"method\":\"mean\"}, spatial.distance.cosine),\n",
    "    #Method(\"BERT\", \"Base:Layers=3,Concatenated\", pw.pairwise_square_bert, {\"model\":bert_model_base, \"tokenizer\":bert_tokenizer_base, \"ids_to_texts\":descriptions, \"metric\":\"cosine\", \"method\":\"concat\", \"layers\":3}, spatial.distance.cosine),\n",
    "    #Method(\"BioBERT\", \"PubMed,PMC,Layers=4,Concatenated\", pw.pairwise_square_bert, {\"model\":bert_model_pubmed_pmc, \"tokenizer\":bert_tokenizer_pubmed_pmc, \"ids_to_texts\":descriptions, \"metric\":\"cosine\", \"method\":\"concat\", \"layers\":4}, spatial.distance.cosine),\n",
    "    #Method(\"N-Grams\", \"Simple,Words,Linares Pontes,1-grams,Binary,TFIDF\", pw.pairwise_square_ngrams, {\"ids_to_texts\":descriptions_linares_pontes, \"metric\":\"cosine\", \"binary\":True, \"analyzer\":\"word\", \"ngram_range\":(1,1), \"max_features\":10000, \"tfidf\":True}, spatial.distance.cosine),\n",
    "    #Method(\"NOBLE Coder\", \"Partial,TFIDF\", pw.pairwise_square_annotations, {\"ids_to_annotations\":annotations_noblecoder_partial, \"ontology\":ontology, \"binary\":True, \"metric\":\"cosine\", \"tfidf\":True}, spatial.distance.cosine),\n",
    "    # Phene descriptions\n",
    "    #Method(\"Doc2Vec (Phenes)\", \"Wikipedia,Size=300\", pw.pairwise_square_doc2vec, {\"model\":doc2vec_wiki_model, \"ids_to_texts\":phenes, \"metric\":\"cosine\"}, spatial.distance.cosine, tag=\"phenes\"),\n",
    "    #Method(\"Word2Vec (Phenes)\", \"Wikipedia,Size=300,Mean,Nouns,Adjectives\", pw.pairwise_square_word2vec, {\"model\":word2vec_model, \"ids_to_texts\":phenes_noun_adj_simple_preprocessing, \"metric\":\"cosine\", \"method\":\"mean\"}, spatial.distance.cosine, tag=\"phenes\"),\n",
    "    #Method(\"N-Grams (Phenes)\", \"Simple,Words,1-grams,Binary,TFIDF\", pw.pairwise_square_ngrams, {\"ids_to_texts\":phenes_full_preprocessing, \"metric\":\"cosine\", \"binary\":True, \"analyzer\":\"word\", \"ngram_range\":(1,1), \"max_features\":10000, \"tfidf\":True}, spatial.distance.cosine, tag=\"phenes\"),\n",
    "]"
   ]
  },
  {
   "cell_type": "code",
   "execution_count": null,
   "metadata": {},
   "outputs": [],
   "source": [
    "methods = [\n",
    "    # Curation-based methods\n",
    "    Method(\"GO\", \"None\", pw.pairwise_square_annotations, {\"ids_to_annotations\":go_annotations, \"ontology\":go, \"metric\":\"jaccard\", \"binary\":True, \"analyzer\":\"word\", \"ngram_range\":(1,1), \"tfidf\":False}, spatial.distance.jaccard),\n",
    "    Method(\"PO\", \"None\", pw.pairwise_square_annotations, {\"ids_to_annotations\":po_annotations, \"ontology\":po, \"metric\":\"jaccard\", \"binary\":True, \"analyzer\":\"word\", \"ngram_range\":(1,1), \"tfidf\":False}, spatial.distance.jaccard),\n",
    "    # Phenotype descriptions\n",
    "    Method(\"Doc2Vec\", \"Wikipedia,Size=300\", pw.pairwise_square_doc2vec, {\"model\":doc2vec_wiki_model, \"ids_to_texts\":descriptions, \"metric\":\"cosine\"}, spatial.distance.cosine),\n",
    "    Method(\"Word2Vec\", \"Wikipedia,Size=300,Mean,Nouns,Adjectives\", pw.pairwise_square_word2vec, {\"model\":word2vec_model, \"ids_to_texts\":descriptions_noun_adj_simple_preprocessing, \"metric\":\"cosine\", \"method\":\"mean\"}, spatial.distance.cosine),\n",
    "    #Method(\"BERT\", \"Base:Layers=4,Concatenated\", pw.pairwise_square_bert, {\"model\":bert_model_base, \"tokenizer\":bert_tokenizer_base, \"ids_to_texts\":descriptions, \"metric\":\"cosine\", \"method\":\"concat\", \"layers\":4}, spatial.distance.cosine),\n",
    "    #Method(\"BioBERT\", \"PubMed,PMC,Layers=4,Concatenated\", pw.pairwise_square_bert, {\"model\":bert_model_pubmed_pmc, \"tokenizer\":bert_tokenizer_pubmed_pmc, \"ids_to_texts\":descriptions, \"metric\":\"cosine\", \"method\":\"concat\", \"layers\":4}, spatial.distance.cosine),\n",
    "    Method(\"N-Grams\", \"Simple,Words,Linares Pontes,1-grams,Binary,TFIDF\", pw.pairwise_square_ngrams, {\"ids_to_texts\":descriptions_linares_pontes, \"metric\":\"cosine\", \"binary\":True, \"analyzer\":\"word\", \"ngram_range\":(1,1), \"max_features\":10000, \"tfidf\":True}, spatial.distance.cosine),\n",
    "    Method(\"N-Grams\", \"Full,Words,1-grams,TFIDF\", pw.pairwise_square_ngrams, {\"ids_to_texts\":descriptions_full_preprocessing, \"metric\":\"cosine\", \"binary\":False, \"analyzer\":\"word\", \"ngram_range\":(1,1), \"max_features\":10000, \"tfidf\":True}, spatial.distance.cosine),\n",
    "    Method(\"NOBLE Coder\", \"Partial,TFIDF\", pw.pairwise_square_annotations, {\"ids_to_annotations\":annotations_noblecoder_partial, \"ontology\":po, \"binary\":True, \"metric\":\"cosine\", \"tfidf\":True}, spatial.distance.cosine),\n",
    "    Method(\"Topic Models\", \"LDA,Full,Topics=100\", pw.pairwise_square_topic_model, {\"ids_to_texts\":descriptions_full_preprocessing, \"metric\":\"cosine\", \"num_topics\":100, \"algorithm\":\"lda\"}, spatial.distance.cosine),\n",
    "    Method(\"Topic Models\", \"NMF,Full,Topics=100\", pw.pairwise_square_topic_model, {\"ids_to_texts\":descriptions_full_preprocessing, \"metric\":\"cosine\", \"num_topics\":100, \"algorithm\":\"nmf\"}, spatial.distance.cosine),\n",
    "]"
   ]
  },
  {
   "cell_type": "markdown",
   "metadata": {},
   "source": [
    "<a id=\"running\"></a>\n",
    "### Running all of the methods to generate distance matrices\n",
    "Notes- Instead of passing in similarity function like cosine distance that will get evaluated for every possible i,j pair of vetors that are created (this is very big when splitting by phenes), don't use a specific similarity function, but instead let the object use a KNN classifier. pass in some limit for k like 100. then the object uses some more efficient (not brute force) algorithm to set the similarity of some vector v to its 100 nearest neighbors as those 100 probabilities, and sets everything else to 0. This would need to be implemented as a matching but separate function from the get_square_matrix_from_vectors thing. And then this would need to be noted in the similarity function that was used for these in the big table of methods. This won't work because the faster (not brute force algorithms) are not for sparse vectors like n-grams, and the non-sparse embeddings aren't really the problem here because those vectors are relatively much short, even when concatenating BERT encoder layers thats only up to around length of ~1000."
   ]
  },
  {
   "cell_type": "code",
   "execution_count": null,
   "metadata": {
    "scrolled": false
   },
   "outputs": [],
   "source": [
    "# Generate all the pairwise distance matrices (not in parallel).\n",
    "graphs = {}\n",
    "names = []\n",
    "durations = []\n",
    "for method in methods:\n",
    "    graph,duration = function_wrapper_with_duration(function=method.function, args=method.kwargs)\n",
    "    graphs[method.name_with_hyperparameters] = graph\n",
    "    names.append(method.name_with_hyperparameters)\n",
    "    durations.append(to_hms(duration))\n",
    "    print(\"{:70} {}\".format(method.name_with_hyperparameters,to_hms(duration)))\n",
    "durations_df = pd.DataFrame({\"method\":names,\"duration\":durations})\n",
    "durations_df.to_csv(os.path.join(OUTPUT_DIR,\"part_4_durations.csv\"), index=False)"
   ]
  },
  {
   "cell_type": "markdown",
   "metadata": {},
   "source": [
    "<a id=\"merging\"></a>\n",
    "### Merging all of the distance matrices into a single dataframe specifying edges\n",
    "This section also handles replacing IDs from the individual methods that are references individual phenes that are part of a larger phenotype, and replacing those IDs with IDs referencing the full phenotypes (one-to-one relationship between phenotypes and genes). In this case, the minimum distance found between any two phenes from those two phenotypes represents the distance between that pair of phenotypes."
   ]
  },
  {
   "cell_type": "code",
   "execution_count": null,
   "metadata": {},
   "outputs": [],
   "source": [
    "# Merging all the edgelists together.\n",
    "metric_dict = {method.name_with_hyperparameters:method.metric for method in methods}\n",
    "tags_dict = {method.name_with_hyperparameters:method.tag for method in methods}\n",
    "names = list(graphs.keys())\n",
    "edgelists = {k:v.edgelist for k,v in graphs.items()}\n",
    "\n",
    "# Modify the edgelists for the methods that were using a phene split.\n",
    "for name,edgelist in edgelists.items():\n",
    "    # Converting phene IDs back to phenotype (gene) IDs where applicable.\n",
    "    if \"phene\" in tags_dict[name]:\n",
    "        edgelist[\"from\"] = edgelist[\"from\"].map(lambda x: phene_id_to_id[x])\n",
    "        edgelist[\"to\"] = edgelist[\"to\"].map(lambda x: phene_id_to_id[x])\n",
    "        edgelist = edgelist.groupby([\"from\",\"to\"], as_index=False).min()\n",
    "    # Making sure the edges are listed with the nodes sorted consistently.\n",
    "    cond = edgelist[\"from\"] > edgelist[\"to\"]\n",
    "    edgelist.loc[cond, ['from', 'to']] = edgelist.loc[cond, ['to', 'from']].values\n",
    "    edgelists[name] = edgelist\n",
    "\n",
    "# Do the merge step and remove self edges from the full dataframe.\n",
    "df = merge_edgelists(edgelists, default_value=1.000)\n",
    "df = remove_self_loops(df)\n",
    "df[\"from\"] = df[\"from\"].astype(\"int64\")\n",
    "df[\"to\"] = df[\"to\"].astype(\"int64\")\n",
    "df.head(20)"
   ]
  },
  {
   "cell_type": "markdown",
   "metadata": {},
   "source": [
    "<a id=\"ensemble\"></a>\n",
    "### Combining multiple distances measurements into summarizing distance values\n",
    "The purpose of this section is to iteratively train models on subsections of the dataset using simple regression or machine learning approaches to predict a value from zero to one indicating indicating how likely is it that two genes share atleast one of the specified groups in common. The information input to these models is the distance scores provided by each method in some set of all the methods used in this notebook. The purpose is to see whether or not a function of these similarity scores specifically trained to the task of predicting common groupings is better able to used the distance metric information to report a score for this task."
   ]
  },
  {
   "cell_type": "code",
   "execution_count": null,
   "metadata": {},
   "outputs": [],
   "source": [
    "# Get the average distance percentile as a means of combining multiple scores.\n",
    "name = \"Mean\"\n",
    "names_to_use_for_mean = [name for name in names if not name in [\"GO:None\",\"PO:None\"]]\n",
    "df[name] = df[names_to_use_for_mean].rank(pct=True).mean(axis=1)\n",
    "names.append(name)\n",
    "df.head(20)"
   ]
  },
  {
   "cell_type": "code",
   "execution_count": null,
   "metadata": {},
   "outputs": [],
   "source": [
    "# Normalizing all of the array representations of the graphs so they can be combined. Then this version of the arrays\n",
    "# should be used by any other cells that need all of the arrays, rather than the arrays accessed from the graph\n",
    "# objects. This is necessary for this analysis because some of the graph objects refer to phene datasets not\n",
    "# phenotype datasets.\n",
    "name_to_array = {}\n",
    "ids = list(descriptions.keys())\n",
    "n = len(descriptions)\n",
    "id_to_array_index = {i:idx for idx,i in enumerate(ids)}\n",
    "array_index_to_id = {idx:i for i,idx in id_to_array_index.items()}\n",
    "for name in names:\n",
    "    print(name)\n",
    "    idx = list(df.columns).index(name)+1\n",
    "    arr = np.ones((n, n))\n",
    "    for row in df.itertuples():\n",
    "        arr[id_to_array_index[row[1]]][id_to_array_index[row[2]]] = row[idx]\n",
    "        arr[id_to_array_index[row[2]]][id_to_array_index[row[1]]] = row[idx]\n",
    "    np.fill_diagonal(arr, 0.000) \n",
    "    name_to_array[name] = arr    "
   ]
  },
  {
   "cell_type": "markdown",
   "metadata": {},
   "source": [
    "### Finding correlations between human and computational approaches for hand-picked phenotype pairs\n",
    "This is only meant to be run in the context of the notebook, and should never be used in the script "
   ]
  },
  {
   "cell_type": "code",
   "execution_count": null,
   "metadata": {},
   "outputs": [],
   "source": [
    "if OBJECTIVE not in (\"phenotypes\", \"pathways\", \"interactions\", \"orthologs\"):\n",
    "    small_table = defaultdict(dict)\n",
    "    for name in names:\n",
    "        values = []\n",
    "        scores = []\n",
    "        for tup,score in pair_to_score.items():\n",
    "            i = id_to_array_index[tup[0]]\n",
    "            j = id_to_array_index[tup[1]]\n",
    "            value = 1 - name_to_array[name][i,j]\n",
    "            values.append(value)\n",
    "            scores.append(score)\n",
    "        rho,pval = spearmanr(values,scores)\n",
    "        small_table[name] = {\"rho\":rho,\"pval\":pval}\n",
    "    pd.DataFrame(small_table).transpose()"
   ]
  },
  {
   "cell_type": "markdown",
   "metadata": {},
   "source": [
    "<a id=\"part_5\"></a>\n",
    "# Part 5. Cluster Analysis\n",
    "The purpose of this section is to look at different ways that the embeddings obtained for the dataset of phenotype descriptions can be used to cluster or organize the genes to which those phenotypes are mapped into subgroups or representations. These approaches include generating topic models from the data, and doing agglomerative clustering to find clusters to which each gene belongs."
   ]
  },
  {
   "cell_type": "code",
   "execution_count": null,
   "metadata": {},
   "outputs": [],
   "source": [
    "# TODO this whole section doesn't really need to be run for the interactions or orthologs objectives, it only applies\n",
    "# to the pathways and phenotypes ones.\n",
    "\n",
    "# Things used by this section\n",
    "if OBJECTIVE == \"phenotypes\":\n",
    "    groups = phe_subsets_groups\n",
    "else:\n",
    "    groups = kegg_groups\n",
    "id_to_group_ids, group_id_to_ids = groups.get_groupings_for_dataset(dataset)"
   ]
  },
  {
   "cell_type": "markdown",
   "metadata": {},
   "source": [
    "<a id=\"topic_modeling\"></a>\n",
    "### Approach 1: Topic modeling based on n-grams with a reduced vocabulary\n",
    "Topic modelling learns a set of word probability distributions from the dataset of text descriptions, which represent distinct topics which are present in the dataset. Each text description can then be represented as a discrete probability distribution over the learned topics based on the probability that a given piece of text belongs to each particular topics. This is a form of data reduction because a high dimensionsal bag-of-words can be represented as a vector of *k* probabilities where *k* is the number of topics. The main advantages of topic modelling over clustering is that topic modelling provides soft classifications that can be additionally interpreted, rather than hard classifications into a single cluster. Topic models are also explainable, because the word probability distributions for that topic can be used to determine which words are most representative of any given topic. One problem with topic modelling is that is uses the n-grams embeddings to semantic similarity between different words is not accounted for. To help alleviate this, this section uses implementations of some existing algorithms to compress the vocabulary as a preprocessing step based on word distance matrices generated using word embeddings.\n",
    "\n",
    "Topic models define topics present in a dataset of texts as word or n-gram probability distributions. These models represent each instance of text then as being composed of or generated as as mixture of these topics. The vector for each text that indicates which fraction of that text is generated by a each topic is of length *n* where *n* is the number of topics, and can be used as a reduced dimensionality of the text, with a much smaller vector length than the n-grams embedding itself. Therefore we can build a topic model of the data with 100 topics for example in order to then represent each description in the dataset as a a vector of length 100. This section constructs topic models from the n-gram representations of the dataset and selects different values for the number of topics in order to find a value that works well during the grid search over the training dataset."
   ]
  },
  {
   "cell_type": "code",
   "execution_count": null,
   "metadata": {
    "scrolled": false
   },
   "outputs": [],
   "source": [
    "# Get a list of texts to create a topic model from, from one of the processed description dictionaries above. \n",
    "texts = [description for i,description in descriptions_linares_pontes.items()]\n",
    "\n",
    "# Creating and fitting the topic model, either NFM or LDA.\n",
    "number_of_topics = 42\n",
    "seed = 0\n",
    "vectorizer = TfidfVectorizer(max_features=10000, stop_words=\"english\", max_df=0.95, min_df=2, lowercase=False)\n",
    "features = vectorizer.fit_transform(texts)\n",
    "cls = NMF(n_components=number_of_topics, random_state=seed)\n",
    "cls.fit(features)\n",
    "\n",
    "# Function for retrieving the topic vectors for a list of text descriptions.\n",
    "def get_topic_embeddings(texts, model, vectorizer):\n",
    "    ngrams_vectors = vectorizer.transform(texts).toarray()\n",
    "    topic_vectors = model.transform(ngrams_vectors)\n",
    "    return(topic_vectors)\n",
    "    \n",
    "# Create the dataframe containing the average score assigned to each topic for the genes from each subset.\n",
    "group_to_topic_vector = {}\n",
    "for group_id,ids in group_id_to_ids.items():\n",
    "    texts = [descriptions_linares_pontes[i] for i in ids]\n",
    "    topic_vectors = get_topic_embeddings(texts, cls, vectorizer)\n",
    "    mean_topic_vector = np.mean(topic_vectors, axis=0)\n",
    "    group_to_topic_vector[group_id] = mean_topic_vector\n",
    "    \n",
    "tm_df = pd.DataFrame(group_to_topic_vector)\n",
    "\n",
    "# Changing the order of the Lloyd, Meinke phenotype subsets to match other figures for consistency.\n",
    "if OBJECTIVE == \"phenotypes\":\n",
    "    filename = \"../data/group_related_files/lloyd/lloyd_function_hierarchy_irb_cleaned.csv\"\n",
    "    lmtm_df = pd.read_csv(filename)    \n",
    "    columns_in_order = [col for col in lmtm_df[\"Subset Symbol\"].values if col in tm_df.columns]\n",
    "    tm_df = tm_df[columns_in_order]\n",
    "    \n",
    "# Reordering so consistency with the curated subsets can be checked by looking at the diagonal.\n",
    "tm_df[\"idxmax\"] = tm_df.idxmax(axis = 1)\n",
    "tm_df[\"idxmax\"] = tm_df[\"idxmax\"].apply(lambda x: tm_df.columns.get_loc(x))\n",
    "tm_df = tm_df.sort_values(by=\"idxmax\")\n",
    "tm_df.drop(columns=[\"idxmax\"], inplace=True)\n",
    "tm_df = tm_df.reset_index(drop=False).rename({\"index\":\"topic\"},axis=1).reset_index(drop=False).rename({\"index\":\"order\"},axis=1)\n",
    "tm_df.to_csv(os.path.join(OUTPUT_DIR,\"part_5_topic_modeling.csv\"), index=False)\n",
    "tm_df"
   ]
  },
  {
   "cell_type": "code",
   "execution_count": null,
   "metadata": {
    "scrolled": false
   },
   "outputs": [],
   "source": [
    "# Describing what the most representative tokens for each topic in the model are.\n",
    "num_top_words = 2\n",
    "feature_names = vectorizer.get_feature_names()\n",
    "for i,topic_vec in enumerate(cls.components_):\n",
    "    print(i,end=\": \")\n",
    "    for fid in topic_vec.argsort()[-1:-num_top_words-1:-1]:\n",
    "        word = feature_names[fid]\n",
    "        word = \" \".join(unreduce_lp[word])\n",
    "        print(word, end=\" \")\n",
    "    print()"
   ]
  },
  {
   "cell_type": "markdown",
   "metadata": {},
   "source": [
    "<a id=\"clustering\"></a>\n",
    "### Approach 2: Agglomerative clustering and comparison to predefined groups\n",
    "This clustering approach uses agglomerative clustering to cluster the genes into a fixed number of clusters based off the distances between their embedding representations using all of the above methods. Clustering into a fixed number of clusters allows for clustering into a similar number of groups as a present in some existing grouping of the data, such as phenotype categories or biochemical pathways, and then determining if the clusters obtained are at all similar to the groupings that already exist."
   ]
  },
  {
   "cell_type": "code",
   "execution_count": null,
   "metadata": {
    "scrolled": false
   },
   "outputs": [],
   "source": [
    "# Generate the numpy array where values are mean distance percentiles between all the methods.\n",
    "mean_pct_array = name_to_array[\"Mean\"]\n",
    "to_id = array_index_to_id\n",
    "\n",
    "# Do agglomerative clustering based on that distance matrix.\n",
    "number_of_clusters = 42\n",
    "ac = AgglomerativeClustering(n_clusters=number_of_clusters, linkage=\"complete\", affinity=\"precomputed\")\n",
    "clustering = ac.fit(mean_pct_array)\n",
    "id_to_cluster = {}\n",
    "cluster_to_ids = defaultdict(list)\n",
    "for idx,c in enumerate(clustering.labels_):\n",
    "    id_to_cluster[to_id[idx]] = c\n",
    "    cluster_to_ids[c].append(to_id[idx])"
   ]
  },
  {
   "cell_type": "code",
   "execution_count": null,
   "metadata": {
    "scrolled": false
   },
   "outputs": [],
   "source": [
    "# Create the dataframe containing the average score assigned to each topic for the genes from each subset.\n",
    "group_to_cluster_vector = {}\n",
    "for group_id,ids in group_id_to_ids.items():\n",
    "    \n",
    "    mean_cluster_vector = np.zeros(number_of_clusters)\n",
    "    for i in ids:\n",
    "        cluster = id_to_cluster[i]\n",
    "        mean_cluster_vector[cluster] = mean_cluster_vector[cluster]+1\n",
    "    mean_cluster_vector = mean_cluster_vector/mean_cluster_vector.sum(axis=0,keepdims=1)\n",
    "    group_to_cluster_vector[group_id] = mean_cluster_vector\n",
    "    \n",
    "ac_df = pd.DataFrame(group_to_cluster_vector)\n",
    "\n",
    "# Changing the order of the Lloyd, Meinke phenotype subsets to match other figures for consistency.\n",
    "if OBJECTIVE == \"phenotypes\":\n",
    "    filename = \"../data/group_related_files/lloyd/lloyd_function_hierarchy_irb_cleaned.csv\"\n",
    "    lmtm_df = pd.read_csv(filename)    \n",
    "    columns_in_order = [col for col in lmtm_df[\"Subset Symbol\"].values if col in tm_df.columns]\n",
    "    tm_df = tm_df[columns_in_order]\n",
    "\n",
    "# Reordering so consistency with the curated subsets can be checked by looking at the diagonal.\n",
    "ac_df[\"idxmax\"] = ac_df.idxmax(axis = 1)\n",
    "ac_df[\"idxmax\"] = ac_df[\"idxmax\"].apply(lambda x: ac_df.columns.get_loc(x))\n",
    "ac_df = ac_df.sort_values(by=\"idxmax\")\n",
    "ac_df.drop(columns=[\"idxmax\"], inplace=True)\n",
    "ac_df = ac_df.reset_index(drop=False).rename({\"index\":\"cluster\"},axis=1).reset_index(drop=False).rename({\"index\":\"order\"},axis=1)\n",
    "ac_df.to_csv(os.path.join(OUTPUT_DIR,\"part_5_agglomerative_clustering.csv\"), index=False)\n",
    "ac_df"
   ]
  },
  {
   "cell_type": "markdown",
   "metadata": {},
   "source": [
    "<a id=\"phenologs\"></a>\n",
    "### Approach 3: Looking for phenolog relationships between clusters and OMIM disease phenotypes\n",
    "This section produces a table of values that provides a score for the a particular pair of a cluster found for this dataset of plant genes and a disease phenotype. Currently the value indicates the fraction of the plant genes in that cluster that have orthologs associated with that disease phenotype. This should be replaced or supplemented with a p-value for evaluating the significance of this value given the distribution of genes and their mappings to all of the disease phenotypes. All the rows from the input dataframe containing the PantherDB and OMIM information where the ID from this dataset is not known or the mapping to a phenotype was unsuccessful are removed at this step, fix this if the metric for evaluating cluster to phenotype phenolog mappings need this information."
   ]
  },
  {
   "cell_type": "code",
   "execution_count": null,
   "metadata": {
    "scrolled": true
   },
   "outputs": [],
   "source": [
    "# Read in the dataframe mapping plant genes --> human orthologs --> disease phenotypes.\n",
    "omim_df = pd.read_csv(panther_to_omim_filename)\n",
    "# Add a column that indicates which ID in the dataset those plant genes refer to, for mapping to phenotypes.\n",
    "name_to_id = dataset.get_name_to_id_dictionary()\n",
    "omim_df[\"id\"] = omim_df[\"gene_identifier\"].map(lambda x: name_to_id.get(x,None))\n",
    "omim_df = omim_df.dropna(subset=[\"id\",\"phenotype_mim_name\"], inplace=False)\n",
    "omim_df[\"phenotype_mim_name\"] = omim_df[\"phenotype_mim_name\"].astype(str)\n",
    "omim_df[\"compressed_phenotype_mim_name\"] = omim_df[\"phenotype_mim_name\"].map(lambda x: x.split(\",\")[0])\n",
    "omim_df[\"id\"] = omim_df[\"id\"].astype(\"int64\")\n",
    "omim_df[\"phenotype_mim_number\"] = omim_df[\"phenotype_mim_number\"].astype(\"int64\")\n",
    "# Generate mappings between the IDs in this dataset and disease phenotypes or orthologous genes.\n",
    "id_to_mim_phenotype_names = defaultdict(list)\n",
    "for i,p in zip(omim_df[\"id\"].values,omim_df[\"compressed_phenotype_mim_name\"].values):\n",
    "    id_to_mim_phenotype_names[i].append(p)\n",
    "id_to_human_gene_symbols = defaultdict(list)\n",
    "for i,s in zip(omim_df[\"id\"].values,omim_df[\"human_ortholog_gene_symbol\"].values):\n",
    "    id_to_human_gene_symbols[i].append(s)\n",
    "omim_df.head(5)"
   ]
  },
  {
   "cell_type": "code",
   "execution_count": null,
   "metadata": {},
   "outputs": [],
   "source": [
    "# How many genes in our dataset map to orthologs that map to the same OMIM phenotype?\n",
    "omim_df.groupby(\"compressed_phenotype_mim_name\").size()"
   ]
  },
  {
   "cell_type": "code",
   "execution_count": null,
   "metadata": {
    "scrolled": true
   },
   "outputs": [],
   "source": [
    "phenolog_x_dict = defaultdict(dict)\n",
    "phenolog_p_dict = defaultdict(dict)\n",
    "candidate_genes_dict = defaultdict(dict)\n",
    "phenotypes = pd.unique(omim_df[\"compressed_phenotype_mim_name\"].values)\n",
    "clusters = list(cluster_to_ids.keys())\n",
    "for cluster,phenotype in itertools.product(clusters,phenotypes):\n",
    "    \n",
    "    # What are the candidate genes predicted if this phenolog pairing is real?\n",
    "    ids = cluster_to_ids[cluster]\n",
    "    candidate_genes_dict[cluster][phenotype] = list(set(flatten([id_to_human_gene_symbols[i] for i in ids if phenotype not in id_to_mim_phenotype_names.get(i,[])])))\n",
    "\n",
    "    # What is the p-value for this phenolog pairing?\n",
    "    # The size of the population (genes in the dataset).\n",
    "    M = len(id_to_cluster.keys())\n",
    "    # The number of elements we draw without replacement (genes in the cluster).\n",
    "    N = len(cluster_to_ids[cluster])     \n",
    "    # The number of available successes in the population (genes that map to orthologs that map to this phenotype).\n",
    "    n = len([i for i in id_to_cluster.keys() if phenotype in id_to_mim_phenotype_names.get(i,[])])\n",
    "    # The number of successes drawn (genes in this cluster that map to orthologs that map to this phenotype).\n",
    "    x = list(set(flatten([id_to_mim_phenotype_names.get(i,[]) for i in ids]))).count(phenotype)\n",
    "    prob = 1-hypergeom.cdf(x-1, M, n, N) # Equivalent to prob = 1-sum([hypergeom.pmf(x_i, M, n, N) for x_i in range(0,x)])\n",
    "    phenolog_x_dict[cluster][phenotype] = x\n",
    "    phenolog_p_dict[cluster][phenotype] = prob\n",
    "    \n",
    "\n",
    "# Convert the dictionary to a table of values with cluster and phenotype as the rows and columns.\n",
    "phenolog_matrix = pd.DataFrame(phenolog_x_dict)        \n",
    "phenolog_matrix.head(5)"
   ]
  },
  {
   "cell_type": "code",
   "execution_count": null,
   "metadata": {
    "scrolled": false
   },
   "outputs": [],
   "source": [
    "# Produce a melted version of the phenolog matrix sorted by value and including predicted candidate genes.\n",
    "phenolog_matrix_reset = phenolog_matrix.reset_index(drop=False).rename({\"index\":\"omim_phenotype_name\"}, axis=\"columns\")\n",
    "phenolog_df = pd.melt(phenolog_matrix_reset, id_vars=[\"omim_phenotype_name\"], value_vars=phenolog_matrix.columns[1:], var_name=\"cluster\", value_name=\"x\")\n",
    "# What other information should be present in this melted phenologs matrix?\n",
    "phenolog_df[\"size\"] = phenolog_df[\"cluster\"].map(lambda x: len(cluster_to_ids[x]))\n",
    "phenolog_df[\"candidate_gene_symbols\"] = np.vectorize(lambda x,y: concatenate_with_bar_delim(*candidate_genes_dict[x][y]))(phenolog_df[\"cluster\"], phenolog_df[\"omim_phenotype_name\"])\n",
    "phenolog_df[\"p_value\"] = np.vectorize(lambda x,y: phenolog_p_dict[x][y])(phenolog_df[\"cluster\"], phenolog_df[\"omim_phenotype_name\"])\n",
    "phenolog_df[\"p_adjusted\"] = multipletests(phenolog_df[\"p_value\"].values, method='bonferroni')[1]\n",
    "phenolog_df.sort_values(by=[\"p_value\"], inplace=True, ascending=True)\n",
    "phenolog_df = phenolog_df[[\"omim_phenotype_name\", \"cluster\", \"size\", \"x\", \"p_value\", \"p_adjusted\", \"candidate_gene_symbols\"]]\n",
    "phenolog_df.to_csv(os.path.join(OUTPUT_DIR,\"part_5_phenologs.csv\"), index=False)\n",
    "phenolog_df.head(30)"
   ]
  },
  {
   "cell_type": "markdown",
   "metadata": {},
   "source": [
    "### Approach 4: Agglomerative clustering and sillhouette scores for each NLP method"
   ]
  },
  {
   "cell_type": "code",
   "execution_count": null,
   "metadata": {
    "scrolled": false
   },
   "outputs": [],
   "source": [
    "from sklearn.metrics.cluster import silhouette_score\n",
    "# Note that homogeneity scores don't fit for evaluating how close the clustering is to pathway membership, etc.\n",
    "# This is because genes can be assigned to more than one pathway, metric would have to be changed to account for this.\n",
    "# So all this section does is determines which values of n_clusters provide good clustering results for each matrix.\n",
    "n_clusters_silhouette_scores = defaultdict(dict)\n",
    "min_n_clusters = 20\n",
    "max_n_clusters = 80\n",
    "step_size = 4\n",
    "number_of_clusters = np.arange(min_n_clusters, max_n_clusters, step_size)\n",
    "for n in number_of_clusters:\n",
    "    for name in names:\n",
    "        distance_matrix = name_to_array[name]\n",
    "        #to_id = array_index_to_id\n",
    "        ac = AgglomerativeClustering(n_clusters=n, linkage=\"complete\", affinity=\"precomputed\")\n",
    "        clustering = ac.fit(distance_matrix)\n",
    "        sil_score = silhouette_score(distance_matrix, clustering.labels_, metric=\"precomputed\")\n",
    "        n_clusters_silhouette_scores[name][n] = sil_score\n",
    "sil_df = pd.DataFrame(n_clusters_silhouette_scores).reset_index(drop=False).rename({\"index\":\"n\"},axis=\"columns\")\n",
    "sil_df.to_csv(os.path.join(OUTPUT_DIR,\"part_5_silhouette_scores_by_n.csv\"), index=False)\n",
    "sil_df.head(10)"
   ]
  },
  {
   "cell_type": "markdown",
   "metadata": {},
   "source": [
    "<a id=\"part_6\"></a>\n",
    "# Part 6. Supervised Tasks"
   ]
  },
  {
   "cell_type": "markdown",
   "metadata": {},
   "source": [
    "<a id=\"merging\"></a>\n",
    "### Option 1: Merging in the previously curated similarity values from the Oellrich, Walls et al. (2015) dataset\n",
    "This section reads in a file that contains the previously calculated distance values from the Oellrich, Walls et al. (2015) dataset, and merges it with the values which are obtained here for all of the applicable natural language processing or machine learning methods used, so that the graphs which are specified by these sets of distances values can be evaluated side by side in the subsequent sections."
   ]
  },
  {
   "cell_type": "code",
   "execution_count": null,
   "metadata": {
    "scrolled": false
   },
   "outputs": [],
   "source": [
    "if CURATED_SUBSET:\n",
    "    \n",
    "    # Add a column that indicates the distance estimated using curated EQ statements.\n",
    "    df = df.merge(right=pppn_edgelist.df, how=\"left\", on=[\"from\",\"to\"])\n",
    "    df.fillna(value=0.000,inplace=True)\n",
    "    df.rename(columns={\"value\":\"EQs\"}, inplace=True)\n",
    "    df[\"EQs\"] = 1-df[\"EQs\"]\n",
    "    names.append(\"EQs\")\n",
    "\n",
    "df.head(10)"
   ]
  },
  {
   "cell_type": "markdown",
   "metadata": {},
   "source": [
    "### Option 2: Merging with information about shared biochemical pathways or groups\n",
    "The relevant information for each edge includes questions like whether or not the two genes that edge connects share a group or biochemical pathway in common, or if those genes are from the same species. This information can then later be used as the target values for predictive models, or for filtering the graphs represented by these edge lists. Either the grouping information or the protein-protein interaction information should be used."
   ]
  },
  {
   "cell_type": "code",
   "execution_count": null,
   "metadata": {
    "scrolled": true
   },
   "outputs": [],
   "source": [
    "if OBJECTIVE == \"phenotypes\":\n",
    "    \n",
    "    # Column indicating whether or not the two genes share this features (e.g., pathway in common, same group).\n",
    "    df[\"shared\"] = df[[\"from\",\"to\"]].apply(lambda x: len(set(id_to_group_ids[x[\"from\"]]).intersection(set(id_to_group_ids[x[\"to\"]])))>0, axis=1)*1\n",
    "    # Column indicating whether the two genes are from the same species.\n",
    "    species_dict = dataset.get_species_dictionary()\n",
    "    df[\"same\"] = df[[\"from\",\"to\"]].apply(lambda x: species_dict[x[\"from\"]]==species_dict[x[\"to\"]],axis=1)*1\n",
    "    print(Counter(df[\"shared\"].values))\n",
    "    print(Counter(df[\"same\"].values))\n",
    "    \n",
    "df.head(10)"
   ]
  },
  {
   "cell_type": "code",
   "execution_count": null,
   "metadata": {},
   "outputs": [],
   "source": [
    "if OBJECTIVE == \"pathways\":\n",
    "    \n",
    "    # Combine the ID to pathway ID mappings for both KEGG And PlantCyc for this task.\n",
    "    id_to_kegg_group_ids, kegg_group_id_to_ids = kegg_groups.get_groupings_for_dataset(dataset)\n",
    "    id_to_pmn_group_ids, pmn_group_id_to_ids = pmn_groups.get_groupings_for_dataset(dataset)\n",
    "    id_to_group_ids = {i:flatten([id_to_kegg_group_ids[i],id_to_pmn_group_ids[i]]) for i in dataset.get_ids()}\n",
    "    \n",
    "    # Column indicating whether or not the two genes share this features (e.g., pathway in common, same group).\n",
    "    df[\"shared\"] = df[[\"from\",\"to\"]].apply(lambda x: len(set(id_to_group_ids[x[\"from\"]]).intersection(set(id_to_group_ids[x[\"to\"]])))>0, axis=1)*1\n",
    "    # Column indicating whether the two genes are from the same species.\n",
    "    species_dict = dataset.get_species_dictionary()\n",
    "    df[\"same\"] = df[[\"from\",\"to\"]].apply(lambda x: species_dict[x[\"from\"]]==species_dict[x[\"to\"]],axis=1)*1\n",
    "    print(Counter(df[\"shared\"].values))\n",
    "    print(Counter(df[\"same\"].values))\n",
    "    \n",
    "df.head(10)"
   ]
  },
  {
   "cell_type": "markdown",
   "metadata": {},
   "source": [
    "### Option 3: Merging with information about protein-protein interactions"
   ]
  },
  {
   "cell_type": "code",
   "execution_count": null,
   "metadata": {},
   "outputs": [],
   "source": [
    "if OBJECTIVE == \"interactions\":\n",
    "    # Merging information from the protein-protein interaction database with this dataset.\n",
    "    df = df.merge(right=string_data.df, how=\"left\", on=[\"from\",\"to\"])\n",
    "    df.fillna(value=0,inplace=True)\n",
    "    df[\"shared\"] = (df[\"combined_score\"] != 0.00)*1\n",
    "    species_dict = dataset.get_species_dictionary()\n",
    "    df[\"same\"] = df[[\"from\",\"to\"]].apply(lambda x: species_dict[x[\"from\"]]==species_dict[x[\"to\"]],axis=1)*1\n",
    "    print(Counter(df[\"shared\"].values))\n",
    "    print(Counter(df[\"same\"].values))\n",
    "df.head(10)"
   ]
  },
  {
   "cell_type": "markdown",
   "metadata": {},
   "source": [
    "### Option 4: Merging with information about orthologous genes"
   ]
  },
  {
   "cell_type": "code",
   "execution_count": null,
   "metadata": {},
   "outputs": [],
   "source": [
    "if OBJECTIVE == \"orthologs\":\n",
    "    # Merging information from the protein-protein interaction database with this dataset.\n",
    "    df = df.merge(right=ortholog_edgelist.df, how=\"left\", on=[\"from\",\"to\"])\n",
    "    df.fillna(value=0,inplace=True)\n",
    "    df[\"shared\"] = (df[\"value\"] != 0.00)*1\n",
    "    species_dict = dataset.get_species_dictionary()\n",
    "    df[\"same\"] = df[[\"from\",\"to\"]].apply(lambda x: species_dict[x[\"from\"]]==species_dict[x[\"to\"]],axis=1)*1\n",
    "    print(Counter(df[\"shared\"].values))\n",
    "    print(Counter(df[\"same\"].values))\n",
    "df.head(10)"
   ]
  },
  {
   "cell_type": "markdown",
   "metadata": {},
   "source": [
    "### Checking to make sure that the number of genes and pairs matches what is expected at this point"
   ]
  },
  {
   "cell_type": "code",
   "execution_count": null,
   "metadata": {},
   "outputs": [],
   "source": [
    "# Sanity check for the number of genes and positive and negative pairs that are being used here. Matches table?\n",
    "\n",
    "# How many genes are being used and how many pairs are being used as instances?\n",
    "num_genes = len(set(df[\"from\"].values).union(set(df[\"to\"].values)))\n",
    "num_pairs_calc = int(((num_genes**2)-num_genes)/2)\n",
    "num_pairs_used = df.shape[0]\n",
    "#assert num_pairs_calc == num_pairs_used\n",
    "\n",
    "# What is the class representation?\n",
    "shared = Counter(df[\"shared\"].values)\n",
    "num_positives = shared[1]\n",
    "num_negatives = shared[0]\n",
    "assert num_pairs_used == num_positives+num_negatives\n",
    "\n",
    "# Write the values that were tested to a file so they could be read later.\n",
    "tested_values = {\"genes\":num_genes,\n",
    "                 \"pairs_calc\":num_pairs_calc,\n",
    "                 \"pairs_used\":num_pairs_used,\n",
    "                 \"pos\":num_positives,\n",
    "                 \"neg\":num_negatives,\n",
    "                }\n",
    "with open(os.path.join(OUTPUT_DIR,\"part_6_asserts.txt\"), \"w\") as f:\n",
    "    f.write(str(tested_values))"
   ]
  },
  {
   "cell_type": "markdown",
   "metadata": {},
   "source": [
    "<a id=\"ks\"></a>\n",
    "### Do the edges joining genes that share a group, pathway, or interaction come from a different distribution?\n",
    "The purpose of this section is to visualize kernel estimates for the distributions of distance or similarity scores generated by each of the methods tested for measuring semantic similarity or generating vector representations of the phenotype descriptions. Ideally, better methods should show better separation betwene the distributions for distance values between two genes involved in a common specified group or two genes that are not. Additionally, a statistical test is used to check whether these two distributions are significantly different from each other or not, although this is a less informative measure than the other tests used in subsequent sections, because it does not address how useful these differences in the distributions actually are for making predictions about group membership."
   ]
  },
  {
   "cell_type": "code",
   "execution_count": null,
   "metadata": {
    "scrolled": true
   },
   "outputs": [],
   "source": [
    "# Use Kolmogorov-Smirnov test to see if edges between genes that share a group come from a distinct distribution.\n",
    "ppi_pos_dict = {name:(df[df[\"shared\"] > 0.00][name].values) for name in names}\n",
    "ppi_neg_dict = {name:(df[df[\"shared\"] == 0.00][name].values) for name in names}\n",
    "for name in names:\n",
    "    stat,p = ks_2samp(ppi_pos_dict[name],ppi_neg_dict[name])\n",
    "    pos_mean = np.average(ppi_pos_dict[name])\n",
    "    neg_mean = np.average(ppi_neg_dict[name])\n",
    "    pos_n = len(ppi_pos_dict[name])\n",
    "    neg_n = len(ppi_neg_dict[name])\n",
    "    TABLE[name].update({\"mean_1\":pos_mean, \"mean_0\":neg_mean, \"n_1\":pos_n, \"n_0\":neg_n})\n",
    "    TABLE[name].update({\"ks\":stat, \"ks_pval\":p})\n",
    "    \n",
    "    \n",
    "# Show the kernel estimates for each distribution of weights for each method.\n",
    "#num_plots, plots_per_row, row_width, row_height = (len(names), 4, 14, 3)\n",
    "#fig,axs = plt.subplots(math.ceil(num_plots/plots_per_row), plots_per_row, squeeze=False)\n",
    "#for name,ax in zip(names,axs.flatten()):\n",
    "#    ax.set_title(name)\n",
    "#    ax.set_xlabel(\"value\")\n",
    "#    ax.set_ylabel(\"density\")\n",
    "#    sns.kdeplot(ppi_pos_dict[name], color=\"black\", shade=False, alpha=1.0, ax=ax)\n",
    "#    sns.kdeplot(ppi_neg_dict[name], color=\"black\", shade=True, alpha=0.1, ax=ax) \n",
    "#fig.set_size_inches(row_width, row_height*math.ceil(num_plots/plots_per_row))\n",
    "#fig.tight_layout()\n",
    "#fig.savefig(os.path.join(OUTPUT_DIR,\"part_6_kernel_density.png\"),dpi=400)\n",
    "#plt.close()"
   ]
  },
  {
   "cell_type": "markdown",
   "metadata": {},
   "source": [
    "<a id=\"within\"></a>\n",
    "### Looking at within-group or within-pathway distances in each graph\n",
    "The purpose of this section is to determine which methods generated graphs which tightly group genes which share common pathways or group membership with one another. In order to compare across different methods where the distance value distributions are different, the mean distance values for each group for each method are convereted to percentile scores. Lower percentile scores indicate that the average distance value between any two genes that belong to that group is lower than most of the distance values in the entire distribution for that method."
   ]
  },
  {
   "cell_type": "code",
   "execution_count": null,
   "metadata": {
    "scrolled": true
   },
   "outputs": [],
   "source": [
    "if OBJECTIVE in (\"pathways\", \"phenotypes\"):\n",
    "    \n",
    "    # Get all the average within-pathway phenotype distance values for each method for each particular pathway.\n",
    "    group_id_to_ids = groups.get_group_id_to_ids_dict(dataset.get_gene_dictionary())\n",
    "    group_ids = list(group_id_to_ids.keys())\n",
    "    graph = IndexedGraph(df)\n",
    "    within_weights_dict = defaultdict(lambda: defaultdict(list))\n",
    "    within_percentiles_dict = defaultdict(lambda: defaultdict(list))\n",
    "    all_weights_dict = {}\n",
    "    for name in names:\n",
    "        all_weights_dict[name] = df[name].values\n",
    "        for group in group_ids:\n",
    "            within_ids = group_id_to_ids[group]\n",
    "            within_pairs = [(i,j) for i,j in itertools.permutations(within_ids,2)]\n",
    "            mean_weight = np.mean((graph.get_values(within_pairs, kind=name)))\n",
    "            within_weights_dict[name][group] = mean_weight\n",
    "            within_percentiles_dict[name][group] = stats.percentileofscore(df[name].values, mean_weight, kind=\"rank\")\n",
    "\n",
    "    # Generating a dataframe of percentiles of the mean in-group distance scores.\n",
    "    within_dist_data = pd.DataFrame(within_percentiles_dict)\n",
    "    within_dist_data = within_dist_data.dropna(axis=0, inplace=False)\n",
    "    within_dist_data = within_dist_data.round(4)\n",
    "\n",
    "    # Adding relevant information to this dataframe and saving.\n",
    "    within_dist_data[\"mean_rank\"] = within_dist_data.rank().mean(axis=1)\n",
    "    within_dist_data[\"mean_percentile\"] = within_dist_data.mean(axis=1)\n",
    "    within_dist_data.sort_values(by=\"mean_percentile\", inplace=True)\n",
    "    within_dist_data.reset_index(inplace=True)\n",
    "    within_dist_data[\"group_id\"] = within_dist_data[\"index\"]\n",
    "    within_dist_data[\"full_name\"] = within_dist_data[\"group_id\"].apply(lambda x: groups.get_long_name(x))\n",
    "    within_dist_data[\"n\"] = within_dist_data[\"group_id\"].apply(lambda x: len(group_id_to_ids[x]))\n",
    "    within_dist_data = within_dist_data[flatten([\"group_id\",\"full_name\",\"n\",\"mean_percentile\",\"mean_rank\",names])]\n",
    "    within_dist_data.to_csv(os.path.join(OUTPUT_DIR,\"part_6_within_distances.csv\"), index=False)\n",
    "    within_dist_data.head(5)"
   ]
  },
  {
   "cell_type": "code",
   "execution_count": null,
   "metadata": {},
   "outputs": [],
   "source": [
    "# Need to check a version that doesn't use the Indexing thing.\n"
   ]
  },
  {
   "cell_type": "markdown",
   "metadata": {},
   "source": [
    "<a id=\"auc\"></a>\n",
    "### Predicting whether two genes belong to the same group, pathway, or share an interaction\n",
    "The purpose of this section is to see if whether or not two genes share atleast one common pathway can be predicted from the distance scores assigned using analysis of text similarity. The evaluation of predictability is done by reporting a precision and recall curve for each method, as well as remembering the area under the curve, and ratio between the area under the curve and the baseline (expected area when guessing randomly) for each method."
   ]
  },
  {
   "cell_type": "code",
   "execution_count": null,
   "metadata": {},
   "outputs": [],
   "source": [
    "def bootstrap(fraction, num_iterations, y_true, y_prob):\n",
    "    # Run the desired number of bootstrap iterations over the full population of predictions and return st devs.\n",
    "    scores = pd.DataFrame([bootstrap_iteration(fraction, y_true, y_prob) for i in range(num_iterations)])\n",
    "    standard_deviations = {\n",
    "        \"f_1_max_std\": np.std(scores[\"f_1_max\"].values),\n",
    "        \"f_2_max_std\": np.std(scores[\"f_2_max\"].values),\n",
    "        \"f_point5_max_std\": np.std(scores[\"f_point5_max\"].values)}\n",
    "    return(standard_deviations)\n",
    "\n",
    "\n",
    "def bootstrap_iteration(fraction, y_true, y_prob):\n",
    "    assert len(y_true) == len(y_prob)\n",
    "    # Subset the total population of predictions using the provided fraction.\n",
    "    num_predictions = len(y_true)\n",
    "    bootstrapping_fraction = fraction\n",
    "    num_to_retain = int(np.ceil(num_predictions*bootstrapping_fraction))\n",
    "    idx = np.random.choice(np.arange(num_predictions), num_to_retain, replace=False)\n",
    "    y_true_sample = y_true[idx]\n",
    "    y_prob_sample = y_prob[idx]\n",
    "    \n",
    "    # Calculate any desired metrics using just that subset.\n",
    "    n_pos, n_neg = Counter(y_true_sample)[1], Counter(y_true_sample)[0]\n",
    "    precision, recall, thresholds = precision_recall_curve(y_true_sample, y_prob_sample)\n",
    "    baseline = Counter(y_true_sample)[1]/len(y_true_sample) \n",
    "    area = auc(recall, precision)\n",
    "    auc_to_baseline_auc_ratio = area/baseline\n",
    "    \n",
    "    # Find the maximum Fß score for different values of ß.  \n",
    "    f_beta = lambda pr,re,beta: [((1+beta**2)*p*r)/((((beta**2)*p)+r)) for p,r in zip(pr,re)]\n",
    "    f_1_scores = f_beta(precision,recall,beta=1)\n",
    "    f_2_scores = f_beta(precision,recall,beta=2)\n",
    "    f_point5_scores = f_beta(precision,recall,beta=0.5)\n",
    "    \n",
    "    # Create a dictionary of those metric values to return.\n",
    "    scores={\"f_1_max\":np.nanmax(f_1_scores),\"f_2_max\":np.nanmax(f_2_scores),\"f_point5_max\":np.nanmax(f_point5_scores)}\n",
    "    return(scores)"
   ]
  },
  {
   "cell_type": "code",
   "execution_count": null,
   "metadata": {
    "scrolled": true
   },
   "outputs": [],
   "source": [
    "y_true_dict = {name:df[\"shared\"].values for name in names}       #just added .values here...\n",
    "y_prob_dict = {name:(1 - df[name].values) for name in names}\n",
    "num_plots, plots_per_row, row_width, row_height = (len(names), 4, 14, 3)\n",
    "fig,axs = plt.subplots(math.ceil(num_plots/plots_per_row), plots_per_row, squeeze=False)\n",
    "for name,ax in zip(names, axs.flatten()):\n",
    "    \n",
    "    # Obtaining the values and metrics.\n",
    "    y_true, y_prob = y_true_dict[name], y_prob_dict[name]\n",
    "    n_pos, n_neg = Counter(y_true)[1], Counter(y_true)[0]\n",
    "    precision, recall, thresholds = precision_recall_curve(y_true, y_prob)\n",
    "    baseline_auc = Counter(y_true)[1]/len(y_true) \n",
    "    area = auc(recall, precision)\n",
    "    auc_to_baseline_auc_ratio = area/baseline_auc\n",
    "    # The baseline F1 max has a precision of the ratio of positives to all samples and a recall of 1.\n",
    "    # This is because a random classifier achieves that precision at all recall values, so recall is maximized to\n",
    "    # find the maximum F1 value that can be expected due to random chance.\n",
    "    baseline_f1_max = (2*baseline_auc*1)/(baseline_auc+1)\n",
    "    TABLE[name].update({\"auc\":area,\"ratio\":auc_to_baseline_auc_ratio, \"baseline\":baseline_f1_max, })\n",
    "    \n",
    "    # Find the maximum Fß score for different values of ß.  \n",
    "    f_beta = lambda pr,re,beta: [((1+beta**2)*p*r)/((((beta**2)*p)+r)) for p,r in zip(pr,re)]\n",
    "    f_1_scores = f_beta(precision,recall,beta=1)\n",
    "    f_2_scores = f_beta(precision,recall,beta=2)\n",
    "    f_point5_scores = f_beta(precision,recall,beta=0.5)\n",
    "    f_1_max, f_1_std = np.nanmax(f_1_scores), np.std(f_1_scores)\n",
    "    f_2_max, f_2_std = np.nanmax(f_2_scores), np.std(f_2_scores)\n",
    "    f_point5_max, f_point5_std = np.nanmax(f_point5_scores), np.std(f_point5_scores)\n",
    "    \n",
    "    # Find the standard deviation of each metric when subsampling the dataset of predictions for each method.\n",
    "    bootstrap_fraction = 0.5\n",
    "    bootstrap_iterations = 2\n",
    "    bootstrapped_std_dict = bootstrap(bootstrap_fraction, bootstrap_iterations, y_true, y_prob)\n",
    "    \n",
    "    TABLE[name].update({\"f1_max\":f_1_max, \"f5_max\":f_point5_max, \"f2_max\":f_2_max})\n",
    "    #TABLE[name].update({\"f1_std\":f_1_std, \"f5_std\":f_point5_std, \"f2_std\":f_2_std})\n",
    "    TABLE[name].update({\"f1_std\":bootstrapped_std_dict[\"f_1_max_std\"], \n",
    "                        \"f5_std\":bootstrapped_std_dict[\"f_point5_max_std\"], \n",
    "                        \"f2_std\":bootstrapped_std_dict[\"f_2_max_std\"]}) \n",
    "    \n",
    "    # Producing the precision recall curve.\n",
    "    step_kwargs = ({'step': 'post'} if 'step' in signature(plt.fill_between).parameters else {})\n",
    "    ax.step(recall, precision, color='black', alpha=0.2, where='post')\n",
    "    ax.fill_between(recall, precision, alpha=0.7, color='black', **step_kwargs)\n",
    "    ax.axhline(baseline_auc, linestyle=\"--\", color=\"lightgray\")\n",
    "    ax.set_xlabel('Recall')\n",
    "    ax.set_ylabel('Precision')\n",
    "    ax.set_ylim([0.0, 1.05])\n",
    "    ax.set_xlim([0.0, 1.0])\n",
    "    ax.set_title(\"PR {0} (Baseline={1:0.3f})\".format(name, baseline_auc))\n",
    "    \n",
    "fig.set_size_inches(row_width, row_height*math.ceil(num_plots/plots_per_row))\n",
    "fig.tight_layout()\n",
    "fig.savefig(os.path.join(OUTPUT_DIR,\"part_6_prcurve_shared.png\"),dpi=400)\n",
    "plt.close()"
   ]
  },
  {
   "cell_type": "markdown",
   "metadata": {},
   "source": [
    "<a id=\"y\"></a>\n",
    "### Are genes in the same group or pathway ranked higher with respect to individual nodes?\n",
    "This is a way of statistically seeing if for some value k, the graph ranks more edges from some particular gene to any other gene that it has a true protein-protein interaction with higher or equal to rank k, than we would expect due to random chance. This way of looking at the problem helps to be less ambiguous than the previous methods, because it gets at the core of how this would actually be used. In other words, we don't really care how much true information we're missing as long as we're still able to pick up some new useful information by building these networks, so even though we could be missing a lot, what's going on at the very top of the results? These results should be comparable to very strictly thresholding the network and saying that the remaining edges are our guesses at interactions. This is comparable to just looking at the far left-hand side of the precision recall curves, but just quantifies it slightly differently."
   ]
  },
  {
   "cell_type": "code",
   "execution_count": null,
   "metadata": {
    "scrolled": true
   },
   "outputs": [],
   "source": [
    "# When the edgelist is generated above, only the lower triangle of the pairwise matrix is retained for edges in the \n",
    "# graph. This means that in terms of the indices of each node, only the (i,j) node is listed in the edge list where\n",
    "# i is less than j. This makes sense because the graph that's specified is assumed to already be undirected. However\n",
    "# in order to be able to easily subset the edgelist by a single column to obtain rows that correspond to all edges\n",
    "# connected to a particular node, this method will double the number of rows to include both (i,j) and (j,i) edges.\n",
    "df = make_undirected(df)\n",
    "\n",
    "# What's the number of functional partners ranked k or higher in terms of phenotypic description similarity for \n",
    "# each gene? Also figure out the maximum possible number of functional partners that could be theoretically\n",
    "# recovered in this dataset if recovered means being ranked as k or higher here.\n",
    "k = 10      # The threshold of interest for gene ranks.\n",
    "n = 100     # Number of Monte Carlo simulation iterations to complete.\n",
    "df[list(names)] = df.groupby(\"from\")[list(names)].rank()\n",
    "ys = df[df[\"shared\"]==1][list(names)].apply(lambda s: len([x for x in s if x<=k]))\n",
    "ymax = sum(df.groupby(\"from\")[\"shared\"].apply(lambda s: min(len([x for x in s if x==1]),k)))\n",
    "\n",
    "# Monte Carlo simulation to see what the probability is of achieving each y-value by just randomly pulling k \n",
    "# edges for each gene rather than taking the top k ones that the similarity methods specifies when ranking.\n",
    "ysims = [sum(df.groupby(\"from\")[\"shared\"].apply(lambda s: len([x for x in s.sample(k) if x>0.00]))) for i in range(n)]\n",
    "for name in names:\n",
    "    pvalue = len([ysim for ysim in ysims if ysim>=ys[name]])/float(n)\n",
    "    TABLE[name].update({\"y\":ys[name], \"y_max\":ymax, \"y_ratio\":ys[name]/ymax, \"y_pval\":pvalue})"
   ]
  },
  {
   "cell_type": "markdown",
   "metadata": {},
   "source": [
    "<a id=\"mean\"></a>\n",
    "### Predicting biochemical pathway or group membership based on mean vectors\n",
    "This section looks at how well the biochemical pathways that a particular gene is a member of can be predicted based on the similarity between the vector representation of the phenotype descriptions for that gene and the average vector for all the vector representations of phenotypes asociated with genes that belong to that particular pathway. In calculating the average vector for a given biochemical pathway, the vector corresponding to the gene that is currently being classified is not accounted for, to avoid overestimating the performance by including information about the ground truth during classification. This leads to missing information in the case of biochemical pathways that have only one member. This can be accounted for by only limiting the overall dataset to only include genes that belong to pathways that have atleast two genes mapped to them, and only including those pathways, or by removing the missing values before calculating the performance metrics below."
   ]
  },
  {
   "cell_type": "code",
   "execution_count": null,
   "metadata": {
    "scrolled": true
   },
   "outputs": [],
   "source": [
    "# Get the list of methods to look at, and a mapping between each method and the correct similarity metric to apply.\n",
    "# vector_dicts = {k:v.vector_dictionary for k,v in graphs.items()}\n",
    "# names = list(vector_dicts.keys())\n",
    "# group_id_to_ids = groups.get_group_id_to_ids_dict(dataset.get_gene_dictionary())\n",
    "# valid_group_ids = [group for group,id_list in group_id_to_ids.items() if len(id_list)>1]\n",
    "# valid_ids = [i for i in dataset.get_ids() if len(set(valid_group_ids).intersection(set(id_to_group_ids[i])))>0]\n",
    "# pred_dict = defaultdict(lambda: defaultdict(dict))\n",
    "# true_dict = defaultdict(lambda: defaultdict(dict))\n",
    "# for name in names:\n",
    "#     for group in valid_group_ids:\n",
    "#         ids = group_id_to_ids[group]\n",
    "#         for identifier in valid_ids:\n",
    "#             # What's the mean vector of this group, without this particular one that we're trying to classify.\n",
    "#             vectors = np.array([vector_dicts[name][some_id] for some_id in ids if not some_id==identifier])\n",
    "#             mean_vector = vectors.mean(axis=0)\n",
    "#             this_vector = vector_dicts[name][identifier]\n",
    "#             pred_dict[name][identifier][group] = 1-metric_dict[name](mean_vector, this_vector)\n",
    "#             true_dict[name][identifier][group] = (identifier in group_id_to_ids[group])*1                "
   ]
  },
  {
   "cell_type": "code",
   "execution_count": null,
   "metadata": {
    "scrolled": true
   },
   "outputs": [],
   "source": [
    "# num_plots, plots_per_row, row_width, row_height = (len(names), 4, 14, 3)\n",
    "# fig,axs = plt.subplots(math.ceil(num_plots/plots_per_row), plots_per_row, squeeze=False)\n",
    "# for name,ax in zip(names, axs.flatten()):\n",
    "#     \n",
    "#     # Obtaining the values and metrics.\n",
    "#     y_true = pd.DataFrame(true_dict[name]).as_matrix().flatten()\n",
    "#     y_prob = pd.DataFrame(pred_dict[name]).as_matrix().flatten()\n",
    "#     n_pos, n_neg = Counter(y_true)[1], Counter(y_true)[0]\n",
    "#     precision, recall, thresholds = precision_recall_curve(y_true, y_prob)\n",
    "#     baseline = Counter(y_true)[1]/len(y_true) \n",
    "#     area = auc(recall, precision)\n",
    "#     auc_to_baseline_auc_ratio = area/baseline\n",
    "#     TABLE[name].update({\"mean_auc\":area, \"mean_baseline\":baseline, \"mean_ratio\":auc_to_baseline_auc_ratio})\n",
    "# \n",
    "#     # Producing the precision recall curve.\n",
    "#     step_kwargs = ({'step': 'post'} if 'step' in signature(plt.fill_between).parameters else {})\n",
    "#     ax.step(recall, precision, color='black', alpha=0.2, where='post')\n",
    "#     ax.fill_between(recall, precision, alpha=0.7, color='black', **step_kwargs)\n",
    "#     ax.axhline(baseline, linestyle=\"--\", color=\"lightgray\")\n",
    "#     ax.set_xlabel('Recall')\n",
    "#     ax.set_ylabel('Precision')\n",
    "#     ax.set_ylim([0.0, 1.05])\n",
    "#     ax.set_xlim([0.0, 1.0])\n",
    "#     ax.set_title(\"PR {0} (Baseline={1:0.3f})\".format(name[:10], baseline))\n",
    "#     \n",
    "# fig.set_size_inches(row_width, row_height*math.ceil(num_plots/plots_per_row))\n",
    "# fig.tight_layout()\n",
    "# fig.savefig(os.path.join(OUTPUT_DIR,\"part_6_prcurve_mean_classifier.png\"),dpi=400)\n",
    "# plt.close()"
   ]
  },
  {
   "cell_type": "markdown",
   "metadata": {},
   "source": [
    "### Predicting biochemical pathway membership based on mean similarity values\n",
    "This section looks at how well the biochemical pathways that a particular gene is a member of can be predicted based on the average similarity between the vector representationt of the phenotype descriptions for that gene and each of the vector representations for other phenotypes associated with genes that belong to that particular pathway. In calculating the average similarity to other genes from a given biochemical pathway, the gene that is currently being classified is not accounted for, to avoid overestimating the performance by including information about the ground truth during classification. This leads to missing information in the case of biochemical pathways that have only one member. This can be accounted for by only limiting the overall dataset to only include genes that belong to pathways that have atleast two genes mapped to them, and only including those pathways, or by removing the missing values before calculating the performance metrics below."
   ]
  },
  {
   "cell_type": "markdown",
   "metadata": {},
   "source": [
    "### Predicting biochemical pathway or group membership with KNN classifier\n",
    "This section looks at how well the group(s) or biochemical pathway(s) that a particular gene belongs to can be predicted based on a KNN classifier generated using every other gene. For this section, only the groups or pathways which contain more than one gene, and the genes mapped to those groups or pathways, are of interest. This is because for other genes, if we consider them then it will be true that that gene belongs to that group in the target vector, but the KNN classifier could never predict this because when that gene is held out, nothing could provide a vote for that group, because there are zero genes available to be members of the K nearest neighbors."
   ]
  },
  {
   "cell_type": "markdown",
   "metadata": {},
   "source": [
    "<a id=\"output\"></a>\n",
    "### Summarizing the results for this notebook\n",
    "Write a large table of results to an output file. Columns are generally metrics and rows are generally methods."
   ]
  },
  {
   "cell_type": "code",
   "execution_count": null,
   "metadata": {
    "scrolled": false
   },
   "outputs": [],
   "source": [
    "results = pd.DataFrame(TABLE).transpose()\n",
    "columns = flatten([\"Hyperparameters\",\"Group\",\"Order\",\"Objective\",\"Curated\",results.columns])\n",
    "results[\"Hyperparameters\"] = \"\"\n",
    "results[\"Group\"] = \"NLP\"\n",
    "results[\"Order\"] = np.arange(results.shape[0])\n",
    "results[\"Objective\"] = OBJECTIVE.lower()\n",
    "results[\"Curated\"] = str(CURATED_SUBSET).lower()\n",
    "results = results[columns]\n",
    "results.reset_index(inplace=True)\n",
    "results = results.rename({\"index\":\"Method\"}, axis=\"columns\")\n",
    "hyperparam_sep = \":\"\n",
    "results[\"Hyperparameters\"] = results[\"Method\"].map(lambda x: x.split(hyperparam_sep)[1] if hyperparam_sep in x else \"None\")\n",
    "results[\"Method\"] = results[\"Method\"].map(lambda x: x.split(hyperparam_sep)[0])\n",
    "results.to_csv(os.path.join(OUTPUT_DIR,\"part_6_full_table.csv\"), index=False)\n",
    "results"
   ]
  }
 ],
 "metadata": {
  "kernelspec": {
   "display_name": "Python 3",
   "language": "python",
   "name": "python3"
  },
  "language_info": {
   "codemirror_mode": {
    "name": "ipython",
    "version": 3
   },
   "file_extension": ".py",
   "mimetype": "text/x-python",
   "name": "python",
   "nbconvert_exporter": "python",
   "pygments_lexer": "ipython3",
   "version": "3.6.10"
  }
 },
 "nbformat": 4,
 "nbformat_minor": 2
}
