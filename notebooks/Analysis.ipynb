{
 "cells": [
  {
   "cell_type": "markdown",
   "metadata": {},
   "source": [
    "## Table of Contents\n",
    "\n",
    "- [Introduction](#part1)\n",
    "\n",
    "- [Loading Data](#2)\n",
    "    - [Dataset of text descriptions](#3) (Gene names and identifiers associated with phenotype descriptions and ontology term annotations)\n",
    "    - [Dataset of groups or categories](#4) (Other sources of data, such as STRING and KEGG)\n",
    "    - [Relating the datasets](#5) (Creating mappings between genes and their mentions in external datasets)\n",
    "    - [Filtering the datasets](#6)\n",
    "    \n",
    "- [Loading Models](#part7)\n",
    "    - [Why use embedding models?]()\n",
    "    - [BERT and BioBERT]()\n",
    "    - [Word2Vec and Doc2Vec]()\n",
    "    \n",
    "- [NLP Choices](#part8)\n",
    "    - [Creating vocabularies](#part9) (Learning relevant words from ontology descriptions or text corpora)\n",
    "    - [POS Tagging]() (Filtering words in descriptions to only include nouns or adjectives)\n",
    "    - [Preprocessing descriptions]() (Choosing options specific to each type of vectorization or embedding method)\n",
    "    - [Annotating descriptions]() (Running annotation tools and drawing from high-confidence curated annotations)\n",
    "    \n",
    "- [Building a Distance Matrix]()\n",
    "    - [Defining a list of methods to use]()\n",
    "    - [Running each method]()\n",
    "    - [Adding additional information]()\n",
    "    - [Something else]()\n",
    "- [Analysis]()\n",
    "    - [Looking at differences in the distributions for each method]()\n",
    "    - [Looking at the AUC for each method for predicting class]()\n",
    "    - [Looking at some other test statistics based on querying]()\n",
    "    - [Putting together the full output table of metrics]()\n",
    "    "
   ]
  },
  {
   "cell_type": "markdown",
   "metadata": {},
   "source": [
    "### Text mining analysis and network analysis of the Oellrich, Walls et al., (2015) dataset\n",
    "The purpose of this notebook is to evaluate the phenotype similarity network based off of hand-curated EQ statement annotations with GO, PO, PATO, and ChEBI terms with regards to how well this network clusters phenotypes related to genes which have known protein-protein interactions, have biochemical pathways in common, or are involved in common phenotype groupings. These properties of this network are compared against these properties in networks constructed from the same data but using natural language processing and machine learning approaches to evaluating text similarity, as well as combinations of these approaches using higher level models. Output from this notebook is saved with naming conventions according to when the notebook was run, and all outputs are saved as images or tables in CSV format.\n",
    "\n",
    "The purpose of this notebook is to answer the question of how networks genereated using phenotypic-text similarity based approaches through either embedding, vocabulary presence, or ontology annotation compare to or relate to networks that specify known protein-protein interactions. The hypothesis that these networks are potentially related is based on the idea that if two proteins interact, they are likely to be acting in a common pathway with a common biological function. If the phenotypic outcome of this pathway is observable and documented, then similarites between text describing the mutant phenotype for these genes may coincide with direct protein-protein interactions. The different sections in this notebook correspond to different ways of determining if the graphs based on similarity between text descriptions, encodings of text descriptions, or annotations derived from text descriptions at all correspond to known protein-protein interactions in this dataset. The knowledge source about the protein-protein interactions for genes in this dataset is the STRING database. The available entries in the whole dataset are subset to include only the genes that correspond to proteins that are atleast mentioned in the STRING database. This ways if a protein-protein interaction is not specified between two of the remaining genes, it is not because no interactions at all are documented either of those genes. The following cells focus on setting up a dataframe which specifies edge lists specific to each similarity method, and also a protein-protein interaction score for the genes which correspond to those two given nodes in the graphs."
   ]
  },
  {
   "cell_type": "code",
   "execution_count": 6,
   "metadata": {},
   "outputs": [
    {
     "data": {
      "text/plain": [
       "True"
      ]
     },
     "execution_count": 6,
     "metadata": {},
     "output_type": "execute_result"
    }
   ],
   "source": [
    "import datetime\n",
    "import nltk\n",
    "import matplotlib.pyplot as plt\n",
    "import matplotlib as mpl\n",
    "import seaborn as sns\n",
    "import pandas as pd\n",
    "import numpy as np\n",
    "import time\n",
    "import math\n",
    "import sys\n",
    "import gensim\n",
    "import os\n",
    "import warnings\n",
    "import torch\n",
    "import itertools\n",
    "import multiprocessing as mp\n",
    "from collections import Counter, defaultdict\n",
    "from inspect import signature\n",
    "from scipy.stats import ks_2samp\n",
    "from sklearn.metrics import precision_recall_curve, f1_score, auc\n",
    "from sklearn.model_selection import train_test_split, KFold\n",
    "from scipy import spatial, stats\n",
    "from nltk.corpus import brown\n",
    "from nltk.tokenize import word_tokenize\n",
    "from sklearn.neighbors import KNeighborsClassifier\n",
    "from pytorch_pretrained_bert import BertTokenizer, BertModel, BertForMaskedLM\n",
    "from gensim.parsing.preprocessing import strip_non_alphanum, stem_text\n",
    "from gensim.parsing.preprocessing import preprocess_string\n",
    "from gensim.utils import simple_preprocess\n",
    "from gensim.parsing.preprocessing import remove_stopwords\n",
    "\n",
    "sys.path.append(\"../../oats\")\n",
    "from oats.utils.utils import save_to_pickle, load_from_pickle, merge_list_dicts, flatten, to_hms\n",
    "from oats.datasets.dataset import Dataset\n",
    "from oats.datasets.groupings import Groupings\n",
    "from oats.annotation.ontology import Ontology\n",
    "from oats.datasets.string import String\n",
    "from oats.datasets.edges import Edges\n",
    "from oats.annotation.annotation import annotate_using_noble_coder\n",
    "from oats.graphs import pairwise as pw\n",
    "from oats.graphs.indexed import IndexedGraph\n",
    "from oats.graphs.models import train_logistic_regression_model, apply_logistic_regression_model\n",
    "from oats.graphs.models import train_random_forest_model, apply_random_forest_model\n",
    "from oats.nlp.vocabulary import get_overrepresented_tokens, build_vocabulary_from_tokens\n",
    "from oats.utils.utils import function_wrapper_with_duration\n",
    "from oats.nlp.preprocess import concatenate_with_bar_delim\n",
    "\n",
    "mpl.rcParams[\"figure.dpi\"] = 400\n",
    "warnings.simplefilter('ignore')\n",
    "pd.set_option('display.max_rows', 500)\n",
    "pd.set_option('display.max_columns', 500)\n",
    "pd.set_option('display.width', 1000)\n",
    "nltk.download('punkt', quiet=True)\n",
    "nltk.download('brown', quiet=True)\n",
    "nltk.download('averaged_perceptron_tagger', quiet=True)"
   ]
  },
  {
   "cell_type": "markdown",
   "metadata": {},
   "source": [
    "<a id=\"part1\"></a>\n",
    "### Setting up the output table and input and output filepaths\n",
    "This section defines some constants which are used for creating a uniquely named directory to contain all the outputs from running this instance of this notebook. The naming scheme is based on the time that the notebook is run. The other constants are used for specifying information in the output table about what the topic was for this notebook when it was run, such as looking at KEGG biochemical pathways or STRING protein-protein interaction data some other type of gene function grouping or hierarchy. These values are arbitrary and are just for keeping better notes about what the output of the notebook corresponds to. All the input and output file paths for loading datasets or models are also contained within this cell, so that if anything is moved the directories and file names should only have to be changed at this point and nowhere else further into the notebook. If additional files are added to the notebook cells they should be put here as well."
   ]
  },
  {
   "cell_type": "code",
   "execution_count": 29,
   "metadata": {},
   "outputs": [],
   "source": [
    "# The summarizing output dictionary has the shape TABLE[method][metric] --> value.\n",
    "TOPIC = \"Biochemical Pathways\"\n",
    "DATA = \"Filtered\"\n",
    "TABLE = defaultdict(dict)\n",
    "OUTPUT_DIR = os.path.join(\"../outputs\",datetime.datetime.now().strftime('%m_%d_%Y_h%Hm%Ms%S'))\n",
    "os.mkdir(OUTPUT_DIR)"
   ]
  },
  {
   "cell_type": "code",
   "execution_count": 30,
   "metadata": {},
   "outputs": [],
   "source": [
    "dataset_filename = \"../data/pickles/text_plus_annotations_dataset.pickle\"        # The full dataset pickle.\n",
    "groupings_filename = \"../data/pickles/pmn_pathways.pickle\"                      # The groupings pickle.\n",
    "background_corpus_filename = \"../data/corpus_related_files/untagged_text_corpora/background.txt\"       # Text file with background content.\n",
    "phenotypes_corpus_filename = \"../data/corpus_related_files/untagged_text_corpora/phenotypes_small.txt\" # Text file with specific content.\n",
    "doc2vec_pubmed_filename = \"../gensim/pubmed_dbow/doc2vec_2.bin\"                  # File holding saved Doc2Vec model.\n",
    "doc2vec_wikipedia_filename = \"../gensim/enwiki_dbow/doc2vec.bin\"                 # File holding saved Doc2Vec model.\n",
    "word2vec_model_filename = \"../gensim/wiki_sg/word2vec.bin\"                       # File holding saved Word2Vec model.\n",
    "ontology_filename = \"../ontologies/mo.obo\"                                       # Ontology file in OBO format.\n",
    "noblecoder_jarfile_path = \"../lib/NobleCoder-1.0.jar\"                            # Jar for NOBLE Coder tool.\n",
    "biobert_pmc_path = \"../gensim/biobert_v1.0_pmc/pytorch_model\"                    # Path for PyTorch BioBERT model.\n",
    "biobert_pubmed_path = \"../gensim/biobert_v1.0_pubmed/pytorch_model\"              # Path for PyTorch BioBERT model.\n",
    "biobert_pubmed_pmc_path = \"../gensim/biobert_v1.0_pubmed_pmc/pytorch_model\"      # Path for PyTorch BioBERT model."
   ]
  },
  {
   "cell_type": "markdown",
   "metadata": {},
   "source": [
    "<a id=\"2\"></a>\n",
    "### Reading in the dataset of genes and their associated phenotype descriptions and annotations"
   ]
  },
  {
   "cell_type": "code",
   "execution_count": 32,
   "metadata": {},
   "outputs": [
    {
     "name": "stdout",
     "output_type": "stream",
     "text": [
      "Number of rows in the dataframe: 30169\n",
      "Number of unique IDs:            30169\n",
      "Number of unique descriptions:   4566\n",
      "Number of unique gene name sets: 30169\n",
      "Number of species represented:   6\n",
      "Number of rows in the dataframe: 7563\n",
      "Number of unique IDs:            7563\n",
      "Number of unique descriptions:   4565\n",
      "Number of unique gene name sets: 7563\n",
      "Number of species represented:   6\n",
      "Number of rows in the dataframe: 7563\n",
      "Number of unique IDs:            7563\n",
      "Number of unique descriptions:   4565\n",
      "Number of unique gene name sets: 7563\n",
      "Number of species represented:   6\n"
     ]
    },
    {
     "data": {
      "text/html": [
       "<div>\n",
       "<style scoped>\n",
       "    .dataframe tbody tr th:only-of-type {\n",
       "        vertical-align: middle;\n",
       "    }\n",
       "\n",
       "    .dataframe tbody tr th {\n",
       "        vertical-align: top;\n",
       "    }\n",
       "\n",
       "    .dataframe thead th {\n",
       "        text-align: right;\n",
       "    }\n",
       "</style>\n",
       "<table border=\"1\" class=\"dataframe\">\n",
       "  <thead>\n",
       "    <tr style=\"text-align: right;\">\n",
       "      <th></th>\n",
       "      <th>id</th>\n",
       "      <th>species</th>\n",
       "      <th>gene_names</th>\n",
       "      <th>description</th>\n",
       "      <th>term_ids</th>\n",
       "    </tr>\n",
       "  </thead>\n",
       "  <tbody>\n",
       "    <tr>\n",
       "      <th>0</th>\n",
       "      <td>0</td>\n",
       "      <td>ath</td>\n",
       "      <td>YI</td>\n",
       "      <td>yellowish flower buds; yellow-gray sharp leaves.</td>\n",
       "      <td>GO:0005575|GO:0008150|GO:0003674</td>\n",
       "    </tr>\n",
       "    <tr>\n",
       "      <th>1</th>\n",
       "      <td>1</td>\n",
       "      <td>ath</td>\n",
       "      <td>AT1G42470|AtNPC1 - 1|Niemann-Pick disease type...</td>\n",
       "      <td>Extreme dwarfism and male gametophyte defect (...</td>\n",
       "      <td>GO:0005886|GO:0009506|PO:0000013|PO:0000037|PO...</td>\n",
       "    </tr>\n",
       "    <tr>\n",
       "      <th>2</th>\n",
       "      <td>2</td>\n",
       "      <td>ath</td>\n",
       "      <td>AT1G41740</td>\n",
       "      <td>Reduced fertility due to defects in meiosis. L...</td>\n",
       "      <td></td>\n",
       "    </tr>\n",
       "    <tr>\n",
       "      <th>3</th>\n",
       "      <td>3</td>\n",
       "      <td>ath</td>\n",
       "      <td>AT1G35670|CDPK2|ATCDPK2|CPK11|ATCPK11|calcium-...</td>\n",
       "      <td>More susceptible to bacterial pathogen Pst DC3...</td>\n",
       "      <td>GO:0005515|GO:0004672|GO:0046777|GO:0080092|GO...</td>\n",
       "    </tr>\n",
       "    <tr>\n",
       "      <th>4</th>\n",
       "      <td>4</td>\n",
       "      <td>ath</td>\n",
       "      <td>AT1G35620|PDIL5-2|ATPDIL5-2|ATPDI8|PDI8|PDI-li...</td>\n",
       "      <td>The mutant shows ABA insensitivity in stomatal...</td>\n",
       "      <td>GO:0005774|GO:0009505|GO:0005783|GO:0009506|PO...</td>\n",
       "    </tr>\n",
       "    <tr>\n",
       "      <th>5</th>\n",
       "      <td>5</td>\n",
       "      <td>ath</td>\n",
       "      <td>AT1G35560|TCP23|AtTCP23|TCP domain protein 23|...</td>\n",
       "      <td>Increased blade length, blade width, blade per...</td>\n",
       "      <td>GO:0048510|GO:0005634|PO:0000013|PO:0000037|PO...</td>\n",
       "    </tr>\n",
       "    <tr>\n",
       "      <th>6</th>\n",
       "      <td>6</td>\n",
       "      <td>ath</td>\n",
       "      <td>AT1G35520</td>\n",
       "      <td>no obvious auxin-related growth phenotype.</td>\n",
       "      <td></td>\n",
       "    </tr>\n",
       "    <tr>\n",
       "      <th>7</th>\n",
       "      <td>7</td>\n",
       "      <td>ath</td>\n",
       "      <td>AT1G35240</td>\n",
       "      <td>no obvious auxin-related growth phenotype.</td>\n",
       "      <td></td>\n",
       "    </tr>\n",
       "    <tr>\n",
       "      <th>8</th>\n",
       "      <td>8</td>\n",
       "      <td>ath</td>\n",
       "      <td>AT1G34670|MYB93|AtMYB93|myb domain protein 93|...</td>\n",
       "      <td>Significantly higher lateral root density than...</td>\n",
       "      <td>GO:0009751|GO:0009737|GO:0009733|PO:0009005|PO...</td>\n",
       "    </tr>\n",
       "    <tr>\n",
       "      <th>9</th>\n",
       "      <td>9</td>\n",
       "      <td>ath</td>\n",
       "      <td>AT1G34410</td>\n",
       "      <td>no obvious auxin-related growth phenotype.</td>\n",
       "      <td></td>\n",
       "    </tr>\n",
       "  </tbody>\n",
       "</table>\n",
       "</div>"
      ],
      "text/plain": [
       "   id species                                         gene_names                                        description                                           term_ids\n",
       "0   0     ath                                                 YI   yellowish flower buds; yellow-gray sharp leaves.                   GO:0005575|GO:0008150|GO:0003674\n",
       "1   1     ath  AT1G42470|AtNPC1 - 1|Niemann-Pick disease type...  Extreme dwarfism and male gametophyte defect (...  GO:0005886|GO:0009506|PO:0000013|PO:0000037|PO...\n",
       "2   2     ath                                          AT1G41740  Reduced fertility due to defects in meiosis. L...                                                   \n",
       "3   3     ath  AT1G35670|CDPK2|ATCDPK2|CPK11|ATCPK11|calcium-...  More susceptible to bacterial pathogen Pst DC3...  GO:0005515|GO:0004672|GO:0046777|GO:0080092|GO...\n",
       "4   4     ath  AT1G35620|PDIL5-2|ATPDIL5-2|ATPDI8|PDI8|PDI-li...  The mutant shows ABA insensitivity in stomatal...  GO:0005774|GO:0009505|GO:0005783|GO:0009506|PO...\n",
       "5   5     ath  AT1G35560|TCP23|AtTCP23|TCP domain protein 23|...  Increased blade length, blade width, blade per...  GO:0048510|GO:0005634|PO:0000013|PO:0000037|PO...\n",
       "6   6     ath                                          AT1G35520         no obvious auxin-related growth phenotype.                                                   \n",
       "7   7     ath                                          AT1G35240         no obvious auxin-related growth phenotype.                                                   \n",
       "8   8     ath  AT1G34670|MYB93|AtMYB93|myb domain protein 93|...  Significantly higher lateral root density than...  GO:0009751|GO:0009737|GO:0009733|PO:0009005|PO...\n",
       "9   9     ath                                          AT1G34410         no obvious auxin-related growth phenotype.                                                   "
      ]
     },
     "execution_count": 32,
     "metadata": {},
     "output_type": "execute_result"
    }
   ],
   "source": [
    "dataset = load_from_pickle(dataset_filename)\n",
    "dataset.describe()\n",
    "dataset.filter_by_species(\"ath\")\n",
    "dataset.filter_has_description()\n",
    "dataset.filter_has_annotation()\n",
    "dataset.describe()\n",
    "dataset.filter_has_annotation(\"GO\")\n",
    "dataset.filter_has_annotation(\"PO\")\n",
    "dataset.describe()\n",
    "dataset.to_pandas().head(10)"
   ]
  },
  {
   "cell_type": "markdown",
   "metadata": {},
   "source": [
    "<a id=\"3\"></a>\n",
    "### Reading in the dataset of groupings, pathways, or some other kind of categorization"
   ]
  },
  {
   "cell_type": "code",
   "execution_count": 25,
   "metadata": {},
   "outputs": [
    {
     "name": "stdout",
     "output_type": "stream",
     "text": [
      "Number of groups present for each species\n",
      "  ath: 627\n",
      "  zma: 565\n",
      "  mtr: 520\n",
      "  osa: 569\n",
      "  gmx: 618\n",
      "  sly: 524\n",
      "Number of genes names mapped to any group for each species\n",
      "  ath: 9959\n",
      "  zma: 14319\n",
      "  mtr: 14100\n",
      "  osa: 12156\n",
      "  gmx: 20677\n",
      "  sly: 13232\n"
     ]
    },
    {
     "data": {
      "text/html": [
       "<div>\n",
       "<style scoped>\n",
       "    .dataframe tbody tr th:only-of-type {\n",
       "        vertical-align: middle;\n",
       "    }\n",
       "\n",
       "    .dataframe tbody tr th {\n",
       "        vertical-align: top;\n",
       "    }\n",
       "\n",
       "    .dataframe thead th {\n",
       "        text-align: right;\n",
       "    }\n",
       "</style>\n",
       "<table border=\"1\" class=\"dataframe\">\n",
       "  <thead>\n",
       "    <tr style=\"text-align: right;\">\n",
       "      <th></th>\n",
       "      <th>species</th>\n",
       "      <th>pathway_id</th>\n",
       "      <th>pathway_name</th>\n",
       "      <th>gene_names</th>\n",
       "      <th>ec_number</th>\n",
       "    </tr>\n",
       "  </thead>\n",
       "  <tbody>\n",
       "    <tr>\n",
       "      <th>0</th>\n",
       "      <td>ath</td>\n",
       "      <td>PWY-5272</td>\n",
       "      <td>abscisic acid degradation by glucosylation</td>\n",
       "      <td>at1g52400-monomer|abscisic acid glucose ester ...</td>\n",
       "      <td>EC-3.2.1.175</td>\n",
       "    </tr>\n",
       "    <tr>\n",
       "      <th>1</th>\n",
       "      <td>ath</td>\n",
       "      <td>PWY-5272</td>\n",
       "      <td>abscisic acid degradation by glucosylation</td>\n",
       "      <td>at4g15550-monomer|abscisate &amp;beta;-glucosyltra...</td>\n",
       "      <td>EC-2.4.1.263</td>\n",
       "    </tr>\n",
       "    <tr>\n",
       "      <th>2</th>\n",
       "      <td>ath</td>\n",
       "      <td>PWY-5272</td>\n",
       "      <td>abscisic acid degradation by glucosylation</td>\n",
       "      <td>at4g15260-monomer|abscisate &amp;beta;-glucosyltra...</td>\n",
       "      <td>EC-2.4.1.263</td>\n",
       "    </tr>\n",
       "    <tr>\n",
       "      <th>3</th>\n",
       "      <td>ath</td>\n",
       "      <td>PWY-5272</td>\n",
       "      <td>abscisic acid degradation by glucosylation</td>\n",
       "      <td>at3g21790-monomer|abscisate &amp;beta;-glucosyltra...</td>\n",
       "      <td>EC-2.4.1.263</td>\n",
       "    </tr>\n",
       "    <tr>\n",
       "      <th>4</th>\n",
       "      <td>ath</td>\n",
       "      <td>PWY-5272</td>\n",
       "      <td>abscisic acid degradation by glucosylation</td>\n",
       "      <td>at3g21760-monomer|abscisate &amp;beta;-glucosyltra...</td>\n",
       "      <td>EC-2.4.1.263</td>\n",
       "    </tr>\n",
       "    <tr>\n",
       "      <th>5</th>\n",
       "      <td>ath</td>\n",
       "      <td>PWY-5272</td>\n",
       "      <td>abscisic acid degradation by glucosylation</td>\n",
       "      <td>at2g23210-monomer|abscisate &amp;beta;-glucosyltra...</td>\n",
       "      <td>EC-2.4.1.263</td>\n",
       "    </tr>\n",
       "    <tr>\n",
       "      <th>6</th>\n",
       "      <td>ath</td>\n",
       "      <td>PWY-5272</td>\n",
       "      <td>abscisic acid degradation by glucosylation</td>\n",
       "      <td>at1g05530-monomer|abscisic acid glucosyltransf...</td>\n",
       "      <td>EC-2.4.1.263</td>\n",
       "    </tr>\n",
       "    <tr>\n",
       "      <th>7</th>\n",
       "      <td>ath</td>\n",
       "      <td>PWY-5272</td>\n",
       "      <td>abscisic acid degradation by glucosylation</td>\n",
       "      <td>at1g05560-monomer|abscisic acid glucosyltransf...</td>\n",
       "      <td>EC-2.4.1.263</td>\n",
       "    </tr>\n",
       "    <tr>\n",
       "      <th>8</th>\n",
       "      <td>ath</td>\n",
       "      <td>PWY-5272</td>\n",
       "      <td>abscisic acid degradation by glucosylation</td>\n",
       "      <td>at4g34138-monomer|abscisic acid glucosyltransf...</td>\n",
       "      <td>EC-2.4.1.263</td>\n",
       "    </tr>\n",
       "    <tr>\n",
       "      <th>9</th>\n",
       "      <td>ath</td>\n",
       "      <td>PWY-5272</td>\n",
       "      <td>abscisic acid degradation by glucosylation</td>\n",
       "      <td>at2g23250-monomer|abscisic acid glucosyltransf...</td>\n",
       "      <td>EC-2.4.1.263</td>\n",
       "    </tr>\n",
       "  </tbody>\n",
       "</table>\n",
       "</div>"
      ],
      "text/plain": [
       "  species pathway_id                                pathway_name                                         gene_names     ec_number\n",
       "0     ath   PWY-5272  abscisic acid degradation by glucosylation  at1g52400-monomer|abscisic acid glucose ester ...  EC-3.2.1.175\n",
       "1     ath   PWY-5272  abscisic acid degradation by glucosylation  at4g15550-monomer|abscisate &beta;-glucosyltra...  EC-2.4.1.263\n",
       "2     ath   PWY-5272  abscisic acid degradation by glucosylation  at4g15260-monomer|abscisate &beta;-glucosyltra...  EC-2.4.1.263\n",
       "3     ath   PWY-5272  abscisic acid degradation by glucosylation  at3g21790-monomer|abscisate &beta;-glucosyltra...  EC-2.4.1.263\n",
       "4     ath   PWY-5272  abscisic acid degradation by glucosylation  at3g21760-monomer|abscisate &beta;-glucosyltra...  EC-2.4.1.263\n",
       "5     ath   PWY-5272  abscisic acid degradation by glucosylation  at2g23210-monomer|abscisate &beta;-glucosyltra...  EC-2.4.1.263\n",
       "6     ath   PWY-5272  abscisic acid degradation by glucosylation  at1g05530-monomer|abscisic acid glucosyltransf...  EC-2.4.1.263\n",
       "7     ath   PWY-5272  abscisic acid degradation by glucosylation  at1g05560-monomer|abscisic acid glucosyltransf...  EC-2.4.1.263\n",
       "8     ath   PWY-5272  abscisic acid degradation by glucosylation  at4g34138-monomer|abscisic acid glucosyltransf...  EC-2.4.1.263\n",
       "9     ath   PWY-5272  abscisic acid degradation by glucosylation  at2g23250-monomer|abscisic acid glucosyltransf...  EC-2.4.1.263"
      ]
     },
     "execution_count": 25,
     "metadata": {},
     "output_type": "execute_result"
    }
   ],
   "source": [
    "groups = load_from_pickle(groupings_filename)\n",
    "id_to_group_ids = groups.get_id_to_group_ids_dict(dataset.get_gene_dictionary())\n",
    "group_id_to_ids = groups.get_group_id_to_ids_dict(dataset.get_gene_dictionary())\n",
    "group_mapped_ids = [k for (k,v) in id_to_group_ids.items() if len(v)>0]\n",
    "groups.describe()\n",
    "groups.to_csv(os.path.join(OUTPUT_DIR,\"groupings.csv\"))\n",
    "groups.to_pandas().head(10)"
   ]
  },
  {
   "cell_type": "markdown",
   "metadata": {},
   "source": [
    "<a id=\"4\"></a>\n",
    "### Relating the dataset of genes to the dataset of groupings or categories\n",
    "This section generates tables that indicate how the genes present in the dataset were mapped to the defined pathways or groups. This includes a summary table that indicates how many genes by species were succcessfully mapped to atleast one pathway or group, as well as a more detailed table describing how many genes from each species were mapped to each particular pathway or group."
   ]
  },
  {
   "cell_type": "code",
   "execution_count": 26,
   "metadata": {},
   "outputs": [],
   "source": [
    "# Generate a table describing how many of the genes input from each species map to atleast one group.\n",
    "summary = defaultdict(dict)\n",
    "species_dict = dataset.get_species_dictionary()\n",
    "for species in dataset.get_species():\n",
    "    summary[species][\"input\"] = len([x for x in dataset.get_ids() if species_dict[x]==species])\n",
    "    summary[species][\"mapped\"] = len([x for x in group_mapped_ids if species_dict[x]==species])\n",
    "table = pd.DataFrame(summary).transpose()\n",
    "table.loc[\"total\"]= table.sum()\n",
    "table[\"fraction\"] = table.apply(lambda row: \"{:0.4f}\".format(row[\"mapped\"]/row[\"input\"]), axis=1)\n",
    "table = table.reset_index(inplace=False)\n",
    "table = table.rename({\"index\":\"species\"}, axis=\"columns\")\n",
    "table.to_csv(os.path.join(OUTPUT_DIR,\"mappings_summary.csv\"), index=False)\n",
    "\n",
    "# Generate a table describing how many genes from each species map to which particular group.\n",
    "summary = defaultdict(dict)\n",
    "for group_id,ids in group_id_to_ids.items():\n",
    "    summary[group_id].update({species:len([x for x in ids if species_dict[x]==species]) for species in dataset.get_species()})\n",
    "    summary[group_id][\"total\"] = len([x for x in ids])\n",
    "table = pd.DataFrame(summary).transpose()\n",
    "table = table.sort_values(by=\"total\", ascending=False)\n",
    "table = table.reset_index(inplace=False)\n",
    "table = table.rename({\"index\":\"pathway_id\"}, axis=\"columns\")\n",
    "table[\"pathway_name\"] = table[\"pathway_id\"].map(groups.get_long_name)\n",
    "table.loc[\"total\"] = table.sum()\n",
    "table.loc[\"total\",\"pathway_id\"] = \"total\"\n",
    "table.loc[\"total\",\"pathway_name\"] = \"total\"\n",
    "table = table[table.columns.tolist()[-1:] + table.columns.tolist()[:-1]]\n",
    "table.to_csv(os.path.join(OUTPUT_DIR,\"mappings_by_group.csv\"), index=False)"
   ]
  },
  {
   "cell_type": "markdown",
   "metadata": {},
   "source": [
    "### Option 1: Filtering the dataset based on presence in the curated Oellrich, Walls et al. (2015) dataset"
   ]
  },
  {
   "cell_type": "code",
   "execution_count": 33,
   "metadata": {},
   "outputs": [
    {
     "name": "stdout",
     "output_type": "stream",
     "text": [
      "Number of rows in the dataframe: 2560\n",
      "Number of unique IDs:            2560\n",
      "Number of unique descriptions:   2167\n",
      "Number of unique gene name sets: 2560\n",
      "Number of species represented:   6\n"
     ]
    }
   ],
   "source": [
    "# Filter the dataset based on whether or not the genes were in the curated dataset.\n",
    "# This is similar to filtering based on protein interaction data because the dataset is a list of edge values.\n",
    "pppn_edgelist_path = \"../data/supplemental_files_oellrich_walls/13007_2015_53_MOESM9_ESM.txt\"\n",
    "pppn_edgelist = Edges(dataset.get_name_to_id_dictionary(), pppn_edgelist_path)\n",
    "dataset.filter_with_ids(pppn_edgelist.ids)\n",
    "dataset.describe()"
   ]
  },
  {
   "cell_type": "markdown",
   "metadata": {},
   "source": [
    "### Option 2: Filtering the dataset based on protein-protein interactions\n",
    "This is done to only include genes (and the corresponding phenotype descriptions and annotations) which are useful for the current analysis. In this case we want to only retain genes that are mentioned atleast one time in the STRING database for a given species. If a gene is not mentioned at all in STRING, there is no information available for whether or not it interacts with any other proteins in the dataset so choose to not include it in the analysis. Only genes that have atleast one true positive are included because these are the only ones for which the missing information (negatives) is meaningful. This should be run instead of the subsequent cell, or the other way around, based on whether or not protein-protein interactions is the prediction goal for the current analysis."
   ]
  },
  {
   "cell_type": "code",
   "execution_count": null,
   "metadata": {},
   "outputs": [],
   "source": [
    "# Filter the dataset based on whether or not the genes were successfully mapped to an interaction.\n",
    "# Reduce size of the dataset by removing genes not mentioned in the STRING.\n",
    "naming_file = \"../data/group_related_files/string/all_organisms.name_2_string.tsv\"\n",
    "interaction_files = [\n",
    "    \"../data/group_related_files/string/3702.protein.links.detailed.v11.0.txt\", # Arabidopsis thaliana\n",
    "    \"../data/group_related_files/string/4577.protein.links.detailed.v11.0.txt\", # maize\n",
    "    \"../data/group_related_files/string/4530.protein.links.detailed.v11.0.txt\", # tomato \n",
    "    \"../data/group_related_files/string/4081.protein.links.detailed.v11.0.txt\", # medicago\n",
    "    \"../data/group_related_files/string/3880.protein.links.detailed.v11.0.txt\", # rice \n",
    "    \"../data/group_related_files/string/3847.protein.links.detailed.v11.0.txt\", # soybean\n",
    "]\n",
    "genes = dataset.get_gene_dictionary()\n",
    "string_data = String(genes, naming_file, *interaction_files)\n",
    "dataset.filter_with_ids(string_data.ids)\n",
    "dataset.describe()"
   ]
  },
  {
   "cell_type": "markdown",
   "metadata": {},
   "source": [
    "### Option 3: Filtering the dataset based on membership in pathways or phenotype category\n",
    "This is done to only include genes (and the corresponding phenotype descriptions and annotations) which are useful for the current analysis. In this case we want to only retain genes that are mapped to atleast one pathway in whatever the source of pathway membership we are using is (KEGG, Plant Metabolic Network, etc). This is because for these genes, it will be impossible to correctly predict their pathway membership, and we have no evidence that they belong or do not belong in certain pathways so they can not be identified as being true or false negatives in any case."
   ]
  },
  {
   "cell_type": "code",
   "execution_count": 28,
   "metadata": {},
   "outputs": [
    {
     "name": "stdout",
     "output_type": "stream",
     "text": [
      "Number of rows in the dataframe: 460\n",
      "Number of unique IDs:            460\n",
      "Number of unique descriptions:   433\n",
      "Number of unique gene name sets: 460\n",
      "Number of species represented:   1\n"
     ]
    }
   ],
   "source": [
    "# Filter based on succcessful mappings to groups or pathways.\n",
    "dataset.filter_with_ids(group_mapped_ids)\n",
    "dataset.describe()\n",
    "# Get the mappings in each direction again now that the dataset has been subset.\n",
    "id_to_group_ids = groups.get_id_to_group_ids_dict(dataset.get_gene_dictionary())\n",
    "group_id_to_ids = groups.get_group_id_to_ids_dict(dataset.get_gene_dictionary())"
   ]
  },
  {
   "cell_type": "markdown",
   "metadata": {},
   "source": [
    "### Loading trained and saved NLP neural network models"
   ]
  },
  {
   "cell_type": "code",
   "execution_count": null,
   "metadata": {},
   "outputs": [],
   "source": [
    "# Files and models related to the machine learning text embedding methods.\n",
    "doc2vec_wiki_model = gensim.models.Doc2Vec.load(doc2vec_wikipedia_filename)\n",
    "doc2vec_pubmed_model = gensim.models.Doc2Vec.load(doc2vec_pubmed_filename)\n",
    "word2vec_model = gensim.models.Word2Vec.load(word2vec_model_filename)\n",
    "bert_tokenizer_base = BertTokenizer.from_pretrained('bert-base-uncased')\n",
    "bert_tokenizer_pmc = BertTokenizer.from_pretrained(biobert_pmc_path)\n",
    "bert_tokenizer_pubmed = BertTokenizer.from_pretrained(biobert_pubmed_path)\n",
    "bert_tokenizer_pubmed_pmc = BertTokenizer.from_pretrained(biobert_pubmed_pmc_path)\n",
    "bert_model_base = BertModel.from_pretrained('bert-base-uncased')\n",
    "bert_model_pmc = BertModel.from_pretrained(biobert_pmc_path)\n",
    "bert_model_pubmed = BertModel.from_pretrained(biobert_pubmed_path)\n",
    "bert_model_pubmed_pmc = BertModel.from_pretrained(biobert_pubmed_pmc_path)"
   ]
  },
  {
   "cell_type": "markdown",
   "metadata": {},
   "source": [
    "### Preprocessing text descriptions\n",
    "Normalizing case, lemmatization, stemming, removing stopwords, removing punctuation, handling numerics, creating parse trees, part-of-speech tagging, and anything else necessary for a particular dataset of descripitons."
   ]
  },
  {
   "cell_type": "code",
   "execution_count": null,
   "metadata": {},
   "outputs": [],
   "source": [
    "# Constructing a vocabulary by looking at what words are overrepresented in domain specific text.\n",
    "background_corpus = open(background_corpus_filename,\"r\").read()\n",
    "phenotypes_corpus = open(phenotypes_corpus_filename,\"r\").read()\n",
    "tokens = get_overrepresented_tokens(phenotypes_corpus, background_corpus, max_features=5000)\n",
    "vocabulary_from_text = build_vocabulary_from_tokens(tokens)\n",
    "\n",
    "# Constructing a vocabulary by assuming all words present in a given ontology are important.\n",
    "ontology = Ontology(ontology_filename)\n",
    "vocabulary_from_ontology = build_vocabulary_from_tokens(ontology.get_tokens())"
   ]
  },
  {
   "cell_type": "markdown",
   "metadata": {},
   "source": [
    "### Preprocessing text descriptions\n",
    "The preprocessing methods applied to the phenotype descriptions are a choice which impacts the subsequent vectorization and similarity methods which construct the pairwise distance matrix from each of these descriptions. The preprocessing methods that make sense are also highly dependent on the vectorization method or embedding method that is to be applied. For example, stemming (which is part of the full proprocessing done below using `gensim.preprocess_string` is useful for the n-grams and bag-of-words methods but not for the document embeddings methods which need each token to be in the vocabulary that was constructed and used when the model was trained. For this reason, embedding methods with pretrained models where the vocabulary is fixed should have a lighter degree of preprocessing not involving stemming or lemmatization but should involve things like removal of non-alphanumerics and normalizing case. "
   ]
  },
  {
   "cell_type": "code",
   "execution_count": null,
   "metadata": {},
   "outputs": [],
   "source": [
    "# Obtain a mapping between IDs and the raw text descriptions associated with that ID from the dataset.\n",
    "descriptions = dataset.get_description_dictionary()\n",
    "\n",
    "# Preprocessing of the text descriptions. Different methods are necessary for different approaches.\n",
    "descriptions_full_preprocessing = {i:\" \".join(preprocess_string(d)) for i,d in descriptions.items()}\n",
    "descriptions_simple_preprocessing = {i:\" \".join(simple_preprocess(d)) for i,d in descriptions.items()}\n",
    "descriptions_no_stopwords = {i:remove_stopwords(d) for i,d in descriptions.items()}\n",
    "\n",
    "# Generating random descriptions that are drawn from same token population and retain original lengths.\n",
    "#tokens = [w for w in itertools.chain.from_iterable(word_tokenize(desc) for desc in descriptions.values())]\n",
    "#descriptions_scrambled = {k:\" \".join(np.random.choice(tokens,len(word_tokenize(v)))) for k,v in descriptions.items()}"
   ]
  },
  {
   "cell_type": "markdown",
   "metadata": {},
   "source": [
    "### POS tagging the phenotype descriptions for nouns and adjectives\n",
    "Note that preprocessing of the descriptions should be done after part-of-speech tagging, because tokens that are removed during preprocessing before n-gram analysis contain information that the parser needs to accurately call parts-of-speech. This step should be done on the raw descriptions and then the resulting bags of words can be subset using additional preprocesssing steps before input in one of the vectorization methods."
   ]
  },
  {
   "cell_type": "code",
   "execution_count": null,
   "metadata": {},
   "outputs": [],
   "source": [
    "get_pos_tokens = lambda text,pos: \" \".join([t[0] for t in nltk.pos_tag(word_tokenize(text)) if t[1].lower()==pos.lower()])\n",
    "descriptions_noun_only =  {i:get_pos_tokens(d,\"NN\") for i,d in descriptions.items()}\n",
    "descriptions_noun_only_full_preprocessing = {i:\" \".join(preprocess_string(d)) for i,d in descriptions_noun_only.items()}\n",
    "descriptions_noun_only_simple_preprocessing = {i:\" \".join(simple_preprocess(d)) for i,d in descriptions_noun_only.items()}\n",
    "descriptions_adj_only =  {i:get_pos_tokens(d,\"JJ\") for i,d in descriptions.items()}\n",
    "descriptions_adj_only_full_preprocessing = {i:\" \".join(preprocess_string(d)) for i,d in descriptions_adj_only.items()}\n",
    "descriptions_adj_only_simple_preprocessing = {i:\" \".join(simple_preprocess(d)) for i,d in descriptions_adj_only.items()}"
   ]
  },
  {
   "cell_type": "markdown",
   "metadata": {},
   "source": [
    "### Annotating descriptions with ontology terms\n",
    "This section generates dictionaries that map gene IDs from the dataset to lists of strings, where those strings are ontology term IDs. How the term IDs are found for each gene entry with its corresponding phenotype description depends on the cell below. Firstly, the terms are found by using the NOBLE Coder annotation tool through these wrapper functions to identify the terms by looking for instances of the term's label or synonyms in the actual text of the phenotype descriptions. Secondly, the next cell just draws the terms directly from the dataset itself. In this case, these are high-confidence annotations done by curators for a comparison against what can be accomplished through computational analysis of the text."
   ]
  },
  {
   "cell_type": "code",
   "execution_count": null,
   "metadata": {},
   "outputs": [],
   "source": [
    "# Run the ontology term annotators over either raw or preprocessed text descriptions.\n",
    "annotations_noblecoder_precise = annotate_using_noble_coder(descriptions, noblecoder_jarfile_path, \"mo\", precise=1)\n",
    "annotations_noblecoder_partial = annotate_using_noble_coder(descriptions, noblecoder_jarfile_path, \"mo\", precise=0)"
   ]
  },
  {
   "cell_type": "code",
   "execution_count": null,
   "metadata": {},
   "outputs": [],
   "source": [
    "# Get the ID to term list annotation dictionaries for each ontology in the dataset.\n",
    "annotations = dataset.get_annotations_dictionary()\n",
    "go_annotations = {k:[term for term in v if term[0:2]==\"GO\"] for k,v in annotations.items()}\n",
    "po_annotations = {k:[term for term in v if term[0:2]==\"PO\"] for k,v in annotations.items()}"
   ]
  },
  {
   "cell_type": "markdown",
   "metadata": {},
   "source": [
    "### Generating vector representations and pairwise distances matrices\n",
    "This section uses the text descriptions, preprocessed text descriptions, or ontology term annotations created or read in the previous sections to generate a vector representation for each gene and build a pairwise distance matrix for the whole dataset. Each method specified is a unique combination of a method of vectorization (bag-of-words, n-grams, document embedding model, etc) and distance metric (Euclidean, Jaccard, cosine, etc) applied to those vectors in constructing the pairwise matrix. The method of vectorization here is equivalent to feature selection, so the task is to figure out which type of vectors will encode features that are useful (n-grams, full words, only words from a certain vocabulary, etc)."
   ]
  },
  {
   "cell_type": "code",
   "execution_count": null,
   "metadata": {},
   "outputs": [],
   "source": [
    "# Define a list of tuples, each tuple will be used to build to find a matrix of pairwise distances.\n",
    "# The naming scheme for methods should include both a name substring and then a hyperparameter substring\n",
    "# separated by a colon. Anything after the colon will be removed from the name and put in a separate \n",
    "# column in the output table. This is so that the name column can be directly used for making figures, so\n",
    "# if two hyperparameter choices are both going to be used in a figure, keep them in the name substring not\n",
    "# the hyperparameter section. The required items in each tuple are:\n",
    "# Index 0: name of the method\n",
    "# Index 1: function to call for running this method\n",
    "# Index 2: arguments to pass to that function as dictionary of keyword args\n",
    "# Index 3: distance metric to apply to vectors generated with that method\n",
    "\n",
    "\n",
    "name_function_args_tuples = [\n",
    "    \n",
    "    # Methods that use neural networks to generate embeddings.\n",
    "    (\"Doc2Vec Wikipedia:Size=300\", pw.pairwise_doc2vec_onegroup, {\"model\":doc2vec_wiki_model, \"object_dict\":descriptions, \"metric\":\"cosine\"}, spatial.distance.cosine),\n",
    "    #(\"Doc2Vec PubMed:Size=100\", pw.pairwise_doc2vec_onegroup, {\"model\":doc2vec_pubmed_model, \"object_dict\":descriptions, \"metric\":\"cosine\"}, spatial.distance.cosine),\n",
    "    #(\"Word2Vec Wikipedia:Size=300,Mean\", pw.pairwise_word2vec_onegroup, {\"model\":word2vec_model, \"object_dict\":descriptions, \"metric\":\"cosine\", \"method\":\"mean\"}, spatial.distance.cosine),\n",
    "    #(\"word2vec Wikipedia:Size=300,Max\", pw.pairwise_word2vec_onegroup, {\"model\":word2vec_model, \"object_dict\":descriptions, \"metric\":\"cosine\", \"method\":\"max\"}, spatial.distance.cosine),\n",
    "    \n",
    "    #(\"BERT Base:Layers=2,Concatenated\", pw.pairwise_bert_onegroup, {\"model\":bert_model_base, \"tokenizer\":bert_tokenizer_base, \"object_dict\":descriptions, \"metric\":\"cosine\", \"method\":\"concat\", \"layers\":2}, spatial.distance.cosine),\n",
    "    #(\"BERT Base:Layers=3,Concatenated\", pw.pairwise_bert_onegroup, {\"model\":bert_model_base, \"tokenizer\":bert_tokenizer_base, \"object_dict\":descriptions, \"metric\":\"cosine\", \"method\":\"concat\", \"layers\":3}, spatial.distance.cosine),\n",
    "    #(\"BERT Base:Layers=4,Concatenated\", pw.pairwise_bert_onegroup, {\"model\":bert_model_base, \"tokenizer\":bert_tokenizer_base, \"object_dict\":descriptions, \"metric\":\"cosine\", \"method\":\"concat\", \"layers\":4}, spatial.distance.cosine),\n",
    "    #(\"BERT Base:Layers=2,Summed\", pw.pairwise_bert_onegroup, {\"model\":bert_model_base, \"tokenizer\":bert_tokenizer_base, \"object_dict\":descriptions, \"metric\":\"cosine\", \"method\":\"sum\", \"layers\":2}, spatial.distance.cosine),\n",
    "    #(\"BERT Base:Layers=3,Summed\", pw.pairwise_bert_onegroup, {\"model\":bert_model_base, \"tokenizer\":bert_tokenizer_base, \"object_dict\":descriptions, \"metric\":\"cosine\", \"method\":\"sum\", \"layers\":3}, spatial.distance.cosine),\n",
    "    #(\"BERT Base:Layers=4,Summed\", pw.pairwise_bert_onegroup, {\"model\":bert_model_base, \"tokenizer\":bert_tokenizer_base, \"object_dict\":descriptions, \"metric\":\"cosine\", \"method\":\"sum\", \"layers\":4}, spatial.distance.cosine),\n",
    "    #(\"BioBERT:PMC,Layers=2,Concatenated\", pw.pairwise_bert_onegroup, {\"model\":bert_model_pmc, \"tokenizer\":bert_tokenizer_pmc, \"object_dict\":descriptions, \"metric\":\"cosine\", \"method\":\"concat\", \"layers\":2}, spatial.distance.cosine),\n",
    "    #(\"BioBERT:PMC,Layers=3,Concatenated\", pw.pairwise_bert_onegroup, {\"model\":bert_model_pmc, \"tokenizer\":bert_tokenizer_pmc, \"object_dict\":descriptions, \"metric\":\"cosine\", \"method\":\"concat\", \"layers\":3}, spatial.distance.cosine),\n",
    "    #(\"BioBERT:PMC,Layers=4,Concatenated\", pw.pairwise_bert_onegroup, {\"model\":bert_model_pmc, \"tokenizer\":bert_tokenizer_pmc, \"object_dict\":descriptions, \"metric\":\"cosine\", \"method\":\"concat\", \"layers\":4}, spatial.distance.cosine),\n",
    "    #(\"BioBERT:PubMed,Layers=4,Concatenated\", pw.pairwise_bert_onegroup, {\"model\":bert_model_pubmed, \"tokenizer\":bert_tokenizer_pubmed, \"object_dict\":descriptions, \"metric\":\"cosine\", \"method\":\"concat\", \"layers\":4}, spatial.distance.cosine),\n",
    "    #(\"BioBERT:PubMed,PMC,Layers=4,Concatenated\", pw.pairwise_bert_onegroup, {\"model\":bert_model_pubmed_pmc, \"tokenizer\":bert_tokenizer_pubmed_pmc, \"object_dict\":descriptions, \"metric\":\"cosine\", \"method\":\"concat\", \"layers\":4}, spatial.distance.cosine),\n",
    "        \n",
    "    # Methods that use variations on the ngrams approach.\n",
    "    #(\"N-Grams:Words,1-grams,2-grams\", pw.pairwise_ngrams_onegroup, {\"object_dict\":descriptions_full_preprocessing, \"metric\":\"cosine\", \"binary\":False, \"analyzer\":\"word\", \"ngram_range\":(1,2),\"max_features\":5000, \"tfidf\":False}, spatial.distance.cosine),\n",
    "    #(\"N-Grams:Words,1-grams,2-grams,Binary\", pw.pairwise_ngrams_onegroup, {\"object_dict\":descriptions_full_preprocessing, \"metric\":\"cosine\", \"binary\":True, \"analyzer\":\"word\", \"ngram_range\":(1,2), \"max_features\":5000, \"tfidf\":False}, spatial.distance.cosine),\n",
    "    (\"N-Grams:Words,1-grams\", pw.pairwise_ngrams_onegroup, {\"object_dict\":descriptions_full_preprocessing, \"metric\":\"cosine\", \"binary\":False, \"analyzer\":\"word\", \"ngram_range\":(1,1), \"max_features\":5000, \"tfidf\":False}, spatial.distance.cosine),\n",
    "    #(\"N-Grams:Words,1-grams,Binary\", pw.pairwise_ngrams_onegroup, {\"object_dict\":descriptions_full_preprocessing, \"metric\":\"jaccard\", \"binary\":True, \"analyzer\":\"word\", \"ngram_range\":(1,1), \"max_features\":1000, \"tfidf\":False}, spatial.distance.jaccard),\n",
    "    #(\"N-Grams:Words,1-grams,2-grams,TFIDF\", pw.pairwise_ngrams_onegroup, {\"object_dict\":descriptions_full_preprocessing, \"metric\":\"cosine\", \"binary\":False, \"analyzer\":\"word\", \"ngram_range\":(1,2),\"max_features\":5000, \"tfidf\":True}, spatial.distance.cosine),\n",
    "    #(\"N-Grams:Words,1-grams,2-grams,Binary,TFIDF\", pw.pairwise_ngrams_onegroup, {\"object_dict\":descriptions_full_preprocessing, \"metric\":\"cosine\", \"binary\":True, \"analyzer\":\"word\", \"ngram_range\":(1,2), \"max_features\":5000, \"tfidf\":True}, spatial.distance.cosine),\n",
    "    #(\"N-Grams:Words,1-grams,TFIDF\", pw.pairwise_ngrams_onegroup, {\"object_dict\":descriptions_full_preprocessing, \"metric\":\"cosine\", \"binary\":False, \"analyzer\":\"word\", \"ngram_range\":(1,1), \"max_features\":5000, \"tfidf\":True}, spatial.distance.cosine),\n",
    "    #(\"N-Grams:Words,1-grams,Binary,TFIDF\", pw.pairwise_ngrams_onegroup, {\"object_dict\":descriptions_full_preprocessing, \"metric\":\"jaccard\", \"binary\":True, \"analyzer\":\"word\", \"ngram_range\":(1,1), \"max_features\":5000, \"tfidf\":True}, spatial.distance.jaccard),\n",
    "    \n",
    "    # Methods that use terms inferred from automated annotation of the text.\n",
    "    #(\"NOBLE Coder:Precise\", pw.pairwise_annotations_onegroup, {\"annotations_dict\":annotations_noblecoder_precise, \"ontology\":ontology, \"binary\":True, \"metric\":\"jaccard\", \"tfidf\":False}, spatial.distance.jaccard),\n",
    "    #(\"NOBLE Coder:Partial\", pw.pairwise_annotations_onegroup, {\"annotations_dict\":annotations_noblecoder_partial, \"ontology\":ontology, \"binary\":True, \"metric\":\"jaccard\", \"tfidf\":False}, spatial.distance.jaccard),\n",
    "    #(\"NOBLE Coder:Precise,TFIDF\", pw.pairwise_annotations_onegroup, {\"annotations_dict\":annotations_noblecoder_precise, \"ontology\":ontology, \"binary\":True, \"metric\":\"jaccard\", \"tfidf\":True}, spatial.distance.jaccard),\n",
    "    #(\"NOBLE Coder:Partial,TFIDF\", pw.pairwise_annotations_onegroup, {\"annotations_dict\":annotations_noblecoder_partial, \"ontology\":ontology, \"binary\":True, \"metric\":\"jaccard\", \"tfidf\":True}, spatial.distance.jaccard),\n",
    "    \n",
    "    # Methods that use terms assigned by humans that are present in the dataset.\n",
    "    (\"GO:Default\", pw.pairwise_annotations_onegroup, {\"annotations_dict\":go_annotations, \"ontology\":ontology, \"metric\":\"jaccard\", \"binary\":True, \"analyzer\":\"word\", \"ngram_range\":(1,1), \"tfidf\":False}, spatial.distance.jaccard),\n",
    "    (\"PO:Default\", pw.pairwise_annotations_onegroup, {\"annotations_dict\":po_annotations, \"ontology\":ontology, \"metric\":\"jaccard\", \"binary\":True, \"analyzer\":\"word\", \"ngram_range\":(1,1), \"tfidf\":False}, spatial.distance.jaccard),\n",
    "]"
   ]
  },
  {
   "cell_type": "code",
   "execution_count": null,
   "metadata": {},
   "outputs": [],
   "source": [
    "# Generate all of the similarity matrices in parallel.\n",
    "#start_time_mp = time.perf_counter()\n",
    "#pool = mp.Pool(mp.cpu_count())\n",
    "#results = [pool.apply_async(function_wrapper_with_duration, args=(func, args)) for (name,func,args,metric) in name_function_args_tuples]\n",
    "#results = [result.get() for result in results]\n",
    "#graphs = {tup[0]:result[0] for tup,result in zip(name_function_args_tuples,results)}\n",
    "#metric_dict = {tup[0]:tup[3] for tup in name_function_args_tuples}\n",
    "#durations = {tup[0]:result[1] for tup,result in zip(name_function_args_tuples,results)}\n",
    "#pool.close()\n",
    "#pool.join()    \n",
    "#total_time_mp = time.perf_counter()-start_time_mp\n",
    "\n",
    "# Reporting how long each matrix took to build and how much time parallel processing saved.\n",
    "#print(\"Durations of generating each pairwise similarity matrix (hh:mm:ss)\")\n",
    "#print(\"-----------------------------------------------------------------\")\n",
    "#savings = total_time_mp/sum(durations.values())\n",
    "#for (name,duration) in durations.items():\n",
    "#    print(\"{:15} {}\".format(name, to_hms(duration)))\n",
    "#print(\"-----------------------------------------------------------------\")\n",
    "#print(\"{:15} {}\".format(\"total\", to_hms(sum(durations.values()))))\n",
    "#print(\"{:15} {} ({:.2%} of single thread time)\".format(\"multiprocess\", to_hms(total_time_mp), savings))"
   ]
  },
  {
   "cell_type": "code",
   "execution_count": null,
   "metadata": {},
   "outputs": [],
   "source": [
    "# Generate all the pairwise distance matrices.\n",
    "graphs = {tup[0]:tup[1](**tup[2]) for tup in name_function_args_tuples}\n",
    "metric_dict = {tup[0]:tup[3] for tup in name_function_args_tuples}"
   ]
  },
  {
   "cell_type": "code",
   "execution_count": null,
   "metadata": {},
   "outputs": [],
   "source": [
    "# Merging all of the edgelist dataframes together.\n",
    "methods = list(graphs.keys())\n",
    "edgelists = {k:v.edgelist for k,v in graphs.items()}\n",
    "df = pw.merge_edgelists(edgelists, default_value=0.000)\n",
    "df = pw.remove_self_loops(df)\n",
    "df.tail(10)"
   ]
  },
  {
   "cell_type": "markdown",
   "metadata": {},
   "source": [
    "### Option 1: Merging in the previously curated similarity values from the Oellrich, Walls et al. (2015) dataset\n",
    "This section reads in a file that contains the previously calculated distance values from the Oellrich, Walls et al. (2015) dataset, and merges it with the values which are obtained here for all of the applicable natural language processing or machine learning methods used, so that the graphs which are specified by these sets of distances values can be evaluated side by side in the subsequent sections."
   ]
  },
  {
   "cell_type": "code",
   "execution_count": null,
   "metadata": {},
   "outputs": [],
   "source": [
    "# Add a column that indicates the distance estimated using curated EQ statements.\n",
    "df = df.merge(right=pppn_edgelist.df, how=\"left\", on=[\"from\",\"to\"])\n",
    "df.fillna(value=0.000,inplace=True)\n",
    "df.rename(columns={\"value\":\"Curated\"}, inplace=True)\n",
    "df[\"Curated\"] = 1-df[\"Curated\"]\n",
    "methods.append(\"Curated\")\n",
    "df.tail(10)"
   ]
  },
  {
   "cell_type": "markdown",
   "metadata": {},
   "source": [
    "### Option 2: Merging with information about shared pathways or groupings.\n",
    "The relevant information for each edge includes questions like whether or not the two genes that edge connects share a group or biochemical pathway in common, or if those genes are from the same species. This information can then later be used as the target values for predictive models, or for filtering the graphs represented by these edge lists. Either the grouping information or the protein-protein interaction information should be used."
   ]
  },
  {
   "cell_type": "code",
   "execution_count": null,
   "metadata": {},
   "outputs": [],
   "source": [
    "# Generate a column indicating whether or not the two genes have atleast one pathway in common.\n",
    "df[\"shared\"] = df[[\"from\",\"to\"]].apply(lambda x: len(set(id_to_group_ids[x[\"from\"]]).intersection(set(id_to_group_ids[x[\"to\"]])))>0, axis=1)*1\n",
    "print(Counter(df[\"shared\"].values))\n",
    "\n",
    "# Generate a column indicating whether or not the two genes are from the same species.\n",
    "species_dict = dataset.get_species_dictionary()\n",
    "df[\"same\"] = df[[\"from\",\"to\"]].apply(lambda x: species_dict[x[\"from\"]]==species_dict[x[\"to\"]],axis=1)*1\n",
    "print(Counter(df[\"same\"].values))"
   ]
  },
  {
   "cell_type": "markdown",
   "metadata": {},
   "source": [
    "### Option 3: Merging with information about protein-protein interactions."
   ]
  },
  {
   "cell_type": "code",
   "execution_count": null,
   "metadata": {},
   "outputs": [],
   "source": [
    "# Merging information from the protein-protein interaction database with this dataset.\n",
    "df = df.merge(right=string_data.df, how=\"left\", on=[\"from\",\"to\"])\n",
    "df.fillna(value=0,inplace=True)\n",
    "df[\"shared\"] = (df[\"combined_score\"] != 0.00)*1\n",
    "df.tail(12)"
   ]
  },
  {
   "cell_type": "markdown",
   "metadata": {},
   "source": [
    "### Combining multiple distance methods with machine learning models\n",
    "The purpose of this section is to iteratively train models on subsections of the dataset using simple regression or machine learning approaches to predict a value from zero to one indicating indicating how likely is it that two genes share atleast one of the specified groups in common. The information input to these models is the distance scores provided by each method in some set of all the methods used in this notebook. The purpose is to see whether or not a function of these similarity scores specifically trained to the task of predicting common groupings is better able to used the distance metric information to report a score for this task."
   ]
  },
  {
   "cell_type": "code",
   "execution_count": null,
   "metadata": {},
   "outputs": [],
   "source": [
    "\"\"\"\n",
    "# Iteratively create models for combining output values from multiple semantic similarity methods.\n",
    "method = \"Logistic Regression\"\n",
    "splits = 12\n",
    "kf = KFold(n_splits=splits, random_state=14271, shuffle=True)\n",
    "df[method] = pd.Series()\n",
    "for train,test in kf.split(df):\n",
    "    lr_model = train_logistic_regression_model(df=df.iloc[train], predictor_columns=methods, target_column=\"shared\")\n",
    "    df[method].iloc[test] = apply_logistic_regression_model(df=df.iloc[test], predictor_columns=methods, model=lr_model)\n",
    "df[method] = 1-df[method]\n",
    "methods.append(method)\n",
    "\"\"\""
   ]
  },
  {
   "cell_type": "code",
   "execution_count": null,
   "metadata": {},
   "outputs": [],
   "source": [
    "\"\"\"\n",
    "# Iteratively create models for combining output values from multiple semantic similarity methods.\n",
    "method = \"Random Forest\"\n",
    "splits = 2\n",
    "kf = KFold(n_splits=splits, random_state=14271, shuffle=True)\n",
    "df[method] = pd.Series()\n",
    "for train,test in kf.split(df):\n",
    "    rf_model = train_random_forest_model(df=df.iloc[train], predictor_columns=methods, target_column=\"shared\")\n",
    "    df[method].iloc[test] = apply_random_forest_model(df=df.iloc[test],predictor_columns=methods, model=rf_model)\n",
    "df[method] = 1-df[method]\n",
    "methods.append(method)\n",
    "\"\"\""
   ]
  },
  {
   "cell_type": "code",
   "execution_count": null,
   "metadata": {},
   "outputs": [],
   "source": [
    "\"\"\"\n",
    "# Don't do it iteratively, just treat this entire dataset as training data and save the models.\n",
    "# Logistic Regression\n",
    "lr_name = \"Logistic Regression\"\n",
    "model = train_logistic_regression_model(df=df, predictor_columns=methods, target_column=\"shared\")\n",
    "df[lr_name] = apply_logistic_regression_model(df=df, predictor_columns=methods, model=model)\n",
    "df[lr_name] = 1-df[lr_name]\n",
    "save_to_pickle(obj=model,path=\"../data/pickles/lr.model\")\n",
    "# Random Forest\n",
    "rf_name = \"Random Forest\"\n",
    "model = train_random_forest_model(df=df, predictor_columns=methods, target_column=\"shared\")\n",
    "df[rf_name] = apply_random_forest_model(df=df, predictor_columns=methods, model=model)\n",
    "df[rf_name] = 1-df[rf_name]\n",
    "save_to_pickle(obj=model,path=\"../data/pickles/rf.model\")\n",
    "# Add these methods to the method names to use for the below analysis.\n",
    "methods.append(lr_name)\n",
    "methods.append(rf_name)\n",
    "\"\"\""
   ]
  },
  {
   "cell_type": "markdown",
   "metadata": {},
   "source": [
    "### Do the edges joining genes that share atleast one pathway come from a different distribution?\n",
    "The purpose of this section is to visualize kernel estimates for the distributions of distance or similarity scores generated by each of the methods tested for measuring semantic similarity or generating vector representations of the phenotype descriptions. Ideally, better methods should show better separation betwene the distributions for distance values between two genes involved in a common specified group or two genes that are not. Additionally, a statistical test is used to check whether these two distributions are significantly different from each other or not, although this is a less informative measure than the other tests used in subsequent sections, because it does not address how useful these differences in the distributions actually are for making predictions about group membership."
   ]
  },
  {
   "cell_type": "code",
   "execution_count": null,
   "metadata": {},
   "outputs": [],
   "source": [
    "# Use Kolmogorov-Smirnov test to see if edges between genes that share a group come from a distinct distribution.\n",
    "ppi_pos_dict = {name:(df[df[\"shared\"] > 0.00][name].values) for name in methods}\n",
    "ppi_neg_dict = {name:(df[df[\"shared\"] == 0.00][name].values) for name in methods}\n",
    "for name in methods:\n",
    "    stat,p = ks_2samp(ppi_pos_dict[name],ppi_neg_dict[name])\n",
    "    pos_mean = np.average(ppi_pos_dict[name])\n",
    "    neg_mean = np.average(ppi_neg_dict[name])\n",
    "    pos_n = len(ppi_pos_dict[name])\n",
    "    neg_n = len(ppi_neg_dict[name])\n",
    "    TABLE[name].update({\"mean_1\":pos_mean, \"mean_0\":neg_mean, \"n_1\":pos_n, \"n_0\":neg_n})\n",
    "    TABLE[name].update({\"ks\":stat, \"ks_pval\":p})\n",
    "    \n",
    "    \n",
    "# Show the kernel estimates for each distribution of weights for each method.\n",
    "num_plots, plots_per_row, row_width, row_height = (len(methods), 4, 14, 3)\n",
    "fig,axs = plt.subplots(math.ceil(num_plots/plots_per_row), plots_per_row, squeeze=False)\n",
    "for name,ax in zip(methods,axs.flatten()):\n",
    "    ax.set_title(name)\n",
    "    ax.set_xlabel(\"value\")\n",
    "    ax.set_ylabel(\"density\")\n",
    "    sns.kdeplot(ppi_pos_dict[name], color=\"black\", shade=False, alpha=1.0, ax=ax)\n",
    "    sns.kdeplot(ppi_neg_dict[name], color=\"black\", shade=True, alpha=0.1, ax=ax) \n",
    "fig.set_size_inches(row_width, row_height*math.ceil(num_plots/plots_per_row))\n",
    "fig.tight_layout()\n",
    "fig.savefig(os.path.join(OUTPUT_DIR,\"kernel_density.png\"),dpi=400)\n",
    "plt.close()"
   ]
  },
  {
   "cell_type": "markdown",
   "metadata": {},
   "source": [
    "### Looking at within-group or within-pathway distances in each graph\n",
    "The purpose of this section is to determine which methods generated graphs which tightly group genes which share common pathways or group membership with one another. In order to compare across different methods where the distance value distributions are different, the mean distance values for each group for each method are convereted to percentile scores. Lower percentile scores indicate that the average distance value between any two genes that belong to that group is lower than most of the distance values in the entire distribution for that method."
   ]
  },
  {
   "cell_type": "code",
   "execution_count": null,
   "metadata": {},
   "outputs": [],
   "source": [
    "# Get all the average within-pathway phenotype distance values for each method for each particular pathway.\n",
    "group_id_to_ids = groups.get_group_id_to_ids_dict(dataset.get_gene_dictionary())\n",
    "group_ids = list(group_id_to_ids.keys())\n",
    "graph = IndexedGraph(df)\n",
    "within_weights_dict = defaultdict(lambda: defaultdict(list))\n",
    "within_percentiles_dict = defaultdict(lambda: defaultdict(list))\n",
    "all_weights_dict = {}\n",
    "for method in methods:\n",
    "    all_weights_dict[method] = df[method].values\n",
    "    for group in group_ids:\n",
    "        within_ids = group_id_to_ids[group]\n",
    "        within_pairs = [(i,j) for i,j in itertools.permutations(within_ids,2)]\n",
    "        mean_weight = np.mean((graph.get_values(within_pairs, kind=method)))\n",
    "        within_weights_dict[method][group] = mean_weight\n",
    "        within_percentiles_dict[method][group] = stats.percentileofscore(df[method].values, mean_weight, kind=\"rank\")\n",
    "\n",
    "# Generating a dataframe of percentiles of the mean in-group distance scores.\n",
    "heatmap_data = pd.DataFrame(within_percentiles_dict)\n",
    "heatmap_data = heatmap_data.dropna(axis=0, inplace=False)\n",
    "heatmap_data = heatmap_data.round(4)\n",
    "\n",
    "# Adding relevant information to this dataframe and saving.\n",
    "heatmap_data[\"mean_rank\"] = heatmap_data.rank().mean(axis=1)\n",
    "heatmap_data[\"mean_percentile\"] = heatmap_data.mean(axis=1)\n",
    "heatmap_data.sort_values(by=\"mean_percentile\", inplace=True)\n",
    "heatmap_data.reset_index(inplace=True)\n",
    "heatmap_data[\"group_id\"] = heatmap_data[\"index\"]\n",
    "heatmap_data[\"full_name\"] = heatmap_data[\"group_id\"].apply(lambda x: groups.get_long_name(x))\n",
    "heatmap_data[\"n\"] = heatmap_data[\"group_id\"].apply(lambda x: len(group_id_to_ids[x]))\n",
    "heatmap_data = heatmap_data[flatten([\"group_id\",\"full_name\",\"n\",\"mean_percentile\",\"mean_rank\",methods])]\n",
    "heatmap_data.to_csv(os.path.join(OUTPUT_DIR,\"within_distances.csv\"), index=False)\n",
    "heatmap_data.head(5)"
   ]
  },
  {
   "cell_type": "markdown",
   "metadata": {},
   "source": [
    "### Predicting whether two genes belong to a common biochemical pathway\n",
    "The purpose of this section is to see if whether or not two genes share atleast one common pathway can be predicted from the distance scores assigned using analysis of text similarity. The evaluation of predictability is done by reporting a precision and recall curve for each method, as well as remembering the area under the curve, and ratio between the area under the curve and the baseline (expected area when guessing randomly) for each method."
   ]
  },
  {
   "cell_type": "code",
   "execution_count": null,
   "metadata": {},
   "outputs": [],
   "source": [
    "y_true_dict = {name:df[\"shared\"] for name in methods}\n",
    "y_prob_dict = {name:(1 - df[name].values) for name in methods}\n",
    "num_plots, plots_per_row, row_width, row_height = (len(methods), 4, 14, 3)\n",
    "fig,axs = plt.subplots(math.ceil(num_plots/plots_per_row), plots_per_row, squeeze=False)\n",
    "for method,ax in zip(methods, axs.flatten()):\n",
    "    \n",
    "    # Obtaining the values and metrics.\n",
    "    y_true, y_prob = y_true_dict[method], y_prob_dict[method]\n",
    "    n_pos, n_neg = Counter(y_true)[1], Counter(y_true)[0]\n",
    "    precision, recall, thresholds = precision_recall_curve(y_true, y_prob)\n",
    "    baseline = Counter(y_true)[1]/len(y_true) \n",
    "    area = auc(recall, precision)\n",
    "    auc_to_baseline_auc_ratio = area/baseline\n",
    "    TABLE[method].update({\"auc\":area, \"baseline\":baseline, \"ratio\":auc_to_baseline_auc_ratio})\n",
    "\n",
    "    # Producing the precision recall curve.\n",
    "    step_kwargs = ({'step': 'post'} if 'step' in signature(plt.fill_between).parameters else {})\n",
    "    ax.step(recall, precision, color='black', alpha=0.2, where='post')\n",
    "    ax.fill_between(recall, precision, alpha=0.7, color='black', **step_kwargs)\n",
    "    ax.axhline(baseline, linestyle=\"--\", color=\"lightgray\")\n",
    "    ax.set_xlabel('Recall')\n",
    "    ax.set_ylabel('Precision')\n",
    "    ax.set_ylim([0.0, 1.05])\n",
    "    ax.set_xlim([0.0, 1.0])\n",
    "    ax.set_title(\"PR {0} (Baseline={1:0.3f})\".format(method, baseline))\n",
    "    \n",
    "fig.set_size_inches(row_width, row_height*math.ceil(num_plots/plots_per_row))\n",
    "fig.tight_layout()\n",
    "fig.savefig(os.path.join(OUTPUT_DIR,\"prcurve_shared.png\"),dpi=400)\n",
    "plt.close()"
   ]
  },
  {
   "cell_type": "markdown",
   "metadata": {},
   "source": [
    "### Are genes in the same biochemical pathway ranked higher with respect to individual nodes?\n",
    "This is a way of statistically seeing if for some value k, the graph ranks more edges from some particular gene to any other gene that it has a true protein-protein interaction with higher or equal to rank k, than we would expect due to random chance. This way of looking at the problem helps to be less ambiguous than the previous methods, because it gets at the core of how this would actually be used. In other words, we don't really care how much true information we're missing as long as we're still able to pick up some new useful information by building these networks, so even though we could be missing a lot, what's going on at the very top of the results? These results should be comparable to very strictly thresholding the network and saying that the remaining edges are our guesses at interactions. This is comparable to just looking at the far left-hand side of the precision recall curves, but just quantifies it slightly differently."
   ]
  },
  {
   "cell_type": "code",
   "execution_count": null,
   "metadata": {},
   "outputs": [],
   "source": [
    "# When the edgelist is generated above, only the lower triangle of the pairwise matrix is retained for edges in the \n",
    "# graph. This means that in terms of the indices of each node, only the (i,j) node is listed in the edge list where\n",
    "# i is less than j. This makes sense because the graph that's specified is assumed to already be undirected. However\n",
    "# in order to be able to easily subset the edgelist by a single column to obtain rows that correspond to all edges\n",
    "# connected to a particular node, this method will double the number of rows to include both (i,j) and (j,i) edges.\n",
    "df = pw.make_undirected(df)\n",
    "\n",
    "# What's the number of functional partners ranked k or higher in terms of phenotypic description similarity for \n",
    "# each gene? Also figure out the maximum possible number of functional partners that could be theoretically\n",
    "# recovered in this dataset if recovered means being ranked as k or higher here.\n",
    "k = 10      # The threshold of interest for gene ranks.\n",
    "n = 100     # Number of Monte Carlo simulation iterations to complete.\n",
    "df[list(methods)] = df.groupby(\"from\")[list(methods)].rank()\n",
    "ys = df[df[\"shared\"]==1][list(methods)].apply(lambda s: len([x for x in s if x<=k]))\n",
    "ymax = sum(df.groupby(\"from\")[\"shared\"].apply(lambda s: min(len([x for x in s if x==1]),k)))\n",
    "\n",
    "# Monte Carlo simulation to see what the probability is of achieving each y-value by just randomly pulling k \n",
    "# edges for each gene rather than taking the top k ones that the similarity methods specifies when ranking.\n",
    "ysims = [sum(df.groupby(\"from\")[\"shared\"].apply(lambda s: len([x for x in s.sample(k) if x>0.00]))) for i in range(n)]\n",
    "for method in methods:\n",
    "    pvalue = len([ysim for ysim in ysims if ysim>=ys[method]])/float(n)\n",
    "    TABLE[method].update({\"y\":ys[method], \"y_max\":ymax, \"y_ratio\":ys[method]/ymax, \"y_pval\":pvalue})"
   ]
  },
  {
   "cell_type": "markdown",
   "metadata": {},
   "source": [
    "### Predicting biochemical pathway or group membership based on mean vectors\n",
    "This section looks at how well the biochemical pathways that a particular gene is a member of can be predicted based on the similarity between the vector representation of the phenotype descriptions for that gene and the average vector for all the vector representations of phenotypes asociated with genes that belong to that particular pathway. In calculating the average vector for a given biochemical pathway, the vector corresponding to the gene that is currently being classified is not accounted for, to avoid overestimating the performance by including information about the ground truth during classification. This leads to missing information in the case of biochemical pathways that have only one member. This can be accounted for by only limiting the overall dataset to only include genes that belong to pathways that have atleast two genes mapped to them, and only including those pathways, or by removing the missing values before calculating the performance metrics below."
   ]
  },
  {
   "cell_type": "code",
   "execution_count": null,
   "metadata": {},
   "outputs": [],
   "source": [
    "# Get the list of methods to look at, and a mapping between each method and the correct similarity metric to apply.\n",
    "vector_dicts = {k:v.vector_dictionary for k,v in graphs.items()}\n",
    "methods = list(vector_dicts.keys())\n",
    "group_id_to_ids = groups.get_group_id_to_ids_dict(dataset.get_gene_dictionary())\n",
    "valid_group_ids = [group for group,id_list in group_id_to_ids.items() if len(id_list)>1]\n",
    "valid_ids = [i for i in dataset.get_ids() if len(set(valid_group_ids).intersection(set(id_to_group_ids[i])))>0]\n",
    "pred_dict = defaultdict(lambda: defaultdict(dict))\n",
    "true_dict = defaultdict(lambda: defaultdict(dict))\n",
    "for method in methods:\n",
    "    for group in valid_group_ids:\n",
    "        ids = group_id_to_ids[group]\n",
    "        for identifier in valid_ids:\n",
    "            # What's the mean vector of this group, without this particular one that we're trying to classify.\n",
    "            vectors = np.array([vector_dicts[method][some_id] for some_id in ids if not some_id==identifier])\n",
    "            mean_vector = vectors.mean(axis=0)\n",
    "            this_vector = vector_dicts[method][identifier]\n",
    "            pred_dict[method][identifier][group] = 1-metric_dict[method](mean_vector, this_vector)\n",
    "            true_dict[method][identifier][group] = (identifier in group_id_to_ids[group])*1                "
   ]
  },
  {
   "cell_type": "code",
   "execution_count": null,
   "metadata": {},
   "outputs": [],
   "source": [
    "num_plots, plots_per_row, row_width, row_height = (len(methods), 4, 14, 3)\n",
    "fig,axs = plt.subplots(math.ceil(num_plots/plots_per_row), plots_per_row, squeeze=False)\n",
    "for method,ax in zip(methods, axs.flatten()):\n",
    "    \n",
    "    # Obtaining the values and metrics.\n",
    "    y_true = pd.DataFrame(true_dict[method]).as_matrix().flatten()\n",
    "    y_prob = pd.DataFrame(pred_dict[method]).as_matrix().flatten()\n",
    "    n_pos, n_neg = Counter(y_true)[1], Counter(y_true)[0]\n",
    "    precision, recall, thresholds = precision_recall_curve(y_true, y_prob)\n",
    "    baseline = Counter(y_true)[1]/len(y_true) \n",
    "    area = auc(recall, precision)\n",
    "    auc_to_baseline_auc_ratio = area/baseline\n",
    "    TABLE[method].update({\"mean_auc\":area, \"mean_baseline\":baseline, \"mean_ratio\":auc_to_baseline_auc_ratio})\n",
    "\n",
    "    # Producing the precision recall curve.\n",
    "    step_kwargs = ({'step': 'post'} if 'step' in signature(plt.fill_between).parameters else {})\n",
    "    ax.step(recall, precision, color='black', alpha=0.2, where='post')\n",
    "    ax.fill_between(recall, precision, alpha=0.7, color='black', **step_kwargs)\n",
    "    ax.axhline(baseline, linestyle=\"--\", color=\"lightgray\")\n",
    "    ax.set_xlabel('Recall')\n",
    "    ax.set_ylabel('Precision')\n",
    "    ax.set_ylim([0.0, 1.05])\n",
    "    ax.set_xlim([0.0, 1.0])\n",
    "    ax.set_title(\"PR {0} (Baseline={1:0.3f})\".format(method[:10], baseline))\n",
    "    \n",
    "fig.set_size_inches(row_width, row_height*math.ceil(num_plots/plots_per_row))\n",
    "fig.tight_layout()\n",
    "fig.show()\n",
    "fig.savefig(os.path.join(OUTPUT_DIR,\"prcurve_mean_classifier.png\"),dpi=400)"
   ]
  },
  {
   "cell_type": "markdown",
   "metadata": {},
   "source": [
    "### Predicting biochemical pathway membership based on mean similarity values\n",
    "This section looks at how well the biochemical pathways that a particular gene is a member of can be predicted based on the average similarity between the vector representationt of the phenotype descriptions for that gene and each of the vector representations for other phenotypes associated with genes that belong to that particular pathway. In calculating the average similarity to other genes from a given biochemical pathway, the gene that is currently being classified is not accounted for, to avoid overestimating the performance by including information about the ground truth during classification. This leads to missing information in the case of biochemical pathways that have only one member. This can be accounted for by only limiting the overall dataset to only include genes that belong to pathways that have atleast two genes mapped to them, and only including those pathways, or by removing the missing values before calculating the performance metrics below."
   ]
  },
  {
   "cell_type": "markdown",
   "metadata": {},
   "source": [
    "### Predicting biochemical pathway or group membership with KNN classifier\n",
    "This section looks at how well the group(s) or biochemical pathway(s) that a particular gene belongs to can be predicted based on a KNN classifier generated using every other gene. For this section, only the groups or pathways which contain more than one gene, and the genes mapped to those groups or pathways, are of interest. This is because for other genes, if we consider them then it will be true that that gene belongs to that group in the target vector, but the KNN classifier could never predict this because when that gene is held out, nothing could provide a vote for that group, because there are zero genes available to be members of the K nearest neighbors."
   ]
  },
  {
   "cell_type": "code",
   "execution_count": null,
   "metadata": {},
   "outputs": [],
   "source": [
    "\"\"\"\n",
    "# Trying something new here\n",
    "valid_group_ids = [group for group,id_list in group_id_to_ids.items() if len(id_list)>1]\n",
    "valid_ids = [i for i in dataset.get_ids() if len(set(valid_group_ids).intersection(set(id_to_group_ids[i])))>0]\n",
    "\n",
    "# Leave one out predictions.\n",
    "pred_dict = defaultdict(lambda: defaultdict(dict))\n",
    "true_dict = defaultdict(lambda: defaultdict(dict))\n",
    "\n",
    "for method in methods[0:]:\n",
    "    print(method)    \n",
    "    print(vector_dicts[method][237][:20])\n",
    "    print(vector_dicts[method][116][:20])\n",
    "    X = [vector_dicts[method][identifier] for identifer in valid_ids]\n",
    "    y = [identifier for identifier in valid_ids]\n",
    "    neigh = KNeighborsClassifier(n_neighbors=4, metric=\"euclidean\")\n",
    "    neigh.fit(X,y)  \n",
    "    probs = neigh.kneighbors(return_distance=True)\n",
    "    for a in probs[0]:\n",
    "        for b in a:\n",
    "            print(float(b))\n",
    "    #print(probs[0])\n",
    "    print(probs[1])\n",
    "    #print(len(valid_ids))\n",
    "    #print(len(probs[1]))\n",
    "    #print(probs[1][478])\n",
    "    break\n",
    "\"\"\""
   ]
  },
  {
   "cell_type": "code",
   "execution_count": null,
   "metadata": {},
   "outputs": [],
   "source": [
    "\n",
    "\"\"\"\n",
    "valid_group_ids = [group for group,id_list in group_id_to_ids.items() if len(id_list)>1]\n",
    "valid_ids = [i for i in dataset.get_ids() if len(set(valid_group_ids).intersection(set(id_to_group_ids[i])))>0]\n",
    "\n",
    "# Leave one out predictions.\n",
    "pred_dict = defaultdict(lambda: defaultdict(dict))\n",
    "true_dict = defaultdict(lambda: defaultdict(dict))\n",
    "\n",
    "for method in methods:\n",
    "    for i in valid_ids:\n",
    "        ids = [identifier for identifier in valid_ids if identifier!=i]\n",
    "        # Make the labels just the ID's for that gene instead of pathways or groups, transform votes later.\n",
    "        X = [vector_dicts[method][identifier] for identifier in ids]\n",
    "        y = [identifier for identifier in ids]\n",
    "        neigh = KNeighborsClassifier(n_neighbors=5)\n",
    "        neigh.fit(X,y)\n",
    "        probs = neigh.predict_proba([vector_dicts[method][i]])\n",
    "        # The classes are given in lexicographic order from the predict_proba method.\n",
    "        # 1. Create a 2D binary array with a row for each group and a column for each gene.\n",
    "        # 2. Multiply each row of that 2D binary array with the 1D array that has the probability for each gene.\n",
    "        # 3. Find the sum of each row to get the score specific to each group for this particular gene.\n",
    "        # 4. Append to the arrays for the true binary classifications and the predictions for each group. \n",
    "        ids.sort()\n",
    "        binary_arr = np.array([[(group_id in id_to_group_ids[x])*1 for x in ids] for group_id in valid_group_ids]) \n",
    "        group_probs_by_gene = probs*binary_arr\n",
    "        group_probs = np.sum(group_probs_by_gene, axis=1)\n",
    "        for group_index,group_id in enumerate(valid_group_ids):\n",
    "            pred_dict[method][i][group_id] = group_probs[group_index]\n",
    "            true_dict[method][i][group_id] = (i in group_id_to_ids[group_id])*1\n",
    "\"\"\""
   ]
  },
  {
   "cell_type": "code",
   "execution_count": null,
   "metadata": {},
   "outputs": [],
   "source": [
    "\"\"\"\n",
    "num_plots, plots_per_row, row_width, row_height = (len(methods), 4, 14, 3)\n",
    "fig,axs = plt.subplots(math.ceil(num_plots/plots_per_row), plots_per_row, squeeze=False)\n",
    "for method,ax in zip(methods, axs.flatten()):\n",
    "    \n",
    "    # Obtaining the values and metrics.\n",
    "    y_true = pd.DataFrame(true_dict[method]).as_matrix().flatten()\n",
    "    y_prob = pd.DataFrame(pred_dict[method]).as_matrix().flatten()\n",
    "    n_pos, n_neg = Counter(y_true)[1], Counter(y_true)[0]\n",
    "    precision, recall, thresholds = precision_recall_curve(y_true, y_prob)\n",
    "    baseline = Counter(y_true)[1]/len(y_true) \n",
    "    area = auc(recall, precision)\n",
    "    auc_to_baseline_auc_ratio = area/baseline\n",
    "    TABLE[method].update({(TAG,\"knn_auc\"):area, (TAG,\"knn_baseline\"):baseline, (TAG,\"knn_ratio\"):auc_to_baseline_auc_ratio})\n",
    "\n",
    "    # Producing the precision recall curve.\n",
    "    step_kwargs = ({'step': 'post'} if 'step' in signature(plt.fill_between).parameters else {})\n",
    "    ax.step(recall, precision, color='black', alpha=0.2, where='post')\n",
    "    ax.fill_between(recall, precision, alpha=0.7, color='black', **step_kwargs)\n",
    "    ax.axhline(baseline, linestyle=\"--\", color=\"lightgray\")\n",
    "    ax.set_xlabel('Recall')\n",
    "    ax.set_ylabel('Precision')\n",
    "    ax.set_ylim([0.0, 1.05])\n",
    "    ax.set_xlim([0.0, 1.0])\n",
    "    ax.set_title(\"PR {0} (Baseline={1:0.3f})\".format(method, baseline))\n",
    "    \n",
    "fig.set_size_inches(row_width, row_height*math.ceil(num_plots/plots_per_row))\n",
    "fig.tight_layout()\n",
    "fig.show()\n",
    "fig.savefig(os.path.join(OUTPUT_DIR,\"prcurve_knn_classifier.png\"))\n",
    "\"\"\""
   ]
  },
  {
   "cell_type": "markdown",
   "metadata": {},
   "source": [
    "### Summarizing the results for this notebook"
   ]
  },
  {
   "cell_type": "code",
   "execution_count": null,
   "metadata": {},
   "outputs": [],
   "source": [
    "results = pd.DataFrame(TABLE).transpose()\n",
    "columns = flatten([\"Hyperparams\",\"Topic\",\"Data\",results.columns])\n",
    "results[\"Hyperparams\"] = \"\"\n",
    "results[\"Topic\"] = TOPIC\n",
    "results[\"Data\"] = DATA\n",
    "results = results[columns]\n",
    "results.reset_index(inplace=True)\n",
    "results = results.rename({\"index\":\"Method\"}, axis=\"columns\")\n",
    "hyperparam_sep = \":\"\n",
    "results[\"Hyperparams\"] = results[\"Method\"].map(lambda x: x.split(hyperparam_sep)[1] if hyperparam_sep in x else \"-\")\n",
    "results[\"Method\"] = results[\"Method\"].map(lambda x: x.split(hyperparam_sep)[0])\n",
    "results.to_csv(os.path.join(OUTPUT_DIR,\"full_table.csv\"), index=True)\n",
    "results"
   ]
  }
 ],
 "metadata": {
  "kernelspec": {
   "display_name": "Python 3",
   "language": "python",
   "name": "python3"
  },
  "language_info": {
   "codemirror_mode": {
    "name": "ipython",
    "version": 3
   },
   "file_extension": ".py",
   "mimetype": "text/x-python",
   "name": "python",
   "nbconvert_exporter": "python",
   "pygments_lexer": "ipython3",
   "version": "3.6.7"
  }
 },
 "nbformat": 4,
 "nbformat_minor": 2
}
