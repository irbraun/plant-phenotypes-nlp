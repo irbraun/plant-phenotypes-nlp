{
 "cells": [
  {
   "cell_type": "markdown",
   "metadata": {},
   "source": [
    "### TODO\n",
    "1. Change 'datasets' to 'biodata'\n",
    "2. Change 'annotation.annotation' to 'annotation.annotate'\n",
    "3. Change 'collapse_using_all_gene_names' to something more meaningful"
   ]
  },
  {
   "cell_type": "code",
   "execution_count": 1,
   "metadata": {},
   "outputs": [],
   "source": [
    "import pandas as pd\n",
    "import pprint\n",
    "from tabulate import tabulate\n",
    "import sys\n",
    "sys.path.append(\"../../oats\")"
   ]
  },
  {
   "cell_type": "markdown",
   "metadata": {},
   "source": [
    "# BioData"
   ]
  },
  {
   "cell_type": "code",
   "execution_count": 2,
   "metadata": {},
   "outputs": [
    {
     "data": {
      "text/html": [
       "<div>\n",
       "<style scoped>\n",
       "    .dataframe tbody tr th:only-of-type {\n",
       "        vertical-align: middle;\n",
       "    }\n",
       "\n",
       "    .dataframe tbody tr th {\n",
       "        vertical-align: top;\n",
       "    }\n",
       "\n",
       "    .dataframe thead th {\n",
       "        text-align: right;\n",
       "    }\n",
       "</style>\n",
       "<table border=\"1\" class=\"dataframe\">\n",
       "  <thead>\n",
       "    <tr style=\"text-align: right;\">\n",
       "      <th></th>\n",
       "      <th>id</th>\n",
       "      <th>species</th>\n",
       "      <th>gene_names</th>\n",
       "      <th>gene_synonyms</th>\n",
       "      <th>description</th>\n",
       "      <th>term_ids</th>\n",
       "      <th>sources</th>\n",
       "    </tr>\n",
       "  </thead>\n",
       "  <tbody>\n",
       "    <tr>\n",
       "      <th>0</th>\n",
       "      <td>0</td>\n",
       "      <td>ath</td>\n",
       "      <td>At1g74030</td>\n",
       "      <td>F2P9_10</td>\n",
       "      <td>Decreased root hair density. Distorted trichomes.</td>\n",
       "      <td>GO:0009507|PO:0001170</td>\n",
       "      <td>example</td>\n",
       "    </tr>\n",
       "    <tr>\n",
       "      <th>1</th>\n",
       "      <td>1</td>\n",
       "      <td>ath</td>\n",
       "      <td>At1g74030|ENO1</td>\n",
       "      <td>F2P9_10|AT1G74030.1</td>\n",
       "      <td>Trichomes are less turgescent and are distorte...</td>\n",
       "      <td>GO:0009735</td>\n",
       "      <td>example</td>\n",
       "    </tr>\n",
       "    <tr>\n",
       "      <th>2</th>\n",
       "      <td>2</td>\n",
       "      <td>ath</td>\n",
       "      <td>ENO1|enolase 1</td>\n",
       "      <td>F2P9_10|AT1G74030.1</td>\n",
       "      <td>Plants also have fewer root hairs with respect...</td>\n",
       "      <td>GO:0009735</td>\n",
       "      <td>example</td>\n",
       "    </tr>\n",
       "    <tr>\n",
       "      <th>3</th>\n",
       "      <td>3</td>\n",
       "      <td>ath</td>\n",
       "      <td>At3g56960|PIP5K4</td>\n",
       "      <td>phosphatidyl inositol monophosphate 5 kinase 4</td>\n",
       "      <td>Decreased stomatal opening.</td>\n",
       "      <td>PO:0009046</td>\n",
       "      <td>example</td>\n",
       "    </tr>\n",
       "    <tr>\n",
       "      <th>4</th>\n",
       "      <td>4</td>\n",
       "      <td>ath</td>\n",
       "      <td>At3g56960</td>\n",
       "      <td>T8M16.6</td>\n",
       "      <td>Delayed stomatal opening.</td>\n",
       "      <td>GO:0009860</td>\n",
       "      <td>example</td>\n",
       "    </tr>\n",
       "    <tr>\n",
       "      <th>5</th>\n",
       "      <td>5</td>\n",
       "      <td>zma</td>\n",
       "      <td>nec4|GRMZM5G870342</td>\n",
       "      <td>nec4|cpx1</td>\n",
       "      <td>Necrotic leaf. Affected tissue dies.</td>\n",
       "      <td></td>\n",
       "      <td>example</td>\n",
       "    </tr>\n",
       "    <tr>\n",
       "      <th>6</th>\n",
       "      <td>6</td>\n",
       "      <td>zma</td>\n",
       "      <td>GRMZM5G870342</td>\n",
       "      <td>cpx1|dks8</td>\n",
       "      <td>Pale green seedling.  Yellow green leaf.</td>\n",
       "      <td></td>\n",
       "      <td>example</td>\n",
       "    </tr>\n",
       "    <tr>\n",
       "      <th>7</th>\n",
       "      <td>7</td>\n",
       "      <td>zma</td>\n",
       "      <td>ccd8</td>\n",
       "      <td>Zmccd8</td>\n",
       "      <td>A plant with a thin culm, giving the plant an ...</td>\n",
       "      <td>GO:0010311|GO:0022622</td>\n",
       "      <td>example</td>\n",
       "    </tr>\n",
       "    <tr>\n",
       "      <th>8</th>\n",
       "      <td>8</td>\n",
       "      <td>zma</td>\n",
       "      <td>ccd8|GRMZM2G446858</td>\n",
       "      <td>ccd8-trDs|ccd8</td>\n",
       "      <td>Short plant.</td>\n",
       "      <td>GO:1901601</td>\n",
       "      <td>example</td>\n",
       "    </tr>\n",
       "    <tr>\n",
       "      <th>9</th>\n",
       "      <td>9</td>\n",
       "      <td>zma</td>\n",
       "      <td>ccd8|Zm00001d043442</td>\n",
       "      <td>ccd8|ccd8a</td>\n",
       "      <td>Slender plant.</td>\n",
       "      <td>GO:0010016</td>\n",
       "      <td>example</td>\n",
       "    </tr>\n",
       "  </tbody>\n",
       "</table>\n",
       "</div>"
      ],
      "text/plain": [
       "   id species           gene_names  \\\n",
       "0   0     ath            At1g74030   \n",
       "1   1     ath       At1g74030|ENO1   \n",
       "2   2     ath       ENO1|enolase 1   \n",
       "3   3     ath     At3g56960|PIP5K4   \n",
       "4   4     ath            At3g56960   \n",
       "5   5     zma   nec4|GRMZM5G870342   \n",
       "6   6     zma        GRMZM5G870342   \n",
       "7   7     zma                 ccd8   \n",
       "8   8     zma   ccd8|GRMZM2G446858   \n",
       "9   9     zma  ccd8|Zm00001d043442   \n",
       "\n",
       "                                    gene_synonyms  \\\n",
       "0                                         F2P9_10   \n",
       "1                             F2P9_10|AT1G74030.1   \n",
       "2                             F2P9_10|AT1G74030.1   \n",
       "3  phosphatidyl inositol monophosphate 5 kinase 4   \n",
       "4                                         T8M16.6   \n",
       "5                                       nec4|cpx1   \n",
       "6                                       cpx1|dks8   \n",
       "7                                          Zmccd8   \n",
       "8                                  ccd8-trDs|ccd8   \n",
       "9                                      ccd8|ccd8a   \n",
       "\n",
       "                                         description               term_ids  \\\n",
       "0  Decreased root hair density. Distorted trichomes.  GO:0009507|PO:0001170   \n",
       "1  Trichomes are less turgescent and are distorte...             GO:0009735   \n",
       "2  Plants also have fewer root hairs with respect...             GO:0009735   \n",
       "3                        Decreased stomatal opening.             PO:0009046   \n",
       "4                          Delayed stomatal opening.             GO:0009860   \n",
       "5               Necrotic leaf. Affected tissue dies.                          \n",
       "6           Pale green seedling.  Yellow green leaf.                          \n",
       "7  A plant with a thin culm, giving the plant an ...  GO:0010311|GO:0022622   \n",
       "8                                       Short plant.             GO:1901601   \n",
       "9                                     Slender plant.             GO:0010016   \n",
       "\n",
       "   sources  \n",
       "0  example  \n",
       "1  example  \n",
       "2  example  \n",
       "3  example  \n",
       "4  example  \n",
       "5  example  \n",
       "6  example  \n",
       "7  example  \n",
       "8  example  \n",
       "9  example  "
      ]
     },
     "execution_count": 2,
     "metadata": {},
     "output_type": "execute_result"
    }
   ],
   "source": [
    "from oats.datasets.dataset import Dataset\n",
    "data = Dataset(\"/Users/irbraun/oats/example/example.csv\")\n",
    "data.to_pandas()"
   ]
  },
  {
   "cell_type": "code",
   "execution_count": 3,
   "metadata": {},
   "outputs": [],
   "source": [
    "with open(\"/Users/irbraun/oats/example/readme_table_1.txt\", 'w') as outputfile:\n",
    "    outputfile.write(tabulate(data.to_pandas(), headers=\"keys\", showindex=\"never\"))"
   ]
  },
  {
   "cell_type": "code",
   "execution_count": 4,
   "metadata": {
    "scrolled": true
   },
   "outputs": [
    {
     "data": {
      "text/html": [
       "<div>\n",
       "<style scoped>\n",
       "    .dataframe tbody tr th:only-of-type {\n",
       "        vertical-align: middle;\n",
       "    }\n",
       "\n",
       "    .dataframe tbody tr th {\n",
       "        vertical-align: top;\n",
       "    }\n",
       "\n",
       "    .dataframe thead th {\n",
       "        text-align: right;\n",
       "    }\n",
       "</style>\n",
       "<table border=\"1\" class=\"dataframe\">\n",
       "  <thead>\n",
       "    <tr style=\"text-align: right;\">\n",
       "      <th></th>\n",
       "      <th>id</th>\n",
       "      <th>species</th>\n",
       "      <th>gene_names</th>\n",
       "      <th>gene_synonyms</th>\n",
       "      <th>description</th>\n",
       "      <th>term_ids</th>\n",
       "      <th>sources</th>\n",
       "    </tr>\n",
       "  </thead>\n",
       "  <tbody>\n",
       "    <tr>\n",
       "      <th>0</th>\n",
       "      <td>0</td>\n",
       "      <td>ath</td>\n",
       "      <td>At1g74030|ENO1|enolase 1</td>\n",
       "      <td>F2P9_10|AT1G74030.1</td>\n",
       "      <td>Decreased root hair density. Distorted trichom...</td>\n",
       "      <td>GO:0009507|PO:0001170|GO:0009735</td>\n",
       "      <td>example</td>\n",
       "    </tr>\n",
       "    <tr>\n",
       "      <th>1</th>\n",
       "      <td>1</td>\n",
       "      <td>ath</td>\n",
       "      <td>At3g56960|PIP5K4</td>\n",
       "      <td>phosphatidyl inositol monophosphate 5 kinase 4...</td>\n",
       "      <td>Decreased stomatal opening. Delayed stomatal o...</td>\n",
       "      <td>PO:0009046|GO:0009860</td>\n",
       "      <td>example</td>\n",
       "    </tr>\n",
       "    <tr>\n",
       "      <th>2</th>\n",
       "      <td>2</td>\n",
       "      <td>zma</td>\n",
       "      <td>nec4|GRMZM5G870342</td>\n",
       "      <td>nec4|cpx1|dks8</td>\n",
       "      <td>Necrotic leaf. Affected tissue dies. Pale gree...</td>\n",
       "      <td></td>\n",
       "      <td>example</td>\n",
       "    </tr>\n",
       "    <tr>\n",
       "      <th>3</th>\n",
       "      <td>3</td>\n",
       "      <td>zma</td>\n",
       "      <td>ccd8|GRMZM2G446858|Zm00001d043442</td>\n",
       "      <td>Zmccd8|ccd8-trDs|ccd8|ccd8a</td>\n",
       "      <td>A plant with a thin culm, giving the plant an ...</td>\n",
       "      <td>GO:0010311|GO:0022622|GO:1901601|GO:0010016</td>\n",
       "      <td>example</td>\n",
       "    </tr>\n",
       "  </tbody>\n",
       "</table>\n",
       "</div>"
      ],
      "text/plain": [
       "   id species                         gene_names  \\\n",
       "0   0     ath           At1g74030|ENO1|enolase 1   \n",
       "1   1     ath                   At3g56960|PIP5K4   \n",
       "2   2     zma                 nec4|GRMZM5G870342   \n",
       "3   3     zma  ccd8|GRMZM2G446858|Zm00001d043442   \n",
       "\n",
       "                                       gene_synonyms  \\\n",
       "0                                F2P9_10|AT1G74030.1   \n",
       "1  phosphatidyl inositol monophosphate 5 kinase 4...   \n",
       "2                                     nec4|cpx1|dks8   \n",
       "3                        Zmccd8|ccd8-trDs|ccd8|ccd8a   \n",
       "\n",
       "                                         description  \\\n",
       "0  Decreased root hair density. Distorted trichom...   \n",
       "1  Decreased stomatal opening. Delayed stomatal o...   \n",
       "2  Necrotic leaf. Affected tissue dies. Pale gree...   \n",
       "3  A plant with a thin culm, giving the plant an ...   \n",
       "\n",
       "                                      term_ids  sources  \n",
       "0             GO:0009507|PO:0001170|GO:0009735  example  \n",
       "1                        PO:0009046|GO:0009860  example  \n",
       "2                                               example  \n",
       "3  GO:0010311|GO:0022622|GO:1901601|GO:0010016  example  "
      ]
     },
     "execution_count": 4,
     "metadata": {},
     "output_type": "execute_result"
    }
   ],
   "source": [
    "data.collapse_by_all_gene_names()\n",
    "data.filter_has_description()\n",
    "data.to_pandas()"
   ]
  },
  {
   "cell_type": "code",
   "execution_count": 5,
   "metadata": {},
   "outputs": [],
   "source": [
    "with open(\"/Users/irbraun/oats/example/readme_table_2.txt\", 'w') as outputfile:\n",
    "    outputfile.write(tabulate(data.to_pandas(), headers=\"keys\", showindex=\"never\"))"
   ]
  },
  {
   "cell_type": "code",
   "execution_count": 6,
   "metadata": {},
   "outputs": [
    {
     "name": "stdout",
     "output_type": "stream",
     "text": [
      "{0: ['PWY-1042',\n",
      "     'PWY-5723',\n",
      "     'PWY66-399',\n",
      "     'PWY-5484',\n",
      "     'GLUCONEO-PWY',\n",
      "     'GLYCOLYSIS'],\n",
      " 1: ['PWY-6351', 'PWY-6352'],\n",
      " 2: [],\n",
      " 3: ['PWY-7101', 'PWY-6806']}\n"
     ]
    }
   ],
   "source": [
    "from oats.datasets.groupings import Groupings\n",
    "\n",
    "pathway_species_files = {\n",
    "    \"ath\":\"../data/group_related_files/pmn/aracyc_pathways.20180702\", \n",
    "    \"zma\":\"../data/group_related_files/pmn/corncyc_pathways.20180702\"}\n",
    "groupings = Groupings(pathway_species_files, \"pmn\")\n",
    "id_to_groups, group_to_ids = groupings.get_groupings_for_dataset(data)\n",
    "pprint.pprint(id_to_groups)"
   ]
  },
  {
   "cell_type": "markdown",
   "metadata": {},
   "source": [
    "# Annotation"
   ]
  },
  {
   "cell_type": "code",
   "execution_count": 7,
   "metadata": {},
   "outputs": [],
   "source": [
    "from oats.annotation.ontology import Ontology\n",
    "from oats.annotation.annotation import annotate_using_noble_coder"
   ]
  },
  {
   "cell_type": "code",
   "execution_count": 8,
   "metadata": {},
   "outputs": [
    {
     "name": "stdout",
     "output_type": "stream",
     "text": [
      "{0: 'Decreased root hair density. Distorted trichomes. Trichomes are less '\n",
      "    'turgescent and are distorted with respect to the wild type. Plants also '\n",
      "    'have fewer root hairs with respect to wild type.',\n",
      " 1: 'Decreased stomatal opening. Delayed stomatal opening.',\n",
      " 2: 'Necrotic leaf. Affected tissue dies. Pale green seedling.  Yellow green '\n",
      "    'leaf.',\n",
      " 3: 'A plant with a thin culm, giving the plant an overall slender appearance. '\n",
      "    'Small ears. Short plant. Slender plant.'}\n"
     ]
    }
   ],
   "source": [
    "ont = Ontology(\"../ontologies/pato.obo\")\n",
    "descriptions = data.get_description_dictionary()\n",
    "pprint.pprint(descriptions)"
   ]
  },
  {
   "cell_type": "code",
   "execution_count": 9,
   "metadata": {},
   "outputs": [
    {
     "name": "stdout",
     "output_type": "stream",
     "text": [
      "{0: ['PATO:0001019',\n",
      "     'PATO:0001617',\n",
      "     'PO:0000282',\n",
      "     'PATO:0001997',\n",
      "     'PO:0009005'],\n",
      " 1: ['PATO:0001997', 'PATO:0000502'],\n",
      " 2: ['PATO:0001941', 'PO:0025034', 'PATO:0001272', 'PATO:0000647'],\n",
      " 3: ['PATO:0002212',\n",
      "     'PATO:0000574',\n",
      "     'PATO:0000592',\n",
      "     'PATO:0000569',\n",
      "     'PATO:0000587']}\n"
     ]
    }
   ],
   "source": [
    "noblecoder_jarfile_path = \"../lib/NobleCoder-1.0.jar\"      \n",
    "annots = annotate_using_noble_coder(descriptions, noblecoder_jarfile_path, \"mo\", precise=1)\n",
    "pprint.pprint(annots)"
   ]
  },
  {
   "cell_type": "markdown",
   "metadata": {},
   "source": [
    "# Distances"
   ]
  },
  {
   "cell_type": "code",
   "execution_count": 10,
   "metadata": {},
   "outputs": [],
   "source": [
    "from oats.graphs import pairwise as pw\n",
    "import gensim\n",
    "\n",
    "model = gensim.models.Doc2Vec.load(\"../gensim/enwiki_dbow/doc2vec.bin\" )"
   ]
  },
  {
   "cell_type": "code",
   "execution_count": 11,
   "metadata": {},
   "outputs": [
    {
     "name": "stdout",
     "output_type": "stream",
     "text": [
      "array([[0.    , 0.375 , 0.3715, 0.3413],\n",
      "       [0.375 , 0.    , 0.3743, 0.4075],\n",
      "       [0.3715, 0.3743, 0.    , 0.3178],\n",
      "       [0.3413, 0.4075, 0.3178, 0.    ]])\n"
     ]
    }
   ],
   "source": [
    "dists = pw.pairwise_square_doc2vec(model=model, ids_to_texts=descriptions, metric=\"cosine\")    \n",
    "pprint.pprint(dists.array.round(4))"
   ]
  },
  {
   "cell_type": "code",
   "execution_count": 12,
   "metadata": {},
   "outputs": [
    {
     "name": "stdout",
     "output_type": "stream",
     "text": [
      "array([[0.    , 0.9583, 1.    , 0.9375],\n",
      "       [0.9583, 0.    , 1.    , 1.    ],\n",
      "       [1.    , 1.    , 0.    , 1.    ],\n",
      "       [0.9375, 1.    , 1.    , 0.    ]])\n"
     ]
    }
   ],
   "source": [
    "dists = pw.pairwise_square_ngrams(ids_to_texts=descriptions, binary=True, metric=\"jaccard\")    \n",
    "pprint.pprint(dists.array.round(4))"
   ]
  },
  {
   "cell_type": "code",
   "execution_count": 13,
   "metadata": {},
   "outputs": [
    {
     "data": {
      "text/plain": [
       "[['0.0000', '0.1287', '1.0864', '1.0912'],\n",
       " ['0.1287', '0.0000', '0.9750', '0.9805'],\n",
       " ['1.0864', '0.9750', '0.0000', '1.0428'],\n",
       " ['1.0912', '0.9805', '1.0428', '0.0000']]"
      ]
     },
     "execution_count": 13,
     "metadata": {},
     "output_type": "execute_result"
    }
   ],
   "source": [
    "dists = pw.pairwise_square_topic_model(ids_to_texts=descriptions, num_topics=3, algorithm=\"lda\", metric=\"euclidean\")\n",
    "array_to_print = [[\"{:.4f}\".format(i) for i in x] for x in dists.array.round(4).tolist()]\n",
    "array_to_print"
   ]
  }
 ],
 "metadata": {
  "kernelspec": {
   "display_name": "Python 3",
   "language": "python",
   "name": "python3"
  },
  "language_info": {
   "codemirror_mode": {
    "name": "ipython",
    "version": 3
   },
   "file_extension": ".py",
   "mimetype": "text/x-python",
   "name": "python",
   "nbconvert_exporter": "python",
   "pygments_lexer": "ipython3",
   "version": "3.6.10"
  }
 },
 "nbformat": 4,
 "nbformat_minor": 4
}
