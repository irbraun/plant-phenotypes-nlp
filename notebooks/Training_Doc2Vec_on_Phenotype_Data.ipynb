{
 "cells": [
  {
   "cell_type": "code",
   "execution_count": 17,
   "metadata": {},
   "outputs": [],
   "source": [
    "import gensim\n",
    "from gensim.models.doc2vec import TaggedDocument\n",
    "from gensim.utils import simple_preprocess\n",
    "from nltk.tokenize import sent_tokenize"
   ]
  },
  {
   "cell_type": "code",
   "execution_count": 31,
   "metadata": {},
   "outputs": [
    {
     "name": "stdout",
     "output_type": "stream",
     "text": [
      "8714\n",
      "Mature seeds from TCDD-treated plants had a characteristic 'wrinkled' phenotype, due to a two-thirds reduction in storage oil content.\n"
     ]
    }
   ],
   "source": [
    "# Reading in a file of domain specific sentences and splitting into sentences.\n",
    "pubmed_file = open(\"../data/corpus_related_files/phenotypes.txt\", \"r\")\n",
    "pubmed_text = pubmed_file.read()\n",
    "sentences = sent_tokenize(pubmed_text)\n",
    "print(len(sentences))\n",
    "print(sentences[10])"
   ]
  },
  {
   "cell_type": "code",
   "execution_count": 23,
   "metadata": {},
   "outputs": [],
   "source": [
    "# Defining the parameters of the neural network architecture.\n",
    "model = gensim.models.Doc2Vec(vector_size=50, window=10, min_count=5,\n",
    "                              dm=0, workers=5, alpha=0.025, min_alpha=0.025, dbow_words=1)\n"
   ]
  },
  {
   "cell_type": "code",
   "execution_count": 24,
   "metadata": {},
   "outputs": [],
   "source": [
    "# Preprocessing the documents to be trained on and building the vocabulary.\n",
    "tagged_docs = [TaggedDocument(words=simple_preprocess(s),tags=[str(i)]) for i,s in enumerate(sentences)]\n",
    "model.build_vocab(tagged_docs)"
   ]
  },
  {
   "cell_type": "code",
   "execution_count": 30,
   "metadata": {},
   "outputs": [
    {
     "name": "stdout",
     "output_type": "stream",
     "text": [
      "done\n"
     ]
    }
   ],
   "source": [
    "# Training the neural network.\n",
    "for epoch in range(10):\n",
    "    model.train(tagged_docs, total_examples=model.corpus_count, epochs=model.epochs)\n",
    "    model.alpha -= 0.002            \n",
    "    model.min_alpha = model.alpha\n",
    "model.save(\"~/Desktop/d2v.model\")\n",
    "print(\"done training the model\")"
   ]
  },
  {
   "cell_type": "code",
   "execution_count": 29,
   "metadata": {},
   "outputs": [
    {
     "name": "stdout",
     "output_type": "stream",
     "text": [
      "50\n",
      "[ 0.0418266   0.03466936  0.01736131  0.0155553   0.00016852  0.00311598\n",
      "  0.01578575  0.00169799 -0.00484718 -0.04370518  0.00330157 -0.00660684\n",
      " -0.02789894  0.00524455  0.03194927  0.0123938  -0.03595645 -0.03343406\n",
      " -0.03144282 -0.02247731  0.03311845 -0.01197104 -0.00089079 -0.0561268\n",
      " -0.0065956   0.025377    0.04317247  0.02390894 -0.04295226  0.0333932\n",
      "  0.02051943  0.03643946 -0.01223893  0.02467978 -0.04448348  0.00768033\n",
      "  0.0447182  -0.01389654 -0.02495522  0.03341421 -0.01288814  0.02079169\n",
      " -0.0131418  -0.01154218 -0.01971311 -0.0239888  -0.00420546 -0.02453563\n",
      " -0.02087302  0.02626954]\n"
     ]
    }
   ],
   "source": [
    "# Checking to make sure the model can be loaded and used for the inference step.\n",
    "model = gensim.models.Doc2Vec.load(\"~/Desktop/d2v.model\")\n",
    "text = \"some example text of something we want to embed\"\n",
    "vector = model.infer_vector(simple_preprocess(text))\n",
    "print(len(vector))\n",
    "print(vector)"
   ]
  }
 ],
 "metadata": {
  "kernelspec": {
   "display_name": "Python 3",
   "language": "python",
   "name": "python3"
  },
  "language_info": {
   "codemirror_mode": {
    "name": "ipython",
    "version": 3
   },
   "file_extension": ".py",
   "mimetype": "text/x-python",
   "name": "python",
   "nbconvert_exporter": "python",
   "pygments_lexer": "ipython3",
   "version": "3.6.7"
  }
 },
 "nbformat": 4,
 "nbformat_minor": 2
}
