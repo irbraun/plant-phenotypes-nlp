{
 "cells": [
  {
   "cell_type": "code",
   "execution_count": null,
   "metadata": {},
   "outputs": [],
   "source": [
    "import gensim\n",
    "from gensim.models.doc2vec import TaggedDocument\n",
    "from gensim.utils import simple_preprocess\n",
    "from nltk.tokenize import sent_tokenize"
   ]
  },
  {
   "cell_type": "code",
   "execution_count": null,
   "metadata": {},
   "outputs": [],
   "source": [
    "# Reading in a file of domain specific sentences and splitting into sentences.\n",
    "pubmed_file = open(\"../data/corpus_related_files/phenotypes_large.txt\", \"r\")\n",
    "pubmed_text = pubmed_file.read()\n",
    "sentences = sent_tokenize(pubmed_text)\n",
    "print(len(sentences))\n",
    "print(sentences[10])"
   ]
  },
  {
   "cell_type": "code",
   "execution_count": null,
   "metadata": {},
   "outputs": [],
   "source": [
    "# Defining the parameters of the neural network architecture.\n",
    "model = gensim.models.Doc2Vec(vector_size=50, window=10, min_count=5,\n",
    "                              dm=0, workers=5, alpha=0.025, min_alpha=0.025, dbow_words=1)\n"
   ]
  },
  {
   "cell_type": "code",
   "execution_count": null,
   "metadata": {},
   "outputs": [],
   "source": [
    "# Preprocessing the documents to be trained on and building the vocabulary.\n",
    "tagged_docs = [TaggedDocument(words=simple_preprocess(s),tags=[str(i)]) for i,s in enumerate(sentences)]\n",
    "model.build_vocab(tagged_docs)"
   ]
  },
  {
   "cell_type": "code",
   "execution_count": null,
   "metadata": {},
   "outputs": [],
   "source": [
    "# Training the neural network.\n",
    "for epoch in range(10):\n",
    "    print(\"e\")\n",
    "    model.train(tagged_docs, total_examples=model.corpus_count, epochs=model.epochs)\n",
    "    model.alpha -= 0.002            \n",
    "    model.min_alpha = model.alpha\n",
    "model.save(\"./doc2vec_pubmed.model\")\n",
    "print(\"done training the model\")"
   ]
  },
  {
   "cell_type": "code",
   "execution_count": null,
   "metadata": {},
   "outputs": [],
   "source": [
    "# Checking to make sure the model can be loaded and used for the inference step.\n",
    "model = gensim.models.Doc2Vec.load(\"~/Desktop/d2v.model\")\n",
    "text = \"some example text of something we want to embed\"\n",
    "vector = model.infer_vector(simple_preprocess(text))\n",
    "print(len(vector))\n",
    "print(vector)"
   ]
  }
 ],
 "metadata": {
  "kernelspec": {
   "display_name": "Python 3",
   "language": "python",
   "name": "python3"
  },
  "language_info": {
   "codemirror_mode": {
    "name": "ipython",
    "version": 3
   },
   "file_extension": ".py",
   "mimetype": "text/x-python",
   "name": "python",
   "nbconvert_exporter": "python",
   "pygments_lexer": "ipython3",
   "version": "3.6.7"
  }
 },
 "nbformat": 4,
 "nbformat_minor": 2
}
