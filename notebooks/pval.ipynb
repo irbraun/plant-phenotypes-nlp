{
 "cells": [
  {
   "cell_type": "code",
   "execution_count": null,
   "metadata": {},
   "outputs": [],
   "source": [
    "import pandas as pd\n",
    "import numpy as np"
   ]
  },
  {
   "cell_type": "code",
   "execution_count": null,
   "metadata": {},
   "outputs": [],
   "source": [
    "df = pd.read_csv(\"/Users/irbraun/Desktop/all_pmn_only_within_distances_melted.csv\")\n",
    "df.head()\n",
    "\n",
    "\n",
    "df.shape\n",
    "\n",
    "#379*4"
   ]
  },
  {
   "cell_type": "code",
   "execution_count": null,
   "metadata": {},
   "outputs": [],
   "source": [
    "def benjamini_hochberg(unadjusted_p_values, alpha):\n",
    "    m = len(unadjusted_p_values)\n",
    "    bhdf = pd.DataFrame({\"p_value\":unadjusted_p_values})\n",
    "    bhdf[\"rank\"] = bhdf.rank(axis=\"rows\", method=\"first\", ascending=True)\n",
    "    assert bhdf[\"rank\"].min() == 1\n",
    "    assert bhdf[\"rank\"].max() == m\n",
    "    assert len(pd.unique(bhdf[\"rank\"])) == m\n",
    "    bhdf[\"total\"] = m\n",
    "    bhdf[\"fraction\"] = bhdf[\"rank\"]/bhdf[\"total\"]\n",
    "    bhdf[\"threshold\"] = alpha*bhdf[\"fraction\"]\n",
    "    bhdf[\"significant\"] = (bhdf[\"p_value\"]<=bhdf[\"threshold\"])\n",
    "    return(bhdf[\"significant\"].values)\n",
    "\n",
    "\n",
    "\n",
    "    \n",
    "\n",
    "df[\"bh\"] = df.groupby(\"approach\")[\"p_value\"].transform(benjamini_hochberg, alpha=0.05)\n",
    "df[\"frac\"] = df.groupby(\"approach\")[\"bh\"].transform(lambda x: x.sum()/x.count())\n",
    "df\n",
    "    \n",
    "    \n",
    "    \n",
    "    \n",
    "    \n",
    "    \n",
    "#df[\"s\"] =  benjamini_hochberg(df[\"p_value\"].values, 0.05)\n",
    "#df[\"s\"].sum()"
   ]
  },
  {
   "cell_type": "code",
   "execution_count": null,
   "metadata": {},
   "outputs": [],
   "source": [
    "tdf = pd.DataFrame(df.groupby(\"approach\")[\"p_value\",\"p_adjusted\"].agg(lambda x: sum(x<=significance_threshold)))"
   ]
  }
 ],
 "metadata": {
  "kernelspec": {
   "display_name": "Python 3",
   "language": "python",
   "name": "python3"
  },
  "language_info": {
   "codemirror_mode": {
    "name": "ipython",
    "version": 3
   },
   "file_extension": ".py",
   "mimetype": "text/x-python",
   "name": "python",
   "nbconvert_exporter": "python",
   "pygments_lexer": "ipython3",
   "version": "3.6.10"
  }
 },
 "nbformat": 4,
 "nbformat_minor": 4
}
