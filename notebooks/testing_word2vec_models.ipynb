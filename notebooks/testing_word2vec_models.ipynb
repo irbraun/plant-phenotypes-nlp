{
 "cells": [
  {
   "cell_type": "code",
   "execution_count": null,
   "metadata": {},
   "outputs": [],
   "source": [
    "# For the models available from here, load them this way through gensim, see that reference.\n",
    "# http://bio.nlplab.org/#doc-tools\n",
    "# http://evexdb.org/pmresources/vec-space-models/\n",
    "\n",
    "path1 = \"../models/bio_nlp_lab/PMC-w2v.bin\"\n",
    "path2 = \"../models/bio_nlp_lab/PubMed-w2v.bin\"\n",
    "#path3 = \"../models/bio_nlp_lab/PubMed-and-PMC-w2v.bin\"\n",
    "path4 = \"../models/bio_nlp_lab/wikipedia-pubmed-and-PMC-w2v.bin\"\n",
    "\n",
    "\n",
    "\n",
    "from gensim.models import KeyedVectors\n",
    "model = KeyedVectors.load_word2vec_format(path4, binary=True)\n",
    "\n",
    "\n",
    "\n",
    "# Checking to make sure the model can be loaded and used for looking up embeddings.\n",
    "#model = gensim.models.Word2Vec.load(output_model_path)\n",
    "a_word_in_vocab = list(model.wv.vocab.keys())[0]\n",
    "vector = model[a_word_in_vocab]\n",
    "print(len(vector))\n",
    "print(vector)\n",
    "print(\"done testing the model\") "
   ]
  }
 ],
 "metadata": {
  "kernelspec": {
   "display_name": "Python 3",
   "language": "python",
   "name": "python3"
  },
  "language_info": {
   "codemirror_mode": {
    "name": "ipython",
    "version": 3
   },
   "file_extension": ".py",
   "mimetype": "text/x-python",
   "name": "python",
   "nbconvert_exporter": "python",
   "pygments_lexer": "ipython3",
   "version": "3.6.10"
  }
 },
 "nbformat": 4,
 "nbformat_minor": 4
}
