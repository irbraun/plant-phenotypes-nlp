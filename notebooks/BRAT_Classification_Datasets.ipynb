{
 "cells": [
  {
   "cell_type": "code",
   "execution_count": 2,
   "metadata": {},
   "outputs": [],
   "source": [
    "from nltk.tokenize import sent_tokenize\n",
    "import pandas as pd\n",
    "import sys\n",
    "import time\n",
    "sys.path.append(\"../../oats\")\n",
    "from oats.pubmed.query import search, fetch_details"
   ]
  },
  {
   "cell_type": "code",
   "execution_count": null,
   "metadata": {},
   "outputs": [],
   "source": [
    "# Creating the dataset of sentences related to Arabidopsis phenotypes.\n",
    "query = \"arabidopsis AND phenotype\"\n",
    "limit = 5\n",
    "results = search(query, limit)\n",
    "id_list = results[\"IdList\"]\n",
    "papers = fetch_details(id_list)\n",
    "\n",
    "# A list of the sentences and a list of the corresponding PubMed IDs of the same length.\n",
    "sentences = []\n",
    "pubmed_ids = []\n",
    "for i, paper in enumerate(papers['PubmedArticle']):\n",
    "    try:\n",
    "        abstract_text = paper['MedlineCitation']['Article']['Abstract'][\"AbstractText\"][0]\n",
    "        abstract_sentences = sent_tokenize(abstract_text)\n",
    "        for sentence in abstract_sentences:\n",
    "            sentences.append(sentence)\n",
    "            pubmed_ids.append(id_list[i])\n",
    "    except KeyError:\n",
    "        continue"
   ]
  },
  {
   "cell_type": "code",
   "execution_count": 14,
   "metadata": {},
   "outputs": [],
   "source": [
    "# Produce a text file that can be annotated using brat.\n",
    "# The process of annotating with brat should then produce the ann file.\n",
    "deliminated_sentences = \"\\n[DELIM]\\n\".join(sentences)\n",
    "file_to_annotate = open(\"/Users/irbraun/Desktop/sentences.txt\",\"w\")\n",
    "file_to_annotate.write(deliminated_sentences)\n",
    "file_to_annotate.close()"
   ]
  },
  {
   "cell_type": "code",
   "execution_count": 7,
   "metadata": {},
   "outputs": [],
   "source": [
    "# Map the annotations made using brat back to the full sentences.\n",
    "annotations_path = \"/Users/irbraun/brat/brat-v1.3_Crunchy_Frog/data/plants/sentences.ann\"\n",
    "header = [\"num\",\"tag\",\"start\",\"end\",\"first_word\"]\n",
    "annotations = pd.read_table(annotations_path, names=header, delim_whitespace=True)\n",
    "get_sentence_index = lambda x: len(x.split(\"[DELIM]\"))-1\n",
    "indices = [get_sentence_index(deliminated_sentences[:i]) for i in annotations[\"start\"].values]"
   ]
  },
  {
   "cell_type": "code",
   "execution_count": 13,
   "metadata": {},
   "outputs": [
    {
     "name": "stdout",
     "output_type": "stream",
     "text": [
      "        pmid                                           sentence  tag\n",
      "10  29394403  Mature seeds from TCDD-treated plants had a ch...    1\n",
      "14  29394403  Our findings reveal novel effects of dioxins t...    1\n",
      "22  27302005  Similar to Arabidopsis WT seedlings, the suspe...    1\n",
      "23  27302005  However, the exponential growth rate of the ce...    1\n",
      "26  27302005  The stay-green, sugar-insensitive phenotype of...    1\n",
      "0   30824017  DNA methylation carried out by different methy...    0\n",
      "1   30824017  Accordingly, in Arabidopsis thaliana loss of D...    0\n",
      "2   30824017  The present study describes novel growth disor...    0\n",
      "3   30824017  By using an auxin responsive reporter gene, we...    0\n",
      "4   30824017  In addition, we demonstrated that the defectiv...    0\n",
      "5   30824017  Finally, we provided evidence of the direct an...    0\n",
      "31  29487188  Splicing of pre-mRNA involves two consecutive ...    0\n",
      "32  29487188  In addition to core spliceosomal proteins, eac...    0\n",
      "33  29487188  Although the <i>Arabidopsis thaliana</i> genom...    0\n",
      "34  29487188  In a forward genetic screen based on an altern...    0\n",
      "35  29487188  Step II entails cleavage at the 3' splice site...    0\n",
      "36  29487188  In the <i>prp18</i> mutant, splicing of a U2-t...    0\n",
      "37  29487188  These findings suggest that wild-type PRP18a m...    0\n",
      "38  29487188  Analysis of genome-wide changes in alternative...    0\n",
      "39  29487188  The <i>prp18a</i> mutant featured short roots ...    0\n"
     ]
    }
   ],
   "source": [
    "# Create a pandas dataframe with all the annotations and the PubMed IDs.\n",
    "dataset_path = \"~/Desktop/arabidopsis_sentence_dataset.csv\"\n",
    "tags = [(i in indices)*1 for i in range(len(sentences))]\n",
    "df = pd.DataFrame({\"pmid\":pubmed_ids,\"sentence\":sentences,\"tag\":tags})\n",
    "df.sort_values(by=[\"tag\",\"pmid\"], inplace=True, ascending=False)\n",
    "df.to_csv(dataset_path, index=False)\n",
    "print(df.head(20))"
   ]
  }
 ],
 "metadata": {
  "kernelspec": {
   "display_name": "Python 3",
   "language": "python",
   "name": "python3"
  },
  "language_info": {
   "codemirror_mode": {
    "name": "ipython",
    "version": 3
   },
   "file_extension": ".py",
   "mimetype": "text/x-python",
   "name": "python",
   "nbconvert_exporter": "python",
   "pygments_lexer": "ipython3",
   "version": "3.6.7"
  }
 },
 "nbformat": 4,
 "nbformat_minor": 2
}
