{
 "cells": [
  {
   "cell_type": "markdown",
   "metadata": {},
   "source": [
    "### Constructing a combined dataset from multiple sources\n",
    "Something here."
   ]
  },
  {
   "cell_type": "code",
   "execution_count": 21,
   "metadata": {},
   "outputs": [],
   "source": [
    "import pandas as pd\n",
    "import numpy as np\n",
    "import time\n",
    "import sys\n",
    "import os\n",
    "import gensim\n",
    "import warnings\n",
    "import itertools\n",
    "import multiprocessing as mp\n",
    "from sklearn.model_selection import train_test_split\n",
    "import matplotlib.pyplot as plt\n",
    "\n",
    "# Other modules imported from the local package.\n",
    "sys.path.append(\"../../oats\")\n",
    "from oats.utils.utils import save_to_pickle, load_from_pickle\n",
    "from oats.utils.utils import function_wrapper, to_hms\n",
    "\n",
    "# Setting some options to make notebook output clearer.\n",
    "pd.set_option('mode.chained_assignment', None)\n",
    "pd.set_option('display.multi_sparse', False)\n",
    "warnings.simplefilter('ignore')"
   ]
  },
  {
   "cell_type": "code",
   "execution_count": 3,
   "metadata": {},
   "outputs": [
    {
     "name": "stdout",
     "output_type": "stream",
     "text": [
      "Number of rows in the dataframe: 5229\n",
      "Number of unique IDs:            5229\n",
      "Number of unique descriptions:   3051\n",
      "Number of unique gene name sets: 5229\n",
      "Number of species represented:   1\n"
     ]
    }
   ],
   "source": [
    "from oats.datasets.dataset import Dataset\n",
    "\n",
    "# Put together a complete dataset from files that have been formatted correctly in the other notebooks.\n",
    "dataset = Dataset()\n",
    "dataset.add_data(pd.read_csv(\"../data/reshaped_files/ath_tair_gene_text.csv\", lineterminator=\"\\n\"))\n",
    "dataset.add_data(pd.read_csv(\"../data/reshaped_files/ath_tair_gene_annot_go.csv\", lineterminator=\"\\n\"))\n",
    "#dataset.add_data(pd.read_csv(\"../data/reshaped_files/ath_tair_gene_annot_po.csv\", lineterminator=\"\\n\"))\n",
    "dataset.collapse_by_first_gene_name()\n",
    "dataset.filter_has_description()\n",
    "dataset.filter_has_annotation()\n",
    "dataset.describe()"
   ]
  },
  {
   "cell_type": "markdown",
   "metadata": {},
   "source": [
    "### Looking at what pathways or groups are represented by genes in that dataset\n",
    "something more here"
   ]
  },
  {
   "cell_type": "code",
   "execution_count": 4,
   "metadata": {},
   "outputs": [
    {
     "name": "stdout",
     "output_type": "stream",
     "text": [
      "Of the 5229 genes in the dataset, 661 are mapped to atleast one pathway.\n",
      "16      PWY-5080 PWY-7036\n",
      "18      PWY-6\n",
      "19      PWY-6733\n",
      "21      PWY-7270 ETHYL-PWY\n",
      "22      PWY-181\n",
      "24      PWY-5667 TRIGLSYN-PWY\n",
      "31      PWY-6295 PWY-6733 PWY-84\n",
      "36      PWY-282\n",
      "44      PWY-6898 PWY-7356 PWY-6908\n",
      "49      LEU-DEG2-PWY\n",
      "55      PWY-622\n",
      "57      HEME-BIOSYNTHESIS-II CHLOROPHYLL-SYN\n",
      "61      PWY-6745\n",
      "68      PWY-581 PWYDQC-4\n",
      "69      PWY-5080\n",
      "77      PWY-6446 PWY-6444 PWY-3181\n",
      "79      PWY-5136\n",
      "89      PWY-6363 PWY-6364\n",
      "90      PWY-5272 PWY-1782 PWY-1741\n",
      "91      PWY-6363 PWY-6364\n",
      "101     PWY-5136 PWY-6837\n",
      "103     PWY-6773\n",
      "104     PWY-5129\n",
      "105     PWY-5667 TRIGLSYN-PWY\n",
      "109     PWY-6475\n"
     ]
    }
   ],
   "source": [
    "from oats.datasets.groupings import Groupings\n",
    "from oats.utils.utils import merge_list_dicts\n",
    "\n",
    "\n",
    "genes = dataset.get_gene_dictionary()\n",
    "\n",
    "# Create/read in the different objects for organizing gene groupings.\n",
    "groupings_kegg = load_from_pickle(path=\"../data/pickles/kegg_pathways.pickle\")\n",
    "groupings_pmn = load_from_pickle(path=\"../data/pickles/pmn_pathways.pickle\")\n",
    "groupings_subset = load_from_pickle(path=\"../data/pickles/lloyd_subsets.pickle\")\n",
    "groupings_class = load_from_pickle(path=\"../data/pickles/lloyd_classes.pickle\")\n",
    "\n",
    "# Get mappings between object IDs and pathways IDs and the reverse.\n",
    "id_to_pathway_ids = merge_list_dicts(\n",
    "    groupings_kegg.get_forward_dict(genes),\n",
    "    groupings_pmn.get_forward_dict(genes),\n",
    "    groupings_subset.get_forward_dict(genes))\n",
    "\n",
    "# Show some mappings between IDs and groups where the ID belongs to atleast one.\n",
    "total = len(id_to_pathway_ids.keys())\n",
    "has_mapping = len([k for (k,v) in id_to_pathway_ids.items() if len(v)>0])\n",
    "print(\"Of the {} genes in the dataset, {} are mapped to atleast one pathway.\".format(total, has_mapping))\n",
    "for k,v in [(k,v) for (k,v) in id_to_pathway_ids.items() if len(v)>0][:25]:\n",
    "# Wh at    print(\"{0:<8}{1:<}\".format(k,\" \".join(v)[:80]))"
   ]
  },
  {
   "cell_type": "code",
   "execution_count": 72,
   "metadata": {},
   "outputs": [
    {
     "name": "stdout",
     "output_type": "stream",
     "text": [
      "Of the 421 groups in the dataset, 324 are mapped to atleast one gene.\n",
      "PWY-5080                      16 16 16 16 69 745 1124 1440 2026 2406 2581 2585 2585 2585 2585\n",
      "PWY-7036                      16 16 16 16 16 16 16 16 16 16 745 1550 2026 2026 2026\n",
      "PWY-6                         18 18\n",
      "PWY-6733                      19 31 321 321 321 321 515 515 515 662 662 662 662 686 686\n",
      "PWY-7270                      21 1698 1951 2102 2209 2235 2465 2632 3471\n",
      "ETHYL-PWY                     21 192 1698 1951 2102 2209 2235 2465 2632 3471\n",
      "PWY-181                       22 360 737 905 2635\n",
      "PWY-5667                      24 105 443 691 1615 2056 2091 2139 2518\n",
      "TRIGLSYN-PWY                  24 105 443 691 1029 1615 2056 2139 2518\n",
      "PWY-6295                      31 2592\n",
      "PWY-84                        31 2592\n",
      "PWY-282                       36 2574 3342\n",
      "PWY-7356                      44 354 354 354 2502 3047\n",
      "PWY-6908                      44 354 2502\n",
      "LEU-DEG2-PWY                  49 49 168 169 526 780 1132 1642 1696 1739 1903 1950 2577 2772 2772\n",
      "PWY-622                       55 189 452 1277 1330 1330 2326 2436 2921 2995 3198 3198 3253\n",
      "HEME-BIOSYNTHESIS-II          57 1184 3018\n",
      "CHLOROPHYLL-SYN               57 133 133 2330 2330 2447 2839 2839 2839 3167\n",
      "PWY-6745                      61 2501 2658 3145\n",
      "PWY-581                       68 146 361 361 780 780 1071 1071 1071 1190 1191 1705 1893 1893 2254\n"
     ]
    }
   ],
   "source": [
    "# TODO why are their duplicates in the lists which are values in that dict????\n",
    "# Check why duplicates aren't being removed there.\n",
    "\n",
    "\n",
    "\n",
    "\n",
    "# Get a mapping that goes the other way, from pathway IDs to object IDs.\n",
    "pathway_id_to_ids = merge_list_dicts(\n",
    "    groupings_kegg.get_reverse_dict(genes),\n",
    "    groupings_pmn.get_reverse_dict(genes),\n",
    "    groupings_subset.get_reverse_dict(genes))\n",
    "\n",
    "pathway_id_to_ids = groupings_pmn.get_reverse_dict(genes)\n",
    "\n",
    "# Show some mappings between group IDs and IDs where the group has atleast two gene in the dataset.\n",
    "total = len(pathway_id_to_ids.keys())\n",
    "has_mapping = len([k for (k,v) in pathway_id_to_ids.items() if len(v)>1])\n",
    "print(\"Of the {} groups in the dataset, {} are mapped to atleast one gene.\".format(total, has_mapping))\n",
    "for k,v in [(k,v) for (k,v) in pathway_id_to_ids.items() if len(v)>1][:20]:\n",
    "    print(\"{0:<30}{1:<}\".format(k[:27],\" \".join([str(x) for x in v][:15])))"
   ]
  },
  {
   "cell_type": "code",
   "execution_count": 75,
   "metadata": {},
   "outputs": [
    {
     "name": "stdout",
     "output_type": "stream",
     "text": [
      "2707\n"
     ]
    }
   ],
   "source": [
    "# How many occurences are there of a specific gene pair sharing atleast one pathway?\n",
    "unique_gene_id_pairs = set()\n",
    "for gene_id_list in pathway_id_to_ids.values():\n",
    "    gene_id_pairs = list(itertools.combinations(gene_id_list, 2))\n",
    "    sorted_gene_id_pairs = [tuple(sorted(x)) for x in gene_id_pairs]\n",
    "    unique_gene_id_pairs.update(sorted_gene_id_pairs)\n",
    "print(len(unique_gene_id_pairs))"
   ]
  },
  {
   "cell_type": "code",
   "execution_count": 76,
   "metadata": {},
   "outputs": [
    {
     "name": "stdout",
     "output_type": "stream",
     "text": [
      "1\n",
      "45\n"
     ]
    },
    {
     "data": {
      "image/png": "[encoded data removed]",
      "text/plain": [
       "<Figure size 432x288 with 1 Axes>"
      ]
     },
     "metadata": {
      "needs_background": "light"
     },
     "output_type": "display_data"
    }
   ],
   "source": [
    "# What about the distributions of membership for each of the groupings?\n",
    "x = [len(v) for v in pathway_id_to_ids.values()]\n",
    "print(min(x))\n",
    "print(max(x))\n",
    "plt.hist(x, bins=20, range=(1,45), density=False, alpha=0.8, histtype='bar', color='white', edgecolor='black')\n",
    "plt.title(\"Group Size Histogram\")\n",
    "plt.xlabel(\"Group Size\")\n",
    "plt.ylabel(\"Number of Groups\")\n",
    "plt.tight_layout()"
   ]
  },
  {
   "cell_type": "markdown",
   "metadata": {},
   "source": [
    "### Subsetting the dataset and looking at what information is present\n",
    "something more here"
   ]
  },
  {
   "cell_type": "code",
   "execution_count": 77,
   "metadata": {},
   "outputs": [
    {
     "name": "stdout",
     "output_type": "stream",
     "text": [
      "Number of rows in the dataframe: 661\n",
      "Number of unique IDs:            661\n",
      "Number of unique descriptions:   588\n",
      "Number of unique gene name sets: 661\n",
      "Number of species represented:   1\n"
     ]
    }
   ],
   "source": [
    "# Subset the dataset to retain only the genes that are mapped to atleast one group.\n",
    "dataset.filter_with_ids([k for k,v in id_to_pathway_ids.items() if len(v)>0])\n",
    "dataset.describe()"
   ]
  },
  {
   "cell_type": "code",
   "execution_count": 78,
   "metadata": {},
   "outputs": [
    {
     "name": "stdout",
     "output_type": "stream",
     "text": [
      "0       AT1G01120\n",
      "1       AT1G01220\n",
      "2       AT1G01280\n",
      "3       AT1G01480\n",
      "4       AT1G01510\n",
      "5       AT1G01610\n",
      "6       AT1G02050\n",
      "7       AT1G02205\n",
      "8       AT1G02880\n",
      "9       AT1G03090\n"
     ]
    }
   ],
   "source": [
    "# Get mapping from IDs to gene objects.\n",
    "genes = dataset.get_gene_dictionary()\n",
    "for k,v in list(genes.items())[:10]:\n",
    "    print(\"{0:<8}{1:<}\".format(k,\" \".join(v.names)))"
   ]
  },
  {
   "cell_type": "code",
   "execution_count": 79,
   "metadata": {},
   "outputs": [
    {
     "name": "stdout",
     "output_type": "stream",
     "text": [
      "0       GO:0022626 GO:0042335 GO:0000038 GO:0009805 GO:0005783 GO:0010025 GO:0009409 GO:0030497 \n",
      "1       GO:0047341 GO:0042352 GO:0004335 GO:0050201 GO:0005524 GO:0005737 GO:0030244 GO:0048193\n",
      "2       GO:0080110 GO:0010584 GO:0010208 GO:0016709 GO:0019825 GO:0051792 GO:0051791\n",
      "3       GO:0005737 GO:0009693 GO:0016847\n",
      "4       GO:0031129 GO:0009965 GO:0042802 GO:0005802 GO:0042814 GO:2000039 GO:0051225 GO:0042803 \n",
      "5       GO:0009926 GO:0043481 GO:0016746 GO:0042335 GO:0000038 GO:0008152 GO:0040007 GO:0048767 \n",
      "6       GO:0010584 GO:0009699 GO:0030639 GO:0005783 GO:0080110 GO:0090439 GO:0005737\n",
      "7       GO:0042335 GO:0009414 GO:0042742 GO:0043447 GO:0046185 GO:0050832 GO:0010025 GO:0071771\n",
      "8       GO:0005737 GO:0006772 GO:0005829 GO:0004788\n",
      "9       GO:0005739 GO:0022626 GO:0050897 GO:0006552 GO:0004485 GO:0009744 GO:0009750\n"
     ]
    }
   ],
   "source": [
    "# Get a mapping from IDs to annotations (lists of ontology terms).\n",
    "annotations = dataset.get_annotations_dictionary()\n",
    "for k,v in list(annotations.items())[:10]:\n",
    "    print(\"{0:<8}{1:<}\".format(k,\" \".join(v)[:88])) "
   ]
  },
  {
   "cell_type": "code",
   "execution_count": 80,
   "metadata": {},
   "outputs": [
    {
     "name": "stdout",
     "output_type": "stream",
     "text": [
      "0       thin stems sensitive to low humidity\n",
      "1       fkgp1 mutants have about 40 times more lfucose than wild type arabidopsis plants\n",
      "2       slightly longer inflorescences an extended period of blooming a reduced number o\n",
      "3       enhanced hypocotyl length in lightgrown seedlings enlarged cotyledons increased \n",
      "4       lacks trichomes on stems and leaves some rudimentary trichomes in leaf margins n\n",
      "5       this double knockout mutant has a 6070 overall decrease in cutin monomer content\n",
      "6       abnormal exine patterning pollen has a more extensively covered surface with bro\n",
      "7       very bright green stems and siliques complete absence of lobed plates and tubesh\n",
      "8       the attpk1ko single mutant does not have any obvious aberrant phenotypes but the\n",
      "9       seeds have high levels of free branchedchain amino acids ile leu and val also hi\n"
     ]
    }
   ],
   "source": [
    "from oats.nlp.preprocess import get_clean_description\n",
    "\n",
    "# Get a mapping from IDs to text descriptions.\n",
    "descriptions = dataset.get_description_dictionary()\n",
    "descriptions = {i:get_clean_description(d) for (i,d) in descriptions.items()}\n",
    "for k,v in list(descriptions.items())[:10]:\n",
    "    print(\"{0:<8}{1:<}\".format(k,v[:80]))"
   ]
  },
  {
   "cell_type": "markdown",
   "metadata": {},
   "source": [
    "### Building the pairwise similarity matrices\n",
    "Something description here about how this is done."
   ]
  },
  {
   "cell_type": "code",
   "execution_count": 83,
   "metadata": {},
   "outputs": [],
   "source": [
    "from oats.annotation.ontology import Ontology\n",
    "from oats.annotation.annotation import write_annotations_to_tsv_file, read_annotations_from_tsv_file\n",
    "from oats.graphs.pairwise import get_edgelist_with_doc2vec\n",
    "from oats.graphs.pairwise import get_edgelist_with_bagofwords\n",
    "from oats.graphs.pairwise import get_edgelist_with_setofwords\n",
    "from oats.graphs.pairwise import get_edgelist_with_annotations\n",
    "from oats.graphs.pairwise import merge_edgelists, subset_edgelist_with_ids\n",
    "\n",
    "\n",
    "\n",
    "# Setup some of the preliminary ontology and document embeddings stuff.\n",
    "merged_ontology_file = \"../ontologies/mo.obo\"\n",
    "doc2vec_model_file = \"../gensim/enwiki_dbow/doc2vec.bin\"\n",
    "doc2vec_model = gensim.models.Doc2Vec.load(doc2vec_model_file)\n",
    "mo = Ontology(merged_ontology_file)\n",
    "annotations = dataset.get_annotations_dictionary()"
   ]
  },
  {
   "cell_type": "code",
   "execution_count": 82,
   "metadata": {},
   "outputs": [
    {
     "name": "stdout",
     "output_type": "stream",
     "text": [
      "    from  to   doc2vec  bagofwords  setofwords  setofterms\n",
      "0      0   0  0.000000    0.000000    0.000000    0.000000\n",
      "1      0   1  0.486428    0.973022    0.978723    1.000000\n",
      "2      0   2  0.422383    0.949363    0.973684    1.000000\n",
      "3      0   3  0.436225    0.899581    1.000000    1.000000\n",
      "4      0   4  0.570066    0.901715    0.993506    1.000000\n",
      "5      0   5  0.432794    0.947729    0.977273    0.906250\n",
      "6      0   6  0.379252    1.000000    1.000000    0.950000\n",
      "7      0   7  0.271372    0.756568    0.878788    0.900000\n",
      "8      0   8  0.574454    0.964331    0.982759    1.000000\n",
      "9      0   9  0.520817    0.944444    0.960000    0.950000\n",
      "10     0  10  0.568127    0.938396    0.993464    1.000000\n",
      "11     0  11  0.412344    1.000000    1.000000    1.000000\n",
      "12     0  12  0.461072    0.894591    1.000000    1.000000\n",
      "13     0  13  0.349224    0.816691    1.000000    1.000000\n",
      "14     0  14  0.382927    1.000000    1.000000    0.736842\n",
      "15     0  15  0.549607    1.000000    1.000000    1.000000\n",
      "16     0  16  0.393329    1.000000    1.000000    1.000000\n",
      "17     0  17  0.531232    0.864518    1.000000    1.000000\n",
      "18     0  18  0.447625    0.914408    1.000000    0.962963\n",
      "19     0  19  0.555098    0.944315    1.000000    0.964286\n",
      "(218791, 6)\n"
     ]
    }
   ],
   "source": [
    "# Creating one edge list for each method, then merging them into a single dataframe.\n",
    "name_to_df_mapping = {}\n",
    "name_to_df_mapping[\"doc2vec\"] = get_edgelist_with_doc2vec(doc2vec_model, descriptions)\n",
    "name_to_df_mapping[\"bagofwords\"] = get_edgelist_with_bagofwords(descriptions)             \n",
    "name_to_df_mapping[\"setofwords\"] = get_edgelist_with_setofwords(descriptions)\n",
    "name_to_df_mapping[\"setofterms\"] = get_edgelist_with_annotations(annotations, mo)\n",
    "\n",
    "df = merge_edgelists(name_to_df_mapping, default_value=0.000)\n",
    "print(df.head(20))\n",
    "print(df.shape)"
   ]
  },
  {
   "cell_type": "code",
   "execution_count": null,
   "metadata": {},
   "outputs": [],
   "source": [
    "# What do the similarity distributions look like for each of the methods of assessing what the value\n",
    "# of the edges between the nodes is?\n",
    "# Make sure that all are either similarity of distance functions but not a mixture of both.\n",
    "# Look into ways that these could be standardized for using the same metric to compare each."
   ]
  },
  {
   "cell_type": "markdown",
   "metadata": {},
   "source": [
    "### Kolmogorov-Smirnov Test \n",
    "Something else about why this test is being run here and what we can potentially conclude from it, or what the result is atleast suggesting."
   ]
  },
  {
   "cell_type": "code",
   "execution_count": 120,
   "metadata": {},
   "outputs": [
    {
     "name": "stdout",
     "output_type": "stream",
     "text": [
      "PWY-5080              0.2514324710098033    6.883558189893641e-08\n",
      "PWY-7036              0.27377102639796264   1.1890010002671557e-43\n",
      "PWY-6                 0.9969788519637462    0.2732547483423158\n",
      "PWY-6733              0.2892968907558811    6.730520141792486e-69\n",
      "PWY-7270              0.7698386943602697    5.92018433458659e-19\n",
      "ETHYL-PWY             0.6142831388047142    3.589336493375304e-15\n",
      "PWY-181               0.3196589439236531    0.2585739052028167\n",
      "PWY-5667              0.3337152300089532    0.0006596011425060619\n",
      "TRIGLSYN-PWY          0.3646808547375755    0.0001390453262697151\n",
      "PWY-6295              0.9918918054216124    0.27879537944157734\n",
      "PWY-84                0.9918918054216124    0.27879537944157734\n",
      "PWY-282               0.9902966758230457    0.005567009866074411\n",
      "PWY-7356              0.494580368174803     0.0013009741241659881\n",
      "PWY-6908              0.7612470348414697    0.06180216128987196\n",
      "LEU-DEG2-PWY          0.2840488563667305    7.868969586886679e-09\n",
      "PWY-622               0.3703158230035479    1.0316534332511983e-09\n",
      "HEME-BIOSYNTHESIS-II  0.5152862777719376    0.4031747656910725\n",
      "CHLOROPHYLL-SYN       0.1681538799838913    0.15698117836915007\n",
      "PWY-6745              0.5601235882645996    0.046345863748069295\n",
      "PWY-581               0.1784387277918547    2.118829135403611e-09\n",
      "PWYDQC-4              0.1776317226130061    0.11692279759436328\n",
      "PWY-6446              0.570108764376353     0.04047615713013592\n",
      "PWY-6444              0.570108764376353     0.04047615713013592\n",
      "PWY-3181              0.7682491510162667    0.057956117617292795\n",
      "PWY-5136              0.2953205229075809    2.5724417989942957e-07\n",
      "PWY-6363              0.37986434542554304   0.11160011624676698\n",
      "PWY-6364              0.5353008121906294    0.356336045335708\n",
      "PWY-5272              0.325071262833785     0.9091305585045338\n",
      "PWY-6837              0.3603747956029357    0.008558168010513977\n",
      "PWY-6773              0.4725358904159677    0.02299557229164952\n",
      "PWY-5129              0.2249469986785507    0.002518251057847204\n",
      "PWY-6475              0.5728663427654702    0.0001060655469161985\n",
      "PWY-5321              0.9580375792422906    0.31772070335424313\n",
      "PWY-6483              0.5756863856374348    0.03748823527982589\n",
      "PWY-3462              0.9843960674799238    0.2871058313460732\n",
      "PWY-7432              0.6047811229285787    0.22251344039785076\n",
      "PWY-5147              0.223520303710988     0.00022576096580741853\n",
      "PWY-5945              0.27505874454514934   0.002210335874199556\n",
      "GLYSYN2-PWY           0.31436850693127233   0.5935750718213888\n",
      "PWY-5381              0.40125050847612564   0.2888441883057004\n",
      "PWY-1042              0.30889507127103744   6.900719868541633e-07\n",
      "PWY-5723              0.4280022835447876    0.0009119507958453975\n",
      "PWY66-399             0.4205857416438519    2.6184956866065755e-21\n",
      "PWY-5484              0.4407632031391693    8.950128673336002e-16\n",
      "GLUCONEO-PWY          0.4708594264019304    7.931281982483017e-41\n",
      "GLYCOLYSIS            0.44735660973257585   1.142217648490501e-18\n",
      "ILEUSYN-PWY           0.31342940675500053   0.10498526336604996\n",
      "LEUSYN-PWY            0.28542947379005534   0.0002570348506191859\n",
      "VALDEG-PWY            0.2869420283893457    0.001211925913595358\n",
      "ILEUDEG-PWY           0.38566289942717674   0.00048324062082285766\n",
      "VALSYN-PWY            0.22463229204822782   0.2398621459185728\n",
      "PWY-5973              0.867773354479846     0.4387303930738765\n",
      "FASYN-ELONG-PWY       0.5803803629948215    0.8891481749016197\n",
      "PWY-7388              0.2507456888080405    0.5557210098503806\n",
      "PWY-5971              0.18668212579108479   2.305173213809934e-17\n",
      "PWY-5989              0.2619818421725264    4.494743553782422e-05\n",
      "PWY-6724              0.530656095441667     3.141952167215288e-09\n",
      "PWY-6663              0.5138602593342505    0.9543822326439635\n",
      "PWY-2541              0.27930000227333673   8.737864817349734e-11\n",
      "TYRFUMCAT-PWY         0.5998494758315775    0.23055180878421339\n",
      "PWY-63                0.3075610971200826    0.3005689960090437\n",
      "PWY-6317              0.5838567399938754    0.002188989886799858\n",
      "PWY-3821              0.5198641626026664    0.008988755917022046\n",
      "PWY-7344              0.4950226471838421    0.10566423795290746\n",
      "PWY-6527              0.44247853626781464   3.467345524936301e-05\n",
      "PWY-5114              0.2132044653656603    0.013490462341365625\n",
      "PWY-5070              0.2195895958824964    0.0034481434677003184\n",
      "PWY-5035              0.3418221041998985    5.255258768190558e-06\n",
      "PWY-5036              0.8035476779209383    0.04154650453937111\n",
      "PWY-361               0.42732176891580154   1.0600978300405527e-33\n",
      "SUCSYN-PWY            0.15336597592266243   0.7066066368432797\n",
      "PWYQT-4475            0.38212723558098827   0.7734197841133207\n",
      "PWYQT-4473            0.38212723558098827   0.7734197841133207\n",
      "PWYQT-4474            0.38212723558098827   0.7734197841133207\n",
      "PWYQT-4472            0.38212723558098827   0.7734197841133207\n",
      "PWYQT-4471            0.38212723558098827   0.7734197841133207\n",
      "PWY-1187              0.18720529333168792   0.984526436784916\n",
      "MANNOSYL-CHITO-DOLICHOL-BIOSYNTHESIS0.6276126531712913    0.18805139860567063\n",
      "PWY-6842              0.46435593785850426   0.0268044631726856\n",
      "ALANINE-DEG3-PWY      0.4847952307605584    0.11915809834302854\n",
      "ALANINE-SYN2-PWY      0.4847952307605584    0.11915809834302854\n",
      "ALACAT2-PWY           0.29136318613262363   0.01724513003834552\n",
      "PWY-6406              0.8445914137235992    0.47357549563977613\n",
      "PWY-5837              0.5083677377693128    3.867965218801685e-05\n",
      "PWY-5791              0.5083677377693128    3.867965218801685e-05\n",
      "PWY-1061              0.3819581244201087    0.7738841870336941\n",
      "PWY-6424              0.9925819617808777    2.921832772842173e-13\n",
      "PWY-735               0.3451161610852366    2.030009094568444e-31\n",
      "PWY-321               0.2619818421725264    4.494743553782422e-05\n",
      "PWY66-21              0.3306059207188595    0.00010708852474659743\n",
      "PWY-5143              0.374569254759939     3.982411570542453e-07\n",
      "PWY0-1313             0.3769474064289664    0.11663471131206912\n",
      "PWY-1121              0.3522281971247637    6.684718679775965e-17\n",
      "PWY-6803              0.3474068860236481    1.3399828609261861e-08\n",
      "PWY-5046              0.880900994665272     3.6607862731824746e-71\n",
      "PWY-5868              0.5696375852895088    2.1129612290345169e-22\n",
      "PWY-6982              0.9927145083664319    3.096421914938502e-31\n",
      "PWY-7398              0.9927145083664319    6.164552662932897e-39\n",
      "PWY1F-FLAVSYN         0.492577391208962     7.388428222620601e-17\n",
      "PWY-6457              0.9927145083664319    2.898859241050209e-13\n",
      "PWY-6352              0.1920309170104637    0.034659458093107956\n",
      "PWY-6890              0.9657709869235938    0.3085134618076842\n",
      "PWY-6910              0.9969788519637462    0.2732547483423158\n",
      "PWY-2724              0.9867956177356473    0.005803081089921776\n",
      "PWY-2501              0.9867956177356473    0.005803081089921776\n",
      "TRPSYN-PWY            0.5307959694520384    1.4534574218843786e-05\n",
      "PWY-2681              0.5184187232436114    2.5937537394163652e-40\n",
      "PWY-5947              0.5691778912295296    0.04099453612520588\n",
      "PWY0-1319             0.3440498009515931    0.8696546823565126\n",
      "PWYQT-4482            0.38398212601676185   0.33923028481239986\n",
      "PYRUVDEHYD-PWY        0.7732082215447619    0.001532480629310093\n",
      "PWY-621               0.5042385960421895    0.000974070608611623\n",
      "PWY-381               0.9928790489553958    0.27771383739964967\n",
      "PWY-3385              0.7537736927021679    2.3235504966885726e-05\n",
      "PWY4FS-6              0.6432577208386085    0.16694605300313162\n",
      "PWY-5068              0.5025618055587295    0.43478605491130023\n",
      "PWY-101               0.21762500677424046   0.1409908548810636\n",
      "PWY-5910              0.6545013277511414    0.7850103787539446\n",
      "PWY-5120              0.6545013277511414    0.7850103787539446\n",
      "PWY-5123              0.9969788519637462    0.2732547483423158\n",
      "PWY-5121              0.6545013277511414    0.7850103787539446\n",
      "PWY-5863              0.6545013277511414    0.7850103787539446\n",
      "PWY-1186              0.39254996777746803   0.019655439307546485\n",
      "PWY-4361              0.5412235116313437    0.05949533171844487\n",
      "PWY-102               0.9942319382424323    2.6481782168639427e-13\n",
      "PWY-6673              0.995676238967782     0.27466587434863265\n",
      "PWY-695               0.2171000439427843    0.14280209140284097\n",
      "GLYOXYLATE-BYPASS     0.4924044712381527    7.565807760631795e-05\n",
      "PWY-7047              0.9275747174243913    6.564113738245088e-05\n",
      "PWYQT-4481            0.5780672473324364    1.7478402880469724e-13\n",
      "PWY-7048              0.9275747174243913    6.564113738245088e-05\n",
      "MALATE-ASPARTATE-SHUTTLE-PWY0.6346683973898987    1.1306377108339782e-05\n"
     ]
    },
    {
     "name": "stdout",
     "output_type": "stream",
     "text": [
      "PWY-561               0.5275747174243913    0.007648084105810393\n",
      "PWY-5690              0.5330018145170505    0.00039802466519915723\n",
      "PWY-6549              0.4041886244559115    0.28082717249388983\n",
      "PWY-6443              0.13999124358782666   0.05657736012090721\n",
      "PWY-5267              0.8090552170793132    0.0007759041604178135\n",
      "PWY-5337              0.6311731286935934    0.8205206978185904\n",
      "CALVIN-PWY            0.23788308738215272   0.08412343460764847\n",
      "PANTO-PWY             0.6337509312540278    0.17953476192035514\n",
      "PWY-6035              0.9969788519637462    0.00514066900599527\n",
      "PWY-6441              0.9917729705518051    0.2789257689163727\n",
      "PWY-6137              0.4376269285909079    0.20068642714190482\n",
      "NONMEVIPP-PWY         0.8376030092645492    1.4484468755721095e-09\n",
      "PWY-7560              0.6471268187883588    4.60454986757451e-08\n",
      "PWY-7625              0.994140526804119     0.2763362646983224\n",
      "PHOSLIPSYN2-PWY       0.994140526804119     0.2763362646983224\n",
      "PWY-6351              0.3651910901706369    0.0073900139618197965\n",
      "PWY-7417              0.9092101594672541    0.014027103733171582\n",
      "PWY-5138              0.4845034759199419    0.00010462389770824147\n",
      "PWY-283               0.8429322961182133    0.47612175367565807\n",
      "PWY-7186              0.2695471934403152    0.7759776006561271\n",
      "PWY-6952              0.26369594727388235   0.4901578589624266\n",
      "PWY-1081              0.3787271109567274    6.556831287451664e-05\n",
      "PWY-5079              0.9969788519637462    0.2732547483423158\n",
      "NONOXIPENT-PWY        0.6180555872956384    0.8395128334290115\n",
      "PWY-3801              0.24274588710054523   0.00020429100031887757\n",
      "PWY-5936              0.67087271007999      5.163893897641991e-18\n",
      "PWY-882               0.19715178281686963   0.22657260320366132\n",
      "PWY-5659              0.28039361765337695   0.41140748613707423\n",
      "PWY-922               0.3990634898144805    0.29491646610678773\n",
      "PWY-5486              0.9980849303673369    0.2720606496382812\n",
      "ETOH-ACETYLCOA-ANA-PWY0.9980849303673369    0.2720606496382812\n",
      "PWY-6333              0.9980849303673369    0.2720606496382812\n",
      "PWY-5083              0.530615975977074     0.0004295067111529579\n",
      "PWY-6535              0.5634555351911185    0.9086721680021951\n",
      "PWY-6473              0.5634555351911185    0.9086721680021951\n",
      "PWY-4321              0.46182886864633377   0.15463675203978952\n",
      "PWY-5032              0.6342993998839075    0.8158832100118452\n",
      "GLUTORN-PWY           0.7471285381939843    0.6320056811598176\n",
      "PWY-7416              0.991489595093034     0.27923687448103135\n",
      "LIPASYN-PWY           0.5306246600637138    0.007170025310827848\n",
      "PWY-401               0.4058332685835645    0.2764098046986378\n",
      "PWY-40                0.9076104592967718    0.38231168506889546\n",
      "PWY-6305              0.9076104592967718    0.38231168506889546\n",
      "ARGDEG-V-PWY          0.9076104592967718    0.38231168506889546\n",
      "PWY-43                0.2594287089810215    0.9876157418314817\n",
      "HOMOSER-THRESYN-PWY   0.5371701761041359    0.935114374210023\n",
      "PWY-702               0.7385312924206207    0.0028746769516147614\n",
      "THIOREDOX-PWY         0.4870157669495851    0.4752003050961364\n",
      "PWY-6213              0.9968005996590353    0.2734475397342612\n",
      "PWY-2821              0.580686591313171     0.2638639669974258\n",
      "PWY-601               0.5573466393564112    5.587200616393796e-08\n",
      "PWY-1001              0.34232707622038083   0.0004337733978747547\n",
      "PWY-6545              0.37643687354598676   0.005206331095126836\n",
      "PWY-7184              0.26929401640312967   0.03447857177503639\n",
      "PWY-7226              0.2470668354731228    0.8573511947181505\n",
      "PWY-7227              0.37643687354598676   0.7889037186912401\n",
      "PWY0-166              0.26929401640312967   0.03447857177503639\n",
      "CAMALEXIN-SYN         0.3828923493196704    3.7313921042601824e-06\n",
      "PWY-3301              0.3669232281035326    0.1353767931693057\n",
      "GLUCOSE1PMETAB-PWY    0.1946591343641496    0.9998561490015301\n",
      "GLYCLEAV-PWY          0.32755613043193427   0.5403490437759582\n",
      "PWY-6546              0.9969788519637462    0.2732547483423158\n",
      "PWY-2781              0.9936194816057333    0.27690466421798404\n",
      "PWY-5980              0.8182832017770384    0.03599670208680711\n",
      "PWY-7640              0.9701495948187997    0.007055718541098443\n",
      "PWY-5271              0.9701495948187997    0.007055718541098443\n",
      "PWY-5997              0.9790484983385971    2.0217359586735987e-05\n",
      "PWY-762               0.7030771492847967    6.291359998391401e-109\n",
      "LIPAS-PWY             0.42717799178211163   0.05200973643774303\n",
      "PWY4FS-7              0.48243986270001965   0.1224583122491447\n",
      "PWY4FS-8              0.48243986270001965   0.1224583122491447\n",
      "PWY-5269              0.48243986270001965   0.1224583122491447\n",
      "HISTSYN-PWY           0.6206059664245787    0.8358819430312311\n",
      "PWY-5800              0.5293590687002665    0.36986254992099177\n",
      "PWY-7219              0.2762156578652687    0.7497882198689931\n",
      "PWY-699               0.6559618083010726    2.1482508901336362e-112\n",
      "PWY-2582              0.750570178846479     6.180415038773576e-45\n",
      "PWY-6596              0.33031218529707956   0.020468422018461205\n",
      "PWY-3841              0.5359126594177397    0.00036255531215273175\n",
      "PWY-7909              0.8132052963787358    0.0007156857014495853\n",
      "PWY-3742              0.6346878984967389    0.17826182333091764\n",
      "PWY-1722              0.9969788519637462    0.2732547483423158\n",
      "PWY-7238              0.37692490905831494   7.232202478217058e-05\n",
      "PWY-6039              0.3179132393725316    0.0013842299849258597\n",
      "PWY-6040              0.17327952246664624   0.7586706173024964\n",
      "PWY-2181              0.605171145065382     0.8573642025666854\n",
      "DETOX1-PWY-1          0.6655072649240599    0.7676179661224835\n",
      "PWY-4081              0.5051350375472483    0.42828301283418535\n",
      "PWY0-1507             0.9895333903131299    0.005617715070422775\n",
      "PWYQT-4476            0.9401757841958764    0.3397003758092804\n",
      "PWYQT-4477            0.9969788519637462    0.2732547483423158\n",
      "PWY-6806              0.8450895229610991    1.554867843282871e-34\n",
      "PWY-7101              0.9917683999798895    0.2789307847711397\n",
      "PWY-6122              0.7585275445516497    0.6128338860767315\n",
      "PWY-6121              0.7585275445516497    0.6128338860767315\n",
      "PWY-2021              0.49300016911116085   0.459420479165645\n",
      "PWY-6219              0.49300016911116085   9.588219454270624e-26\n",
      "PWY-5788              0.49300016911116085   0.10822732661346662\n",
      "PWY-4702              0.9969788519637462    0.2732547483423158\n",
      "PWYQT-4466            0.5652823927858093    0.0033545273108199535\n",
      "PWY-7343              0.8652823927858093    0.00025072098020079777\n",
      "PWY-6287              0.9967823173713727    0.005152769070053871\n",
      "PWY-3561              0.4946684278603781    0.45507023130404833\n",
      "PWY-7039              0.4946684278603781    0.45507023130404833\n",
      "PWY-6163              0.9969788519637462    0.2732547483423158\n",
      "PWY-6707              0.9969788519637462    0.2732547483423158\n",
      "PWY-6066              0.9795878258246454    0.2925287398184384\n",
      "PWY-5137              0.9489010059828786    0.32883934456708724\n",
      "LYSINE-DEG2-PWY       0.4432197850917085    0.18919773702164208\n",
      "PWY0A-6303            0.7450352162566102    0.635532957651386\n",
      "PWY-6303              0.7450352162566102    0.635532957651386\n",
      "PWY-782               0.626349573314028     0.0         \n",
      "PWY-7590              0.7716496565215205    0.056163672154183386\n",
      "PWY-5995              0.6257798538331101    0.8284230632057543\n",
      "ASPASN-ARA-PWY        0.8030631972978779    0.0008712630794792479\n",
      "ASPARAGINE-DEG1-PWY   0.9969742813918305    0.2732596904835766\n",
      "PWY-5084              0.9952466052077097    0.27513245010306947\n",
      "PWY-5041              0.8499938297279138    0.4653315451724352\n",
      "METHIONINE-DEG1-PWY   0.8499938297279138    0.4653315451724352\n",
      "PWY-3982              0.9926276675000343    0.00541474280515125\n",
      "PWY4FS-2              0.9969788519637462    0.00514066900599527\n",
      "PWY4FS-4              0.9969788519637462    0.2732547483423158\n",
      "PWY-5992              0.52050130032771      0.07746871997365302\n",
      "CYANCAT-PWY           0.9969788519637462    0.2732547483423158\n",
      "PWY-4861              0.9968234525186137    0.2734228173963407\n",
      "PWY-5986              0.9874309272319245    0.2837200694097792\n",
      "PWY-5168              0.9783309185478379    0.006412138610480186\n",
      "PWY-6544              0.9924219917638294    1.4734105747089953e-05\n",
      "CITRULBIO-PWY         0.1330142530020496    0.7048998992553663\n",
      "PWY-6922              0.5659404027892676    0.04284271219365266\n",
      "PWY-6927              0.9571051825714951    0.3188434255971759\n",
      "PWY-5098              0.9571051825714951    0.3188434255971759\n",
      "PWY-5410              0.9969788519637462    0.2732547483423158\n",
      "PWY-6845              0.6158251482007944    0.021118273786190668\n"
     ]
    },
    {
     "name": "stdout",
     "output_type": "stream",
     "text": [
      "PWY-4983              0.6158251482007944    0.8426626657015817\n",
      "PWYQT-4450            0.6175499949832531    2.2151590943764622e-07\n",
      "PWY1F-823             0.9907125978673711    0.00553955668602084\n",
      "PWY-6787              0.6574295408251101    4.6792535605666256e-06\n",
      "PWY-5152              0.5277090922387118    0.3736760505953066\n",
      "PWY-7208              0.884346248246043     0.4147059522808098\n",
      "PWY-7196              0.884346248246043     0.4147059522808098\n",
      "PWY-7183              0.884346248246043     0.4147059522808098\n",
      "PWYQT-4445            0.5370414383285114    0.06280309298020732\n",
      "GLUT-REDOX-PWY        0.5278827739715071    0.9432702113624697\n",
      "PROSYN-PWY            0.9969788519637462    0.2732547483423158\n",
      "PWY-3341              0.910978970798616     0.013758740519507782\n",
      "ARGININE-SYN4-PWY     0.6180098815764816    0.0009632207155380003\n",
      "PWY-5441              0.8120763651155669    0.5246280125362218\n",
      "PWY-5698              0.9908177210214314    0.2799754915953857\n",
      "PWY-5934              0.8055313061323364    0.04075845355820715\n",
      "PWY-4302              0.3432408097225206    0.8714721832692203\n",
      "PWYQT-4470            0.2558697569826912    0.9894187890713786\n",
      "GLUTATHIONESYN-PWY    0.9091918771795915    0.3801678018317978\n",
      "PWY0-1182             0.8587373338025787    0.4521461000326613\n",
      "PWY-5944              0.9968508759501077    1.3255926225912017e-05\n",
      "CAROTENOID-PWY        0.709677271917035     0.09741471835233999\n",
      "PWY-6477              0.992618526356203     2.9154774298524736e-13\n",
      "PWY-5661              0.8197137907866411    0.5124294984789155\n",
      "PWY-4041              0.9812149494266218    0.006198361452338076\n",
      "PWYQT-4432            0.9897070720459251    0.28119954389601304\n",
      "ASPARTATESYN-PWY      0.9906120452852265    0.2802018789898764\n",
      "ASPARTATE-DEG1-PWY    0.9906120452852265    0.2802018789898764\n",
      "PWY-3001              0.9906120452852265    0.2802018789898764\n",
      "THRESYN-PWY           0.9906120452852265    0.2802018789898764\n",
      "PWYQT-4427            0.9919055171373594    0.2787803373214473\n",
      "PWY-6614              0.8265330840848115    0.5016403012615475\n",
      "PWY-7187              0.7730893866749546    0.5884814228905696\n",
      "PWY-6607              0.34459369900955705   0.8684264453076223\n",
      "PWY-6606              0.34459369900955705   0.8684264453076223\n",
      "PWY-6466              0.527462281355266     0.9436244999723606\n",
      "GLUTAMINDEG-PWY       0.3058664814061517    0.628502949080002\n",
      "PWY-2901              0.9969788519637462    2.247441953848396e-13\n",
      "PWY-2881              0.9969788519637462    2.247441953848396e-13\n",
      "GLUTSYNIII-PWY        0.9894648317343949    0.28146702713831245\n",
      "GLUTAMATE-SYN2-PWY    0.9894648317343949    0.28146702713831245\n",
      "GLUTAMATE-DEG1-PWY    0.9894648317343949    1.5807619563952232e-05\n",
      "PWY-5060              0.9969788519637462    0.2732547483423158\n",
      "PWY-3101              0.9969788519637462    0.2732547483423158\n",
      "PWY-6823              0.8288046583268964    0.0005263033954268025\n",
      "PWY-5034              0.9969788519637462    0.00514066900599527\n",
      "PLPSAL-PWY            0.8532709297914448    9.49231713693471e-07\n",
      "PWY-7204              0.8532709297914448    9.49231713693471e-07\n",
      "PWY-3781              0.5434988946833583    0.33820812688662366\n",
      "PWY-1801              0.9969788519637462    0.2732547483423158\n",
      "PYRIDNUCSYN-PWY       0.9831985776380199    0.2884496673669752\n",
      "PWY-6963              0.9969788519637462    0.2732547483423158\n",
      "PWY-6909              0.9969788519637462    0.2732547483423158\n",
      "PWY-5687              0.9969788519637462    0.2732547483423158\n",
      "PWY-7224              0.9969788519637462    0.2732547483423158\n",
      "PWY-7197              0.9969788519637462    0.2732547483423158\n",
      "PWY-7185              0.9969788519637462    0.2732547483423158\n",
      "RIBOSYN2-PWY          0.9969788519637462    0.2732547483423158\n"
     ]
    }
   ],
   "source": [
    "# Within group similarity stuff.\n",
    "# Where do the within group similarity values fall for each metric for the groups that have lots of genes in them?\n",
    "# That should be a quartile relative to each distribution?\n",
    "# Or p-value saying it's higher than the mean for that distribution or something?\n",
    "\n",
    "# Functions for evaluting graphs based on some objective functions.\n",
    "from oats.objectives.functions import classification\n",
    "from oats.objectives.functions import consistency_index\n",
    "from oats.graphs.indexed import IndexedGraph\n",
    "from oats.objectives.functions import pr\n",
    "\n",
    "pathway_id_to_ids = groupings_kegg.get_reverse_dict(genes)\n",
    "\n",
    "\n",
    "g = IndexedGraph(df=df, value=\"doc2vec\")\n",
    "\n",
    "\n",
    "# Kolmogorov-Smirnov test to compare the distributions of within-group sample and all-group sample.\n",
    "from scipy.stats import ks_2samp\n",
    "dist = df[\"doc2vec\"].values\n",
    "for pathway_id, id_list in pathway_id_to_ids.items():\n",
    "    if len(id_list)>1:\n",
    "        pairs = list(itertools.combinations(id_list, 2))\n",
    "        d = [g.get_value(int(pair[0]),int(pair[1])) for pair in pairs]\n",
    "        D,p_value =  ks_2samp(d,dist)\n",
    "        print(\"{0:<22}{1:<22}{2:<12}\".format(pathway_id, D, p_value))\n",
    "        #print(\"{}{}{}\".format(pathway_id, D, p_value))\n",
    "\n",
    "\n",
    "\n",
    "\n"
   ]
  },
  {
   "cell_type": "markdown",
   "metadata": {},
   "source": [
    "### Predicting whether or not two genes share atleast one common pathway/group\n",
    "What about using the similary values present in the graph to try and predict whether or not two genes are going to be sharing a pathway? What does that look like from a precision and recall standpoint? This is essentially classifying edges in the network as either joining two nodes which are genes that share a common grouping or pathway, or joining two nodes that are not."
   ]
  },
  {
   "cell_type": "code",
   "execution_count": 201,
   "metadata": {},
   "outputs": [
    {
     "name": "stdout",
     "output_type": "stream",
     "text": [
      "79\n",
      "1000\n",
      "Basline is 0.0732159406858202\n",
      "Average precision-recall score: 0.15\n",
      "area is 0.14587525627718528\n",
      "baseline area is 0.0732159406858202\n",
      "ratio = 1.9923974876339612\n"
     ]
    },
    {
     "data": {
      "image/png": "[encoded data removed]",
      "text/plain": [
       "<Figure size 432x288 with 1 Axes>"
      ]
     },
     "metadata": {
      "needs_background": "light"
     },
     "output_type": "display_data"
    }
   ],
   "source": [
    "df.loc[:,\"class\"] = [int(len(set(id_to_pathway_ids[id1]).intersection(set(id_to_pathway_ids[id2])))>0) for (id1,id2) in zip(df[\"from\"].values,df[\"to\"].values)]\n",
    "#print(df.head(5))\n",
    "#print(pd.unique(df[\"class\"]))\n",
    "\n",
    "df[\"new\"] = 1-df[\"bagofwords\"]\n",
    "\n",
    "# Make sure to remove the self edges, these are not valid positive examples because we can\n",
    "# already assume that they belong to the exact same groupings or pathways.\n",
    "df_sub = df[df[\"from\"] != df[\"to\"]]\n",
    "\n",
    "\n",
    "from sklearn.metrics import precision_recall_curve\n",
    "from sklearn.datasets import make_classification\n",
    "from sklearn.neighbors import KNeighborsClassifier\n",
    "from sklearn.model_selection import train_test_split\n",
    "from sklearn.metrics import precision_recall_curve\n",
    "from sklearn.metrics import f1_score\n",
    "from sklearn.metrics import auc\n",
    "from sklearn.metrics import average_precision_score\n",
    "y_true = df_sub[\"class\"].values\n",
    "y_scores = df_sub[\"new\"].values\n",
    "\n",
    "\n",
    "# Subsetting and seeing if things improve.\n",
    "pos_tuples = [(t,s) for t,s in zip(y_true,y_scores) if t==1]\n",
    "neg_tuples = [(t,s) for t,s in zip(y_true,y_scores) if t==0]\n",
    "max_pos_samples = 600000\n",
    "max_neg_samples = 1000\n",
    "pos_tuples = pos_tuples[:max_pos_samples]\n",
    "neg_tuples = neg_tuples[:max_neg_samples]\n",
    "print(len(pos_tuples))\n",
    "print(len(neg_tuples))\n",
    "\n",
    "#https://stats.stackexchange.com/questions/251175/what-is-baseline-in-precision-recall-curve\n",
    "baseline = len(pos_tuples)/(len(pos_tuples)+len(neg_tuples))\n",
    "print(\"Basline is {}\".format(baseline))\n",
    "                           \n",
    "pos_tuples.extend(neg_tuples)\n",
    "all_tuples = pos_tuples\n",
    "y_true = [x[0] for x in all_tuples]\n",
    "y_scores = [x[1] for x in all_tuples]\n",
    "precision, recall, thresholds = precision_recall_curve(y_true, y_scores)\n",
    "\n",
    "average_precision = average_precision_score(y_true, y_scores)\n",
    "\n",
    "print('Average precision-recall score: {0:0.2f}'.format(average_precision))\n",
    "\n",
    "#for i,j in zip(y_true,y_scores):\n",
    "#    print(i, j)\n",
    "\n",
    "from inspect import signature\n",
    "\n",
    "precision, recall, _ = precision_recall_curve(y_true, y_scores)\n",
    "\n",
    "# In matplotlib < 1.5, plt.fill_between does not have a 'step' argument\n",
    "step_kwargs = ({'step': 'post'}\n",
    "               if 'step' in signature(plt.fill_between).parameters\n",
    "               else {})\n",
    "plt.step(recall, precision, color='b', alpha=0.2,\n",
    "         where='post')\n",
    "plt.fill_between(recall, precision, alpha=0.2, color='b', **step_kwargs)\n",
    "\n",
    "plt.xlabel('Recall')\n",
    "plt.ylabel('Precision')\n",
    "plt.ylim([0.0, 1.05])\n",
    "plt.xlim([0.0, 1.0])\n",
    "plt.title('2-class Precision-Recall curve: AP={0:0.2f}'.format(average_precision))\n",
    "\n",
    "area = auc(recall, precision)\n",
    "print(\"area is\",area)\n",
    "print(\"baseline area is\",baseline) # the area under teh baseline is just width (1) x height (basline).\n",
    "print(\"ratio =\", area/baseline)\n",
    "\n",
    "# Make sure self-edges are being removed? Those are not valid positive samples.\n",
    "# Are they in there?\n",
    "\n",
    "# The precision recall curve looks like the things that are predictable are very easily predictable, and \n",
    "# everything else is impossible-ish to predict without tanking the precision.\n",
    "# i.e., a big percentage of cases where two things are mapped to the same pathway is when they are just identical.\n",
    "# And when they are not identical, then they are impsossible to distinguish from random pairings of genes."
   ]
  },
  {
   "cell_type": "markdown",
   "metadata": {},
   "source": [
    "### Predicting which pathway(s) each gene belong to\n",
    "pathway_id_to_ids = groupings_kegg.get_reverse_dict(genes)This is for classifying nodes in the network as belonging to certain classes or not, rather than classifying edges between the nodes. There are multiple ways that this could be done. The way we used before was just a function over the average similarity to nodes that are known to belong to a specific class (leave-one-out prediction). That takes into account the edges that are in the graph itself, but not information about the node. For example, could a neural network that learns a mapping directly between an embedding as in the input and a class membership vector do any better here? The average similarity thing should be the baseline."
   ]
  },
  {
   "cell_type": "code",
   "execution_count": 204,
   "metadata": {},
   "outputs": [
    {
     "name": "stdout",
     "output_type": "stream",
     "text": [
      "done getting pathways dictionary\n",
      "done making the graph\n"
     ]
    },
    {
     "ename": "KeyboardInterrupt",
     "evalue": "",
     "output_type": "error",
     "traceback": [
      "\u001b[0;31m---------------------------------------------------------------------------\u001b[0m",
      "\u001b[0;31mKeyboardInterrupt\u001b[0m                         Traceback (most recent call last)",
      "\u001b[0;32m<ipython-input-204-3ad1cc0d6097>\u001b[0m in \u001b[0;36m<module>\u001b[0;34m\u001b[0m\n\u001b[1;32m      6\u001b[0m \u001b[0mg\u001b[0m \u001b[0;34m=\u001b[0m \u001b[0mIndexedGraph\u001b[0m\u001b[0;34m(\u001b[0m\u001b[0mdf\u001b[0m\u001b[0;34m=\u001b[0m\u001b[0mdf\u001b[0m\u001b[0;34m,\u001b[0m \u001b[0mvalue\u001b[0m\u001b[0;34m=\u001b[0m\u001b[0;34m\"new\"\u001b[0m\u001b[0;34m)\u001b[0m\u001b[0;34m\u001b[0m\u001b[0;34m\u001b[0m\u001b[0m\n\u001b[1;32m      7\u001b[0m \u001b[0mprint\u001b[0m\u001b[0;34m(\u001b[0m\u001b[0;34m\"done making the graph\"\u001b[0m\u001b[0;34m)\u001b[0m\u001b[0;34m\u001b[0m\u001b[0;34m\u001b[0m\u001b[0m\n\u001b[0;32m----> 8\u001b[0;31m \u001b[0my_true\u001b[0m\u001b[0;34m,\u001b[0m \u001b[0my_scores\u001b[0m \u001b[0;34m=\u001b[0m \u001b[0mclassification\u001b[0m\u001b[0;34m(\u001b[0m\u001b[0mg\u001b[0m\u001b[0;34m,\u001b[0m \u001b[0mid_to_pathway_ids\u001b[0m\u001b[0;34m)\u001b[0m\u001b[0;34m\u001b[0m\u001b[0;34m\u001b[0m\u001b[0m\n\u001b[0m\u001b[1;32m      9\u001b[0m \u001b[0mprint\u001b[0m\u001b[0;34m(\u001b[0m\u001b[0;34m\"done doing the classifying\"\u001b[0m\u001b[0;34m)\u001b[0m\u001b[0;34m\u001b[0m\u001b[0;34m\u001b[0m\u001b[0m\n\u001b[1;32m     10\u001b[0m \u001b[0;34m\u001b[0m\u001b[0m\n",
      "\u001b[0;32m~/oats/oats/objectives/functions.py\u001b[0m in \u001b[0;36mclassification\u001b[0;34m(graph, id_to_labels)\u001b[0m\n\u001b[1;32m     48\u001b[0m                 \u001b[0mother_ids_with_this_label\u001b[0m \u001b[0;34m=\u001b[0m \u001b[0;34m[\u001b[0m\u001b[0mx\u001b[0m \u001b[0;32mfor\u001b[0m \u001b[0mx\u001b[0m \u001b[0;32min\u001b[0m \u001b[0mlabel_to_ids\u001b[0m\u001b[0;34m[\u001b[0m\u001b[0mlabel\u001b[0m\u001b[0;34m]\u001b[0m \u001b[0;32mif\u001b[0m \u001b[0mx\u001b[0m \u001b[0;32mis\u001b[0m \u001b[0;32mnot\u001b[0m \u001b[0midentifier\u001b[0m\u001b[0;34m]\u001b[0m     \u001b[0;31m# What's the probability assigned to this classification based on the graph?\u001b[0m\u001b[0;34m\u001b[0m\u001b[0;34m\u001b[0m\u001b[0m\n\u001b[1;32m     49\u001b[0m                 \u001b[0;32mif\u001b[0m \u001b[0mlen\u001b[0m\u001b[0;34m(\u001b[0m\u001b[0mother_ids_with_this_label\u001b[0m\u001b[0;34m)\u001b[0m\u001b[0;34m>\u001b[0m\u001b[0;36m0\u001b[0m\u001b[0;34m:\u001b[0m\u001b[0;34m\u001b[0m\u001b[0;34m\u001b[0m\u001b[0m\n\u001b[0;32m---> 50\u001b[0;31m                         \u001b[0mwithin_label_similarities\u001b[0m \u001b[0;34m=\u001b[0m \u001b[0mnp\u001b[0m\u001b[0;34m.\u001b[0m\u001b[0masarray\u001b[0m\u001b[0;34m(\u001b[0m\u001b[0;34m[\u001b[0m\u001b[0mgraph\u001b[0m\u001b[0;34m.\u001b[0m\u001b[0mget_value\u001b[0m\u001b[0;34m(\u001b[0m\u001b[0midentifier\u001b[0m\u001b[0;34m,\u001b[0m\u001b[0mi\u001b[0m\u001b[0;34m)\u001b[0m \u001b[0;32mfor\u001b[0m \u001b[0mi\u001b[0m \u001b[0;32min\u001b[0m \u001b[0mother_ids_with_this_label\u001b[0m\u001b[0;34m]\u001b[0m\u001b[0;34m)\u001b[0m\u001b[0;34m\u001b[0m\u001b[0;34m\u001b[0m\u001b[0m\n\u001b[0m\u001b[1;32m     51\u001b[0m                         \u001b[0my_scores\u001b[0m\u001b[0;34m.\u001b[0m\u001b[0mappend\u001b[0m\u001b[0;34m(\u001b[0m\u001b[0mnp\u001b[0m\u001b[0;34m.\u001b[0m\u001b[0mmean\u001b[0m\u001b[0;34m(\u001b[0m\u001b[0mwithin_label_similarities\u001b[0m\u001b[0;34m)\u001b[0m\u001b[0;34m)\u001b[0m\u001b[0;34m\u001b[0m\u001b[0;34m\u001b[0m\u001b[0m\n\u001b[1;32m     52\u001b[0m                 \u001b[0;32melse\u001b[0m\u001b[0;34m:\u001b[0m\u001b[0;34m\u001b[0m\u001b[0;34m\u001b[0m\u001b[0m\n",
      "\u001b[0;32m~/oats/oats/objectives/functions.py\u001b[0m in \u001b[0;36m<listcomp>\u001b[0;34m(.0)\u001b[0m\n\u001b[1;32m     48\u001b[0m                 \u001b[0mother_ids_with_this_label\u001b[0m \u001b[0;34m=\u001b[0m \u001b[0;34m[\u001b[0m\u001b[0mx\u001b[0m \u001b[0;32mfor\u001b[0m \u001b[0mx\u001b[0m \u001b[0;32min\u001b[0m \u001b[0mlabel_to_ids\u001b[0m\u001b[0;34m[\u001b[0m\u001b[0mlabel\u001b[0m\u001b[0;34m]\u001b[0m \u001b[0;32mif\u001b[0m \u001b[0mx\u001b[0m \u001b[0;32mis\u001b[0m \u001b[0;32mnot\u001b[0m \u001b[0midentifier\u001b[0m\u001b[0;34m]\u001b[0m     \u001b[0;31m# What's the probability assigned to this classification based on the graph?\u001b[0m\u001b[0;34m\u001b[0m\u001b[0;34m\u001b[0m\u001b[0m\n\u001b[1;32m     49\u001b[0m                 \u001b[0;32mif\u001b[0m \u001b[0mlen\u001b[0m\u001b[0;34m(\u001b[0m\u001b[0mother_ids_with_this_label\u001b[0m\u001b[0;34m)\u001b[0m\u001b[0;34m>\u001b[0m\u001b[0;36m0\u001b[0m\u001b[0;34m:\u001b[0m\u001b[0;34m\u001b[0m\u001b[0;34m\u001b[0m\u001b[0m\n\u001b[0;32m---> 50\u001b[0;31m                         \u001b[0mwithin_label_similarities\u001b[0m \u001b[0;34m=\u001b[0m \u001b[0mnp\u001b[0m\u001b[0;34m.\u001b[0m\u001b[0masarray\u001b[0m\u001b[0;34m(\u001b[0m\u001b[0;34m[\u001b[0m\u001b[0mgraph\u001b[0m\u001b[0;34m.\u001b[0m\u001b[0mget_value\u001b[0m\u001b[0;34m(\u001b[0m\u001b[0midentifier\u001b[0m\u001b[0;34m,\u001b[0m\u001b[0mi\u001b[0m\u001b[0;34m)\u001b[0m \u001b[0;32mfor\u001b[0m \u001b[0mi\u001b[0m \u001b[0;32min\u001b[0m \u001b[0mother_ids_with_this_label\u001b[0m\u001b[0;34m]\u001b[0m\u001b[0;34m)\u001b[0m\u001b[0;34m\u001b[0m\u001b[0;34m\u001b[0m\u001b[0m\n\u001b[0m\u001b[1;32m     51\u001b[0m                         \u001b[0my_scores\u001b[0m\u001b[0;34m.\u001b[0m\u001b[0mappend\u001b[0m\u001b[0;34m(\u001b[0m\u001b[0mnp\u001b[0m\u001b[0;34m.\u001b[0m\u001b[0mmean\u001b[0m\u001b[0;34m(\u001b[0m\u001b[0mwithin_label_similarities\u001b[0m\u001b[0;34m)\u001b[0m\u001b[0;34m)\u001b[0m\u001b[0;34m\u001b[0m\u001b[0;34m\u001b[0m\u001b[0m\n\u001b[1;32m     52\u001b[0m                 \u001b[0;32melse\u001b[0m\u001b[0;34m:\u001b[0m\u001b[0;34m\u001b[0m\u001b[0;34m\u001b[0m\u001b[0m\n",
      "\u001b[0;32m~/oats/oats/graphs/indexed.py\u001b[0m in \u001b[0;36mget_value\u001b[0;34m(self, id1, id2)\u001b[0m\n\u001b[1;32m     36\u001b[0m                         \u001b[0;32mpass\u001b[0m\u001b[0;34m\u001b[0m\u001b[0;34m\u001b[0m\u001b[0m\n\u001b[1;32m     37\u001b[0m                 \u001b[0;32mtry\u001b[0m\u001b[0;34m:\u001b[0m\u001b[0;34m\u001b[0m\u001b[0;34m\u001b[0m\u001b[0m\n\u001b[0;32m---> 38\u001b[0;31m                         \u001b[0;32mreturn\u001b[0m\u001b[0;34m(\u001b[0m\u001b[0mself\u001b[0m\u001b[0;34m.\u001b[0m\u001b[0mindexed_df\u001b[0m\u001b[0;34m.\u001b[0m\u001b[0mloc\u001b[0m\u001b[0;34m[\u001b[0m\u001b[0;34m(\u001b[0m\u001b[0mid2\u001b[0m\u001b[0;34m,\u001b[0m\u001b[0mid1\u001b[0m\u001b[0;34m)\u001b[0m\u001b[0;34m]\u001b[0m\u001b[0;34m[\u001b[0m\u001b[0;34m\"value\"\u001b[0m\u001b[0;34m]\u001b[0m\u001b[0;34m)\u001b[0m\u001b[0;34m\u001b[0m\u001b[0;34m\u001b[0m\u001b[0m\n\u001b[0m\u001b[1;32m     39\u001b[0m                 \u001b[0;32mexcept\u001b[0m\u001b[0;34m(\u001b[0m\u001b[0mKeyError\u001b[0m\u001b[0;34m,\u001b[0m \u001b[0mTypeError\u001b[0m\u001b[0;34m)\u001b[0m\u001b[0;34m:\u001b[0m\u001b[0;34m\u001b[0m\u001b[0;34m\u001b[0m\u001b[0m\n\u001b[1;32m     40\u001b[0m                         \u001b[0;32mraise\u001b[0m \u001b[0mKeyError\u001b[0m\u001b[0;34m(\u001b[0m\u001b[0;34m\"no value for this pair of IDs\"\u001b[0m\u001b[0;34m)\u001b[0m\u001b[0;34m\u001b[0m\u001b[0;34m\u001b[0m\u001b[0m\n",
      "\u001b[0;32m/anaconda2/envs/phenolog/lib/python3.6/site-packages/pandas/core/indexing.py\u001b[0m in \u001b[0;36m__getitem__\u001b[0;34m(self, key)\u001b[0m\n\u001b[1;32m   1402\u001b[0m                 \u001b[0;32mexcept\u001b[0m \u001b[0;34m(\u001b[0m\u001b[0mKeyError\u001b[0m\u001b[0;34m,\u001b[0m \u001b[0mIndexError\u001b[0m\u001b[0;34m,\u001b[0m \u001b[0mAttributeError\u001b[0m\u001b[0;34m)\u001b[0m\u001b[0;34m:\u001b[0m\u001b[0;34m\u001b[0m\u001b[0;34m\u001b[0m\u001b[0m\n\u001b[1;32m   1403\u001b[0m                     \u001b[0;32mpass\u001b[0m\u001b[0;34m\u001b[0m\u001b[0;34m\u001b[0m\u001b[0m\n\u001b[0;32m-> 1404\u001b[0;31m             \u001b[0;32mreturn\u001b[0m \u001b[0mself\u001b[0m\u001b[0;34m.\u001b[0m\u001b[0m_getitem_tuple\u001b[0m\u001b[0;34m(\u001b[0m\u001b[0mkey\u001b[0m\u001b[0;34m)\u001b[0m\u001b[0;34m\u001b[0m\u001b[0;34m\u001b[0m\u001b[0m\n\u001b[0m\u001b[1;32m   1405\u001b[0m         \u001b[0;32melse\u001b[0m\u001b[0;34m:\u001b[0m\u001b[0;34m\u001b[0m\u001b[0;34m\u001b[0m\u001b[0m\n\u001b[1;32m   1406\u001b[0m             \u001b[0;31m# we by definition only have the 0th axis\u001b[0m\u001b[0;34m\u001b[0m\u001b[0;34m\u001b[0m\u001b[0;34m\u001b[0m\u001b[0m\n",
      "\u001b[0;32m/anaconda2/envs/phenolog/lib/python3.6/site-packages/pandas/core/indexing.py\u001b[0m in \u001b[0;36m_getitem_tuple\u001b[0;34m(self, tup)\u001b[0m\n\u001b[1;32m    789\u001b[0m     \u001b[0;32mdef\u001b[0m \u001b[0m_getitem_tuple\u001b[0m\u001b[0;34m(\u001b[0m\u001b[0mself\u001b[0m\u001b[0;34m,\u001b[0m \u001b[0mtup\u001b[0m\u001b[0;34m)\u001b[0m\u001b[0;34m:\u001b[0m\u001b[0;34m\u001b[0m\u001b[0;34m\u001b[0m\u001b[0m\n\u001b[1;32m    790\u001b[0m         \u001b[0;32mtry\u001b[0m\u001b[0;34m:\u001b[0m\u001b[0;34m\u001b[0m\u001b[0;34m\u001b[0m\u001b[0m\n\u001b[0;32m--> 791\u001b[0;31m             \u001b[0;32mreturn\u001b[0m \u001b[0mself\u001b[0m\u001b[0;34m.\u001b[0m\u001b[0m_getitem_lowerdim\u001b[0m\u001b[0;34m(\u001b[0m\u001b[0mtup\u001b[0m\u001b[0;34m)\u001b[0m\u001b[0;34m\u001b[0m\u001b[0;34m\u001b[0m\u001b[0m\n\u001b[0m\u001b[1;32m    792\u001b[0m         \u001b[0;32mexcept\u001b[0m \u001b[0mIndexingError\u001b[0m\u001b[0;34m:\u001b[0m\u001b[0;34m\u001b[0m\u001b[0;34m\u001b[0m\u001b[0m\n\u001b[1;32m    793\u001b[0m             \u001b[0;32mpass\u001b[0m\u001b[0;34m\u001b[0m\u001b[0;34m\u001b[0m\u001b[0m\n",
      "\u001b[0;32m/anaconda2/envs/phenolog/lib/python3.6/site-packages/pandas/core/indexing.py\u001b[0m in \u001b[0;36m_getitem_lowerdim\u001b[0;34m(self, tup)\u001b[0m\n\u001b[1;32m    901\u001b[0m         \u001b[0;31m# instead of checking it as multiindex representation (GH 13797)\u001b[0m\u001b[0;34m\u001b[0m\u001b[0;34m\u001b[0m\u001b[0;34m\u001b[0m\u001b[0m\n\u001b[1;32m    902\u001b[0m         \u001b[0;32mif\u001b[0m \u001b[0misinstance\u001b[0m\u001b[0;34m(\u001b[0m\u001b[0max0\u001b[0m\u001b[0;34m,\u001b[0m \u001b[0mMultiIndex\u001b[0m\u001b[0;34m)\u001b[0m \u001b[0;32mand\u001b[0m \u001b[0mself\u001b[0m\u001b[0;34m.\u001b[0m\u001b[0mname\u001b[0m \u001b[0;34m!=\u001b[0m \u001b[0;34m\"iloc\"\u001b[0m\u001b[0;34m:\u001b[0m\u001b[0;34m\u001b[0m\u001b[0;34m\u001b[0m\u001b[0m\n\u001b[0;32m--> 903\u001b[0;31m             \u001b[0mresult\u001b[0m \u001b[0;34m=\u001b[0m \u001b[0mself\u001b[0m\u001b[0;34m.\u001b[0m\u001b[0m_handle_lowerdim_multi_index_axis0\u001b[0m\u001b[0;34m(\u001b[0m\u001b[0mtup\u001b[0m\u001b[0;34m)\u001b[0m\u001b[0;34m\u001b[0m\u001b[0;34m\u001b[0m\u001b[0m\n\u001b[0m\u001b[1;32m    904\u001b[0m             \u001b[0;32mif\u001b[0m \u001b[0mresult\u001b[0m \u001b[0;32mis\u001b[0m \u001b[0;32mnot\u001b[0m \u001b[0;32mNone\u001b[0m\u001b[0;34m:\u001b[0m\u001b[0;34m\u001b[0m\u001b[0;34m\u001b[0m\u001b[0m\n\u001b[1;32m    905\u001b[0m                 \u001b[0;32mreturn\u001b[0m \u001b[0mresult\u001b[0m\u001b[0;34m\u001b[0m\u001b[0;34m\u001b[0m\u001b[0m\n",
      "\u001b[0;32m/anaconda2/envs/phenolog/lib/python3.6/site-packages/pandas/core/indexing.py\u001b[0m in \u001b[0;36m_handle_lowerdim_multi_index_axis0\u001b[0;34m(self, tup)\u001b[0m\n\u001b[1;32m    865\u001b[0m         \u001b[0;32mtry\u001b[0m\u001b[0;34m:\u001b[0m\u001b[0;34m\u001b[0m\u001b[0;34m\u001b[0m\u001b[0m\n\u001b[1;32m    866\u001b[0m             \u001b[0;31m# fast path for series or for tup devoid of slices\u001b[0m\u001b[0;34m\u001b[0m\u001b[0;34m\u001b[0m\u001b[0;34m\u001b[0m\u001b[0m\n\u001b[0;32m--> 867\u001b[0;31m             \u001b[0;32mreturn\u001b[0m \u001b[0mself\u001b[0m\u001b[0;34m.\u001b[0m\u001b[0m_get_label\u001b[0m\u001b[0;34m(\u001b[0m\u001b[0mtup\u001b[0m\u001b[0;34m,\u001b[0m \u001b[0maxis\u001b[0m\u001b[0;34m=\u001b[0m\u001b[0maxis\u001b[0m\u001b[0;34m)\u001b[0m\u001b[0;34m\u001b[0m\u001b[0;34m\u001b[0m\u001b[0m\n\u001b[0m\u001b[1;32m    868\u001b[0m         \u001b[0;32mexcept\u001b[0m \u001b[0mTypeError\u001b[0m\u001b[0;34m:\u001b[0m\u001b[0;34m\u001b[0m\u001b[0;34m\u001b[0m\u001b[0m\n\u001b[1;32m    869\u001b[0m             \u001b[0;31m# slices are unhashable\u001b[0m\u001b[0;34m\u001b[0m\u001b[0;34m\u001b[0m\u001b[0;34m\u001b[0m\u001b[0m\n",
      "\u001b[0;32m/anaconda2/envs/phenolog/lib/python3.6/site-packages/pandas/core/indexing.py\u001b[0m in \u001b[0;36m_get_label\u001b[0;34m(self, label, axis)\u001b[0m\n\u001b[1;32m    155\u001b[0m             \u001b[0;32mraise\u001b[0m \u001b[0mIndexingError\u001b[0m\u001b[0;34m(\u001b[0m\u001b[0;34m\"no slices here, handle elsewhere\"\u001b[0m\u001b[0;34m)\u001b[0m\u001b[0;34m\u001b[0m\u001b[0;34m\u001b[0m\u001b[0m\n\u001b[1;32m    156\u001b[0m \u001b[0;34m\u001b[0m\u001b[0m\n\u001b[0;32m--> 157\u001b[0;31m         \u001b[0;32mreturn\u001b[0m \u001b[0mself\u001b[0m\u001b[0;34m.\u001b[0m\u001b[0mobj\u001b[0m\u001b[0;34m.\u001b[0m\u001b[0m_xs\u001b[0m\u001b[0;34m(\u001b[0m\u001b[0mlabel\u001b[0m\u001b[0;34m,\u001b[0m \u001b[0maxis\u001b[0m\u001b[0;34m=\u001b[0m\u001b[0maxis\u001b[0m\u001b[0;34m)\u001b[0m\u001b[0;34m\u001b[0m\u001b[0;34m\u001b[0m\u001b[0m\n\u001b[0m\u001b[1;32m    158\u001b[0m \u001b[0;34m\u001b[0m\u001b[0m\n\u001b[1;32m    159\u001b[0m     \u001b[0;32mdef\u001b[0m \u001b[0m_get_loc\u001b[0m\u001b[0;34m(\u001b[0m\u001b[0mself\u001b[0m\u001b[0;34m,\u001b[0m \u001b[0mkey\u001b[0m\u001b[0;34m:\u001b[0m \u001b[0mint\u001b[0m\u001b[0;34m,\u001b[0m \u001b[0maxis\u001b[0m\u001b[0;34m:\u001b[0m \u001b[0mint\u001b[0m\u001b[0;34m)\u001b[0m\u001b[0;34m:\u001b[0m\u001b[0;34m\u001b[0m\u001b[0;34m\u001b[0m\u001b[0m\n",
      "\u001b[0;32m/anaconda2/envs/phenolog/lib/python3.6/site-packages/pandas/core/generic.py\u001b[0m in \u001b[0;36mxs\u001b[0;34m(self, key, axis, level, drop_level)\u001b[0m\n\u001b[1;32m   3734\u001b[0m         \u001b[0mindex\u001b[0m \u001b[0;34m=\u001b[0m \u001b[0mself\u001b[0m\u001b[0;34m.\u001b[0m\u001b[0mindex\u001b[0m\u001b[0;34m\u001b[0m\u001b[0;34m\u001b[0m\u001b[0m\n\u001b[1;32m   3735\u001b[0m         \u001b[0;32mif\u001b[0m \u001b[0misinstance\u001b[0m\u001b[0;34m(\u001b[0m\u001b[0mindex\u001b[0m\u001b[0;34m,\u001b[0m \u001b[0mMultiIndex\u001b[0m\u001b[0;34m)\u001b[0m\u001b[0;34m:\u001b[0m\u001b[0;34m\u001b[0m\u001b[0;34m\u001b[0m\u001b[0m\n\u001b[0;32m-> 3736\u001b[0;31m             \u001b[0mloc\u001b[0m\u001b[0;34m,\u001b[0m \u001b[0mnew_index\u001b[0m \u001b[0;34m=\u001b[0m \u001b[0mself\u001b[0m\u001b[0;34m.\u001b[0m\u001b[0mindex\u001b[0m\u001b[0;34m.\u001b[0m\u001b[0mget_loc_level\u001b[0m\u001b[0;34m(\u001b[0m\u001b[0mkey\u001b[0m\u001b[0;34m,\u001b[0m \u001b[0mdrop_level\u001b[0m\u001b[0;34m=\u001b[0m\u001b[0mdrop_level\u001b[0m\u001b[0;34m)\u001b[0m\u001b[0;34m\u001b[0m\u001b[0;34m\u001b[0m\u001b[0m\n\u001b[0m\u001b[1;32m   3737\u001b[0m         \u001b[0;32melse\u001b[0m\u001b[0;34m:\u001b[0m\u001b[0;34m\u001b[0m\u001b[0;34m\u001b[0m\u001b[0m\n\u001b[1;32m   3738\u001b[0m             \u001b[0mloc\u001b[0m \u001b[0;34m=\u001b[0m \u001b[0mself\u001b[0m\u001b[0;34m.\u001b[0m\u001b[0mindex\u001b[0m\u001b[0;34m.\u001b[0m\u001b[0mget_loc\u001b[0m\u001b[0;34m(\u001b[0m\u001b[0mkey\u001b[0m\u001b[0;34m)\u001b[0m\u001b[0;34m\u001b[0m\u001b[0;34m\u001b[0m\u001b[0m\n",
      "\u001b[0;32m/anaconda2/envs/phenolog/lib/python3.6/site-packages/pandas/core/indexes/multi.py\u001b[0m in \u001b[0;36mget_loc_level\u001b[0;34m(self, key, level, drop_level)\u001b[0m\n\u001b[1;32m   2782\u001b[0m             \u001b[0;32mreturn\u001b[0m \u001b[0mresult\u001b[0m\u001b[0;34m,\u001b[0m \u001b[0mmaybe_droplevels\u001b[0m\u001b[0;34m(\u001b[0m\u001b[0mresult\u001b[0m\u001b[0;34m,\u001b[0m \u001b[0mlevel\u001b[0m\u001b[0;34m,\u001b[0m \u001b[0mdrop_level\u001b[0m\u001b[0;34m)\u001b[0m\u001b[0;34m\u001b[0m\u001b[0;34m\u001b[0m\u001b[0m\n\u001b[1;32m   2783\u001b[0m \u001b[0;34m\u001b[0m\u001b[0m\n\u001b[0;32m-> 2784\u001b[0;31m         \u001b[0mlevel\u001b[0m \u001b[0;34m=\u001b[0m \u001b[0mself\u001b[0m\u001b[0;34m.\u001b[0m\u001b[0m_get_level_number\u001b[0m\u001b[0;34m(\u001b[0m\u001b[0mlevel\u001b[0m\u001b[0;34m)\u001b[0m\u001b[0;34m\u001b[0m\u001b[0;34m\u001b[0m\u001b[0m\n\u001b[0m\u001b[1;32m   2785\u001b[0m \u001b[0;34m\u001b[0m\u001b[0m\n\u001b[1;32m   2786\u001b[0m         \u001b[0;31m# kludge for #1796\u001b[0m\u001b[0;34m\u001b[0m\u001b[0;34m\u001b[0m\u001b[0;34m\u001b[0m\u001b[0m\n",
      "\u001b[0;32m/anaconda2/envs/phenolog/lib/python3.6/site-packages/pandas/core/indexes/multi.py\u001b[0m in \u001b[0;36m_get_level_number\u001b[0;34m(self, level)\u001b[0m\n\u001b[1;32m   1278\u001b[0m \u001b[0;34m\u001b[0m\u001b[0m\n\u001b[1;32m   1279\u001b[0m     \u001b[0;32mdef\u001b[0m \u001b[0m_get_level_number\u001b[0m\u001b[0;34m(\u001b[0m\u001b[0mself\u001b[0m\u001b[0;34m,\u001b[0m \u001b[0mlevel\u001b[0m\u001b[0;34m)\u001b[0m\u001b[0;34m:\u001b[0m\u001b[0;34m\u001b[0m\u001b[0;34m\u001b[0m\u001b[0m\n\u001b[0;32m-> 1280\u001b[0;31m         \u001b[0mcount\u001b[0m \u001b[0;34m=\u001b[0m \u001b[0mself\u001b[0m\u001b[0;34m.\u001b[0m\u001b[0mnames\u001b[0m\u001b[0;34m.\u001b[0m\u001b[0mcount\u001b[0m\u001b[0;34m(\u001b[0m\u001b[0mlevel\u001b[0m\u001b[0;34m)\u001b[0m\u001b[0;34m\u001b[0m\u001b[0;34m\u001b[0m\u001b[0m\n\u001b[0m\u001b[1;32m   1281\u001b[0m         \u001b[0;32mif\u001b[0m \u001b[0;34m(\u001b[0m\u001b[0mcount\u001b[0m \u001b[0;34m>\u001b[0m \u001b[0;36m1\u001b[0m\u001b[0;34m)\u001b[0m \u001b[0;32mand\u001b[0m \u001b[0;32mnot\u001b[0m \u001b[0mis_integer\u001b[0m\u001b[0;34m(\u001b[0m\u001b[0mlevel\u001b[0m\u001b[0;34m)\u001b[0m\u001b[0;34m:\u001b[0m\u001b[0;34m\u001b[0m\u001b[0;34m\u001b[0m\u001b[0m\n\u001b[1;32m   1282\u001b[0m             raise ValueError(\n",
      "\u001b[0;32m/anaconda2/envs/phenolog/lib/python3.6/site-packages/pandas/core/indexes/multi.py\u001b[0m in \u001b[0;36m_get_names\u001b[0;34m(self)\u001b[0m\n\u001b[1;32m   1177\u001b[0m \u001b[0;34m\u001b[0m\u001b[0m\n\u001b[1;32m   1178\u001b[0m     \u001b[0;32mdef\u001b[0m \u001b[0m_get_names\u001b[0m\u001b[0;34m(\u001b[0m\u001b[0mself\u001b[0m\u001b[0;34m)\u001b[0m\u001b[0;34m:\u001b[0m\u001b[0;34m\u001b[0m\u001b[0;34m\u001b[0m\u001b[0m\n\u001b[0;32m-> 1179\u001b[0;31m         \u001b[0;32mreturn\u001b[0m \u001b[0mFrozenList\u001b[0m\u001b[0;34m(\u001b[0m\u001b[0mlevel\u001b[0m\u001b[0;34m.\u001b[0m\u001b[0mname\u001b[0m \u001b[0;32mfor\u001b[0m \u001b[0mlevel\u001b[0m \u001b[0;32min\u001b[0m \u001b[0mself\u001b[0m\u001b[0;34m.\u001b[0m\u001b[0mlevels\u001b[0m\u001b[0;34m)\u001b[0m\u001b[0;34m\u001b[0m\u001b[0;34m\u001b[0m\u001b[0m\n\u001b[0m\u001b[1;32m   1180\u001b[0m \u001b[0;34m\u001b[0m\u001b[0m\n\u001b[1;32m   1181\u001b[0m     \u001b[0;32mdef\u001b[0m \u001b[0m_set_names\u001b[0m\u001b[0;34m(\u001b[0m\u001b[0mself\u001b[0m\u001b[0;34m,\u001b[0m \u001b[0mnames\u001b[0m\u001b[0;34m,\u001b[0m \u001b[0mlevel\u001b[0m\u001b[0;34m=\u001b[0m\u001b[0;32mNone\u001b[0m\u001b[0;34m,\u001b[0m \u001b[0mvalidate\u001b[0m\u001b[0;34m=\u001b[0m\u001b[0;32mTrue\u001b[0m\u001b[0;34m)\u001b[0m\u001b[0;34m:\u001b[0m\u001b[0;34m\u001b[0m\u001b[0;34m\u001b[0m\u001b[0m\n",
      "\u001b[0;31mKeyboardInterrupt\u001b[0m: "
     ]
    }
   ],
   "source": [
    "id_to_pathway_ids = groupings_kegg.get_forward_dict(genes)\n",
    "print(\"done getting pathways dictionary\")\n",
    "\n",
    "df.loc[:,\"class\"] = [int(len(set(id_to_pathway_ids[id1]).intersection(set(id_to_pathway_ids[id2])))>0) for (id1,id2) in zip(df[\"from\"].values,df[\"to\"].values)]\n",
    "df[\"new\"] = 1-df[\"bagofwords\"]\n",
    "g = IndexedGraph(df=df, value=\"new\")\n",
    "print(\"done making the graph\")\n",
    "y_true, y_scores = classification(g, id_to_pathway_ids)\n",
    "print(\"done doing the classifying\")\n",
    "\n",
    "from inspect import signature\n",
    "\n",
    "precision, recall, _ = precision_recall_curve(y_true, y_scores)\n",
    "\n",
    "# In matplotlib < 1.5, plt.fill_between does not have a 'step' argument\n",
    "step_kwargs = ({'step': 'post'}\n",
    "               if 'step' in signature(plt.fill_between).parameters\n",
    "               else {})\n",
    "plt.step(recall, precision, color='b', alpha=0.2,\n",
    "         where='post')\n",
    "plt.fill_between(recall, precision, alpha=0.2, color='b', **step_kwargs)\n",
    "\n",
    "plt.xlabel('Recall')\n",
    "plt.ylabel('Precision')\n",
    "plt.ylim([0.0, 1.05])\n",
    "plt.xlim([0.0, 1.0])\n",
    "plt.title('2-class Precision-Recall curve: AP={0:0.2f}'.format(average_precision))\n",
    "\n",
    "area = auc(recall, precision)\n",
    "print(\"area is\",area)\n",
    "print(\"baseline area is\",baseline) # the area under teh baseline is just width (1) x height (basline).\n",
    "print(\"ratio =\", area/baseline)"
   ]
  },
  {
   "cell_type": "code",
   "execution_count": null,
   "metadata": {},
   "outputs": [],
   "source": []
  },
  {
   "cell_type": "code",
   "execution_count": null,
   "metadata": {},
   "outputs": [],
   "source": []
  },
  {
   "cell_type": "code",
   "execution_count": null,
   "metadata": {},
   "outputs": [],
   "source": []
  },
  {
   "cell_type": "code",
   "execution_count": null,
   "metadata": {},
   "outputs": [],
   "source": [
    "df_train, df_test = train_test_split(df, test_size=0.25)\n",
    "print(df_train.shape)\n",
    "print(df_test.shape)"
   ]
  },
  {
   "cell_type": "code",
   "execution_count": null,
   "metadata": {},
   "outputs": [],
   "source": [
    "df_train.loc[:,\"class\"] = [int(len(set(id_to_pathway_ids[id1]).intersection(set(id_to_pathway_ids[id2])))>0) for (id1,id2) in zip(df_train[\"from\"].values,df_train[\"to\"].values)]\n",
    "print(df_train.head(20))\n",
    "print(len(df_train[df_train[\"class\"]==0]))\n",
    "print(len(df_train[df_train[\"class\"]==1]))"
   ]
  },
  {
   "cell_type": "code",
   "execution_count": null,
   "metadata": {},
   "outputs": [],
   "source": []
  }
 ],
 "metadata": {
  "kernelspec": {
   "display_name": "Python 3",
   "language": "python",
   "name": "python3"
  },
  "language_info": {
   "codemirror_mode": {
    "name": "ipython",
    "version": 3
   },
   "file_extension": ".py",
   "mimetype": "text/x-python",
   "name": "python",
   "nbconvert_exporter": "python",
   "pygments_lexer": "ipython3",
   "version": "3.6.7"
  }
 },
 "nbformat": 4,
 "nbformat_minor": 2
}
