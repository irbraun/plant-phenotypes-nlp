{
 "cells": [
  {
   "cell_type": "markdown",
   "metadata": {},
   "source": [
    "## Network Analysis for A. thaliana Data\n",
    "Something here."
   ]
  },
  {
   "cell_type": "code",
   "execution_count": 9,
   "metadata": {},
   "outputs": [
    {
     "name": "stdout",
     "output_type": "stream",
     "text": [
      "done loading imports\n"
     ]
    }
   ],
   "source": [
    "import pandas as pd\n",
    "pd.set_option('mode.chained_assignment', None)\n",
    "pd.set_option('display.multi_sparse', False)\n",
    "import numpy as np\n",
    "import time\n",
    "import sys\n",
    "import os\n",
    "import multiprocessing as mp\n",
    "from sklearn.model_selection import train_test_split\n",
    "\n",
    "sys.path.append(\"../../oats\")\n",
    "from oats.utils.utils import save_to_pickle, load_from_pickle\n",
    "from oats.utils.utils import function_wrapper, to_hms\n",
    "\n",
    "print(\"done loading imports\")"
   ]
  },
  {
   "cell_type": "code",
   "execution_count": 10,
   "metadata": {},
   "outputs": [
    {
     "name": "stdout",
     "output_type": "stream",
     "text": [
      "Number of rows in the dataframe: 5229\n",
      "Number of unique IDs:            5229\n",
      "Number of unique descriptions:   3051\n",
      "Number of unique gene name sets: 5229\n",
      "Number of species represented:   1\n"
     ]
    }
   ],
   "source": [
    "from oats.datasets.dataset import Dataset\n",
    "\n",
    "# Put together a complete dataset from files that have been formatted correctly in the other notebooks.\n",
    "dataset = Dataset()\n",
    "dataset.add_data(pd.read_csv(\"../data/reshaped_files/ath_tair_gene_text.csv\", lineterminator=\"\\n\"))\n",
    "dataset.add_data(pd.read_csv(\"../data/reshaped_files/ath_tair_gene_annot_go.csv\", lineterminator=\"\\n\"))\n",
    "dataset.add_data(pd.read_csv(\"../data/reshaped_files/ath_tair_gene_annot_po.csv\", lineterminator=\"\\n\"))\n",
    "dataset.collapse_by_first_gene_name()\n",
    "dataset.filter_has_description()\n",
    "dataset.filter_has_annotation()\n",
    "dataset.describe()"
   ]
  },
  {
   "cell_type": "code",
   "execution_count": 11,
   "metadata": {},
   "outputs": [
    {
     "name": "stdout",
     "output_type": "stream",
     "text": [
      "Of the 5229 genes in the dataset, 661 are mapped to atleast one pathway.\n",
      "16    PWY-5080 PWY-7036\n",
      "18    PWY-6\n",
      "19    PWY-6733\n",
      "21    PWY-7270 ETHYL-PWY\n",
      "22    PWY-181\n",
      "24    PWY-5667 TRIGLSYN-PWY\n",
      "31    PWY-6295 PWY-6733 PWY-84\n",
      "36    PWY-282\n",
      "44    PWY-6898 PWY-7356 PWY-6908\n",
      "49    LEU-DEG2-PWY\n",
      "55    PWY-622\n",
      "57    HEME-BIOSYNTHESIS-II CHLOROPHYLL-SYN\n",
      "61    PWY-6745\n",
      "68    PWY-581 PWYDQC-4\n",
      "69    PWY-5080\n",
      "77    PWY-6446 PWY-6444 PWY-3181\n",
      "79    PWY-5136\n",
      "89    PWY-6363 PWY-6364\n",
      "90    PWY-5272 PWY-1782 PWY-1741\n",
      "91    PWY-6363 PWY-6364\n",
      "101   PWY-5136 PWY-6837\n",
      "103   PWY-6773\n",
      "104   PWY-5129\n",
      "105   PWY-5667 TRIGLSYN-PWY\n",
      "109   PWY-6475\n"
     ]
    }
   ],
   "source": [
    "from oats.datasets.groupings import Groupings\n",
    "from oats.utils.utils import merge_list_dicts\n",
    "\n",
    "\n",
    "genes = dataset.get_gene_dictionary()\n",
    "\n",
    "# Create/read in the different objects for organizing gene groupings.\n",
    "groupings_kegg = load_from_pickle(path=\"../data/pickles/kegg_pathways.pickle\")\n",
    "groupings_pmn = load_from_pickle(path=\"../data/pickles/pmn_pathways.pickle\")\n",
    "groupings_subset = load_from_pickle(path=\"../data/pickles/lloyd_subsets.pickle\")\n",
    "groupings_class = load_from_pickle(path=\"../data/pickles/lloyd_classes.pickle\")\n",
    "\n",
    "# Get mappings between object IDs and pathways IDs and the reverse.\n",
    "id_to_pathway_ids = merge_list_dicts(\n",
    "    groupings_kegg.get_forward_dict(genes),\n",
    "    groupings_pmn.get_forward_dict(genes),\n",
    "    groupings_subset.get_forward_dict(genes))\n",
    "\n",
    "# Show some mappings between IDs and groups where the ID belongs to atleast one.\n",
    "total = len(id_to_pathway_ids.keys())\n",
    "has_mapping = len([k for (k,v) in id_to_pathway_ids.items() if len(v)>0])\n",
    "print(\"Of the {} genes in the dataset, {} are mapped to atleast one pathway.\".format(total, has_mapping))\n",
    "for k,v in [(k,v) for (k,v) in id_to_pathway_ids.items() if len(v)>0][:25]:\n",
    "    print(\"{:6}{}\".format(k,\" \".join(v)[:80]))"
   ]
  },
  {
   "cell_type": "code",
   "execution_count": 12,
   "metadata": {},
   "outputs": [
    {
     "name": "stdout",
     "output_type": "stream",
     "text": [
      "Number of rows in the dataframe: 661\n",
      "Number of unique IDs:            661\n",
      "Number of unique descriptions:   588\n",
      "Number of unique gene name sets: 661\n",
      "Number of species represented:   1\n",
      "Number of rows in the dataframe: 30\n",
      "Number of unique IDs:            30\n",
      "Number of unique descriptions:   29\n",
      "Number of unique gene name sets: 30\n",
      "Number of species represented:   1\n"
     ]
    }
   ],
   "source": [
    "# Subset the dataset to retain only the genes that are mapped to atleast one group.\n",
    "dataset.filter_with_ids([k for k,v in id_to_pathway_ids.items() if len(v)>0])\n",
    "dataset.describe()\n",
    "dataset.filter_random_k(k=30, seed=1938)\n",
    "dataset.describe()"
   ]
  },
  {
   "cell_type": "code",
   "execution_count": 13,
   "metadata": {
    "scrolled": true
   },
   "outputs": [
    {
     "name": "stdout",
     "output_type": "stream",
     "text": [
      "0     AT4G23850\n",
      "1     AT5G32470\n",
      "2     AT1G23320\n",
      "3     AT1G77240\n",
      "4     AT4G18780\n",
      "5     AT4G33010\n",
      "6     AT5G43940\n",
      "7     AT5G56610\n",
      "8     AT4G17360\n",
      "9     AT4G25700\n"
     ]
    }
   ],
   "source": [
    "# Get mapping from IDs to gene objects.\n",
    "genes = dataset.get_gene_dictionary()\n",
    "for k,v in list(genes.items())[:10]:\n",
    "    print(\"{:6}{}\".format(k,\" \".join(v.names)))"
   ]
  },
  {
   "cell_type": "code",
   "execution_count": 14,
   "metadata": {},
   "outputs": [
    {
     "name": "stdout",
     "output_type": "stream",
     "text": [
      "0     GO:0009805 GO:0001676 GO:0006633 GO:0005634 GO:0002213 GO:0005794 GO:0005886 GO:0004467 \n",
      "1     GO:0003674 GO:0005829 GO:0008150 GO:0009507\n",
      "2     GO:0016846 GO:0009793 GO:0080097 GO:0050362 GO:0010588 GO:0080022 GO:0048825 GO:0005737\n",
      "3     GO:0005739\n",
      "4     GO:0045492 GO:0030244 GO:0009834 GO:0016757 GO:0010413 GO:0010116 GO:0050832 GO:0009832 \n",
      "5     GO:0009570 GO:0006098 GO:0048046 GO:0009695 GO:0009072 GO:0019252 GO:0042545 GO:0043085 \n",
      "6     GO:0051903 GO:0009611 GO:0046292 GO:0005777 GO:0019288 GO:0080007 GO:0009684 GO:0006569 \n",
      "7     GO:0008138 GO:0005737 GO:0006470 GO:0046855 GO:0043407 GO:0004439\n",
      "8     GO:0009853 GO:0008864 GO:0000023 GO:0043085 GO:0005739 GO:0019252 GO:0016742 GO:0009058 \n",
      "9     GO:0016119 GO:0010291 GO:0016123 GO:0009507\n"
     ]
    }
   ],
   "source": [
    "# Get a mapping from IDs to annotations (lists of ontology terms).\n",
    "annotations = dataset.get_annotations_dictionary()\n",
    "for k,v in list(annotations.items())[:10]:\n",
    "    print(\"{:6}{}\".format(k,\" \".join(v)[:88])) "
   ]
  },
  {
   "cell_type": "code",
   "execution_count": 15,
   "metadata": {},
   "outputs": [
    {
     "name": "stdout",
     "output_type": "stream",
     "text": [
      "0     no visible phenotype\n",
      "1     true leaves of unsupplemented plants variegated yellowgreen\n",
      "2     no visible phenotype weakly ethylene insensitive in roots of 3dayold darkgrown s\n",
      "3     no visible phenotype\n",
      "4     does not exhibit any obvious increase in  its susceptibility to wilting in gener\n",
      "5     no significant difference in photosynthetic performance relative to wildtype pla\n",
      "6     darkgrown seedlings are blocked in hypocotyl elongation after heat stress darkgr\n",
      "7     short roots disorganized columella cells irregularly divided cells and cellular \n",
      "8     no visible phenotype severe photorespiratory phenotypes plants are small pale de\n",
      "9     chlorophyll ab ratio does not differ significantly from that of wildtype in leav\n"
     ]
    }
   ],
   "source": [
    "from oats.nlp.preprocess import get_clean_description\n",
    "\n",
    "# Get a mapping from IDs to text descriptions.\n",
    "descriptions = dataset.get_description_dictionary()\n",
    "descriptions = {i:get_clean_description(d) for (i,d) in descriptions.items()}\n",
    "for k,v in list(descriptions.items())[:10]:\n",
    "    print(\"{:6}{}\".format(k,v[:80]))"
   ]
  },
  {
   "cell_type": "code",
   "execution_count": 16,
   "metadata": {},
   "outputs": [
    {
     "name": "stdout",
     "output_type": "stream",
     "text": [
      "a\n",
      "m1\n",
      "m2\n",
      "b\n"
     ]
    }
   ],
   "source": [
    "\n",
    "\n",
    "# Save the dataset as a pickle so it can be read by multithreading script.\n",
    "#save_to_pickle(obj=dataset, path=\"../data/pickles/dataset_001.pickle\")\n",
    "\n",
    "# The contents of the multithreaded script. \n",
    "\n",
    "from oats.annotation.ontology import Ontology\n",
    "from oats.annotation.annotation import annotate_using_rabin_karp, annotate_using_noble_coder \n",
    "from oats.annotation.annotation import write_annotations_to_tsv_file, read_annotations_from_tsv_file\n",
    "from oats.graphs.similarity import get_similarity_df_using_fastsemsim\n",
    "from oats.graphs.similarity import get_similarity_df_using_doc2vec\n",
    "from oats.graphs.similarity import get_similarity_df_using_bagofwords\n",
    "from oats.graphs.similarity import get_similarity_df_using_setofwords\n",
    "from oats.graphs.similarity import get_similarity_df_using_annotations_unweighted_jaccard\n",
    "from oats.graphs.similarity import get_similarity_df_using_annotations_weighted_jaccard\n",
    "from oats.graphs.data import combine_dfs_with_name_dict, subset_df_with_ids\n",
    "\n",
    "print(\"a\")\n",
    "\n",
    "# Setup some of the ontology and document embeddings stuff.\n",
    "merged_ontology_file = \"../ontologies/mo.obo\"\n",
    "annotations_file = \"../data/scratch/annot.tsv\"\n",
    "doc2vec_model_file = \"../gensim/enwiki_dbow/doc2vec.bin\"\n",
    "mo = Ontology(merged_ontology_file)\n",
    "print(\"m1\")\n",
    "annotations = annotate_using_rabin_karp(object_dict=descriptions, ontology=mo)\n",
    "print(\"m2\")\n",
    "write_annotations_to_tsv_file(annotations_dict=annotations, annotations_output_path=annotations_file)\n",
    "print(\"b\")"
   ]
  },
  {
   "cell_type": "code",
   "execution_count": 21,
   "metadata": {},
   "outputs": [
    {
     "name": "stdout",
     "output_type": "stream",
     "text": [
      "c\n"
     ]
    },
    {
     "name": "stderr",
     "output_type": "stream",
     "text": [
      "/anaconda2/envs/phenolog/lib/python3.6/site-packages/smart_open/smart_open_lib.py:398: UserWarning: This function is deprecated, use smart_open.open instead. See the migration notes for details: https://github.com/RaRe-Technologies/smart_open/blob/master/README.rst#migrating-to-the-new-open-function\n",
      "  'See the migration notes for details: %s' % _MIGRATION_NOTES_URL\n",
      "/anaconda2/envs/phenolog/lib/python3.6/site-packages/smart_open/smart_open_lib.py:398: UserWarning: This function is deprecated, use smart_open.open instead. See the migration notes for details: https://github.com/RaRe-Technologies/smart_open/blob/master/README.rst#migrating-to-the-new-open-function\n",
      "  'See the migration notes for details: %s' % _MIGRATION_NOTES_URL\n"
     ]
    },
    {
     "name": "stdout",
     "output_type": "stream",
     "text": [
      "1 [0.2151 2 [0.4301 3 [0.6452 4 [0.8602 5 [1.0753 6 [1.2903 7 [1.5054 8 [1.7204 9 [1.9355 10 [2.1505 %11 [2.3656 %12 [2.5806 %13 [2.7957 %14 [3.0108 %15 [3.2258 %16 [3.4409 %17 [3.6559 %18 [3.8710 %19 [4.0860 %20 [4.3011 %21 [4.5161 %22 [4.7312 %23 [4.9462 %24 [5.1613 %25 [5.3763 %26 [5.5914 %27 [5.8065 %28 [6.0215 %29 [6.2366 %30 [6.4516 %31 [6.6667 %32 [6.8817 %33 [7.0968 %34 [7.3118 %35 [7.5269 %36 [7.7419 %37 [7.9570 %38 [8.1720 %39 [8.3871 %40 [8.6022 %41 [8.8172 %42 [9.0323 %43 [9.2473 %44 [9.4624 %45 [9.6774 %46 [9.8925 %47 [10.1075 48 [10.3226 49 [10.5376 50 [10.7527 51 [10.9677 52 [11.1828 53 [11.3978 54 [11.6129 55 [11.8280 56 [12.0430 57 [12.2581 58 [12.4731 59 [12.6882 60 [12.9032 61 [13.1183 62 [13.3333 63 [13.5484 64 [13.7634 65 [13.9785 66 [14.1935 67 [14.4086 68 [14.6237 69 [14.8387 70 [15.0538 71 [15.2688 72 [15.4839 73 [15.6989 74 [15.9140 75 [16.1290 76 [16.3441 77 [16.5591 78 [16.7742 79 [16.9892 80 [17.2043 81 [17.4194 82 [17.6344 83 [17.8495 84 [18.0645 85 [18.2796 86 [18.4946 87 [18.7097 88 [18.9247 89 [19.1398 90 [19.3548 91 [19.5699 92 [19.7849 93 [20.0000 94 [20.2151 95 [20.4301 96 [20.6452 97 [20.8602 98 [21.0753 99 [21.2903 100 [21.5054 %101 [21.7204 %102 [21.9355 %103 [22.1505 %104 [22.3656 %105 [22.5806 %106 [22.7957 %107 [23.0108 %108 [23.2258 %109 [23.4409 %110 [23.6559 %111 [23.8710 %112 [24.0860 %113 [24.3011 %114 [24.5161 %115 [24.7312 %116 [24.9462 %117 [25.1613 %118 [25.3763 %119 [25.5914 %120 [25.8065 %121 [26.0215 %122 [26.2366 %123 [26.4516 %124 [26.6667 %125 [26.8817 %126 [27.0968 %127 [27.3118 %128 [27.5269 %129 [27.7419 %130 [27.9570 %131 [28.1720 %132 [28.3871 %133 [28.6022 %134 [28.8172 %135 [29.0323 %136 [29.2473 %137 [29.4624 %138 [29.6774 %139 [29.8925 %140 [30.1075 %141 [30.3226 %142 [30.5376 %143 [30.7527 %144 [30.9677 %145 [31.1828 %146 [31.3978 %147 [31.6129 %148 [31.8280 %149 [32.0430 %150 [32.2581 %151 [32.4731 %152 [32.6882 %153 [32.9032 %154 [33.1183 %155 [33.3333 %156 [33.5484 %157 [33.7634 %158 [33.9785 %159 [34.1935 %160 [34.4086 %161 [34.6237 %162 [34.8387 %163 [35.0538 %164 [35.2688 %165 [35.4839 %166 [35.6989 %167 [35.9140 %168 [36.1290 %169 [36.3441 %170 [36.5591 %171 [36.7742 %172 [36.9892 %173 [37.2043 %174 [37.4194 %175 [37.6344 %176 [37.8495 %177 [38.0645 %178 [38.2796 %179 [38.4946 %180 [38.7097 %181 [38.9247 %182 [39.1398 %183 [39.3548 %184 [39.5699 %185 [39.7849 %186 [40.0000 %187 [40.2151 %188 [40.4301 %189 [40.6452 %190 [40.8602 %191 [41.0753 %192 [41.2903 %193 [41.5054 %194 [41.7204 %195 [41.9355 %196 [42.1505 %197 [42.3656 %198 [42.5806 %199 [42.7957 %200 [43.0108 %201 [43.2258 %202 [43.4409 %203 [43.6559 %204 [43.8710 %205 [44.0860 %206 [44.3011 %207 [44.5161 %208 [44.7312 %209 [44.9462 %210 [45.1613 %211 [45.3763 %212 [45.5914 %213 [45.8065 %214 [46.0215 %215 [46.2366 %216 [46.4516 %217 [46.6667 %218 [46.8817 %219 [47.0968 %220 [47.3118 %221 [47.5269 %222 [47.7419 %223 [47.9570 %224 [48.1720 %225 [48.3871 %226 [48.6022 %227 [48.8172 %228 [49.0323 %229 [49.2473 %230 [49.4624 %231 [49.6774 %232 [49.8925 %233 [50.1075 %234 [50.3226 %235 [50.5376 %236 [50.7527 %237 [50.9677 %238 [51.1828 %239 [51.3978 %240 [51.6129 %241 [51.8280 %242 [52.0430 %243 [52.2581 %244 [52.4731 %245 [52.6882 %246 [52.9032 %247 [53.1183 %248 [53.3333 %249 [53.5484 %250 [53.7634 %251 [53.9785 %252 [54.1935 %253 [54.4086 %254 [54.6237 %255 [54.8387 %256 [55.0538 %257 [55.2688 %258 [55.4839 %259 [55.6989 %260 [55.9140 %261 [56.1290 %262 [56.3441 %263 [56.5591 %264 [56.7742 %265 [56.9892 %266 [57.2043 %267 [57.4194 %268 [57.6344 %269 [57.8495 %270 [58.0645 %271 [58.2796 %272 [58.4946 %273 [58.7097 %274 [58.9247 %275 [59.1398 %276 [59.3548 %277 [59.5699 %278 [59.7849 %279 [60.0000 %280 [60.2151 %281 [60.4301 %282 [60.6452 %283 [60.8602 %284 [61.0753 %285 [61.2903 %286 [61.5054 %287 [61.7204 %288 [61.9355 %289 [62.1505 %290 [62.3656 %291 [62.5806 %292 [62.7957 %293 [63.0108 %294 [63.2258 %295 [63.4409 %296 [63.6559 %297 [63.8710 %298 [64.0860 %299 [64.3011 %300 [64.5161 %301 [64.7312 %302 [64.9462 %303 [65.1613 %304 [65.3763 %305 [65.5914 %306 [65.8065 %307 [66.0215 %308 [66.2366 %309 [66.4516 %310 [66.6667 %311 [66.8817 %312 [67.0968 %313 [67.3118 %314 [67.5269 %315 [67.7419 %316 [67.9570 %317 [68.1720 %318 [68.3871 %319 [68.6022 %320 [68.8172 %321 [69.0323 %322 [69.2473 %323 [69.4624 %324 [69.6774 %325 [69.8925 %326 [70.1075 %327 [70.3226 %328 [70.5376 %329 [70.7527 %330 [70.9677 %331 [71.1828 %332 [71.3978 %333 [71.6129 %334 [71.8280 %335 [72.0430 %336 [72.2581 %337 [72.4731 %338 [72.6882 %339 [72.9032 %340 [73.1183 %341 [73.3333 %342 [73.5484 %343 [73.7634 %344 [73.9785 %345 [74.1935 %346 [74.4086 %347 [74.6237 %348 [74.8387 %349 [75.0538 %350 [75.2688 %351 [75.4839 %352 [75.6989 %353 [75.9140 %354 [76.1290 %355 [76.3441 %356 [76.5591 %357 [76.7742 %358 [76.9892 %359 [77.2043 %360 [77.4194 %361 [77.6344 %362 [77.8495 %363 [78.0645 %364 [78.2796 %365 [78.4946 %366 [78.7097 %367 [78.9247 %368 [79.1398 %369 [79.3548 %370 [79.5699 %371 [79.7849 %372 [80.0000 %373 [80.2151 %374 [80.4301 %375 [80.6452 %376 [80.8602 %377 [81.0753 %378 [81.2903 %379 [81.5054 %380 [81.7204 %381 [81.9355 %382 [82.1505 %383 [82.3656 %384 [82.5806 %385 [82.7957 %386 [83.0108 %387 [83.2258 %388 [83.4409 %389 [83.6559 %390 [83.8710 %391 [84.0860 %392 [84.3011 %393 [84.5161 %394 [84.7312 %395 [84.9462 %396 [85.1613 %397 [85.3763 %398 [85.5914 %399 [85.8065 %400 [86.0215 %401 [86.2366 %402 [86.4516 %403 [86.6667 %404 [86.8817 %405 [87.0968 %406 [87.3118 %407 [87.5269 %408 [87.7419 %409 [87.9570 %410 [88.1720 %411 [88.3871 %412 [88.6022 %413 [88.8172 %414 [89.0323 %415 [89.2473 %416 [89.4624 %417 [89.6774 %418 [89.8925 %419 [90.1075 %420 [90.3226 %421 [90.5376 %422 [90.7527 %423 [90.9677 %424 [91.1828 %425 [91.3978 %426 [91.6129 %427 [91.8280 %428 [92.0430 %429 [92.2581 %430 [92.4731 %431 [92.6882 %432 [92.9032 %433 [93.1183 %434 [93.3333 %435 [93.5484 %436 [93.7634 %437 [93.9785 %438 [94.1935 %439 [94.4086 %440 [94.6237 %441 [94.8387 %442 [95.0538 %443 [95.2688 %444 [95.4839 %445 [95.6989 %446 [95.9140 %447 [96.1290 %448 [96.3441 %449 [96.5591 %450 [96.7742 %451 [96.9892 %452 [97.2043 %453 [97.4194 %454 [97.6344 %455 [97.8495 %456 [98.0645 %457 [98.2796 %458 [98.4946 %459 [98.7097 %460 [98.9247 %461 [99.1398 %462 [99.3548 %463 [99.5699 %464 [99.7849 %465 [100.0000 %]"
     ]
    },
    {
     "name": "stderr",
     "output_type": "stream",
     "text": [
      "/anaconda2/envs/phenolog/lib/python3.6/site-packages/gensim/models/doc2vec.py:566: UserWarning: The parameter `iter` is deprecated, will be removed in 4.0.0, use `epochs` instead.\n",
      "  warnings.warn(\"The parameter `iter` is deprecated, will be removed in 4.0.0, use `epochs` instead.\")\n",
      "/anaconda2/envs/phenolog/lib/python3.6/site-packages/gensim/models/doc2vec.py:570: UserWarning: The parameter `size` is deprecated, will be removed in 4.0.0, use `vector_size` instead.\n",
      "  warnings.warn(\"The parameter `size` is deprecated, will be removed in 4.0.0, use `vector_size` instead.\")\n",
      "/anaconda2/envs/phenolog/lib/python3.6/site-packages/gensim/models/doc2vec.py:566: UserWarning: The parameter `iter` is deprecated, will be removed in 4.0.0, use `epochs` instead.\n",
      "  warnings.warn(\"The parameter `iter` is deprecated, will be removed in 4.0.0, use `epochs` instead.\")\n",
      "/anaconda2/envs/phenolog/lib/python3.6/site-packages/gensim/models/doc2vec.py:570: UserWarning: The parameter `size` is deprecated, will be removed in 4.0.0, use `vector_size` instead.\n",
      "  warnings.warn(\"The parameter `size` is deprecated, will be removed in 4.0.0, use `vector_size` instead.\")\n"
     ]
    },
    {
     "ename": "IndexError",
     "evalue": "invalid index to scalar variable.",
     "output_type": "error",
     "traceback": [
      "\u001b[0;31m---------------------------------------------------------------------------\u001b[0m",
      "\u001b[0;31mRemoteTraceback\u001b[0m                           Traceback (most recent call last)",
      "\u001b[0;31mRemoteTraceback\u001b[0m: \n\"\"\"\nTraceback (most recent call last):\n  File \"/anaconda2/envs/phenolog/lib/python3.6/multiprocessing/pool.py\", line 119, in worker\n    result = (True, func(*args, **kwds))\n  File \"../../oats/oats/utils/utils.py\", line 94, in function_wrapper\n    result = function(*args)\n  File \"../../oats/oats/graphs/similarity.py\", line 210, in get_similarity_df_using_doc2vec_scipy\n    row = [p1, p2, matrix[identifier_to_index_in_matrix[p1]][identifier_to_index_in_matrix[p2]]]\nIndexError: invalid index to scalar variable.\n\"\"\"",
      "\nThe above exception was the direct cause of the following exception:\n",
      "\u001b[0;31mIndexError\u001b[0m                                Traceback (most recent call last)",
      "\u001b[0;32m<ipython-input-21-e887277fa20f>\u001b[0m in \u001b[0;36m<module>\u001b[0;34m\u001b[0m\n\u001b[1;32m     18\u001b[0m \u001b[0mpool\u001b[0m \u001b[0;34m=\u001b[0m \u001b[0mmp\u001b[0m\u001b[0;34m.\u001b[0m\u001b[0mPool\u001b[0m\u001b[0;34m(\u001b[0m\u001b[0mmp\u001b[0m\u001b[0;34m.\u001b[0m\u001b[0mcpu_count\u001b[0m\u001b[0;34m(\u001b[0m\u001b[0;34m)\u001b[0m\u001b[0;34m)\u001b[0m\u001b[0;34m\u001b[0m\u001b[0;34m\u001b[0m\u001b[0m\n\u001b[1;32m     19\u001b[0m \u001b[0mresults\u001b[0m \u001b[0;34m=\u001b[0m \u001b[0;34m[\u001b[0m\u001b[0mpool\u001b[0m\u001b[0;34m.\u001b[0m\u001b[0mapply_async\u001b[0m\u001b[0;34m(\u001b[0m\u001b[0mfunction_wrapper\u001b[0m\u001b[0;34m,\u001b[0m \u001b[0margs\u001b[0m\u001b[0;34m=\u001b[0m\u001b[0;34m(\u001b[0m\u001b[0mfunction\u001b[0m\u001b[0;34m,\u001b[0m \u001b[0margs\u001b[0m\u001b[0;34m)\u001b[0m\u001b[0;34m)\u001b[0m \u001b[0;32mfor\u001b[0m \u001b[0;34m(\u001b[0m\u001b[0mfunction\u001b[0m\u001b[0;34m,\u001b[0m \u001b[0margs\u001b[0m\u001b[0;34m)\u001b[0m \u001b[0;32min\u001b[0m \u001b[0mfunctions_and_args\u001b[0m\u001b[0;34m.\u001b[0m\u001b[0mitems\u001b[0m\u001b[0;34m(\u001b[0m\u001b[0;34m)\u001b[0m\u001b[0;34m]\u001b[0m\u001b[0;34m\u001b[0m\u001b[0;34m\u001b[0m\u001b[0m\n\u001b[0;32m---> 20\u001b[0;31m \u001b[0mresults\u001b[0m \u001b[0;34m=\u001b[0m \u001b[0;34m[\u001b[0m\u001b[0mresult\u001b[0m\u001b[0;34m.\u001b[0m\u001b[0mget\u001b[0m\u001b[0;34m(\u001b[0m\u001b[0;34m)\u001b[0m \u001b[0;32mfor\u001b[0m \u001b[0mresult\u001b[0m \u001b[0;32min\u001b[0m \u001b[0mresults\u001b[0m\u001b[0;34m]\u001b[0m\u001b[0;34m\u001b[0m\u001b[0;34m\u001b[0m\u001b[0m\n\u001b[0m\u001b[1;32m     21\u001b[0m \u001b[0mpool\u001b[0m\u001b[0;34m.\u001b[0m\u001b[0mclose\u001b[0m\u001b[0;34m(\u001b[0m\u001b[0;34m)\u001b[0m\u001b[0;34m\u001b[0m\u001b[0;34m\u001b[0m\u001b[0m\n\u001b[1;32m     22\u001b[0m \u001b[0mpool\u001b[0m\u001b[0;34m.\u001b[0m\u001b[0mjoin\u001b[0m\u001b[0;34m(\u001b[0m\u001b[0;34m)\u001b[0m\u001b[0;34m\u001b[0m\u001b[0;34m\u001b[0m\u001b[0m\n",
      "\u001b[0;32m<ipython-input-21-e887277fa20f>\u001b[0m in \u001b[0;36m<listcomp>\u001b[0;34m(.0)\u001b[0m\n\u001b[1;32m     18\u001b[0m \u001b[0mpool\u001b[0m \u001b[0;34m=\u001b[0m \u001b[0mmp\u001b[0m\u001b[0;34m.\u001b[0m\u001b[0mPool\u001b[0m\u001b[0;34m(\u001b[0m\u001b[0mmp\u001b[0m\u001b[0;34m.\u001b[0m\u001b[0mcpu_count\u001b[0m\u001b[0;34m(\u001b[0m\u001b[0;34m)\u001b[0m\u001b[0;34m)\u001b[0m\u001b[0;34m\u001b[0m\u001b[0;34m\u001b[0m\u001b[0m\n\u001b[1;32m     19\u001b[0m \u001b[0mresults\u001b[0m \u001b[0;34m=\u001b[0m \u001b[0;34m[\u001b[0m\u001b[0mpool\u001b[0m\u001b[0;34m.\u001b[0m\u001b[0mapply_async\u001b[0m\u001b[0;34m(\u001b[0m\u001b[0mfunction_wrapper\u001b[0m\u001b[0;34m,\u001b[0m \u001b[0margs\u001b[0m\u001b[0;34m=\u001b[0m\u001b[0;34m(\u001b[0m\u001b[0mfunction\u001b[0m\u001b[0;34m,\u001b[0m \u001b[0margs\u001b[0m\u001b[0;34m)\u001b[0m\u001b[0;34m)\u001b[0m \u001b[0;32mfor\u001b[0m \u001b[0;34m(\u001b[0m\u001b[0mfunction\u001b[0m\u001b[0;34m,\u001b[0m \u001b[0margs\u001b[0m\u001b[0;34m)\u001b[0m \u001b[0;32min\u001b[0m \u001b[0mfunctions_and_args\u001b[0m\u001b[0;34m.\u001b[0m\u001b[0mitems\u001b[0m\u001b[0;34m(\u001b[0m\u001b[0;34m)\u001b[0m\u001b[0;34m]\u001b[0m\u001b[0;34m\u001b[0m\u001b[0;34m\u001b[0m\u001b[0m\n\u001b[0;32m---> 20\u001b[0;31m \u001b[0mresults\u001b[0m \u001b[0;34m=\u001b[0m \u001b[0;34m[\u001b[0m\u001b[0mresult\u001b[0m\u001b[0;34m.\u001b[0m\u001b[0mget\u001b[0m\u001b[0;34m(\u001b[0m\u001b[0;34m)\u001b[0m \u001b[0;32mfor\u001b[0m \u001b[0mresult\u001b[0m \u001b[0;32min\u001b[0m \u001b[0mresults\u001b[0m\u001b[0;34m]\u001b[0m\u001b[0;34m\u001b[0m\u001b[0;34m\u001b[0m\u001b[0m\n\u001b[0m\u001b[1;32m     21\u001b[0m \u001b[0mpool\u001b[0m\u001b[0;34m.\u001b[0m\u001b[0mclose\u001b[0m\u001b[0;34m(\u001b[0m\u001b[0;34m)\u001b[0m\u001b[0;34m\u001b[0m\u001b[0;34m\u001b[0m\u001b[0m\n\u001b[1;32m     22\u001b[0m \u001b[0mpool\u001b[0m\u001b[0;34m.\u001b[0m\u001b[0mjoin\u001b[0m\u001b[0;34m(\u001b[0m\u001b[0;34m)\u001b[0m\u001b[0;34m\u001b[0m\u001b[0;34m\u001b[0m\u001b[0m\n",
      "\u001b[0;32m/anaconda2/envs/phenolog/lib/python3.6/multiprocessing/pool.py\u001b[0m in \u001b[0;36mget\u001b[0;34m(self, timeout)\u001b[0m\n\u001b[1;32m    668\u001b[0m             \u001b[0;32mreturn\u001b[0m \u001b[0mself\u001b[0m\u001b[0;34m.\u001b[0m\u001b[0m_value\u001b[0m\u001b[0;34m\u001b[0m\u001b[0;34m\u001b[0m\u001b[0m\n\u001b[1;32m    669\u001b[0m         \u001b[0;32melse\u001b[0m\u001b[0;34m:\u001b[0m\u001b[0;34m\u001b[0m\u001b[0;34m\u001b[0m\u001b[0m\n\u001b[0;32m--> 670\u001b[0;31m             \u001b[0;32mraise\u001b[0m \u001b[0mself\u001b[0m\u001b[0;34m.\u001b[0m\u001b[0m_value\u001b[0m\u001b[0;34m\u001b[0m\u001b[0;34m\u001b[0m\u001b[0m\n\u001b[0m\u001b[1;32m    671\u001b[0m \u001b[0;34m\u001b[0m\u001b[0m\n\u001b[1;32m    672\u001b[0m     \u001b[0;32mdef\u001b[0m \u001b[0m_set\u001b[0m\u001b[0;34m(\u001b[0m\u001b[0mself\u001b[0m\u001b[0;34m,\u001b[0m \u001b[0mi\u001b[0m\u001b[0;34m,\u001b[0m \u001b[0mobj\u001b[0m\u001b[0;34m)\u001b[0m\u001b[0;34m:\u001b[0m\u001b[0;34m\u001b[0m\u001b[0;34m\u001b[0m\u001b[0m\n",
      "\u001b[0;31mIndexError\u001b[0m: invalid index to scalar variable."
     ]
    }
   ],
   "source": [
    "from oats.graphs.similarity import get_similarity_df_using_doc2vec_scipy\n",
    "\n",
    "# Setup for creating the pairwise similarity matrices using seperate cores.\n",
    "# The key is the function to use as a variable, and the values are the arguments to unpack as a list.\n",
    "functions_and_args = {\n",
    "    get_similarity_df_using_fastsemsim:[merged_ontology_file, annotations_file, descriptions, True],\n",
    "    get_similarity_df_using_doc2vec:[doc2vec_model_file, descriptions, True],\n",
    "    get_similarity_df_using_doc2vec_scipy:[doc2vec_model_file, descriptions, True],}\n",
    "    #get_similarity_df_using_doc2vec:[doc2vec_model_file, descriptions, True],\n",
    "    #get_similarity_df_using_bagofwords:[descriptions, True],\n",
    "    #get_similarity_df_using_setofwords:[descriptions, True],\n",
    "    #get_similarity_df_using_annotations_unweighted_jaccard:[annotations, mo, True],\n",
    "    #get_similarity_df_using_annotations_weighted_jaccard:[annotations, mo, True]}\n",
    "print(\"c\")\n",
    "\n",
    "# Use parallel processing the build all the similarity matrices.\n",
    "start_time_mp = time.perf_counter()\n",
    "pool = mp.Pool(mp.cpu_count())\n",
    "results = [pool.apply_async(function_wrapper, args=(function, args)) for (function, args) in functions_and_args.items()]\n",
    "results = [result.get() for result in results]\n",
    "pool.close()\n",
    "pool.join()    \n",
    "total_time_mp = time.perf_counter()-start_time_mp\n",
    "\n",
    "# Create a mapping between method names and the similarity matrices that were generated.\n",
    "names = [\"ontology\", \"doc2vec\", \"doc2vec_c\"]\n",
    "name_to_df_mapping = {name:result[0] for (name,result) in zip(names,results)}\n",
    "df = combine_dfs_with_name_dict(name_to_df_mapping)\n",
    "\n",
    "\n",
    "# Look at how long it took to build each pairwise similarity matrix.\n",
    "print(\"\\n\\n\")\n",
    "print(\"Durations of generating each pairwise similarity matrix (hh:mm:ss)\")\n",
    "print(\"-----------------------------------------------------------------\")\n",
    "durations = [result[1] for result in results]\n",
    "savings = total_time_mp/sum(durations)\n",
    "for (name,duration) in zip(names,durations):\n",
    "\tprint(\"{:15} {}\".format(name, to_hms(duration)))\n",
    "print(\"-----------------------------------------------------------------\")\n",
    "print(\"{:15} {}\".format(\"total\", to_hms(sum(durations))))\n",
    "print(\"{:15} {} ({:.2%} of single thread time)\".format(\"multiprocess\", to_hms(total_time_mp), savings))\n",
    "print(\"\\n\\n\")\n",
    "\n",
    "\n",
    "print(df.head(40))"
   ]
  },
  {
   "cell_type": "code",
   "execution_count": null,
   "metadata": {},
   "outputs": [],
   "source": []
  }
 ],
 "metadata": {
  "kernelspec": {
   "display_name": "Python 3",
   "language": "python",
   "name": "python3"
  },
  "language_info": {
   "codemirror_mode": {
    "name": "ipython",
    "version": 3
   },
   "file_extension": ".py",
   "mimetype": "text/x-python",
   "name": "python",
   "nbconvert_exporter": "python",
   "pygments_lexer": "ipython3",
   "version": "3.6.7"
  }
 },
 "nbformat": 4,
 "nbformat_minor": 2
}
