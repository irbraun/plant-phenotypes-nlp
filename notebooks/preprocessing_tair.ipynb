{
 "cells": [
  {
   "cell_type": "markdown",
   "metadata": {},
   "source": [
    "## Reading in data available through The Arabidopsis Information Resource (TAIR) database\n",
    "The purpose of this notebook is to read in and do a preliminary survey of the data related to text and ontology annotations of text that is available through TAIR. The datasets need to be organized and also restructured into a standard format that will allow it be combined with datasets from other resources."
   ]
  },
  {
   "cell_type": "code",
   "execution_count": 37,
   "metadata": {},
   "outputs": [],
   "source": [
    "import matplotlib.pyplot as plt\n",
    "import matplotlib as mpl\n",
    "import seaborn as sns\n",
    "import sys\n",
    "import os\n",
    "import warnings\n",
    "import pandas as pd\n",
    "import numpy as np\n",
    "import itertools\n",
    "import re\n",
    "import matplotlib.pyplot as plt\n",
    "from nltk.tokenize import word_tokenize\n",
    "from nltk.tokenize import sent_tokenize\n",
    "\n",
    "sys.path.append(\"../../oats\")\n",
    "from oats.utils.constants import NCBI_TAG\n",
    "from oats.utils.constants import EVIDENCE_CODES\n",
    "from oats.utils.utils import to_abbreviation\n",
    "from oats.nlp.preprocess import concatenate_with_bar_delim\n",
    "from oats.nlp.preprocess import other_delim_to_bar_delim\n",
    "from oats.nlp.preprocess import remove_punctuation\n",
    "from oats.nlp.preprocess import remove_enclosing_brackets\n",
    "from oats.nlp.preprocess import concatenate_descriptions\n",
    "from oats.nlp.preprocess import add_prefix\n",
    "\n",
    "OUTPUT_DIR = \"../data/reshaped_files\"\n",
    "mpl.rcParams[\"figure.dpi\"] = 200\n",
    "warnings.simplefilter('ignore')\n",
    "pd.set_option('display.max_rows', 500)\n",
    "pd.set_option('display.max_columns', 500)\n",
    "pd.set_option('display.width', 1000)"
   ]
  },
  {
   "cell_type": "markdown",
   "metadata": {},
   "source": [
    "### Part 1: Phenotypic Text Data\n",
    "Reading in the dataset of phenotypic descriptions. There is only one value specified as the gene name (locus name) in the original dataset so this column does not need to be parsed further. The descriptions commmonly use semi-colons to separate phrases. The next cell gets the distribution of the number of phrases in each description field for the dataset of text descriptions, as determined by a sentence parser. The majority of the descriptions are a single sentence or phrase, but some contain more."
   ]
  },
  {
   "cell_type": "code",
   "execution_count": 38,
   "metadata": {},
   "outputs": [
    {
     "data": {
      "text/html": [
       "<div>\n",
       "<style scoped>\n",
       "    .dataframe tbody tr th:only-of-type {\n",
       "        vertical-align: middle;\n",
       "    }\n",
       "\n",
       "    .dataframe tbody tr th {\n",
       "        vertical-align: top;\n",
       "    }\n",
       "\n",
       "    .dataframe thead th {\n",
       "        text-align: right;\n",
       "    }\n",
       "</style>\n",
       "<table border=\"1\" class=\"dataframe\">\n",
       "  <thead>\n",
       "    <tr style=\"text-align: right;\">\n",
       "      <th></th>\n",
       "      <th>gene_names</th>\n",
       "      <th>description</th>\n",
       "      <th>pmid</th>\n",
       "    </tr>\n",
       "  </thead>\n",
       "  <tbody>\n",
       "    <tr>\n",
       "      <th>6813</th>\n",
       "      <td>AT3G49240</td>\n",
       "      <td>embryo lethal.</td>\n",
       "      <td>28760958.0</td>\n",
       "    </tr>\n",
       "    <tr>\n",
       "      <th>12111</th>\n",
       "      <td>AT5G66750</td>\n",
       "      <td>Phenotype not described.</td>\n",
       "      <td>10319870.0</td>\n",
       "    </tr>\n",
       "    <tr>\n",
       "      <th>1915</th>\n",
       "      <td>AT1G50500</td>\n",
       "      <td>Hypersensitive to heat and osmotic stress.</td>\n",
       "      <td>NaN</td>\n",
       "    </tr>\n",
       "    <tr>\n",
       "      <th>7649</th>\n",
       "      <td>AT4G01800</td>\n",
       "      <td>Chloroplasts are smaller than wild type. lack ...</td>\n",
       "      <td>20194926.0</td>\n",
       "    </tr>\n",
       "    <tr>\n",
       "      <th>9091</th>\n",
       "      <td>AT4G36380</td>\n",
       "      <td>Flowers are smaller and develop one week later...</td>\n",
       "      <td>17138693.0</td>\n",
       "    </tr>\n",
       "    <tr>\n",
       "      <th>9733</th>\n",
       "      <td>AT5G09830</td>\n",
       "      <td>No visible phenotype</td>\n",
       "      <td>NaN</td>\n",
       "    </tr>\n",
       "    <tr>\n",
       "      <th>12796</th>\n",
       "      <td>EMB1673</td>\n",
       "      <td>embryo defective; terminal embryo phenotype: p...</td>\n",
       "      <td>NaN</td>\n",
       "    </tr>\n",
       "    <tr>\n",
       "      <th>13353</th>\n",
       "      <td>EMB2465</td>\n",
       "      <td>embryo defective; terminal embryo phenotype: g...</td>\n",
       "      <td>NaN</td>\n",
       "    </tr>\n",
       "    <tr>\n",
       "      <th>4993</th>\n",
       "      <td>AT2G42700</td>\n",
       "      <td>abnormally accumulated storage protein precurs...</td>\n",
       "      <td>24118572.0</td>\n",
       "    </tr>\n",
       "    <tr>\n",
       "      <th>10362</th>\n",
       "      <td>AT5G20730</td>\n",
       "      <td>In the presence of 1 microM brassinazole, an i...</td>\n",
       "      <td>16632588.0</td>\n",
       "    </tr>\n",
       "    <tr>\n",
       "      <th>13370</th>\n",
       "      <td>EMB2497</td>\n",
       "      <td>embryo defective; terminal embryo phenotype: p...</td>\n",
       "      <td>NaN</td>\n",
       "    </tr>\n",
       "    <tr>\n",
       "      <th>10709</th>\n",
       "      <td>AT5G35750</td>\n",
       "      <td>Normal roots.</td>\n",
       "      <td>NaN</td>\n",
       "    </tr>\n",
       "    <tr>\n",
       "      <th>11781</th>\n",
       "      <td>AT5G60920</td>\n",
       "      <td>Callus-induced roots from the mutant displayed...</td>\n",
       "      <td>7743935.0</td>\n",
       "    </tr>\n",
       "    <tr>\n",
       "      <th>7272</th>\n",
       "      <td>AT3G57390</td>\n",
       "      <td>No visible phenotype.</td>\n",
       "      <td>NaN</td>\n",
       "    </tr>\n",
       "    <tr>\n",
       "      <th>2779</th>\n",
       "      <td>AT1G71440</td>\n",
       "      <td>Embryo defective, enlarged embryo cells and en...</td>\n",
       "      <td>NaN</td>\n",
       "    </tr>\n",
       "    <tr>\n",
       "      <th>12645</th>\n",
       "      <td>EMB15</td>\n",
       "      <td>developmental arrest of mutant embryos occurs ...</td>\n",
       "      <td>NaN</td>\n",
       "    </tr>\n",
       "    <tr>\n",
       "      <th>3752</th>\n",
       "      <td>AT2G20750</td>\n",
       "      <td>Under FRc conditions, the length mutant hypoco...</td>\n",
       "      <td>16891401.0</td>\n",
       "    </tr>\n",
       "    <tr>\n",
       "      <th>289</th>\n",
       "      <td>AT1G03430</td>\n",
       "      <td>Inhibition of root elongation is similar to th...</td>\n",
       "      <td>NaN</td>\n",
       "    </tr>\n",
       "    <tr>\n",
       "      <th>11200</th>\n",
       "      <td>AT5G48720</td>\n",
       "      <td>abnormal segregation of the mutant allele in x...</td>\n",
       "      <td>19187040.0</td>\n",
       "    </tr>\n",
       "    <tr>\n",
       "      <th>5263</th>\n",
       "      <td>AT2G47240</td>\n",
       "      <td>The lacs1-1 lacs2-3 double mutants had a syner...</td>\n",
       "      <td>19392700.0</td>\n",
       "    </tr>\n",
       "  </tbody>\n",
       "</table>\n",
       "</div>"
      ],
      "text/plain": [
       "      gene_names                                        description        pmid\n",
       "6813   AT3G49240                                     embryo lethal.  28760958.0\n",
       "12111  AT5G66750                           Phenotype not described.  10319870.0\n",
       "1915   AT1G50500         Hypersensitive to heat and osmotic stress.         NaN\n",
       "7649   AT4G01800  Chloroplasts are smaller than wild type. lack ...  20194926.0\n",
       "9091   AT4G36380  Flowers are smaller and develop one week later...  17138693.0\n",
       "9733   AT5G09830                               No visible phenotype         NaN\n",
       "12796    EMB1673  embryo defective; terminal embryo phenotype: p...         NaN\n",
       "13353    EMB2465  embryo defective; terminal embryo phenotype: g...         NaN\n",
       "4993   AT2G42700  abnormally accumulated storage protein precurs...  24118572.0\n",
       "10362  AT5G20730  In the presence of 1 microM brassinazole, an i...  16632588.0\n",
       "13370    EMB2497  embryo defective; terminal embryo phenotype: p...         NaN\n",
       "10709  AT5G35750                                      Normal roots.         NaN\n",
       "11781  AT5G60920  Callus-induced roots from the mutant displayed...   7743935.0\n",
       "7272   AT3G57390                              No visible phenotype.         NaN\n",
       "2779   AT1G71440  Embryo defective, enlarged embryo cells and en...         NaN\n",
       "12645      EMB15  developmental arrest of mutant embryos occurs ...         NaN\n",
       "3752   AT2G20750  Under FRc conditions, the length mutant hypoco...  16891401.0\n",
       "289    AT1G03430  Inhibition of root elongation is similar to th...         NaN\n",
       "11200  AT5G48720  abnormal segregation of the mutant allele in x...  19187040.0\n",
       "5263   AT2G47240  The lacs1-1 lacs2-3 double mutants had a syner...  19392700.0"
      ]
     },
     "execution_count": 38,
     "metadata": {},
     "output_type": "execute_result"
    }
   ],
   "source": [
    "filename = \"../data/gene_related_files/tair/Locus_Germplasm_Phenotype_20180702.txt\"\n",
    "usecols = [\"LOCUS_NAME\", \"PHENOTYPE\", \"PUBMED_ID\"]\n",
    "usenames = [\"gene_names\", \"description\", \"pmid\"]\n",
    "renamed = {k:v for k,v in zip(usecols,usenames)}\n",
    "df = pd.read_table(filename, usecols=usecols)\n",
    "df.rename(columns=renamed, inplace=True)\n",
    "df.sample(20)"
   ]
  },
  {
   "cell_type": "code",
   "execution_count": 39,
   "metadata": {},
   "outputs": [
    {
     "data": {
      "image/png": "[encoded data removed]",
      "text/plain": [
       "<Figure size 3000x800 with 2 Axes>"
      ]
     },
     "metadata": {
      "needs_background": "light"
     },
     "output_type": "display_data"
    }
   ],
   "source": [
    "# Plotting distributions of number of phrases in each description.\n",
    "fig, (ax1, ax2) = plt.subplots(1, 2)\n",
    "ax1.set_title(\"Phenotype Descriptions\")\n",
    "ax2.set_title(\"Phenotype Descriptions\")\n",
    "ax1.set_xlabel(\"Number of phrases\")\n",
    "ax2.set_xlabel(\"Number of words\")\n",
    "x1 = [len(sent_tokenize(x)) for x in df[\"description\"].values]\n",
    "x2 = [len(word_tokenize(x)) for x in df[\"description\"].values]\n",
    "ax1.hist(x1, bins=15, range=(0,15), density=False, alpha=0.8, histtype='stepfilled', color=\"black\", edgecolor='none')\n",
    "ax2.hist(x2, bins=30, range=(0,200), density=False, alpha=0.8, histtype='stepfilled', color=\"black\", edgecolor='none')\n",
    "fig.set_size_inches(15,4)\n",
    "fig.tight_layout()\n",
    "fig.show()"
   ]
  },
  {
   "cell_type": "code",
   "execution_count": 40,
   "metadata": {},
   "outputs": [],
   "source": [
    "# Restructuring the dataset to include all expected column names.\n",
    "df[\"species\"] = \"ath\"\n",
    "df[\"term_ids\"] = \"\"\n",
    "\n",
    "# Outputting the dataset of phenotype descriptions to csv file.\n",
    "path = os.path.join(OUTPUT_DIR,\"ath_phenotypes.csv\")\n",
    "df.to_csv(path, index=False)"
   ]
  },
  {
   "cell_type": "markdown",
   "metadata": {},
   "source": [
    "### Part 2.1: Gene Ontology Term Annotations\n",
    "Read in the file containing names of loci and corresponding information relating to gene ontology term annotation. Not all of the columns are used here, only a subset of them are read in. The relationship column refers to the relationships between the gene for that loci and the term mentioned on that given line. Evidence refer to the method of acquiring and the confidence in the annotation itself. This is retained so that we can subset that dataset based on whether the annotations are experimentally confirmed or simply predicted annotations. This section also looks at how many unique values are present for each field.\n",
    "\n",
    "Each term annotation in this dataset is also associated with an evidence code specifying the method by which this annotation was made, which is related to the confidence that we can have in this annotation, and the tasks that the annotation should be used for. About half of the term annotations were made computationally, but there are also a high number of annotations available from high confidence annotations such as experimentally validated, curator statements, and author statements."
   ]
  },
  {
   "cell_type": "code",
   "execution_count": 41,
   "metadata": {
    "scrolled": true
   },
   "outputs": [
    {
     "name": "stdout",
     "output_type": "stream",
     "text": [
      "       locus     term_id evidence_code                    reference\n",
      "0  AT1G01010  GO:0007275           ISS      Communication:501714663\n",
      "1  AT1G01010  GO:0005634           ISM  AnalysisReference:501750651\n",
      "2  AT1G01010  GO:0003700           ISS          Publication:1345963\n",
      "3  AT1G01010  GO:0043090           RCA        Publication:501748728\n",
      "4  AT1G01010  GO:0006888           RCA        Publication:501748728\n",
      "5  AT1G01020  GO:0006665           IMP        Publication:501719026\n",
      "6  AT1G01020  GO:0016125           IMP        Publication:501719026\n",
      "7  AT1G01020  GO:0005783           IDA        Publication:501719026\n",
      "8  AT1G01020  GO:0016020           ISS      Communication:501714663\n",
      "9  AT1G01020  GO:0005739           ISM  AnalysisReference:501750651\n",
      "(251297, 6)\n",
      "locus                30251\n",
      "relationship            19\n",
      "term_label            4924\n",
      "term_id               4924\n",
      "evidence_code           13\n",
      "reference             9149\n"
     ]
    }
   ],
   "source": [
    "filename = \"../data/gene_related_files/tair/ATH_GO_GOSLIM.txt\"\n",
    "df_go = pd.read_table(filename, header=None, usecols=[0,3,4,5,9,12])\n",
    "df_go.columns = [\"locus\",\"relationship\",\"term_label\",\"term_id\",\"evidence_code\",\"reference\"]\n",
    "unique_values = {col:len(pd.unique(df_go[col].values)) for col in df_go.columns}\n",
    "print(df_go[[\"locus\",\"term_id\",\"evidence_code\",\"reference\"]].head(10))\n",
    "print(df_go.shape)\n",
    "for k,v in unique_values.items():\n",
    "    print(\"{:18}{:8}\".format(k,v))"
   ]
  },
  {
   "cell_type": "code",
   "execution_count": 42,
   "metadata": {},
   "outputs": [
    {
     "name": "stdout",
     "output_type": "stream",
     "text": [
      "experimental                85701\n",
      "author_statement            13460\n",
      "computational              125915\n",
      "high_throughput                 0\n",
      "curator_statement           24550\n",
      "phylogenetics                1671\n",
      "electronic_annotation           0\n"
     ]
    }
   ],
   "source": [
    "code_quantities = {c:len([x for x in df_go[\"evidence_code\"] if EVIDENCE_CODES[x] in c]) \n",
    "             for c in list(set(EVIDENCE_CODES.values()))}\n",
    "for k,v in code_quantities.items():\n",
    "    print(\"{:25}{:8}\".format(k,v))"
   ]
  },
  {
   "cell_type": "code",
   "execution_count": 43,
   "metadata": {},
   "outputs": [],
   "source": [
    "# Restructuring the dataset to include all the expected column names.\n",
    "df_go[\"species\"] = \"ath\"\n",
    "df_go[\"gene_names\"] = df_go[\"locus\"]\n",
    "df_go[\"description\"] = \"\"\n",
    "df_go[\"term_ids\"] = df_go[\"term_id\"]\n",
    "df_go[\"pmid\"] = df_go[\"reference\"]\n",
    "high_confidence_categories = [\"experimental\",\"other_statement\",\"curator_statement\"]\n",
    "df_go[\"high_confidence\"] = df_go[\"evidence_code\"].apply(lambda x: EVIDENCE_CODES[x] in high_confidence_categories)\n",
    "\n",
    "# Subset to only include the high-quality GO annotations and ouptut the dataset to a csv file.\n",
    "df_go_high_confidence = df_go[df_go[\"high_confidence\"]==True]\n",
    "path = os.path.join(OUTPUT_DIR,\"ath_high_confidence_go_annotations.csv\")\n",
    "df_go_high_confidence = df_go_high_confidence[[\"species\", \"gene_names\", \"description\", \"term_ids\", \"pmid\"]]\n",
    "df_go_high_confidence.to_csv(path, index=False)\n",
    "\n",
    "# Outputting the dataset of annotations to a csv file.\n",
    "df_go = df_go[[\"species\", \"gene_names\", \"description\", \"term_ids\", \"pmid\"]]\n",
    "path = os.path.join(OUTPUT_DIR,\"ath_all_go_annotations.csv\")\n",
    "df_go.to_csv(path, index=False)"
   ]
  },
  {
   "cell_type": "markdown",
   "metadata": {},
   "source": [
    "### Part 2.2: Plant Ontology Term Annotations\n",
    "There are two separate files available that include annotations of PO terms. The files do not have headers so column names are added based on how the columns are described in the accompanying available readme files. One of the files contains annotations for PO terms that are spatial, or describe a specific part of plant anatomy or plant molecular structures. The other file contains annotations for PO terms that are temporal, or refer to a specific process or stage of development. These files are each read in separately, and the next cells look at the quantity of unique values in the columns of each dataset. There are more spatial annotations than temporal annotations, and a greater number of terms used to describe the spatial annotations.\n",
    "\n",
    "The next field combines the two datasets of PO annotations and looks at the number of unique values for each column in the resulting dataset. Because there is no overlap in the terms between the two, the datasets are simply appended to one another and the total unique terms are a sum of the individual datasets.\n",
    "\n",
    "Each term annotation in this dataset is also associated with an evidence code specifying the method by which this annotation was made, which is related to the confidence that we can have in this annotation, and the tasks that the annotation should be used for. Almost all of the PO term annotations are high confidence, they are experimentally validated, and only a few of them are derived from author statements.\n",
    "\n",
    "The strings which are described in the synonyms column are included as references to each gene, and are combined with the gene name mentioned in the symbol column into a single bar delimited list."
   ]
  },
  {
   "cell_type": "code",
   "execution_count": 44,
   "metadata": {},
   "outputs": [
    {
     "name": "stdout",
     "output_type": "stream",
     "text": [
      "(366398, 7)\n",
      "symbol               24123\n",
      "term_id                365\n",
      "references            2600\n",
      "evidence_code            6\n",
      "name                 25269\n",
      "synonyms             28005\n",
      "type                     6\n"
     ]
    }
   ],
   "source": [
    "# Reading in the dataset of spatial PO term annotations.\n",
    "filename = \"../data/gene_related_files/tair/po_anatomy_gene_arabidopsis_tair.assoc\"\n",
    "df_po_spatial = pd.read_table(filename, header=None, skiprows=1, usecols=[2,4,5,6,9,10,11])\n",
    "df_po_spatial.columns = [\"symbol\",\"term_id\",\"references\",\"evidence_code\",\"name\",\"synonyms\",\"type\"]\n",
    "unique_values = {col:len(pd.unique(df_po_spatial[col].values)) for col in df_po_spatial.columns}\n",
    "print(df_po_spatial.shape)\n",
    "for k,v in unique_values.items():\n",
    "    print(\"{:18}{:8}\".format(k,v))"
   ]
  },
  {
   "cell_type": "code",
   "execution_count": 45,
   "metadata": {},
   "outputs": [
    {
     "name": "stdout",
     "output_type": "stream",
     "text": [
      "(186740, 7)\n",
      "symbol               18015\n",
      "term_id                 84\n",
      "references             447\n",
      "evidence_code            4\n",
      "name                 18506\n",
      "synonyms             18960\n",
      "type                     5\n"
     ]
    }
   ],
   "source": [
    "# Reading in the dataset of temporal PO term annotations.\n",
    "filename = \"../data/gene_related_files/tair/po_temporal_gene_arabidopsis_tair.assoc\"\n",
    "df_po_temporal = pd.read_table(filename, header=None, skiprows=1, usecols=[2,4,5,6,9,10,11])\n",
    "df_po_temporal.columns = [\"symbol\",\"term_id\",\"references\",\"evidence_code\",\"name\",\"synonyms\",\"type\"]\n",
    "unique_values = {col:len(pd.unique(df_po_temporal[col].values)) for col in df_po_temporal.columns}\n",
    "print(df_po_temporal.shape)\n",
    "for k,v in unique_values.items():\n",
    "    print(\"{:18}{:8}\".format(k,v))"
   ]
  },
  {
   "cell_type": "code",
   "execution_count": 46,
   "metadata": {},
   "outputs": [
    {
     "name": "stdout",
     "output_type": "stream",
     "text": [
      "   symbol                                           synonyms evidence_code\n",
      "0  ATARCA  AT1G18080|ATARCA|RACK1A_AT|RACK1A|SAC53|AtRACK...           IEP\n",
      "1    HMG1  AT1G76490|HMG1|HMGR1|AtHMGR1|MAD3|hydroxy meth...           TAS\n",
      "2    BAS1  AT2G26710|BAS1|CYP734A1|CYP72B1|PHYB ACTIVATIO...           TAS\n",
      "3    BAK1  AT4G33430|BAK1|RKS10|SERK3|ELG|ATSERK3|ATBAK1|...           TAS\n",
      "4    BRI1  AT4G39400|BRI1|CBB2|DWF2|BIN1|ATBRI1|BRASSINOS...           TAS\n",
      "5    ATJ6    AT5G06910|ATJ6|J-domain protein 6|MOJ9.8|MOJ9_8           IEP\n",
      "6    XPB2  AT5G41360|XPB2|ATXPB2|homolog of Xeroderma pig...           NAS\n",
      "7    XPB1  AT5G41370|XPB1|ATXPB1|homolog of xeroderma pig...           NAS\n",
      "8   PPCK2  AT3G04530|PPCK2|PEPCK2|ATPPCK2|phosphoenolpyru...           IEP\n",
      "9    MYC2  AT1G32640|ATMYC2|RD22BP1|JAI1|JIN1|MYC2|ZBF1|J...           NAS\n",
      "(553138, 7)\n",
      "symbol               24188\n",
      "term_id                449\n",
      "references            2671\n",
      "evidence_code            6\n",
      "name                 25350\n",
      "synonyms             28150\n",
      "type                     7\n"
     ]
    }
   ],
   "source": [
    "# Looking at how many unique values each column has.\n",
    "df_po = df_po_spatial.append(df_po_temporal, ignore_index=True)\n",
    "unique_values = {col:len(pd.unique(df_po[col].values)) for col in df_po.columns}\n",
    "print(df_po[[\"symbol\",\"synonyms\",\"evidence_code\"]].head(10))\n",
    "print(df_po.shape)\n",
    "for k,v in unique_values.items():\n",
    "    print(\"{:18}{:8}\".format(k,v))"
   ]
  },
  {
   "cell_type": "code",
   "execution_count": 47,
   "metadata": {},
   "outputs": [
    {
     "name": "stdout",
     "output_type": "stream",
     "text": [
      "experimental               553020\n",
      "author_statement              118\n",
      "computational                   0\n",
      "high_throughput                 0\n",
      "curator_statement               0\n",
      "phylogenetics                   0\n",
      "electronic_annotation           0\n"
     ]
    }
   ],
   "source": [
    "# Quantifying the number of annotations of each type.\n",
    "code_quantities = {c:len([x for x in df_po[\"evidence_code\"] if EVIDENCE_CODES[x] in c]) \n",
    "             for c in list(set(EVIDENCE_CODES.values()))}\n",
    "for k,v in code_quantities.items():\n",
    "    print(\"{:25}{:8}\".format(k,v))"
   ]
  },
  {
   "cell_type": "code",
   "execution_count": 48,
   "metadata": {},
   "outputs": [],
   "source": [
    "# Restructuring the dataset to include all the expected column names.\n",
    "df_po[\"species\"] = \"ath\"\n",
    "df_po[\"gene_names\"] = np.vectorize(concatenate_with_bar_delim)(df_po[\"symbol\"], df_po[\"synonyms\"])\n",
    "df_po[\"description\"] = \"\"\n",
    "df_po[\"term_ids\"] = df_po[\"term_id\"]\n",
    "df_po[\"pmid\"] = \"\"\n",
    "df_po = df_po[[\"species\", \"gene_names\", \"description\", \"term_ids\", \"pmid\"]]\n",
    "\n",
    "# Outputting the dataset of annotations to a csv file.\n",
    "path = os.path.join(OUTPUT_DIR,\"ath_high_confidence_po_annotations.csv\")\n",
    "df_po.to_csv(path, index=False)"
   ]
  }
 ],
 "metadata": {
  "kernelspec": {
   "display_name": "Python 3",
   "language": "python",
   "name": "python3"
  },
  "language_info": {
   "codemirror_mode": {
    "name": "ipython",
    "version": 3
   },
   "file_extension": ".py",
   "mimetype": "text/x-python",
   "name": "python",
   "nbconvert_exporter": "python",
   "pygments_lexer": "ipython3",
   "version": "3.6.7"
  }
 },
 "nbformat": 4,
 "nbformat_minor": 2
}
