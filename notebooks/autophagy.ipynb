{
 "cells": [
  {
   "cell_type": "code",
   "execution_count": 4,
   "metadata": {},
   "outputs": [],
   "source": [
    "import numpy as pd\n",
    "import pandas as pd"
   ]
  },
  {
   "cell_type": "code",
   "execution_count": 40,
   "metadata": {},
   "outputs": [
    {
     "data": {
      "text/plain": [
       "['at1g03380',\n",
       " 'at1g50030',\n",
       " 'at1g54210',\n",
       " 'at1g54710',\n",
       " 'at1g60490',\n",
       " 'at1g62040',\n",
       " 'at2g05630',\n",
       " 'at2g31260',\n",
       " 'at2g37840',\n",
       " 'at2g40810',\n",
       " 'at2g44140',\n",
       " 'at2g45170',\n",
       " 'at3g01090',\n",
       " 'at3g06420',\n",
       " 'at3g07525',\n",
       " 'at3g08850',\n",
       " 'at3g13970',\n",
       " 'at3g15580',\n",
       " 'at3g18770',\n",
       " 'at3g19190',\n",
       " 'at3g29160',\n",
       " 'at3g49590',\n",
       " 'at3g53930',\n",
       " 'at3g56440',\n",
       " 'at3g59950',\n",
       " 'at3g60640',\n",
       " 'at3g61710',\n",
       " 'at3g61960',\n",
       " 'at3g62770',\n",
       " 'at4g00355',\n",
       " 'at4g04620',\n",
       " 'at4g16520',\n",
       " 'at4g21980',\n",
       " 'at4g24690',\n",
       " 'at4g29380',\n",
       " 'at4g30510',\n",
       " 'at5g01770',\n",
       " 'at5g05150',\n",
       " 'at5g17290',\n",
       " 'at5g45900',\n",
       " 'at5g53000',\n",
       " 'at5g54730',\n",
       " 'at5g61500',\n",
       " 'at1g08320',\n",
       " 'at1g15690']"
      ]
     },
     "execution_count": 40,
     "metadata": {},
     "output_type": "execute_result"
    }
   ],
   "source": [
    "genes = pd.read_csv(\"/Users/irbraun/Desktop/Autophagy/autophagy_related_genes.csv\", usecols=[0], names=[\"gene_id\"])\n",
    "genes = [gene.lower() for gene in genes[\"gene_id\"].tolist()]\n",
    "genes.append(\"at1g15690\")\n",
    "genes"
   ]
  },
  {
   "cell_type": "code",
   "execution_count": 38,
   "metadata": {
    "scrolled": true
   },
   "outputs": [
    {
     "data": {
      "text/plain": [
       "2"
      ]
     },
     "execution_count": 38,
     "metadata": {},
     "output_type": "execute_result"
    }
   ],
   "source": [
    "df = pd.read_csv(\"/Users/irbraun/Downloads/query_results (3).csv\")\n",
    "df = df[[\"Rank\",\"Gene Model\"]]\n",
    "df[\"Known\"] = df[\"Gene Model\"].map(lambda x: (x.lower() in genes))\n",
    "df[\"Known\"].sum()"
   ]
  }
 ],
 "metadata": {
  "kernelspec": {
   "display_name": "Python 3",
   "language": "python",
   "name": "python3"
  },
  "language_info": {
   "codemirror_mode": {
    "name": "ipython",
    "version": 3
   },
   "file_extension": ".py",
   "mimetype": "text/x-python",
   "name": "python",
   "nbconvert_exporter": "python",
   "pygments_lexer": "ipython3",
   "version": "3.6.10"
  }
 },
 "nbformat": 4,
 "nbformat_minor": 4
}
