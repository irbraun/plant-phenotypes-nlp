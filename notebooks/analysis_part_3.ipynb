{
 "cells": [
  {
   "cell_type": "code",
   "execution_count": 28,
   "metadata": {},
   "outputs": [
    {
     "name": "stderr",
     "output_type": "stream",
     "text": [
      "[nltk_data] Downloading package punkt to /Users/irbraun/nltk_data...\n",
      "[nltk_data]   Package punkt is already up-to-date!\n",
      "[nltk_data] Downloading package brown to /Users/irbraun/nltk_data...\n",
      "[nltk_data]   Package brown is already up-to-date!\n"
     ]
    },
    {
     "data": {
      "text/plain": [
       "True"
      ]
     },
     "execution_count": 28,
     "metadata": {},
     "output_type": "execute_result"
    }
   ],
   "source": [
    "import datetime\n",
    "import nltk\n",
    "import matplotlib.pyplot as plt\n",
    "import matplotlib as mpl\n",
    "import seaborn as sns\n",
    "import pandas as pd\n",
    "import numpy as np\n",
    "import time\n",
    "import math\n",
    "import sys\n",
    "import gensim\n",
    "import os\n",
    "import warnings\n",
    "import itertools\n",
    "import multiprocessing as mp\n",
    "from collections import Counter, defaultdict\n",
    "from inspect import signature\n",
    "from scipy.stats import ks_2samp\n",
    "from sklearn.metrics import precision_recall_curve, f1_score, auc\n",
    "from sklearn.model_selection import train_test_split, KFold\n",
    "from scipy import spatial\n",
    "from nltk.corpus import brown\n",
    "from nltk.tokenize import word_tokenize\n",
    "from sklearn.neighbors import KNeighborsClassifier\n",
    "\n",
    "sys.path.append(\"../../oats\")\n",
    "from oats.utils.utils import save_to_pickle, load_from_pickle, merge_list_dicts, flatten, to_hms\n",
    "from oats.datasets.dataset import Dataset\n",
    "from oats.datasets.groupings import Groupings\n",
    "from oats.annotation.ontology import Ontology\n",
    "from oats.datasets.string import String\n",
    "from oats.datasets.known import Known\n",
    "from oats.annotation.annotation import annotate_using_rabin_karp, annotate_using_noble_coder\n",
    "from oats.graphs.pairwise import pairwise_doc2vec_onegroup, pairwise_counting_onegroup, pairwise_annotations_onegroup\n",
    "from oats.graphs.pairwise import merge_edgelists, subset_edgelist_with_ids, pairwise_word2vec_onegroup\n",
    "from oats.graphs.pairwise import make_undirected\n",
    "from oats.graphs.pairwise import remove_self_loops\n",
    "from oats.graphs.indexed import IndexedGraph\n",
    "from oats.graphs.models import train_logistic_regression_model, apply_logistic_regression_model\n",
    "from oats.graphs.models import train_random_forest_model, apply_random_forest_model\n",
    "from oats.nlp.vocabulary import get_overrepresented_tokens, build_vocabulary_from_tokens\n",
    "from oats.utils.utils import function_wrapper_with_duration\n",
    "\n",
    "mpl.rcParams[\"figure.dpi\"] = 400\n",
    "warnings.simplefilter('ignore')\n",
    "pd.set_option('display.max_rows', 500)\n",
    "pd.set_option('display.max_columns', 500)\n",
    "pd.set_option('display.width', 1000)\n",
    "nltk.download('punkt')\n",
    "nltk.download('brown')"
   ]
  },
  {
   "cell_type": "code",
   "execution_count": 29,
   "metadata": {},
   "outputs": [],
   "source": [
    "# Nested dictionary to summarize output with shape dict[method][(tag,metric)] --> value\n",
    "# The dictionary is organized this way for printing within this notebook and saving as a csv file.\n",
    "TAG = \"Biochemical Pathways from KEGG\"\n",
    "TABLE = defaultdict(dict)\n",
    "OUTPUT_DIR = os.path.join(\"../outputs\",datetime.datetime.now().strftime('%m_%d_%Y_h%Hm%Ms%S'))\n",
    "os.mkdir(OUTPUT_DIR)"
   ]
  },
  {
   "cell_type": "code",
   "execution_count": 30,
   "metadata": {},
   "outputs": [],
   "source": [
    "dataset_filename = \"../data/pickles/ppn_dataset.pickle\"                        # The full dataset object.\n",
    "groupings_filename = \"../data/pickles/kegg_pathways.pickle\"                    # The groupings object.\n",
    "background_corpus_filename = \"../data/corpus_related_files/background.txt\"     # Text file with background content.\n",
    "phenotypes_corpus_filename = \"../data/corpus_related_files/phenotypes.txt\"     # Text file with specific content.\n",
    "doc2vec_model_filename = \"../gensim/enwiki_dbow/doc2vec.bin\"                   # File holding saved Doc2Vec model.\n",
    "word2vec_model_filename = \"../gensim/wiki_sg/word2vec.bin\"                     # File holding saved Word2Vec model.\n",
    "ontology_filename = \"../ontologies/mo.obo\"                                     # Ontology file in OBO format.\n",
    "noblecoder_jarfile_path = \"../lib/NobleCoder-1.0.jar\"                          # File for NOBLE Coder annotation."
   ]
  },
  {
   "cell_type": "code",
   "execution_count": 31,
   "metadata": {},
   "outputs": [
    {
     "name": "stdout",
     "output_type": "stream",
     "text": [
      "Number of rows in the dataframe: 2683\n",
      "Number of unique IDs:            2683\n",
      "Number of unique descriptions:   1794\n",
      "Number of unique gene name sets: 2683\n",
      "Number of species represented:   6\n"
     ]
    }
   ],
   "source": [
    "# Reading in the entire dataset, subsetting for species and desired annotation types.\n",
    "dataset = load_from_pickle(dataset_filename)\n",
    "dataset.describe()"
   ]
  },
  {
   "cell_type": "code",
   "execution_count": 32,
   "metadata": {
    "scrolled": true
   },
   "outputs": [
    {
     "name": "stdout",
     "output_type": "stream",
     "text": [
      "Number of groups present for each species\n",
      "  ath: 131\n",
      "  zma: 132\n",
      "  mtr: 118\n",
      "  osa: 130\n",
      "  gmx: 131\n",
      "  sly: 130\n",
      "Number of genes names mapped to any group for each species\n",
      "  ath: 16619\n",
      "  zma: 20624\n",
      "  mtr: 10126\n",
      "  osa: 13828\n",
      "  gmx: 25208\n",
      "  sly: 15697\n"
     ]
    }
   ],
   "source": [
    "# Subsetting the dataset to include only those genes that map to at least one group from some classification source.\n",
    "groups = load_from_pickle(groupings_filename)\n",
    "id_to_group_ids = groups.get_id_to_group_ids_dict(dataset.get_gene_dictionary())\n",
    "group_id_to_ids = groups.get_group_id_to_ids_dict(dataset.get_gene_dictionary())\n",
    "group_mapped_ids = [k for (k,v) in id_to_group_ids.items() if len(v)>0]\n",
    "groups.describe()"
   ]
  },
  {
   "cell_type": "code",
   "execution_count": 33,
   "metadata": {},
   "outputs": [
    {
     "name": "stdout",
     "output_type": "stream",
     "text": [
      "ko04075 [6, 34, 43, 60, 99, 138, 180, 188, 189, 190, 275, 276, 284, 325, 334, 336, 451, 582, 621, 999, 1053, 1078, 1081, 1131, 1182, 1212, 1216, 1217, 1233, 1312, 1327, 1333, 1349, 1500, 1782, 1846, 1847, 1881, 2040, 2055, 2056, 2057, 2059, 2085, 2089, 2111, 2117, 2191, 2254, 2263, 2268, 2276, 2333, 2335, 2380, 2382, 2388, 2390, 2393, 2401, 2402, 2466, 2473, 2490, 2494, 2503, 2608, 2677]\n",
      "ko00290 [8, 39, 589, 1010, 2448]\n",
      "ko00660 [8, 589, 1010]\n",
      "ko00966 [8, 39, 40, 52, 590, 1123, 1154, 1363, 1385]\n",
      "ko00500 [9, 81, 119, 207, 231, 268, 373, 429, 456, 556, 605, 606, 607, 664, 1237, 1238, 1303, 1361, 1417, 1418, 1419, 1420, 1421, 1561, 1581, 1848, 2222, 2295, 2317, 2385, 2399, 2444, 2445, 2456, 2522, 2669]\n",
      "ko00073 [10, 29, 82, 120, 134, 193, 212, 259, 1051, 1104, 1105, 1247, 1414, 1490, 2495]\n",
      "ko00906 [11, 86, 267, 290, 334, 1160, 1231, 1242, 1357, 1359, 1360, 1386, 1772, 1826, 1936, 1941, 2220, 2299, 2645, 2646, 2680, 2681]\n",
      "ko00190 [14, 61, 117, 312, 317, 323, 372, 759, 824, 1221, 1250, 1372, 1958, 2015, 2405]\n",
      "ko04712 [20, 336, 1234, 1265, 1267, 1269, 1270, 1278, 1285, 1318, 1321, 1324, 1332, 1334, 1337, 1666, 2018, 2088, 2202, 2235, 2236, 2239, 2240, 2276, 2657, 2667]\n",
      "ko00520 [22, 110, 114, 123, 151, 152, 153, 155, 311, 429, 476, 496, 526, 1306, 1382, 1418, 1419, 1420, 1421, 1425, 1555, 2073, 2261, 2295, 2307, 2310]\n",
      "ko04130 [41, 302, 310, 314, 618, 1859, 1862, 2162, 2517]\n",
      "ko00561 [48, 209, 258, 281, 336, 341, 700, 737, 1017, 1425, 1567, 1657, 1743, 1962, 1973, 2115, 2145, 2495]\n",
      "ko00564 [48, 70, 127, 258, 336, 384, 700, 791, 889, 1017, 1071, 1291, 1631, 1743, 1807, 1973, 1975, 2104, 2325, 2464, 2495]\n",
      "ko03010 [51, 245, 436, 735, 753, 765, 767, 768, 778, 781, 788, 803, 916, 917, 930, 935, 936, 959, 979, 1399, 1433, 1434, 1441, 1523, 1524, 1577, 1667, 1681, 1690, 1746, 1855, 1856, 2031, 2092, 2272, 2376, 2396, 2546]\n",
      "ko00380 [52, 209, 433, 762, 1031, 1123, 1226, 1610, 2074, 2075, 2499]\n",
      "ko03030 [54, 452, 639, 740, 748, 769, 840, 877, 878, 882, 883, 941, 1565, 1569, 1575, 1589, 1736, 2133]\n",
      "ko03420 [54, 334, 452, 577, 578, 639, 840, 877, 882, 941, 1029, 1565, 1569, 1575, 1595, 1601, 1736, 2124, 2133, 2200, 2425, 2441]\n",
      "ko03430 [54, 452, 639, 877, 882, 941, 1446, 1569, 1575, 1726, 1736]\n",
      "ko04016 [60, 105, 138, 189, 190, 279, 334, 343, 433, 448, 629, 1078, 1186, 1215, 1216, 1217, 1233, 1254, 1255, 1257, 1297, 1333, 1469, 1649, 1782, 1805, 1842, 1881, 2026, 2040, 2043, 2055, 2056, 2057, 2059, 2090, 2111, 2131, 2154, 2183, 2191, 2194, 2242, 2253, 2254, 2287, 2312, 2401, 2402, 2429, 2494, 2530, 2545, 2554]\n",
      "ko00510 [67, 303, 537, 867, 946, 2156, 2593, 2594]\n",
      "ko00513 [67, 303, 537, 946, 2156, 2593]\n",
      "ko00071 [82, 209, 212, 403, 458, 762, 1103, 1227, 1230, 1709, 1797, 1970, 1977, 2037, 2417]\n",
      "ko00040 [85, 311, 727, 1776, 1777, 1852, 2562, 2564]\n",
      "ko03040 [93, 497, 607, 656, 662, 750, 774, 797, 809, 843, 864, 874, 904, 962, 1072, 1086, 1431, 1483, 1564, 1585, 1742, 1829, 2009, 2126, 2607, 2625]\n",
      "ko04120 [106, 334, 495, 574, 600, 634, 706, 754, 866, 923, 1007, 1021, 1029, 1039, 1194, 1501, 1595, 1707, 2018, 2022, 2124, 2200, 2202, 2279, 2507]\n",
      "ko00270 [109, 346, 485, 505, 506, 565, 571, 595, 596, 597, 642, 665, 1254, 1255, 1256, 1257, 1490, 1553, 1563, 1711, 1748, 1920, 2006, 2192, 2260, 2269, 2557, 2558]\n",
      "ko00460 [109, 440, 1015, 1226, 1848, 1890, 2522]\n",
      "ko00920 [109, 571, 595, 608, 665, 957, 1287, 1920]\n",
      "ko00052 [110, 268, 311, 341, 429, 1418, 2261, 2295, 2317, 2669]\n",
      "ko04145 [117, 295, 314, 317, 338, 339, 824, 1189, 1221, 1831, 2001, 2195, 2358, 2359, 2360, 2478]\n",
      "ko00565 [127, 1291, 1807, 1973, 2104, 2325, 2464]\n",
      "ko04144 [127, 145, 148, 187, 239, 309, 405, 407, 574, 620, 903, 1199, 1291, 1513, 1548, 1696, 1697, 1921, 2325, 2398, 2452, 2464, 2625]\n",
      "ko00900 [128, 165, 446, 449, 520, 762, 1075, 1491, 1600, 1942, 1948, 1950, 2003, 2008, 2067]\n",
      "ko04146 [134, 193, 291, 403, 433, 458, 491, 676, 756, 849, 960, 965, 1030, 1103, 1105, 1227, 1228, 1247, 1490, 1582, 1648, 1709, 1797, 1977, 1978, 2042, 2288]\n",
      "ko04626 [141, 279, 307, 334, 343, 444, 448, 524, 961, 1052, 1070, 1210, 1347, 1469, 1479, 1637, 1781, 1805, 1814, 1839, 1854, 1855, 1856, 2026, 2040, 2043, 2084, 2096, 2103, 2109, 2131, 2177, 2181, 2183, 2312, 2494, 2521, 2523, 2524, 2526, 2547, 2548, 2596]\n",
      "ko00941 [171, 442, 466, 1234, 1703, 1705, 1708, 2652, 2653, 2656, 2657, 2659]\n",
      "ko00062 [178, 418, 711, 780, 1052, 1107, 1188, 2316, 2596, 2597, 2679]\n",
      "ko01040 [178, 403, 418, 711, 780, 1227, 1530, 1797, 1977, 2150]\n",
      "ko00310 [181, 209, 260, 445, 617, 762, 2074, 2075]\n",
      "ko00010 [209, 412, 429, 643, 722, 915, 971, 1418, 1421, 1683, 1833, 1917, 2037, 2074, 2075, 2114, 2295, 2302, 2420, 2421]\n",
      "ko00053 [209, 311, 591, 592, 933, 1362, 1919, 1967, 2432, 2435]\n",
      "ko00280 [209, 594, 762, 1229, 1230, 1491, 1977, 2074, 2075]\n",
      "ko00330 [209, 265, 505, 506, 690, 710, 906, 1167, 1168, 1172, 1310, 1475, 1637, 1711, 1966]\n",
      "ko00340 [209, 744, 746, 755, 933, 1546, 1560, 1580]\n",
      "ko00410 [209, 403, 911, 1227, 1229, 1308, 1370, 1475, 1797, 2610]\n",
      "ko00620 [209, 643, 722, 745, 762, 870, 915, 971, 1369, 1438, 1833, 2074, 2075, 2091, 2260, 2269, 2302, 2415, 2448]\n",
      "ko00903 [209]\n",
      "ko03015 [217, 628, 739, 1054, 1282, 1483, 1533, 1534, 1537, 1574, 1576, 1596, 1605, 1829, 1845, 2035, 2255]\n",
      "ko00942 [220]\n",
      "ko00740 [231]\n",
      "ko00630 [234, 433, 440, 762, 1015, 1052, 1833, 1890, 1962, 2074, 2075, 2260, 2269, 2379, 2415, 2465]\n",
      "ko00910 [234, 334, 1226, 1364, 1393, 1398, 1747, 1756, 1815, 1904, 2465]\n",
      "ko00908 [237, 2505]\n",
      "ko00562 [241, 295, 338, 339, 405, 933, 1287, 1362, 1538, 1696, 1697, 1917, 2104, 2270, 2315, 2344, 2516, 2522]\n",
      "ko04070 [241, 295, 338, 339, 405, 933, 1287, 1362, 1469, 1696, 1697, 2131, 2315, 2516, 2522]\n",
      "ko00970 [248, 724, 752, 786, 813, 821, 830, 837, 871, 955, 980, 1618, 1620, 1621, 1622, 1623, 1624, 1625, 1626, 1932]\n",
      "ko03020 [249, 252, 352, 1543]\n",
      "ko00904 [263, 541, 1335, 1426, 2039, 2045, 2047, 2353, 2631, 2632]\n",
      "ko00909 [286, 488, 1075, 2516]\n",
      "ko00130 [288, 330, 466, 886, 977, 1650, 1915, 1929, 1974, 2012, 2044, 2252, 2392, 2542]\n",
      "ko00230 [291, 324, 722, 888, 897, 1354, 1418, 1502, 1818, 2253, 2327, 2612, 2628]\n",
      "ko00232 [291]\n",
      "ko04136 [295, 301, 471, 543, 893, 919, 2414]\n",
      "ko04141 [303, 357, 866, 867, 946, 961, 1011, 1214, 1432, 1464, 1479, 1501, 1597, 1831, 2001, 2053, 2189, 2195, 2425, 2478, 2593, 2594, 2616, 2625]\n",
      "ko00020 [323, 643, 915, 971, 1369, 1372, 1438, 2042, 2074, 2075, 2260, 2269, 2302]\n",
      "ko03440 [327, 332, 409, 452, 531, 1019, 1453, 1608, 1715, 1736, 1764, 2093, 2118, 2121, 2123, 2160, 2161]\n",
      "ko00940 [330, 442, 466, 481, 601, 1009, 1068, 1415, 1416, 1848, 2209, 2367, 2431, 2522, 2527]\n",
      "ko00999 [330, 466]\n",
      "ko03450 [332, 531, 1802, 1903, 2137]\n",
      "ko00480 [334, 440, 591, 592, 816, 1198, 1553, 1673, 1775, 2006, 2042, 2174, 2327, 2432, 2628]\n",
      "ko00600 [341, 1164, 1545]\n",
      "ko00603 [341]\n",
      "ko00860 [355, 489, 493, 899, 1316, 1381, 1526, 1527, 1531, 1541, 1626, 1632, 1633, 1658, 1676, 1930, 2004, 2005]\n",
      "ko00195 [360, 363, 428, 492, 550, 992, 1248, 1367, 1669, 1768, 1958, 2015, 2373, 2374, 2433, 2434]\n",
      "ko00592 [384, 403, 1056, 1227, 1384, 1489, 1494, 1797, 1807, 1970, 1973, 1977, 2417]\n",
      "ko00051 [388, 389, 390, 429, 476, 1143, 1306, 1555, 1683, 1917, 2295, 2421]\n",
      "ko03013 [400, 656, 675, 715, 754, 761, 766, 785, 913, 934, 1118, 1180, 1283, 1481, 1483, 1605, 1829, 2035, 2063, 2252, 2289, 2324, 2330]\n",
      "ko00640 [403, 745, 762, 870, 1227, 1229, 1797, 2074, 2075]\n",
      "ko03018 [412, 480, 538, 632, 750, 843, 873, 922, 1038, 1086, 1586, 1655, 1913, 1992, 2114, 2158, 2159, 2629]\n",
      "ko02010 [417, 441, 1712, 2243]\n",
      "ko00905 [425, 460, 477, 2356, 2416, 2560]\n",
      "ko00430 [440, 1370]\n",
      "ko00590 [440, 1198, 1807, 1973, 2174]\n",
      "ko00220 [440, 583, 1167, 1168, 1637, 1711, 1747, 1904, 2465, 2612]\n",
      "ko00250 [440, 507, 583, 937, 1364, 1370, 1447, 1647, 1711, 1747, 1818, 1904, 2465, 2486]\n",
      "ko00260 [440, 612, 1015, 1418, 1822, 1890, 1962, 1990, 1991, 1994, 2074, 2075, 2105, 2345, 2379]\n",
      "ko00710 [440, 583, 727, 892, 1683, 1711, 1917, 2030, 2260, 2269, 2421, 2591]\n",
      "ko00945 [442, 466]\n",
      "ko00061 [458, 651, 733, 745, 870, 885, 1103, 1530, 1587, 1640, 1709, 2029]\n",
      "ko00100 [465, 473, 474, 488, 499, 504, 622, 625, 652, 713, 1423, 1424, 1594, 1973, 2352]\n",
      "ko00760 [502, 921, 937, 944, 1088, 1482, 1820]\n",
      "ko00650 [507, 762, 1370, 1447, 1491, 1833]\n",
      "ko00450 [595, 1490, 1624, 2485]\n",
      "ko03060 [631, 1464, 1652, 1956, 1995, 1999, 2001, 2215, 2427, 2650]\n",
      "ko00730 [663, 1354, 1599, 1942, 1987, 1988, 1993]\n"
     ]
    },
    {
     "name": "stdout",
     "output_type": "stream",
     "text": [
      "ko04122 [665, 1599]\n",
      "ko00400 [677, 747, 1580, 1711, 1799, 1989, 1990, 1991]\n",
      "ko00030 [717, 727, 892, 1418, 1421, 1683, 2030, 2420, 2421, 2591]\n",
      "ko00780 [725, 733, 799, 1005, 1587, 2029]\n",
      "ko03050 [731, 789, 1397, 1462, 1547, 1803, 1812, 2041, 2142, 2320, 2429, 2536, 2633]\n",
      "ko03008 [742, 766, 817, 926, 1536, 1544, 1586, 1651]\n",
      "ko00072 [762, 1491]\n",
      "ko00240 [808, 914, 1308, 1647, 1866, 1976, 1984, 2253, 2327, 2486, 2506, 2610, 2628]\n",
      "ko03410 [840, 1565, 1569, 1798, 2119, 2133]\n",
      "ko00750 [852, 1661, 2187, 2319, 2345, 2463]\n",
      "ko00440 [889]\n",
      "ko00300 [903, 2474]\n",
      "ko00531 [905]\n",
      "ko00770 [911, 1308, 2610]\n",
      "ko00790 [924, 943, 1092, 1390, 1774]\n",
      "ko00670 [1015, 1890, 1932]\n",
      "ko00591 [1056, 1169, 1384, 1807, 1973, 2391]\n",
      "ko04933 [1189]\n",
      "ko00514 [1339, 2172]\n",
      "ko03022 [1461, 1601, 1639, 2441]\n",
      "ko00563 [1463, 1486, 1487]\n",
      "ko00350 [1580, 1711, 1929, 2037]\n",
      "ko00360 [1580, 1711, 1929]\n",
      "ko00960 [1580, 1711]\n",
      "ko00950 [1711]\n",
      "ko00785 [2238]\n",
      "ko00196 [2409]\n",
      "ko00261 [2474]\n",
      "ko00944 [2656]\n"
     ]
    }
   ],
   "source": [
    "for k,v in group_id_to_ids.items():\n",
    "    print(k,v)\n",
    "    \n",
    "    "
   ]
  },
  {
   "cell_type": "code",
   "execution_count": null,
   "metadata": {},
   "outputs": [],
   "source": []
  },
  {
   "cell_type": "code",
   "execution_count": 34,
   "metadata": {},
   "outputs": [],
   "source": [
    "# Generate a table describing how many of the genes input from each species map to atleast one group.\n",
    "summary = defaultdict(dict)\n",
    "species_dict = dataset.get_species_dictionary()\n",
    "for species in dataset.get_species():\n",
    "    summary[species][\"input\"] = len([x for x in dataset.get_ids() if species_dict[x]==species])\n",
    "    summary[species][\"mapped\"] = len([x for x in group_mapped_ids if species_dict[x]==species])\n",
    "table = pd.DataFrame(summary).transpose()\n",
    "table.loc[\"total\"]= table.sum()\n",
    "table[\"fraction\"] = table.apply(lambda row: \"{:0.4f}\".format(row[\"mapped\"]/row[\"input\"]), axis=1)\n",
    "table.to_csv(os.path.join(OUTPUT_DIR,\"mappings_summary.csv\"))\n",
    "\n",
    "# Generate a table describing how many genes from each species map to which particular group.\n",
    "summary = defaultdict(dict)\n",
    "for group_id,ids in group_id_to_ids.items():\n",
    "    summary[group_id].update({species:len([x for x in ids if species_dict[x]==species]) for species in dataset.get_species()})\n",
    "    summary[group_id][\"total\"] = len([x for x in ids])\n",
    "table = pd.DataFrame(summary).transpose()\n",
    "table = table.sort_values(by=\"total\", ascending=False)\n",
    "table = table.reset_index(inplace=False)\n",
    "table = table.rename({\"index\":\"pathway_id\"}, axis=\"columns\")\n",
    "table[\"pathway_name\"] = table[\"pathway_id\"].map(groups.get_long_name)\n",
    "table.loc[\"total\"] = table.sum()\n",
    "table.loc[\"total\",\"pathway_id\"] = \"total\"\n",
    "table.loc[\"total\",\"pathway_name\"] = \"total\"\n",
    "table = table[table.columns.tolist()[-1:] + table.columns.tolist()[:-1]]\n",
    "table.to_csv(os.path.join(OUTPUT_DIR,\"mappings_by_group.csv\"), index=False)"
   ]
  },
  {
   "cell_type": "code",
   "execution_count": 35,
   "metadata": {},
   "outputs": [
    {
     "name": "stdout",
     "output_type": "stream",
     "text": [
      "Number of rows in the dataframe: 941\n",
      "Number of unique IDs:            941\n",
      "Number of unique descriptions:   675\n",
      "Number of unique gene name sets: 941\n",
      "Number of species represented:   4\n"
     ]
    }
   ],
   "source": [
    "# Filter the dataset based on whether or not the genes were successfully mapped to a group.\n",
    "dataset.filter_with_ids(group_mapped_ids)\n",
    "dataset.describe()"
   ]
  },
  {
   "cell_type": "code",
   "execution_count": 36,
   "metadata": {
    "scrolled": false
   },
   "outputs": [],
   "source": [
    "# Get the mappings in each direction again now that the dataset has been subset.\n",
    "id_to_group_ids = groups.get_id_to_group_ids_dict(dataset.get_gene_dictionary())\n",
    "group_id_to_ids = groups.get_group_id_to_ids_dict(dataset.get_gene_dictionary())"
   ]
  },
  {
   "cell_type": "markdown",
   "metadata": {},
   "source": [
    "### 2.2 Preprocessing of text descriptions, generating vocabularies, and other optional steps\n",
    "Add some description for the different things that are done here. Some of these take a long time to run only load or run the parts which are used to generate the pairwise similarity networks in the subsequent cell."
   ]
  },
  {
   "cell_type": "code",
   "execution_count": 37,
   "metadata": {},
   "outputs": [],
   "source": [
    "# Constructing a vocabulary by looking at what words are overrepresented in domain specific text.\n",
    "background_corpus = open(background_corpus_filename,\"r\").read()\n",
    "phenotypes_corpus = open(phenotypes_corpus_filename,\"r\").read()\n",
    "tokens = get_overrepresented_tokens(phenotypes_corpus, background_corpus, max_features=2000)\n",
    "vocabulary_from_text = build_vocabulary_from_tokens(tokens)\n",
    "\n",
    "# Constructing a vocabulary by assuming all words present in a given ontology are important.\n",
    "ontology = Ontology(ontology_filename)\n",
    "vocabulary_from_ontology = build_vocabulary_from_tokens(ontology.get_tokens())\n",
    "\n",
    "# Loading other necessary objects or models and annotating text with ontology terms.\n",
    "doc2vec_model = gensim.models.Doc2Vec.load(doc2vec_model_filename)\n",
    "word2vec_model = gensim.models.Word2Vec.load(word2vec_model_filename)\n",
    "descriptions = dataset.get_description_dictionary()\n",
    "annotations_from_dataset = dataset.get_annotations_dictionary()\n",
    "#annotations_rabin_karp = annotate_using_rabin_karp(descriptions, ontology)\n",
    "annotations_noblecoder_precise = annotate_using_noble_coder(descriptions, noblecoder_jarfile_path, \"mo\", precise=1)\n",
    "annotations_noblecoder_partial = annotate_using_noble_coder(descriptions, noblecoder_jarfile_path, \"mo\", precise=0)\n",
    "\n",
    "# Generating random descriptions that are drawn from same token population and retain original lengths.\n",
    "#tokens = [w for w in itertools.chain.from_iterable(word_tokenize(desc) for desc in descriptions.values())]\n",
    "#scrambled_descriptions = {k:\" \".join(np.random.choice(tokens,len(word_tokenize(v)))) for k,v in descriptions.items()}"
   ]
  },
  {
   "cell_type": "markdown",
   "metadata": {},
   "source": [
    "### 2.3 Generating vector representations, pairwise similarity matrices, and edgelists\n",
    "This includes things like whether or not to do capitilization removal, lemmatization, stemming, etc. on the descriptions present in the dataset. This could also included things like scrambling the contexts of each description to establish a baseline performance measure. This could also include things like reducing the vocabulary size through the preprocessing methods given here but also through additional means such as provided a reduced (more specialized) vocabulary dictionary to the vectorizing functions so that only those words which are most likely to have meaning have positions with those vectors. Should also test other vectorization methods such as term-frequency inverse-document-frequency for weighting. Can also change how the feature selection is done for those vectors by altering whether the *n*-grams are based on word or characters, and what the range of *n* is. Also should add the thing about combining the term annotations are text into a single bag-of-words vector representation."
   ]
  },
  {
   "cell_type": "code",
   "execution_count": 38,
   "metadata": {},
   "outputs": [],
   "source": [
    "# Generating the pairwise edgelists for each method, multiprocessing verion.\n",
    "# Index 0: name of the method\n",
    "# Index 1: function to call for running this method\n",
    "# Index 2: arguments to pass to that function as dictionary of keyword args\n",
    "# Index 3: distance metric to apply to vectors generated with that method\n",
    "name_function_args_tuples = [\n",
    "    (\"doc2vec\", pairwise_doc2vec_onegroup, {\"model\":doc2vec_model, \"object_dict\":descriptions, \"metric\":\"cosine\"}, spatial.distance.cosine),\n",
    "    (\"bagofwords\", pairwise_counting_onegroup, {\"object_dict\":descriptions, \"metric\":\"cosine\", \"binary\":False, \"max_features\":5000}, spatial.distance.cosine),\n",
    "    (\"ngram_word\", pairwise_counting_onegroup, {\"object_dict\":descriptions, \"metric\":\"cosine\", \"binary\":False, \"analyzer\":\"word\", \"ngram_range\":(1,2), \"max_features\":5000}, spatial.distance.cosine),\n",
    "    (\"ngram_char\", pairwise_counting_onegroup, {\"object_dict\":descriptions, \"metric\":\"cosine\", \"binary\":False, \"analyzer\":\"char\", \"ngram_range\":(4,6), \"max_features\":5000}, spatial.distance.cosine),\n",
    "    (\"setofwords\", pairwise_counting_onegroup, {\"object_dict\":descriptions, \"metric\":\"jaccard\", \"binary\":True, \"max_features\":5000}, spatial.distance.jaccard),\n",
    "    (\"annot_ncpr\", pairwise_annotations_onegroup, {\"annotations_dict\":annotations_noblecoder_precise, \"ontology\":ontology, \"binary\":True, \"metric\":\"jaccard\"}, spatial.distance.jaccard),\n",
    "    (\"annot_ncpa\", pairwise_annotations_onegroup, {\"annotations_dict\":annotations_noblecoder_partial, \"ontology\":ontology, \"binary\":True, \"metric\":\"jaccard\"}, spatial.distance.jaccard),\n",
    "    (\"word2vec_avg\", pairwise_word2vec_onegroup, {\"model\":word2vec_model, \"object_dict\":descriptions, \"metric\":\"cosine\", \"method\":\"mean\"}, spatial.distance.cosine),\n",
    "    (\"word2vec_max\", pairwise_word2vec_onegroup, {\"model\":word2vec_model, \"object_dict\":descriptions, \"metric\":\"cosine\", \"method\":\"max\"}, spatial.distance.cosine),\n",
    "    (\"bag_pubmed\", pairwise_counting_onegroup, {\"object_dict\":descriptions, \"metric\":\"cosine\", \"binary\":False, \"max_features\":5000, \"vocabulary\":vocabulary_from_text}, spatial.distance.cosine),\n",
    "    (\"set_pubmed\", pairwise_counting_onegroup, {\"object_dict\":descriptions, \"metric\":\"jaccard\", \"binary\":True, \"max_features\":5000, \"vocabulary\":vocabulary_from_text}, spatial.distance.jaccard),\n",
    "    (\"bag_ontvoc\", pairwise_counting_onegroup, {\"object_dict\":descriptions, \"metric\":\"sqeuclidean\", \"binary\":False, \"max_features\":5000, \"vocabulary\":vocabulary_from_ontology}, spatial.distance.sqeuclidean),\n",
    "    (\"set_ontvoc\", pairwise_counting_onegroup, {\"object_dict\":descriptions, \"metric\":\"jaccard\", \"binary\":True, \"max_features\":5000, \"vocabulary\":vocabulary_from_ontology}, spatial.distance.jaccard),\n",
    "]"
   ]
  },
  {
   "cell_type": "code",
   "execution_count": null,
   "metadata": {},
   "outputs": [],
   "source": [
    "# Generate all of the similarity matrices in parallel.\n",
    "start_time_mp = time.perf_counter()\n",
    "pool = mp.Pool(mp.cpu_count())\n",
    "results = [pool.apply_async(function_wrapper_with_duration, args=(func, args)) for (name,func,args,metric) in name_function_args_tuples]\n",
    "results = [result.get() for result in results]\n",
    "graphs = {tup[0]:result[0] for tup,result in zip(name_function_args_tuples,results)}\n",
    "metric_dict = {tup[0]:tup[3] for tup in name_function_args_tuples}\n",
    "durations = {tup[0]:result[1] for tup,result in zip(name_function_args_tuples,results)}\n",
    "pool.close()\n",
    "pool.join()    \n",
    "total_time_mp = time.perf_counter()-start_time_mp\n",
    "\n",
    "# Reporting how long each matrix took to build and how much time parallel processing saved.\n",
    "print(\"Durations of generating each pairwise similarity matrix (hh:mm:ss)\")\n",
    "print(\"-----------------------------------------------------------------\")\n",
    "savings = total_time_mp/sum(durations.values())\n",
    "for (name,duration) in durations.items():\n",
    "    print(\"{:15} {}\".format(name, to_hms(duration)))\n",
    "print(\"-----------------------------------------------------------------\")\n",
    "print(\"{:15} {}\".format(\"total\", to_hms(sum(durations.values()))))\n",
    "print(\"{:15} {} ({:.2%} of single thread time)\".format(\"multiprocess\", to_hms(total_time_mp), savings))"
   ]
  },
  {
   "cell_type": "code",
   "execution_count": null,
   "metadata": {},
   "outputs": [],
   "source": [
    "# Generate all the similarity matrices (not in parallel).\n",
    "#graphs = {tup[0]:tup[1](**tup[2]) for tup in name_function_args_tuples}"
   ]
  },
  {
   "cell_type": "code",
   "execution_count": null,
   "metadata": {},
   "outputs": [],
   "source": [
    "# Merging all of the edgelist dataframes together.\n",
    "methods = list(graphs.keys())\n",
    "edgelists = {k:v.edgelist for k,v in graphs.items()}\n",
    "df = merge_edgelists(edgelists, default_value=0.000)\n",
    "df = remove_self_loops(df)\n",
    "df.tail(10)"
   ]
  },
  {
   "cell_type": "code",
   "execution_count": null,
   "metadata": {},
   "outputs": [],
   "source": [
    "# Merge this edgelist with information about the similarity values from the curated dataset.\n",
    "known_edgelist_path = \"../data/supplemental_files_oellrich_walls/13007_2015_53_MOESM9_ESM.txt\"\n",
    "known = Known(dataset.get_name_to_id_dictionary(), known_edgelist_path)\n",
    "df = df.merge(right=known.df, how=\"left\", on=[\"from\",\"to\"])\n",
    "df.fillna(value=0,inplace=True)\n",
    "df[\"value\"] = 1-df[\"value\"]\n",
    "methods.append(\"value\")\n",
    "df.tail(10)"
   ]
  },
  {
   "cell_type": "markdown",
   "metadata": {},
   "source": [
    "### 2.4 Adding additional information about each edge in the combined edgelist"
   ]
  },
  {
   "cell_type": "code",
   "execution_count": null,
   "metadata": {},
   "outputs": [],
   "source": [
    "# Generate a column indicating whether or not the two genes have atleast one pathway in common.\n",
    "df[\"shared\"] = df[[\"from\",\"to\"]].apply(lambda x: len(set(id_to_group_ids[x[\"from\"]]).intersection(set(id_to_group_ids[x[\"to\"]])))>0, axis=1)*1\n",
    "print(Counter(df[\"shared\"].values))\n",
    "\n",
    "# Generate a column indicating whether or not the two genes are from the same species.\n",
    "species_dict = dataset.get_species_dictionary()\n",
    "df[\"same\"] = df[[\"from\",\"to\"]].apply(lambda x: species_dict[x[\"from\"]]==species_dict[x[\"to\"]],axis=1)*1\n",
    "print(Counter(df[\"same\"].values))"
   ]
  },
  {
   "cell_type": "markdown",
   "metadata": {},
   "source": [
    "### 2.5 Training logistic regression or random forest models to combine multiple methods\n",
    "The purpose of this section is to iteratively train models on subsections of the dataset using simple regression or machine learning approaches to predict a value from zero to one indicating indicating how likely is it that two genes share atleast one of the specified groups in common. The information input to these models is the distance scores provided by each method in some set of all the methods used in this notebook. The purpose is to see whether or not a function of these similarity scores specifically trained to the task of predicting common groupings is better able to used the distance metric information to report a score for this task."
   ]
  },
  {
   "cell_type": "code",
   "execution_count": null,
   "metadata": {},
   "outputs": [],
   "source": [
    "# Iteratively create models for combining output values from multiple semantic similarity methods.\n",
    "method = \"logistic_regression\"\n",
    "splits = 12\n",
    "kf = KFold(n_splits=splits, random_state=14271, shuffle=True)\n",
    "df[method] = pd.Series()\n",
    "for train,test in kf.split(df):\n",
    "    lr_model = train_logistic_regression_model(df=df.iloc[train], predictor_columns=methods, target_column=\"shared\")\n",
    "    df[method].iloc[test] = apply_logistic_regression_model(df=df.iloc[test], predictor_columns=methods, model=lr_model)\n",
    "df[method] = 1-df[method]\n",
    "methods.append(method)"
   ]
  },
  {
   "cell_type": "code",
   "execution_count": null,
   "metadata": {},
   "outputs": [],
   "source": [
    "# Iteratively create models for combining output values from multiple semantic similarity methods.\n",
    "method = \"random_forest\"\n",
    "splits = 2\n",
    "kf = KFold(n_splits=splits, random_state=14271, shuffle=True)\n",
    "df[method] = pd.Series()\n",
    "for train,test in kf.split(df):\n",
    "    rf_model = train_random_forest_model(df=df.iloc[train], predictor_columns=methods, target_column=\"shared\")\n",
    "    df[method].iloc[test] = apply_random_forest_model(df=df.iloc[test],predictor_columns=methods, model=rf_model)\n",
    "df[method] = 1-df[method]\n",
    "methods.append(method)"
   ]
  },
  {
   "cell_type": "markdown",
   "metadata": {},
   "source": [
    "### 2.6 Do the edges joining genes that share atleast one pathways come from a different distribution?\n",
    "The purpose of this section is to visualize kernel estimates for the distributions of distance or similarity scores generated by each of the methods tested for measuring semantic similarity or generating vector representations of the phenotype descriptions. Ideally, better methods should show better separation betwene the distributions for distance values between two genes involved in a common specified group or two genes that are not. Additionally, a statistical test is used to check whether these two distributions are significantly different from each other or not, although this is a less informative measure than the other tests used in subsequent sections, because it does not address how useful these differences in the distributions actually are for making predictions about group membership."
   ]
  },
  {
   "cell_type": "code",
   "execution_count": null,
   "metadata": {},
   "outputs": [],
   "source": [
    "# Use Kolmogorov-Smirnov test to see if edges between genes that share a group come from a distinct distribution.\n",
    "ppi_pos_dict = {name:(df[df[\"shared\"] > 0.00][name].values) for name in methods}\n",
    "ppi_neg_dict = {name:(df[df[\"shared\"] == 0.00][name].values) for name in methods}\n",
    "for name in methods:\n",
    "    stat,p = ks_2samp(ppi_pos_dict[name],ppi_neg_dict[name])\n",
    "    pos_mean = np.average(ppi_pos_dict[name])\n",
    "    neg_mean = np.average(ppi_neg_dict[name])\n",
    "    pos_n = len(ppi_pos_dict[name])\n",
    "    neg_n = len(ppi_neg_dict[name])\n",
    "    TABLE[name].update({(TAG,\"mean_1\"):pos_mean, (TAG,\"mean_0\"):neg_mean, (TAG,\"n_1\"):pos_n, (TAG,\"n_0\"):neg_n})\n",
    "    TABLE[name].update({(TAG,\"ks\"):stat, (TAG,\"ks_pval\"):p})\n",
    "\n",
    "# Show the kernel estimates for each distribution of weights for each method.\n",
    "num_plots, plots_per_row, row_width, row_height = (len(methods), 4, 14, 3)\n",
    "fig,axs = plt.subplots(math.ceil(num_plots/plots_per_row), plots_per_row, squeeze=False)\n",
    "for name,ax in zip(methods,axs.flatten()):\n",
    "    ax.set_title(name)\n",
    "    ax.set_xlabel(\"value\")\n",
    "    ax.set_ylabel(\"density\")\n",
    "    sns.kdeplot(ppi_pos_dict[name], color=\"black\", shade=False, alpha=1.0, ax=ax)\n",
    "    sns.kdeplot(ppi_neg_dict[name], color=\"black\", shade=True, alpha=0.1, ax=ax) \n",
    "fig.set_size_inches(row_width, row_height*math.ceil(num_plots/plots_per_row))\n",
    "fig.tight_layout()\n",
    "fig.show()\n",
    "fig.savefig(os.path.join(OUTPUT_DIR,\"kernel_density.png\"),dpi=400)"
   ]
  },
  {
   "cell_type": "markdown",
   "metadata": {},
   "source": [
    "### 2.7 Ranking each biochemical pathways by its phenotypic visibility\n",
    "The purpose of this method is to look at which of the biochemical pathways (or whatever other arbitrary groupings) are the most easily recaptured using analysis of the text descriptions corresponding to the genes present in those biochemical pathways. This is done here by finding the average distance score for all the pairs of genes within each particular pathway or group for each method, then converting these values to ranks for ranking the pathways within a given method, then averaging the ranks across all methods. This is not necessarily extremely meaningful, if the pathway was involved in many phenotypes the pairwise similarity would not necessarily be very high, although the number of similar pairs might be higher than expected."
   ]
  },
  {
   "cell_type": "code",
   "execution_count": null,
   "metadata": {},
   "outputs": [],
   "source": [
    "# Get all the average within-pathway phenotype similarity values for each method for each particular pathway.\n",
    "group_id_to_ids = groups.get_group_id_to_ids_dict(dataset.get_gene_dictionary())\n",
    "group_ids = list(group_id_to_ids.keys())\n",
    "graph = IndexedGraph(df)\n",
    "within_weights_dict = defaultdict(lambda: defaultdict(list))\n",
    "all_weights_dict = {}\n",
    "for method in methods:\n",
    "    all_weights_dict[method] = df[method].values\n",
    "    for group in group_ids:\n",
    "        within_ids = group_id_to_ids[group]\n",
    "        within_pairs = [(i,j) for i,j in itertools.permutations(within_ids,2)]\n",
    "        within_weights_dict[method][group] = np.mean((graph.get_values(within_pairs, kind=method)))\n",
    "heatmap_data = pd.DataFrame(within_weights_dict)\n",
    "heatmap_data = heatmap_data.dropna(axis=0, inplace=False)\n",
    "heatmap_data = heatmap_data.round(4).head(10)\n",
    "heatmap_data.head()"
   ]
  },
  {
   "cell_type": "code",
   "execution_count": null,
   "metadata": {},
   "outputs": [],
   "source": []
  },
  {
   "cell_type": "code",
   "execution_count": null,
   "metadata": {
    "scrolled": false
   },
   "outputs": [],
   "source": [
    "# Find the average rank across methods of each pathway in terms of how low the mean within-group distance values were.\n",
    "ranks = pd.DataFrame(within_weights_dict).rank()\n",
    "ranks[\"average\"] = ranks.mean(axis=1)\n",
    "ranks.sort_values(by=\"average\", inplace=True)\n",
    "ranks.reset_index(inplace=True)\n",
    "ranks[\"group_id\"] = ranks[\"index\"]\n",
    "ranks[\"full_name\"] = ranks[\"group_id\"].apply(lambda x: groups.get_long_name(x))\n",
    "ranks[\"n\"] = ranks[\"group_id\"].apply(lambda x: len(group_id_to_ids[x]))\n",
    "ranks = ranks[[\"group_id\", \"n\", \"average\",\"full_name\",]]\n",
    "ranks.head(10)"
   ]
  },
  {
   "cell_type": "markdown",
   "metadata": {},
   "source": [
    "### 2.8 Predicting whether two genes belong to a common biochemical pathway\n",
    "The purpose of this section is to see if whether or not two genes share atleast one common pathway can be predicted from the similarity scores assigned using analysis of text similarity. The evaluation of predictability is done by reporting a precision and recall curve for each method, as well as remembering the area under the curve, and ratio between the area under the curve and the baseline (expected area when guessing randomly) for each method."
   ]
  },
  {
   "cell_type": "code",
   "execution_count": null,
   "metadata": {},
   "outputs": [],
   "source": [
    "y_true_dict = {name:df[\"shared\"] for name in methods}\n",
    "y_prob_dict = {name:(1 - df[name].values) for name in methods}\n",
    "num_plots, plots_per_row, row_width, row_height = (len(methods), 4, 14, 3)\n",
    "fig,axs = plt.subplots(math.ceil(num_plots/plots_per_row), plots_per_row, squeeze=False)\n",
    "for method,ax in zip(methods, axs.flatten()):\n",
    "    \n",
    "    # Obtaining the values and metrics.\n",
    "    y_true, y_prob = y_true_dict[method], y_prob_dict[method]\n",
    "    n_pos, n_neg = Counter(y_true)[1], Counter(y_true)[0]\n",
    "    precision, recall, thresholds = precision_recall_curve(y_true, y_prob)\n",
    "    baseline = Counter(y_true)[1]/len(y_true) \n",
    "    area = auc(recall, precision)\n",
    "    auc_to_baseline_auc_ratio = area/baseline\n",
    "    TABLE[method].update({(TAG,\"auc\"):area, (TAG,\"baseline\"):baseline, (TAG,\"ratio\"):auc_to_baseline_auc_ratio})\n",
    "\n",
    "    # Producing the precision recall curve.\n",
    "    step_kwargs = ({'step': 'post'} if 'step' in signature(plt.fill_between).parameters else {})\n",
    "    ax.step(recall, precision, color='black', alpha=0.2, where='post')\n",
    "    ax.fill_between(recall, precision, alpha=0.7, color='black', **step_kwargs)\n",
    "    ax.axhline(baseline, linestyle=\"--\", color=\"lightgray\")\n",
    "    ax.set_xlabel('Recall')\n",
    "    ax.set_ylabel('Precision')\n",
    "    ax.set_ylim([0.0, 1.05])\n",
    "    ax.set_xlim([0.0, 1.0])\n",
    "    ax.set_title(\"PR {0} (Baseline={1:0.3f})\".format(method, baseline))\n",
    "    \n",
    "fig.set_size_inches(row_width, row_height*math.ceil(num_plots/plots_per_row))\n",
    "fig.tight_layout()\n",
    "fig.show()\n",
    "fig.savefig(os.path.join(OUTPUT_DIR,\"prcurve_shared.png\"),dpi=400)"
   ]
  },
  {
   "cell_type": "markdown",
   "metadata": {},
   "source": [
    "### 2.9 Are genes in the same biochemical pathway ranked higher with respect to individual nodes?\n",
    "This is a way of statistically seeing if for some value k, the graph ranks more edges from some particular gene to any other gene that it has a true protein-protein interaction with higher or equal to rank k, than we would expect due to random chance. This way of looking at the problem helps to be less ambiguous than the previous methods, because it gets at the core of how this would actually be used. In other words, we don't really care how much true information we're missing as long as we're still able to pick up some new useful information by building these networks, so even though we could be missing a lot, what's going on at the very top of the results? These results should be comparable to very strictly thresholding the network and saying that the remaining edges are our guesses at interactions. This is comparable to just looking at the far left-hand side of the precision recall curves, but just quantifies it slightly differently."
   ]
  },
  {
   "cell_type": "code",
   "execution_count": null,
   "metadata": {},
   "outputs": [],
   "source": [
    "# When the edgelist is generated above, only the lower triangle of the pairwise matrix is retained for edges in the \n",
    "# graph. This means that in terms of the indices of each node, only the (i,j) node is listed in the edge list where\n",
    "# i is less than j. This makes sense because the graph that's specified is assumed to already be undirected. However\n",
    "# in order to be able to easily subset the edgelist by a single column to obtain rows that correspond to all edges\n",
    "# connected to a particular node, this method will double the number of rows to include both (i,j) and (j,i) edges.\n",
    "df = make_undirected(df)"
   ]
  },
  {
   "cell_type": "code",
   "execution_count": null,
   "metadata": {},
   "outputs": [],
   "source": [
    "# What's the number of functional partners ranked k or higher in terms of phenotypic description similarity for \n",
    "# each gene? Also figure out the maximum possible number of functional partners that could be theoretically\n",
    "# recovered in this dataset if recovered means being ranked as k or higher here.\n",
    "k = 10      # The threshold of interest for gene ranks.\n",
    "n = 1000    # Number of Monte Carlo simulation iterations to complete.\n",
    "df[list(methods)] = df.groupby(\"from\")[list(methods)].rank()\n",
    "ys = df[df[\"shared\"]==1][list(methods)].apply(lambda s: len([x for x in s if x<=k]))\n",
    "ymax = sum(df.groupby(\"from\")[\"shared\"].apply(lambda s: min(len([x for x in s if x==1]),k)))\n",
    "\n",
    "# Monte Carlo simulation to see what the probability is of achieving each y-value by just randomly pulling k \n",
    "# edges for each gene rather than taking the top k ones that the similarity methods specifies when ranking.\n",
    "ysims = [sum(df.groupby(\"from\")[\"shared\"].apply(lambda s: len([x for x in s.sample(k) if x>0.00]))) for i in range(n)]\n",
    "for method in methods:\n",
    "    pvalue = len([ysim for ysim in ysims if ysim>=ys[method]])/float(n)\n",
    "    TABLE[method][(TAG,\"y\")] = ys[method]\n",
    "    TABLE[method][(TAG,\"y_max\")] = ymax\n",
    "    TABLE[method][(TAG,\"y_pval\")] = pvalue"
   ]
  },
  {
   "cell_type": "markdown",
   "metadata": {},
   "source": [
    "### 2.10 Predicting biochemical pathway membership based on representative mean vectors.\n",
    "This section looks at how well the biochemical pathways that a particular gene is a member of can be predicted based on the similarity between the vector representation of the phenotype descriptions for that gene and the average vector for all the vector representations of phenotypes asociated with genes that belong to that particular pathway. In calculating the average vector for a given biochemical pathway, the vector corresponding to the gene that is currently being classified is not accounted for, to avoid overestimating the performance by including information about the ground truth during classification. This leads to missing information in the case of biochemical pathways that have only one member. This can be accounted for by only limiting the overall dataset to only include genes that belong to pathways that have atleast two genes mapped to them, and only including those pathways, or by removing the missing values before calculating the performance metrics below."
   ]
  },
  {
   "cell_type": "code",
   "execution_count": null,
   "metadata": {},
   "outputs": [],
   "source": [
    "# Get the list of methods to look at, and a mapping between each method and the correct similarity metric to apply.\n",
    "vector_dicts = {k:v.vector_dictionary for k,v in graphs.items()}\n",
    "methods = list(vector_dicts.keys())\n",
    "group_id_to_ids = groups.get_group_id_to_ids_dict(dataset.get_gene_dictionary())\n",
    "valid_group_ids = [group for group,id_list in group_id_to_ids.items() if len(id_list)>1]\n",
    "valid_ids = [i for i in dataset.get_ids() if len(set(valid_group_ids).intersection(set(id_to_group_ids[i])))>0]\n",
    "pred_dict = defaultdict(lambda: defaultdict(dict))\n",
    "true_dict = defaultdict(lambda: defaultdict(dict))\n",
    "for method in methods:\n",
    "    for group in valid_group_ids:\n",
    "        ids = group_id_to_ids[group]\n",
    "        for identifier in valid_ids:\n",
    "            # What's the mean vector of this group, without this particular one that we're trying to classify.\n",
    "            vectors = np.array([vector_dicts[method][some_id] for some_id in ids if not some_id==identifier])\n",
    "            mean_vector = vectors.mean(axis=0)\n",
    "            this_vector = vector_dicts[method][identifier]\n",
    "            pred_dict[method][identifier][group] = 1-metric_dict[method](mean_vector, this_vector)\n",
    "            true_dict[method][identifier][group] = (identifier in group_id_to_ids[group])*1"
   ]
  },
  {
   "cell_type": "code",
   "execution_count": null,
   "metadata": {},
   "outputs": [],
   "source": [
    "num_plots, plots_per_row, row_width, row_height = (len(methods), 4, 14, 3)\n",
    "fig,axs = plt.subplots(math.ceil(num_plots/plots_per_row), plots_per_row, squeeze=False)\n",
    "for method,ax in zip(methods, axs.flatten()):\n",
    "    \n",
    "    # Obtaining the values and metrics.\n",
    "    y_true = pd.DataFrame(true_dict[method]).as_matrix().flatten()\n",
    "    y_prob = pd.DataFrame(pred_dict[method]).as_matrix().flatten()\n",
    "    n_pos, n_neg = Counter(y_true)[1], Counter(y_true)[0]\n",
    "    precision, recall, thresholds = precision_recall_curve(y_true, y_prob)\n",
    "    baseline = Counter(y_true)[1]/len(y_true) \n",
    "    area = auc(recall, precision)\n",
    "    auc_to_baseline_auc_ratio = area/baseline\n",
    "    TABLE[method].update({(TAG,\"mean_auc\"):area, (TAG,\"mean_baseline\"):baseline, (TAG,\"mean_ratio\"):auc_to_baseline_auc_ratio})\n",
    "\n",
    "    # Producing the precision recall curve.\n",
    "    step_kwargs = ({'step': 'post'} if 'step' in signature(plt.fill_between).parameters else {})\n",
    "    ax.step(recall, precision, color='black', alpha=0.2, where='post')\n",
    "    ax.fill_between(recall, precision, alpha=0.7, color='black', **step_kwargs)\n",
    "    ax.axhline(baseline, linestyle=\"--\", color=\"lightgray\")\n",
    "    ax.set_xlabel('Recall')\n",
    "    ax.set_ylabel('Precision')\n",
    "    ax.set_ylim([0.0, 1.05])\n",
    "    ax.set_xlim([0.0, 1.0])\n",
    "    ax.set_title(\"PR {0} (Baseline={1:0.3f})\".format(method, baseline))\n",
    "    \n",
    "fig.set_size_inches(row_width, row_height*math.ceil(num_plots/plots_per_row))\n",
    "fig.tight_layout()\n",
    "fig.show()\n",
    "fig.savefig(os.path.join(OUTPUT_DIR,\"prcurve_mean_classifier.png\"),dpi=400)"
   ]
  },
  {
   "cell_type": "markdown",
   "metadata": {},
   "source": [
    "### 2.11 Predicting biochemical pathway membership based on mean similarity values.\n",
    "This section looks at how well the biochemical pathways that a particular gene is a member of can be predicted based on the average similarity between the vector representationt of the phenotype descriptions for that gene and each of the vector representations for other phenotypes associated with genes that belong to that particular pathway. In calculating the average similarity to other genes from a given biochemical pathway, the gene that is currently being classified is not accounted for, to avoid overestimating the performance by including information about the ground truth during classification. This leads to missing information in the case of biochemical pathways that have only one member. This can be accounted for by only limiting the overall dataset to only include genes that belong to pathways that have atleast two genes mapped to them, and only including those pathways, or by removing the missing values before calculating the performance metrics below."
   ]
  },
  {
   "cell_type": "markdown",
   "metadata": {},
   "source": [
    "### 2.13 KNN classification for groups or pathways\n",
    "Only interested in groups that contain more than one gene, and the genes that map to those groups. This is because for other genes, if we consider them then it will be true that that gene belongs to that group in the target vector, but KNN could never predict this becuase when that gene is held out, nothing could provide a vote for that group, because there are zero genes available to be candidates for the K nearest neighbors. "
   ]
  },
  {
   "cell_type": "code",
   "execution_count": null,
   "metadata": {},
   "outputs": [],
   "source": [
    "valid_group_ids = [group for group,id_list in group_id_to_ids.items() if len(id_list)>1]\n",
    "valid_ids = [i for i in dataset.get_ids() if len(set(valid_group_ids).intersection(set(id_to_group_ids[i])))>0]\n",
    "\n",
    "# Leave one out predictions.\n",
    "pred_dict = defaultdict(lambda: defaultdict(dict))\n",
    "true_dict = defaultdict(lambda: defaultdict(dict))\n",
    "\n",
    "for method in methods:\n",
    "    for i in valid_ids:\n",
    "        ids = [identifier for identifier in valid_ids if identifier!=i]\n",
    "        # Make the labels just the ID's for that gene instead of pathways or groups, transform votes later.\n",
    "        X = [vector_dicts[method][identifier] for identifier in ids]\n",
    "        y = [identifier for identifier in ids]\n",
    "        neigh = KNeighborsClassifier(n_neighbors=5)\n",
    "        neigh.fit(X,y)\n",
    "        probs = neigh.predict_proba([vector_dicts[method][i]])\n",
    "        # The classes are given in lexicographic order from the predict_proba method.\n",
    "        # 1. Create a 2D binary array with a row for each group and a column for each gene.\n",
    "        # 2. Multiply each row of that 2D binary array with the 1D array that has the probability for each gene.\n",
    "        # 3. Find the sum of each row to get the score specific to each group for this particular gene.\n",
    "        # 4. Append to the arrays for the true binary classifications and the predictions for each group. \n",
    "        ids.sort()\n",
    "        binary_arr = np.array([[(group_id in id_to_group_ids[x])*1 for x in ids] for group_id in valid_group_ids]) \n",
    "        group_probs_by_gene = probs*binary_arr\n",
    "        group_probs = np.sum(group_probs_by_gene, axis=1)\n",
    "        for group_index,group_id in enumerate(valid_group_ids):\n",
    "            pred_dict[method][i][group_id] = group_probs[group_index]\n",
    "            true_dict[method][i][group_id] = (i in group_id_to_ids[group_id])*1"
   ]
  },
  {
   "cell_type": "code",
   "execution_count": null,
   "metadata": {},
   "outputs": [],
   "source": [
    "num_plots, plots_per_row, row_width, row_height = (len(methods), 4, 14, 3)\n",
    "fig,axs = plt.subplots(math.ceil(num_plots/plots_per_row), plots_per_row, squeeze=False)\n",
    "for method,ax in zip(methods, axs.flatten()):\n",
    "    \n",
    "    # Obtaining the values and metrics.\n",
    "    y_true = pd.DataFrame(true_dict[method]).as_matrix().flatten()\n",
    "    y_prob = pd.DataFrame(pred_dict[method]).as_matrix().flatten()\n",
    "    n_pos, n_neg = Counter(y_true)[1], Counter(y_true)[0]\n",
    "    precision, recall, thresholds = precision_recall_curve(y_true, y_prob)\n",
    "    baseline = Counter(y_true)[1]/len(y_true) \n",
    "    area = auc(recall, precision)\n",
    "    auc_to_baseline_auc_ratio = area/baseline\n",
    "    TABLE[method].update({(TAG,\"knn_auc\"):area, (TAG,\"knn_baseline\"):baseline, (TAG,\"knn_ratio\"):auc_to_baseline_auc_ratio})\n",
    "\n",
    "    # Producing the precision recall curve.\n",
    "    step_kwargs = ({'step': 'post'} if 'step' in signature(plt.fill_between).parameters else {})\n",
    "    ax.step(recall, precision, color='black', alpha=0.2, where='post')\n",
    "    ax.fill_between(recall, precision, alpha=0.7, color='black', **step_kwargs)\n",
    "    ax.axhline(baseline, linestyle=\"--\", color=\"lightgray\")\n",
    "    ax.set_xlabel('Recall')\n",
    "    ax.set_ylabel('Precision')\n",
    "    ax.set_ylim([0.0, 1.05])\n",
    "    ax.set_xlim([0.0, 1.0])\n",
    "    ax.set_title(\"PR {0} (Baseline={1:0.3f})\".format(method, baseline))\n",
    "    \n",
    "fig.set_size_inches(row_width, row_height*math.ceil(num_plots/plots_per_row))\n",
    "fig.tight_layout()\n",
    "fig.show()\n",
    "fig.savefig(os.path.join(OUTPUT_DIR,\"prcurve_knn_classifier.png\"))"
   ]
  },
  {
   "cell_type": "markdown",
   "metadata": {},
   "source": [
    "### 2.12 Summarizing the results for this notebook"
   ]
  },
  {
   "cell_type": "code",
   "execution_count": null,
   "metadata": {},
   "outputs": [],
   "source": [
    "results = pd.DataFrame(TABLE).transpose()\n",
    "results.to_csv(os.path.join(OUTPUT_DIR,\"full_table.csv\"))\n",
    "results"
   ]
  }
 ],
 "metadata": {
  "kernelspec": {
   "display_name": "Python 3",
   "language": "python",
   "name": "python3"
  },
  "language_info": {
   "codemirror_mode": {
    "name": "ipython",
    "version": 3
   },
   "file_extension": ".py",
   "mimetype": "text/x-python",
   "name": "python",
   "nbconvert_exporter": "python",
   "pygments_lexer": "ipython3",
   "version": "3.6.7"
  }
 },
 "nbformat": 4,
 "nbformat_minor": 2
}
