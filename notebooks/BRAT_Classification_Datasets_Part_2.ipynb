{
 "cells": [
  {
   "cell_type": "code",
   "execution_count": 2,
   "metadata": {},
   "outputs": [],
   "source": [
    "from nltk.tokenize import sent_tokenize\n",
    "import pandas as pd\n",
    "import sys\n",
    "import os\n",
    "import time\n",
    "sys.path.append(\"../../oats\")\n",
    "from oats.pubmed.query import search, fetch_details\n",
    "from oats.utils.utils import save_to_pickle, load_from_pickle"
   ]
  },
  {
   "cell_type": "code",
   "execution_count": null,
   "metadata": {},
   "outputs": [],
   "source": []
  },
  {
   "cell_type": "code",
   "execution_count": null,
   "metadata": {},
   "outputs": [],
   "source": [
    "# Map the annotations made using brat back to the full sentences.\n",
    "pathh = \"../data/corpus_related_files/brat_annotations_ath_corpus\"\n",
    "\n",
    "#annotations_path = os.path.join(path,\"sentences.ann\")\n",
    "sentences = load_from_pickle(os.path.join(pathh,\"sentences.pickle\"))\n",
    "\n",
    "\n",
    "\n",
    "pubmed_ids = load_from_pickle(os.path.join(pathh,\"pubmed_ids.pickle\"))\n",
    "deliminated_sentences = load_from_pickle(os.path.join(pathh,\"delimited_sentences.pickle\"))\n",
    "#header = [\"num\",\"tag\",\"start\",\"end\",\"first_word\"]\n",
    "#annotations = pd.read_table(annotations_path, names=header, delim_whitespace=True)\n",
    "#get_sentence_index = lambda x: len(x.split(\"[DELIM]\"))-1\n",
    "#indices = [get_sentence_index(deliminated_sentences[:i]) for i in annotations[\"start\"].values]\n",
    "\n",
    "\n",
    "print(deliminated_sentences)"
   ]
  },
  {
   "cell_type": "code",
   "execution_count": null,
   "metadata": {},
   "outputs": [],
   "source": [
    "# Create a pandas dataframe with all the annotations and the PubMed IDs.\n",
    "dataset_path = \"~/Desktop/arabidopsis_sentence_dataset.csv\"\n",
    "tags = [(i in indices)*1 for i in range(len(sentences))]\n",
    "df = pd.DataFrame({\"pmid\":pubmed_ids,\"sentence\":sentences,\"tag\":tags})\n",
    "df.sort_values(by=[\"tag\",\"pmid\"], inplace=True, ascending=False)\n",
    "df.to_csv(dataset_path, index=False)\n",
    "print(df.head(20))"
   ]
  }
 ],
 "metadata": {
  "kernelspec": {
   "display_name": "Python 3",
   "language": "python",
   "name": "python3"
  },
  "language_info": {
   "codemirror_mode": {
    "name": "ipython",
    "version": 3
   },
   "file_extension": ".py",
   "mimetype": "text/x-python",
   "name": "python",
   "nbconvert_exporter": "python",
   "pygments_lexer": "ipython3",
   "version": "3.6.7"
  }
 },
 "nbformat": 4,
 "nbformat_minor": 2
}
