{
 "cells": [
  {
   "cell_type": "code",
   "execution_count": 6,
   "metadata": {},
   "outputs": [],
   "source": [
    "import matplotlib.pyplot as plt\n",
    "import matplotlib as mpl\n",
    "import seaborn as sns\n",
    "import pandas as pd\n",
    "import numpy as np\n",
    "import time\n",
    "import math\n",
    "import sys\n",
    "import gensim\n",
    "import os\n",
    "import warnings\n",
    "import itertools\n",
    "from collections import Counter\n",
    "from inspect import signature\n",
    "from scipy.stats import ks_2samp\n",
    "from sklearn.metrics import precision_recall_curve, f1_score, auc\n",
    "from collections import defaultdict\n",
    "\n",
    "sys.path.append(\"../../oats\")\n",
    "from oats.pubmed.querying import search, fetch_details\n",
    "from oats.utils.utils import save_to_pickle, load_from_pickle, merge_list_dicts, flatten\n",
    "from oats.datasets.dataset import Dataset\n",
    "from oats.datasets.groupings import Groupings\n",
    "from oats.datasets.string import get_stringdb_information\n",
    "from oats.annotation.ontology import Ontology\n",
    "from oats.annotation.annotation import write_annotations_to_tsv_file, read_annotations_from_tsv_file\n",
    "from oats.graphs.pairwise import pairwise_edgelist_doc2vec, pairwise_edgelist_counting\n",
    "from oats.graphs.pairwise import pairwise_edgelist_doc2vec_twogroup, pairwise_edgelist_counting_twogroup\n",
    "from oats.graphs.pairwise import pairwise_edgelist_annotations, merge_edgelists, subset_edgelist_with_ids\n",
    "from oats.graphs.pairwise import remove_self_loops\n",
    "from oats.objectives.functions import balance_classes\n",
    "from oats.graphs.indexed import IndexedGraph\n",
    "\n",
    "mpl.rcParams[\"figure.dpi\"] = 200\n",
    "warnings.simplefilter('ignore')\n",
    "pd.set_option('display.max_rows', 500)\n",
    "pd.set_option('display.max_columns', 500)\n",
    "pd.set_option('display.width', 1000)"
   ]
  },
  {
   "cell_type": "code",
   "execution_count": 2,
   "metadata": {},
   "outputs": [
    {
     "name": "stdout",
     "output_type": "stream",
     "text": [
      "Number of rows in the dataframe: 20\n",
      "Number of unique IDs:            20\n",
      "Number of unique descriptions:   18\n",
      "Number of unique gene name sets: 20\n",
      "Number of species represented:   1\n"
     ]
    }
   ],
   "source": [
    "# Reading in the entire dataset, subsetting for Arabidosis and all annotation types.\n",
    "dataset = load_from_pickle(\"../data/pickles/full_dataset.pickle\")\n",
    "dataset.filter_by_species(\"ath\")\n",
    "dataset.collapse_by_all_gene_names()\n",
    "dataset.filter_has_description()\n",
    "dataset.filter_has_annotation()\n",
    "dataset.filter_random_k(k=20)\n",
    "dataset.describe()"
   ]
  },
  {
   "cell_type": "code",
   "execution_count": 3,
   "metadata": {},
   "outputs": [],
   "source": [
    "genes = dataset.get_gene_dictionary()\n",
    "id_to_abstract_text = {}\n",
    "for identifier,gene_obj in genes.items():\n",
    "    limit = 1\n",
    "    query = \"arabidopsis AND ({})\".format(\" OR \".join(gene_obj.names))\n",
    "    results = search(query, limit)\n",
    "    id_list = results['IdList']\n",
    "    if len(id_list) > 0:\n",
    "        papers = fetch_details(id_list)\n",
    "        for i, paper in enumerate(papers['PubmedArticle']): \n",
    "            abstract_text = paper['MedlineCitation']['Article']['Abstract'][\"AbstractText\"][0]\n",
    "            id_to_abstract_text[identifier] = abstract_text"
   ]
  },
  {
   "cell_type": "code",
   "execution_count": 9,
   "metadata": {},
   "outputs": [
    {
     "name": "stdout",
     "output_type": "stream",
     "text": [
      "   from     to       d2v       bow\n",
      "0   522    522  0.561337  0.524136\n",
      "1   522  27919  0.489754  0.654781\n",
      "2   522  27899  0.591065  0.594711\n",
      "3   522  25184  0.561430  0.729682\n",
      "4   522  24198  0.648393  0.674352\n",
      "5   522   9105  0.562026  0.573750\n",
      "6   522   1240  0.572151  0.617332\n",
      "7   522   1322  0.640348  0.621515\n",
      "196\n",
      "[0.5613372  0.4012332  0.38893368 0.42769828 0.43321684 0.52474205\n",
      " 0.47727839 0.45785402 0.42360762 0.50984089 0.40095927 0.52506476\n",
      " 0.46756784 0.54131532]\n"
     ]
    }
   ],
   "source": [
    "doc2vec_model_filename = \"../gensim/enwiki_dbow/doc2vec.bin\"\n",
    "doc2vec_model = gensim.models.Doc2Vec.load(doc2vec_model_filename)\n",
    "\n",
    "\n",
    "descriptions = dataset.get_description_dictionary()\n",
    "descriptions = {k:v for k,v in descriptions.items() if k in id_to_abstract_text}\n",
    "abstracts = id_to_abstract_text\n",
    "    \n",
    "name_to_df_mapping = {}\n",
    "name_to_df_mapping[\"d2v\"] = pairwise_edgelist_doc2vec_twogroup(doc2vec_model, descriptions, abstracts, \"cosine\")\n",
    "name_to_df_mapping[\"bow\"] = pairwise_edgelist_counting_twogroup(descriptions, abstracts, \"cosine\", binary=False) \n",
    "df = merge_edgelists(name_to_df_mapping, default_value=0.000)\n",
    "print(df.head(8))\n",
    "print(df.shape[0])\n",
    "\n",
    "x = df[df[\"from\"]==df[\"to\"]][\"d2v\"].values\n",
    "print(x)\n",
    "\n",
    "\n",
    "\n",
    "\n",
    "\n"
   ]
  },
  {
   "cell_type": "code",
   "execution_count": 5,
   "metadata": {},
   "outputs": [
    {
     "data": {
      "text/plain": [
       "'\\n# Getting up to 10 articles about maize\\nlimit = 1\\nquery = \"\"\\nresults = search(\"maize AND arabidopsis\", limit=4)\\nid_list = results[\\'IdList\\']\\npapers = fetch_details(id_list)\\n\\nfor i, paper in enumerate(papers[\\'PubmedArticle\\']): \\n    print(\"\\n\\nFound Paper #{}\".format(i+1))\\n    print(paper[\\'MedlineCitation\\'][\\'Article\\'][\\'ArticleTitle\\'])\\n    print(paper[\"MedlineCitation\"][\"PMID\"])\\n    print(paper[\\'MedlineCitation\\'][\\'Article\\'][\\'Abstract\\'][\"AbstractText\"][0])\\n'"
      ]
     },
     "execution_count": 5,
     "metadata": {},
     "output_type": "execute_result"
    }
   ],
   "source": [
    "\n",
    "\n",
    "\n",
    "\"\"\"\n",
    "# Getting up to 10 articles about maize\n",
    "limit = 1\n",
    "query = \"\"\n",
    "results = search(\"maize AND arabidopsis\", limit=4)\n",
    "id_list = results['IdList']\n",
    "papers = fetch_details(id_list)\n",
    "\n",
    "for i, paper in enumerate(papers['PubmedArticle']): \n",
    "    print(\"\\n\\nFound Paper #{}\".format(i+1))\n",
    "    print(paper['MedlineCitation']['Article']['ArticleTitle'])\n",
    "    print(paper[\"MedlineCitation\"][\"PMID\"])\n",
    "    print(paper['MedlineCitation']['Article']['Abstract'][\"AbstractText\"][0])\n",
    "\"\"\""
   ]
  },
  {
   "cell_type": "code",
   "execution_count": null,
   "metadata": {},
   "outputs": [],
   "source": [
    "# Reading in and generating orthologs dictionary from panther dataset for plant species.\n",
    "# Need to figure out if reciprocals are given in this file.\n",
    "df = pd.read_table(\"/Users/irbraun/Desktop/orthologs.txt\")\n",
    "df = df.head(100)\n",
    "for row in df.itertuples():\n",
    "    gene1_list = row[1].split(\"|\")\n",
    "    gene2_list = row[2].split(\"|\")\n",
    "    print(gene1_list)\n",
    "    print(gene2_list)"
   ]
  },
  {
   "cell_type": "code",
   "execution_count": null,
   "metadata": {},
   "outputs": [],
   "source": []
  }
 ],
 "metadata": {
  "kernelspec": {
   "display_name": "Python 3",
   "language": "python",
   "name": "python3"
  },
  "language_info": {
   "codemirror_mode": {
    "name": "ipython",
    "version": 3
   },
   "file_extension": ".py",
   "mimetype": "text/x-python",
   "name": "python",
   "nbconvert_exporter": "python",
   "pygments_lexer": "ipython3",
   "version": "3.6.7"
  }
 },
 "nbformat": 4,
 "nbformat_minor": 2
}
