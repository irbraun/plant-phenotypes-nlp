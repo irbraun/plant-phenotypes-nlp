{
 "cells": [
  {
   "cell_type": "code",
   "execution_count": 1,
   "metadata": {},
   "outputs": [
    {
     "name": "stderr",
     "output_type": "stream",
     "text": [
      "[nltk_data] Downloading package punkt to /Users/irbraun/nltk_data...\n",
      "[nltk_data]   Package punkt is already up-to-date!\n",
      "[nltk_data] Downloading package brown to /Users/irbraun/nltk_data...\n",
      "[nltk_data]   Package brown is already up-to-date!\n"
     ]
    },
    {
     "data": {
      "text/plain": [
       "True"
      ]
     },
     "execution_count": 1,
     "metadata": {},
     "output_type": "execute_result"
    }
   ],
   "source": [
    "import datetime\n",
    "import nltk\n",
    "import matplotlib.pyplot as plt\n",
    "import matplotlib as mpl\n",
    "import seaborn as sns\n",
    "import pandas as pd\n",
    "import numpy as np\n",
    "import time\n",
    "import math\n",
    "import sys\n",
    "import gensim\n",
    "import os\n",
    "import warnings\n",
    "import itertools\n",
    "from collections import Counter, defaultdict\n",
    "from inspect import signature\n",
    "from scipy.stats import ks_2samp\n",
    "from sklearn.metrics import precision_recall_curve, f1_score, auc\n",
    "from sklearn.model_selection import train_test_split, KFold\n",
    "from scipy import spatial\n",
    "\n",
    "sys.path.append(\"../../oats\")\n",
    "from oats.utils.utils import save_to_pickle, load_from_pickle, merge_list_dicts, flatten\n",
    "from oats.datasets.dataset import Dataset\n",
    "from oats.datasets.groupings import Groupings\n",
    "from oats.annotation.ontology import Ontology\n",
    "from oats.datasets.string import String\n",
    "from oats.datasets.known import Known\n",
    "from oats.annotation.annotation import annotate_using_rabin_karp\n",
    "from oats.graphs.pairwise import pairwise_doc2vec_onegroup, pairwise_counting_onegroup, pairwise_annotations_onegroup\n",
    "from oats.graphs.pairwise import merge_edgelists, subset_edgelist_with_ids, pairwise_word2vec_onegroup\n",
    "from oats.graphs.pairwise import remove_self_loops\n",
    "from oats.graphs.indexed import IndexedGraph\n",
    "from oats.graphs.models import train_logistic_regression_model, apply_logistic_regression_model\n",
    "from oats.graphs.models import train_random_forest_model, apply_random_forest_model\n",
    "from oats.pubmed.querying import search, fetch_details\n",
    "\n",
    "mpl.rcParams[\"figure.dpi\"] = 400\n",
    "warnings.simplefilter('ignore')\n",
    "pd.set_option('display.max_rows', 500)\n",
    "pd.set_option('display.max_columns', 500)\n",
    "pd.set_option('display.width', 1000)\n",
    "nltk.download('punkt')\n",
    "nltk.download('brown')"
   ]
  },
  {
   "cell_type": "code",
   "execution_count": 13,
   "metadata": {},
   "outputs": [
    {
     "name": "stdout",
     "output_type": "stream",
     "text": [
      "997\n",
      "in\n",
      "arabidopsis\n",
      "and\n",
      "plants\n",
      "we\n",
      "expression\n",
      "plant\n",
      "genes\n",
      "that\n",
      "of\n",
      "protein\n",
      "sup\n",
      "stress\n",
      "cell\n",
      "mutant\n",
      "growth\n",
      "sub\n",
      "gene\n",
      "root\n",
      "proteins\n",
      "mutants\n",
      "response\n",
      "development\n",
      "thaliana\n",
      "function\n",
      "results\n",
      "role\n",
      "type\n",
      "these\n",
      "induced\n",
      "transcription\n",
      "activity\n",
      "analysis\n",
      "levels\n",
      "showed\n",
      "signaling\n",
      "study\n",
      "involved\n",
      "cells\n",
      "wild\n"
     ]
    }
   ],
   "source": [
    "from oats.nlp.vocabulary import vocabulary_by_feature_selection\n",
    "from nltk.corpus import brown\n",
    "\n",
    "# Get a sampling of text that makes up the background.\n",
    "background_text = \" \".join(brown.words(categories=['news',\"editorial\",\"reviews\",\"lore\"]))\n",
    "\n",
    "\n",
    "# Get a sampling of text that is composed of the interesting information.\n",
    "interesting_texts = []\n",
    "limit = 1000\n",
    "query = \"arabidopsis AND phenotype\"\n",
    "results = search(query, limit)\n",
    "id_list = results['IdList']\n",
    "if len(id_list) > 0:\n",
    "    papers = fetch_details(id_list)\n",
    "    for i, paper in enumerate(papers['PubmedArticle']):\n",
    "        try:\n",
    "            abstract_text = paper['MedlineCitation']['Article']['Abstract'][\"AbstractText\"][0]\n",
    "            interesting_texts.append(abstract_text)\n",
    "        except KeyError:\n",
    "            continue\n",
    "    print(len(interesting_texts))\n",
    "interesting_text = \" \".join(interesting_texts)\n",
    "\n",
    "\n",
    "\n",
    "vocab = vocabulary_by_feature_selection(interesting_text, background_text, max_features=40)\n",
    "for v in vocab.keys():\n",
    "    print(v)"
   ]
  },
  {
   "cell_type": "code",
   "execution_count": 3,
   "metadata": {},
   "outputs": [
    {
     "name": "stdout",
     "output_type": "stream",
     "text": [
      "Number of rows in the dataframe: 20\n",
      "Number of unique IDs:            20\n",
      "Number of unique descriptions:   18\n",
      "Number of unique gene name sets: 20\n",
      "Number of species represented:   1\n"
     ]
    }
   ],
   "source": [
    "# Reading in the entire dataset, subsetting for Arabidosis and all annotation types.\n",
    "dataset = load_from_pickle(\"../data/pickles/full_dataset.pickle\")\n",
    "dataset.filter_by_species(\"ath\")\n",
    "dataset.collapse_by_all_gene_names()\n",
    "dataset.filter_has_description()\n",
    "dataset.filter_has_annotation()\n",
    "dataset.filter_random_k(20)\n",
    "dataset.describe()"
   ]
  },
  {
   "cell_type": "code",
   "execution_count": 4,
   "metadata": {},
   "outputs": [],
   "source": [
    "genes = dataset.get_gene_dictionary()\n",
    "id_to_abstract_text = {}\n",
    "for identifier,gene_obj in genes.items():\n",
    "    limit = 1\n",
    "    query = \"arabidopsis AND ({})\".format(\" OR \".join(gene_obj.names))\n",
    "    results = search(query, limit)\n",
    "    id_list = results['IdList']\n",
    "    if len(id_list) > 0:\n",
    "        papers = fetch_details(id_list)\n",
    "        for i, paper in enumerate(papers['PubmedArticle']): \n",
    "            abstract_text = paper['MedlineCitation']['Article']['Abstract'][\"AbstractText\"][0]\n",
    "            id_to_abstract_text[identifier] = abstract_text"
   ]
  },
  {
   "cell_type": "code",
   "execution_count": 5,
   "metadata": {},
   "outputs": [
    {
     "name": "stdout",
     "output_type": "stream",
     "text": [
      "As part of our analysis of branched-chain amino acid metabolism in plants, we analyzed the function of Arabidopsis thaliana BRANCHED-CHAIN AMINOTRANSFERASE4 (BCAT4). Recombinant BCAT4 showed high efficiency with Met and its derivatives and the corresponding 2-oxo acids, suggesting its participation in the chain elongation pathway of Met-derived glucosinolate biosynthesis. This was substantiated by in vivo analysis of two BCAT4 T-DNA knockout mutants, in which Met-derived aliphatic glucosinolate accumulation is reduced by approximately 50%. The increase in free Met and S-methylmethionine levels in these mutants, together with in vitro substrate specificity, strongly implicate BCAT4 in catalysis of the initial deamination of Met to 4-methylthio-2-oxobutyrate. BCAT4 transcription is induced by wounding and is predominantly observed in the phloem. BCAT4 transcript accumulation also follows a diurnal rhythm, and green fluorescent protein tagging experiments and subcellular protein fractions show that BCAT4 is located in the cytosol. The assignment of BCAT4 to the Met chain elongation pathway documents the close evolutionary relationship of this pathway to Leu biosynthesis. In addition to BCAT4, the enzyme methylthioalkylmalate synthase 1 has been recruited for the Met chain elongation pathway from a gene family involved in Leu formation. This suggests that the two pathways have a common evolutionary origin.\n"
     ]
    }
   ],
   "source": [
    "print(id_to_abstract_text[list(id_to_abstract_text.keys())[0]])"
   ]
  },
  {
   "cell_type": "code",
   "execution_count": 6,
   "metadata": {},
   "outputs": [],
   "source": [
    "from oats.nlp.search import check_text_for_patterns_rabin_karp\n",
    "from nltk.tokenize import sent_tokenize\n",
    "descriptions = {}\n",
    "for identifier,abstract_text in id_to_abstract_text.items():\n",
    "    sentences = sent_tokenize(abstract_text)\n",
    "    sentences = [x for x in sentences if check_text_for_patterns_rabin_karp(genes[identifier].names, x)]\n",
    "    relevant_text = \" \".join(sentences)\n",
    "    descriptions[identifier] = relevant_text"
   ]
  },
  {
   "cell_type": "code",
   "execution_count": 7,
   "metadata": {},
   "outputs": [
    {
     "name": "stdout",
     "output_type": "stream",
     "text": [
      "As part of our analysis of branched-chain amino acid metabolism in plants, we analyzed the function of Arabidopsis thaliana BRANCHED-CHAIN AMINOTRANSFERASE4 (BCAT4). Recombinant BCAT4 showed high efficiency with Met and its derivatives and the corresponding 2-oxo acids, suggesting its participation in the chain elongation pathway of Met-derived glucosinolate biosynthesis. This was substantiated by in vivo analysis of two BCAT4 T-DNA knockout mutants, in which Met-derived aliphatic glucosinolate accumulation is reduced by approximately 50%. The increase in free Met and S-methylmethionine levels in these mutants, together with in vitro substrate specificity, strongly implicate BCAT4 in catalysis of the initial deamination of Met to 4-methylthio-2-oxobutyrate. BCAT4 transcription is induced by wounding and is predominantly observed in the phloem. BCAT4 transcript accumulation also follows a diurnal rhythm, and green fluorescent protein tagging experiments and subcellular protein fractions show that BCAT4 is located in the cytosol. The assignment of BCAT4 to the Met chain elongation pathway documents the close evolutionary relationship of this pathway to Leu biosynthesis. In addition to BCAT4, the enzyme methylthioalkylmalate synthase 1 has been recruited for the Met chain elongation pathway from a gene family involved in Leu formation.orange orange orange orange orange orange orange orange orange orange orange orange orange orange orange\n",
      "\n",
      "We show that the Agrobacterium F-box effector VirF, which is exported into the host cell, recognizes an Arabidopsis transcription factor VFP4 and targets it for proteasomal degradation. We hypothesize that VFP4 resists Agrobacterium infection and that the bacterium utilizes its VirF effector to degrade VFP4 and thereby mitigate the VFP4-based defense. Indeed, loss-of-function mutations in VFP4 resulted in differential expression of numerous biotic stress-response genes, suggesting that one of the functions of VFP4 is to control a spectrum of plant defenses, including those against Agrobacterium tumefaciens. ATL31 was transcriptionally repressed in VFP4 loss-of-function plants and activated in VFP4 gain-of-function plants. Gain-of-function lines of VFP4 and ATL31 exhibited recalcitrance to Agrobacterium tumorigenicity, suggesting that A. tumefaciens may utilize the host ubiquitin/proteasome system to destabilize transcriptional regulators of the host disease response machinery.\n",
      "[ 4.85436893  9.70873786  4.85436893  4.85436893  0.          4.85436893\n",
      "  0.          0.          4.85436893  4.85436893  4.85436893  4.85436893\n",
      "  0.          9.70873786  4.85436893 29.12621359  4.85436893  4.85436893\n",
      "  4.85436893  4.85436893  0.          0.          0.         43.68932039\n",
      "  4.85436893  9.70873786  0.          0.          9.70873786 14.5631068\n",
      "  4.85436893  0.         24.27184466  4.85436893  0.          4.85436893\n",
      "  4.85436893  4.85436893  0.          0.          0.          0.\n",
      "  4.85436893  9.70873786  0.          0.          0.          4.85436893\n",
      "  4.85436893  4.85436893  0.          4.85436893 14.5631068   4.85436893\n",
      "  4.85436893  0.          4.85436893  0.          0.          0.\n",
      "  4.85436893  4.85436893  4.85436893  4.85436893  4.85436893  4.85436893\n",
      "  4.85436893  4.85436893  4.85436893  0.          0.          4.85436893\n",
      "  0.          9.70873786  4.85436893  4.85436893  4.85436893  0.\n",
      "  0.          4.85436893 58.25242718  0.          4.85436893  0.\n",
      "  4.85436893  0.          4.85436893  0.          4.85436893 19.41747573\n",
      "  0.          9.70873786  4.85436893  9.70873786  4.85436893  0.\n",
      "  4.85436893  0.          0.          0.         33.98058252  4.85436893\n",
      "  4.85436893  4.85436893  4.85436893  0.          9.70873786  0.\n",
      "  0.          4.85436893 43.68932039  0.         72.81553398  4.85436893\n",
      "  4.85436893  4.85436893  4.85436893  4.85436893 19.41747573  4.85436893\n",
      "  0.          4.85436893  4.85436893  0.          0.          9.70873786\n",
      "  0.          0.          4.85436893  4.85436893  4.85436893  0.\n",
      "  4.85436893  0.          0.          0.          0.          4.85436893\n",
      "  4.85436893  4.85436893  4.85436893  0.          0.          4.85436893\n",
      "  4.85436893  4.85436893  4.85436893  4.85436893  4.85436893  0.\n",
      "  4.85436893  0.          4.85436893  4.85436893 58.25242718  0.\n",
      "  4.85436893  9.70873786  0.         19.41747573  4.85436893  4.85436893\n",
      "  4.85436893  0.          0.          0.          0.          4.85436893\n",
      "  0.          0.          0.          0.          0.          4.85436893\n",
      "  4.85436893  4.85436893  4.85436893  4.85436893  9.70873786  4.85436893]\n",
      "asdf\n",
      "[ 0.          0.          0.          0.          7.14285714  0.\n",
      "  7.14285714 28.57142857  0.          0.          0.          0.\n",
      "  7.14285714  0.          0.         35.71428571  0.          7.14285714\n",
      "  0.          0.         14.28571429  7.14285714  7.14285714  0.\n",
      "  0.          0.          7.14285714  7.14285714  0.          0.\n",
      "  0.          7.14285714  0.          0.          7.14285714  0.\n",
      "  0.          0.          7.14285714  7.14285714  7.14285714  7.14285714\n",
      "  0.          0.          7.14285714  7.14285714  7.14285714  0.\n",
      "  0.          0.         14.28571429  0.          0.          0.\n",
      "  0.          7.14285714  0.          7.14285714  7.14285714  7.14285714\n",
      "  0.          0.          0.          7.14285714  0.          0.\n",
      "  0.          0.         28.57142857  7.14285714 14.28571429  0.\n",
      "  7.14285714  0.          0.          0.          0.         21.42857143\n",
      "  7.14285714  0.         28.57142857  7.14285714  0.          7.14285714\n",
      "  0.          7.14285714  0.          7.14285714  0.         14.28571429\n",
      "  7.14285714  7.14285714  0.          0.          0.          7.14285714\n",
      "  0.         14.28571429  7.14285714  7.14285714  0.          0.\n",
      "  0.          0.          0.          7.14285714  0.          7.14285714\n",
      "  7.14285714  0.         71.42857143  7.14285714  0.          0.\n",
      "  0.          0.          0.          0.          0.          0.\n",
      "  7.14285714 14.28571429  0.          7.14285714  7.14285714  0.\n",
      "  7.14285714  7.14285714  0.          0.          0.          7.14285714\n",
      "  0.          7.14285714  7.14285714 14.28571429  7.14285714  0.\n",
      "  7.14285714  0.          0.          7.14285714  7.14285714  0.\n",
      "  0.          0.          0.         14.28571429  0.          7.14285714\n",
      "  0.          7.14285714  0.         35.71428571 50.          7.14285714\n",
      "  0.          0.          7.14285714 28.57142857  0.          0.\n",
      "  7.14285714  7.14285714  7.14285714 14.28571429  7.14285714  0.\n",
      "  7.14285714  7.14285714  7.14285714 64.28571429 14.28571429  0.\n",
      "  0.          7.14285714 14.28571429  7.14285714  0.          0.        ]\n",
      "['orange' 'bcat4' 'met' 'in' 'chain' 'pathway' 'by' 'elongation'\n",
      " 'branched' 'biosynthesis']\n"
     ]
    }
   ],
   "source": [
    "text1 = descriptions[522]\n",
    "text2 = descriptions[24198]\n",
    "text1 = text1 + \"orange orange orange orange orange orange orange orange orange orange orange orange orange orange orange\"\n",
    "print(text1)\n",
    "print()\n",
    "print(text2)\n",
    "\n",
    "from sklearn.feature_extraction.text import CountVectorizer\n",
    "vectorizer = CountVectorizer(input='content')\n",
    "dtm = vectorizer.fit_transform([text1,text2])\n",
    "\n",
    "vocab = np.array(vectorizer.get_feature_names())\n",
    "dtm = dtm.toarray()\n",
    "rates = 1000 * dtm / np.sum(dtm, axis=1, keepdims=True)\n",
    "print(rates[0])\n",
    "print(\"asdf\")\n",
    "print(rates[1])\n",
    "keyness = rates[0]-rates[1]\n",
    "ranking = np.argsort(keyness)[::-1]\n",
    "print(vocab[ranking][0:10])\n",
    "\n",
    "\n",
    "\n",
    "\n",
    "\n",
    "\n",
    "\n",
    "\n",
    "\n",
    "\n",
    "\n",
    "from sklearn.feature_selection import chi2\n",
    "labels = [\"A\",\"B\"]\n",
    "\n",
    "\n",
    "# chi2 returns two arrays, the chi2 test statistic and an\n",
    "# array of \"p-values\", which we'll ignore\n",
    "\n",
    "#keyness, _ = chi2(dtm, labels)\n",
    "#ranking = np.argsort(keyness)[::-1]\n",
    "#print(vocab[ranking][0:10])\n",
    "\n"
   ]
  },
  {
   "cell_type": "code",
   "execution_count": null,
   "metadata": {},
   "outputs": [],
   "source": []
  },
  {
   "cell_type": "code",
   "execution_count": 8,
   "metadata": {},
   "outputs": [
    {
     "ename": "NameError",
     "evalue": "name 'pairwise_edgelist_doc2vec_twogroup' is not defined",
     "output_type": "error",
     "traceback": [
      "\u001b[0;31m---------------------------------------------------------------------------\u001b[0m",
      "\u001b[0;31mNameError\u001b[0m                                 Traceback (most recent call last)",
      "\u001b[0;32m<ipython-input-8-3f1073f1c4b2>\u001b[0m in \u001b[0;36m<module>\u001b[0;34m\u001b[0m\n\u001b[1;32m      8\u001b[0m \u001b[0;34m\u001b[0m\u001b[0m\n\u001b[1;32m      9\u001b[0m \u001b[0mname_to_df_mapping\u001b[0m \u001b[0;34m=\u001b[0m \u001b[0;34m{\u001b[0m\u001b[0;34m}\u001b[0m\u001b[0;34m\u001b[0m\u001b[0;34m\u001b[0m\u001b[0m\n\u001b[0;32m---> 10\u001b[0;31m \u001b[0mname_to_df_mapping\u001b[0m\u001b[0;34m[\u001b[0m\u001b[0;34m\"d2v\"\u001b[0m\u001b[0;34m]\u001b[0m \u001b[0;34m=\u001b[0m \u001b[0mpairwise_edgelist_doc2vec_twogroup\u001b[0m\u001b[0;34m(\u001b[0m\u001b[0mdoc2vec_model\u001b[0m\u001b[0;34m,\u001b[0m \u001b[0mdescriptions\u001b[0m\u001b[0;34m,\u001b[0m \u001b[0mabstracts\u001b[0m\u001b[0;34m,\u001b[0m \u001b[0;34m\"cosine\"\u001b[0m\u001b[0;34m)\u001b[0m\u001b[0;34m\u001b[0m\u001b[0;34m\u001b[0m\u001b[0m\n\u001b[0m\u001b[1;32m     11\u001b[0m \u001b[0mname_to_df_mapping\u001b[0m\u001b[0;34m[\u001b[0m\u001b[0;34m\"bow\"\u001b[0m\u001b[0;34m]\u001b[0m \u001b[0;34m=\u001b[0m \u001b[0mpairwise_edgelist_counting_twogroup\u001b[0m\u001b[0;34m(\u001b[0m\u001b[0mdescriptions\u001b[0m\u001b[0;34m,\u001b[0m \u001b[0mabstracts\u001b[0m\u001b[0;34m,\u001b[0m \u001b[0;34m\"cosine\"\u001b[0m\u001b[0;34m,\u001b[0m \u001b[0mbinary\u001b[0m\u001b[0;34m=\u001b[0m\u001b[0;32mFalse\u001b[0m\u001b[0;34m)\u001b[0m\u001b[0;34m\u001b[0m\u001b[0;34m\u001b[0m\u001b[0m\n\u001b[1;32m     12\u001b[0m \u001b[0mdf\u001b[0m \u001b[0;34m=\u001b[0m \u001b[0mmerge_edgelists\u001b[0m\u001b[0;34m(\u001b[0m\u001b[0mname_to_df_mapping\u001b[0m\u001b[0;34m,\u001b[0m \u001b[0mdefault_value\u001b[0m\u001b[0;34m=\u001b[0m\u001b[0;36m0.000\u001b[0m\u001b[0;34m)\u001b[0m\u001b[0;34m\u001b[0m\u001b[0;34m\u001b[0m\u001b[0m\n",
      "\u001b[0;31mNameError\u001b[0m: name 'pairwise_edgelist_doc2vec_twogroup' is not defined"
     ]
    }
   ],
   "source": [
    "doc2vec_model_filename = \"../gensim/enwiki_dbow/doc2vec.bin\"\n",
    "doc2vec_model = gensim.models.Doc2Vec.load(doc2vec_model_filename)\n",
    "\n",
    "\n",
    "descriptions = dataset.get_description_dictionary()\n",
    "descriptions = {k:v for k,v in descriptions.items() if k in id_to_abstract_text}\n",
    "abstracts = id_to_abstract_text\n",
    "    \n",
    "name_to_df_mapping = {}\n",
    "name_to_df_mapping[\"d2v\"] = pairwise_edgelist_doc2vec_twogroup(doc2vec_model, descriptions, abstracts, \"cosine\")\n",
    "name_to_df_mapping[\"bow\"] = pairwise_edgelist_counting_twogroup(descriptions, abstracts, \"cosine\", binary=False) \n",
    "df = merge_edgelists(name_to_df_mapping, default_value=0.000)\n",
    "print(df.head(8))\n",
    "print(df.shape[0])\n",
    "\n",
    "x = df[df[\"from\"]==df[\"to\"]][\"d2v\"].values\n",
    "print(x)"
   ]
  },
  {
   "cell_type": "code",
   "execution_count": null,
   "metadata": {},
   "outputs": [],
   "source": [
    "\n",
    "\n",
    "\n",
    "\"\"\"\n",
    "# Getting up to 10 articles about maize\n",
    "limit = 1\n",
    "query = \"\"\n",
    "results = search(\"maize AND arabidopsis\", limit=4)\n",
    "id_list = results['IdList']\n",
    "papers = fetch_details(id_list)\n",
    "\n",
    "for i, paper in enumerate(papers['PubmedArticle']): \n",
    "    print(\"\\n\\nFound Paper #{}\".format(i+1))\n",
    "    print(paper['MedlineCitation']['Article']['ArticleTitle'])\n",
    "    print(paper[\"MedlineCitation\"][\"PMID\"])\n",
    "    print(paper['MedlineCitation']['Article']['Abstract'][\"AbstractText\"][0])\n",
    "\"\"\""
   ]
  },
  {
   "cell_type": "code",
   "execution_count": null,
   "metadata": {},
   "outputs": [],
   "source": [
    "# Reading in and generating orthologs dictionary from panther dataset for plant species.\n",
    "# Need to figure out if reciprocals are given in this file.\n",
    "df = pd.read_table(\"/Users/irbraun/Desktop/orthologs.txt\")\n",
    "df = df.head(100)\n",
    "for row in df.itertuples():\n",
    "    gene1_list = row[1].split(\"|\")\n",
    "    gene2_list = row[2].split(\"|\")\n",
    "    print(gene1_list)\n",
    "    print(gene2_list)"
   ]
  },
  {
   "cell_type": "code",
   "execution_count": null,
   "metadata": {},
   "outputs": [],
   "source": []
  }
 ],
 "metadata": {
  "kernelspec": {
   "display_name": "Python 3",
   "language": "python",
   "name": "python3"
  },
  "language_info": {
   "codemirror_mode": {
    "name": "ipython",
    "version": 3
   },
   "file_extension": ".py",
   "mimetype": "text/x-python",
   "name": "python",
   "nbconvert_exporter": "python",
   "pygments_lexer": "ipython3",
   "version": "3.6.7"
  }
 },
 "nbformat": 4,
 "nbformat_minor": 2
}
