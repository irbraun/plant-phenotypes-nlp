{
 "cells": [
  {
   "cell_type": "markdown",
   "metadata": {},
   "source": [
    "## Data from Oryzabase (Integrated Rice Science Database)\n",
    "The purpose of this notebook is to read in and do a preliminary analysis of the data related to text descriptions and ontology term annotations that are available through Oryzabase. The data needs to be organized and also restructured into a standard format that will allow it to be easily combined with datasets from other resources."
   ]
  },
  {
   "cell_type": "code",
   "execution_count": 1,
   "metadata": {
    "scrolled": true
   },
   "outputs": [],
   "source": [
    "import matplotlib.pyplot as plt\n",
    "import matplotlib as mpl\n",
    "import seaborn as sns\n",
    "import sys\n",
    "import os\n",
    "import warnings\n",
    "import pandas as pd\n",
    "import numpy as np\n",
    "import itertools\n",
    "import re\n",
    "import matplotlib.pyplot as plt\n",
    "from nltk.tokenize import word_tokenize\n",
    "from nltk.tokenize import sent_tokenize\n",
    "\n",
    "sys.path.append(\"../../oats\")\n",
    "from oats.utils.utils import to_abbreviation\n",
    "from oats.utils.constants import NCBI_TAG\n",
    "from oats.utils.constants import EVIDENCE_CODES\n",
    "from oats.nlp.preprocess import add_prefix\n",
    "from oats.nlp.preprocess import other_delim_to_bar_delim\n",
    "from oats.nlp.preprocess import get_ontology_ids\n",
    "from oats.nlp.preprocess import concatenate_descriptions\n",
    "from oats.nlp.preprocess import remove_character\n",
    "from oats.nlp.preprocess import remove_punctuation\n",
    "from oats.nlp.preprocess import handle_synonym_in_parentheses\n",
    "from oats.nlp.preprocess import remove_enclosing_brackets\n",
    "from oats.nlp.preprocess import remove_short_tokens\n",
    "from oats.nlp.preprocess import concatenate_with_bar_delim\n",
    "\n",
    "OUTPUT_DIR = \"../data/reshaped_files\"\n",
    "mpl.rcParams[\"figure.dpi\"] = 200\n",
    "warnings.simplefilter('ignore')\n",
    "pd.set_option('display.max_rows', 500)\n",
    "pd.set_option('display.max_columns', 500)\n",
    "pd.set_option('display.width', 1000)"
   ]
  },
  {
   "cell_type": "markdown",
   "metadata": {},
   "source": [
    "### Reading in the dataset of annotations and some other descriptions"
   ]
  },
  {
   "cell_type": "code",
   "execution_count": 24,
   "metadata": {},
   "outputs": [
    {
     "name": "stdout",
     "output_type": "stream",
     "text": [
      "(17674, 14)\n",
      "CGSNL Gene Symbol           10041\n",
      "Gene symbol synonym(s)      15948\n",
      "CGSNL Gene Name              9845\n",
      "Gene name synonym(s)        15216\n",
      "Protein Name                 5588\n",
      "Allele                       1151\n",
      "Explanation                 13841\n",
      "Trait Class                   726\n",
      "RAP ID                      11531\n",
      "MUS ID                      11642\n",
      "Gramene ID                   1656\n",
      "Gene Ontology                7624\n",
      "Trait Ontology               2476\n",
      "Plant Ontology                797\n"
     ]
    }
   ],
   "source": [
    "filename = \"../data/gene_related_files/oryzabase/OryzabaseGeneListEn_20190826010113.txt\"\n",
    "usecols = [\"CGSNL Gene Symbol\", \"Gene symbol synonym(s)\", \"CGSNL Gene Name\", \"Gene name synonym(s)\", \"Protein Name\", \n",
    "           \"Allele\", \"Explanation\", \"Trait Class\", \"RAP ID\", \"MUS ID\", \"Gramene ID\", \"Gene Ontology\", \n",
    "           \"Trait Ontology\", \"Plant Ontology\"]\n",
    "df = pd.read_table(filename, usecols=usecols, sep=\"\\t\")\n",
    "df.fillna(\"\", inplace=True)\n",
    "unique_values = {col:len(pd.unique(df[col].values)) for col in df.columns}\n",
    "print(df.shape)\n",
    "for k,v in unique_values.items():\n",
    "    print(\"{:25}{:8}\".format(k,v))"
   ]
  },
  {
   "cell_type": "markdown",
   "metadata": {},
   "source": [
    "### Describing the gene names and accessions in the data\n",
    "There are several columns that contain information about gene names and accessions. We need to know what type of information is in each in order to know which should be retained or parsed to form the desired cleaned dataset. We are interested in both gene names that should map to a specific accession (like cms-54257) as well as gene names that are enzyme descriptions (like Ubiquitin-Specific Protease) that could map to more than one gene in a particular species. Each type of information is valuable, but needs to be differentiated so that when comparing whether two rows are specifying the same gene, this is not confused with specifying two different genes that have the same function."
   ]
  },
  {
   "cell_type": "code",
   "execution_count": 4,
   "metadata": {},
   "outputs": [
    {
     "name": "stdout",
     "output_type": "stream",
     "text": [
      "    CGSNL Gene Symbol                  Gene symbol synonym(s)\n",
      "0         [CMS-54257]               [cms-54257]*, [cms-54257]\n",
      "1  [CMS-AK]([CMS-JP])  [cms-ak]([cms-jp]), [cms-jp], [cms-ak]\n",
      "2           [CMS-ARC]   [cms-ARC]*, [cms-ARC] [mt], [cms-ARC]\n",
      "3            [CMS-BO]                                [cms-bo]\n",
      "4            [CMS-CW]                                [cms-CW]\n",
      "      CGSNL Gene Symbol Gene symbol synonym(s)\n",
      "11476           ONAGAII                OnagaII\n",
      "13890             SCP53                OsSCP53\n",
      "10353                 _                       \n",
      "2670             WRKY75               OsWRKY75\n",
      "4922                  _    OsSGT, SGT, UGT74H3\n"
     ]
    }
   ],
   "source": [
    "print(df[[\"CGSNL Gene Symbol\", \"Gene symbol synonym(s)\"]].head(5))\n",
    "print(df[[\"CGSNL Gene Symbol\", \"Gene symbol synonym(s)\"]].sample(5))"
   ]
  },
  {
   "cell_type": "markdown",
   "metadata": {},
   "source": [
    "The gene symbols in this dataset are typically surrounded by square brackets but not always. If a second symbol for that same gene is mentioned in the same column, the second symbol might be enclosed in parentheses. The synonynms for the gene symbols are similarly sometimes enclosed in square brackets, and are typically separated by commas in cases where more than one are mentioned in this column. Also note that an underscore is being used to represent missing data, so this has to handled so that that character is not treated as a gene name that appears many times."
   ]
  },
  {
   "cell_type": "code",
   "execution_count": 5,
   "metadata": {},
   "outputs": [
    {
     "name": "stdout",
     "output_type": "stream",
     "text": [
      "                    CGSNL Gene Name\n",
      "0  CYTOPLASMIC MALE STERILITY 54257\n",
      "1     CYTOPLASMIC MALE STERILITY AK\n",
      "2    CYTOPLASMIC MALE STERILITY ARC\n",
      "3     CYTOPLASMIC MALE STERILITY BO\n",
      "4     CYTOPLASMIC MALE STERILITY CW\n",
      "                         CGSNL Gene Name\n",
      "4770                                   _\n",
      "11123  TRANSPOSON CACTG ELEMENT RIM2-M82\n",
      "17037                  UREIDE PERMEASE 1\n",
      "1257           tillers per plant (QTL)-1\n",
      "9361                                   _\n"
     ]
    }
   ],
   "source": [
    "print(df[[\"CGSNL Gene Name\"]].head(5))\n",
    "print(df[[\"CGSNL Gene Name\"]].sample(5))"
   ]
  },
  {
   "cell_type": "markdown",
   "metadata": {},
   "source": [
    "The gene name column has strings representing the full name of each gene rather than just the symbol. Note that an underscore is also being used to denote missing values in this column as well."
   ]
  },
  {
   "cell_type": "code",
   "execution_count": 6,
   "metadata": {},
   "outputs": [
    {
     "name": "stdout",
     "output_type": "stream",
     "text": [
      "                                Gene name synonym(s)\n",
      "0  Cytoplasmic mutant induced by somaclonal varia...\n",
      "1            Akebono' cytoplasm, 'Akebono' cytoplasm\n",
      "2     ARC13829-16 cytoplasm, `ARC13829-26' cytoplasm\n",
      "3  Chinsurah boro II' cytoplasm, `Chinsurah boro ...\n",
      "4                        Chinese wild rice cytoplasm\n",
      "                                    Gene name synonym(s)\n",
      "14620                                                   \n",
      "5433                          calmodulin-like protein 16\n",
      "5570   ethylene response factor 13, APETALA2/ethylene...\n",
      "5033       endoplasmic reticulum (ER) stress sensor IRE1\n",
      "4209                               Small auxin-up RNA 58\n"
     ]
    }
   ],
   "source": [
    "print(df[[\"Gene name synonym(s)\"]].head(5))\n",
    "print(df[[\"Gene name synonym(s)\"]].sample(5))"
   ]
  },
  {
   "cell_type": "markdown",
   "metadata": {},
   "source": [
    "The values in the gene name synonym(s) column can be comma delimited lists if more than one synonym for the gene name was known. Sometimes quotes are used. Empty strings and possibly underscores can be used to denote missing information."
   ]
  },
  {
   "cell_type": "code",
   "execution_count": 7,
   "metadata": {},
   "outputs": [
    {
     "name": "stdout",
     "output_type": "stream",
     "text": [
      "                            Protein Name                              Allele\n",
      "6800   ABC TRANSPORTER A FAMILY MEMBER 1                                    \n",
      "14814                                                                       \n",
      "5447          CALMODULIN-LIKE PROTEIN 32                                    \n",
      "7232                                      rep1, rep1-1, rep1-2, rep1-3(sdp1)\n",
      "15871                                                                       \n"
     ]
    }
   ],
   "source": [
    "print(df[[\"Protein Name\",\"Allele\"]].sample(5))"
   ]
  },
  {
   "cell_type": "markdown",
   "metadata": {},
   "source": [
    "Both the protein name and allele columns are sparse within the dataset. Either can be a single value or a comma delimited list of values. These may not need to be retained for finding reference to genes in other resources because we already have more standardized representations of the genes in other columns."
   ]
  },
  {
   "cell_type": "code",
   "execution_count": 10,
   "metadata": {},
   "outputs": [
    {
     "name": "stdout",
     "output_type": "stream",
     "text": [
      "             RAP ID                                             MUS ID\n",
      "16890  Os06g0115200                                   LOC_Os06g02480.1\n",
      "11680  Os03g0699600                                   LOC_Os03g49250.1\n",
      "5257   Os08g0313200                                   LOC_Os08g22149.1\n",
      "11702  Os04g0208500                                   LOC_Os04g13160.1\n",
      "7184   Os05g0372100  LOC_Os05g30870.3, LOC_Os05g30870.2, LOC_Os05g3...\n"
     ]
    }
   ],
   "source": [
    "print(df[[\"RAP ID\",\"MUS ID\"]].sample(5))"
   ]
  },
  {
   "cell_type": "markdown",
   "metadata": {},
   "source": [
    "Both the RAP ID and the MUS ID can columns can contain multiple values for a given gene which are included as members of a comma delimited list. These values can also be missing using the same scheme for missing information as in the rest of the dataset."
   ]
  },
  {
   "cell_type": "markdown",
   "metadata": {},
   "source": [
    "### Parsing the needed information about gene names from the dataset\n",
    "The following functions were created based on the needs following how the gene symbols, names, synonyms, and accessions are previously described in this dataset. These are a not guaranteed to be a perfectly accurate method of parsing in the information in this dataset but they are meant to approximate what is required based on going through the dataset by hand. The methods are meant to be applied only to specific columns within the dataset, and to make the code that later cleans the columns more readable by compressing multiple cleaning steps into a single function. Some of these rely on other very specific functions that are within the text preprocessing module and not shown here."
   ]
  },
  {
   "cell_type": "code",
   "execution_count": 11,
   "metadata": {},
   "outputs": [],
   "source": [
    "def clean_oryzabase_symbol(string):\n",
    "    # Should be applied to the gene symbol column in the dataset.\n",
    "    # Returns a single string representing a bar delimited list of gene symbols.\n",
    "    string = remove_character(string, \"*\")\n",
    "    names = handle_synonym_in_parentheses(string, min_length=4)\n",
    "    names = [remove_enclosing_brackets(name) for name in names]\n",
    "    names = remove_short_tokens(names, min_length=2)\n",
    "    names_string = concatenate_with_bar_delim(*names)\n",
    "    return(names_string)\n",
    "\n",
    "def clean_oryzabase_symbol_synonyms(string):\n",
    "    # Should be applied to the gene symbol synonym(s) column in the dataset.\n",
    "    # Returns a single string representing a bar delimited list of gene symbols.\n",
    "    string = remove_character(string, \"*\")\n",
    "    names = string.split(\",\")\n",
    "    names = [name.strip() for name in names]\n",
    "    names = [remove_enclosing_brackets(name) for name in names]\n",
    "    names_string = concatenate_with_bar_delim(*names)\n",
    "    return(names_string)"
   ]
  },
  {
   "cell_type": "markdown",
   "metadata": {},
   "source": [
    "### Handling the ontology term annotations in the data\n",
    "Multiple columns within the dataset specify ontology term annotations that have been applied to the geen mentioned on that particular line. Ontology term annotations are separated into different columns based on which ontology the terms belong to, and both the term ID of each annotation and the accompanying label for that term and explicitly given. Columns for terms from the Gene Ontolgoy (GO), Plant Ontology (PO), and Plant Trait Ontology (TO) are all included. There is no information about what evidence codes these annotations are associated with in this dataset."
   ]
  },
  {
   "cell_type": "code",
   "execution_count": 12,
   "metadata": {},
   "outputs": [
    {
     "name": "stdout",
     "output_type": "stream",
     "text": [
      "                                       Gene Ontology\n",
      "0  GO:0000001 - mitochondrion inheritance, GO:000...\n",
      "1  GO:0000001 - mitochondrion inheritance, GO:000...\n",
      "2  GO:0007275 - multicellular organismal development\n",
      "3  GO:0007275 - multicellular organismal developm...\n",
      "4  GO:0007275 - multicellular organismal development\n",
      "                                      Plant Ontology\n",
      "0                               PO:0009066 - anther \n",
      "1                               PO:0009066 - anther \n",
      "2  PO:0009082 - spikelet floret , PO:0020048 - mi...\n",
      "3  PO:0009082 - spikelet floret , PO:0020048 - mi...\n",
      "4  PO:0009082 - spikelet floret , PO:0020048 - mi...\n",
      "                                      Trait Ontology\n",
      "0  TO:0000232 - cytoplasmic male sterility (sensu...\n",
      "1  TO:0000232 - cytoplasmic male sterility (sensu...\n",
      "2  TO:0000232 - cytoplasmic male sterility (sensu...\n",
      "3  TO:0000232 - cytoplasmic male sterility (sensu...\n",
      "4  TO:0000232 - cytoplasmic male sterility (sensu...\n"
     ]
    }
   ],
   "source": [
    "print(df[[\"Gene Ontology\"]].head(5))\n",
    "print(df[[\"Plant Ontology\"]].head(5))\n",
    "print(df[[\"Trait Ontology\"]].head(5))"
   ]
  },
  {
   "cell_type": "markdown",
   "metadata": {},
   "source": [
    "Both the term IDs and labels for each annotation are given. Multiple annotations from the same ontology for a given line are separated by commas. We want to parse out just the gene ontology IDs for the cleaned dataset so that they can be referenced later, all the other information is not needed. There is a function to the return a list of gene IDs present in a longer string of text that is in the preprocessing module."
   ]
  },
  {
   "cell_type": "markdown",
   "metadata": {},
   "source": [
    "### Handling text description and keyword information in this data\n",
    "This dataset does not contain any columns that consistly contain a natural language description of a phenotype associated with a given gene. But some text-based information is still present. The trait class column contains a value from a limited set of keyword descriptors for the trait a particular gene is associated with. The size of the vocabulary used is obtained here. Also see the specific description of this keyword vocabulary here (https://shigen.nig.ac.jp/rice/oryzabase/traitclass/). The explaination column also occasionally contains text information about a corresponding phenotype."
   ]
  },
  {
   "cell_type": "code",
   "execution_count": 13,
   "metadata": {},
   "outputs": [
    {
     "name": "stdout",
     "output_type": "stream",
     "text": [
      "  4121                      \n",
      "  3621   Biochemical character\n",
      "  2566   Other              \n",
      "   875   Tolerance and resistance - Stress tolerance\n",
      "   862   Biochemical character,  Tolerance and resistance - Stress tolerance\n",
      "   527   Tolerance and resistance - Disease resistance\n",
      "   293   Reproductive organ - Spikelet, flower, glume, awn\n",
      "   244   Biochemical character,  Tolerance and resistance - Disease resistance\n",
      "   222   Character as QTL - Yield and productivity\n",
      "   204   Tolerance and resistance - Stress tolerance,  Other\n"
     ]
    }
   ],
   "source": [
    "# Get a list sorted by number of occurences for each trait class.\n",
    "description_counts = df[\"Trait Class\"].value_counts().to_dict()\n",
    "sorted_tuples = sorted(description_counts.items(), key = lambda x: x[1], reverse=True)\n",
    "for t in sorted_tuples[0:10]:\n",
    "    print(\"{:6}  {:20}\".format(t[1],t[0][:70]))"
   ]
  },
  {
   "cell_type": "markdown",
   "metadata": {},
   "source": [
    "The most common value in the trait class column is whitespace or an empty string indicating missing data. Another very common value though is 'Other' which has 2,566 occurences out of the 17,674 total instances. This needs to be handled if using this information as text descriptions because this contains no semantics relevant to the phenotype (two phenotypes with trait classes of 'Other' should not be considered similar)."
   ]
  },
  {
   "cell_type": "code",
   "execution_count": 14,
   "metadata": {},
   "outputs": [
    {
     "name": "stdout",
     "output_type": "stream",
     "text": [
      "                                             Explanation\n",
      "7580   miRBASE accession: MI0005249. LM380055. predic...\n",
      "3104                                     LOC_Os02g02820.\n",
      "4668                                                    \n",
      "4162   Auxin-responsive SAUR gene family member. CA75...\n",
      "13088                                    LOC_Os07g12080.\n",
      "9706   an ORF in Ping. AB087616. BAC15770. BK000587. ...\n",
      "873                    Rice bacterial blight resistance.\n",
      "17145                               Transcription factor\n",
      "541    bph2 is resistant to brown plant hopper, being...\n",
      "1498   This QTL controls cold resistance at the booti...\n",
      "11137                           AC116426: 15,921-16,468.\n",
      "13653                                     LOC_Os11g02830\n",
      "10035                                                   \n",
      "10867                        AB201739 (Oryza rufipogon).\n",
      "6600                                     LOC_Os01g42880.\n",
      "16800                                    LOC_Os02g27760.\n",
      "6364                                           AK068153.\n",
      "15593                                    LOC_Os05g11620.\n",
      "3929   AB512497. Q6ATW6. A2Y5N0. GO:0090698: post-emb...\n",
      "14758  LOC_Os03g31630. Subtilisin Family (Peptidase_S...\n",
      "15180                                    LOC_Os04g50070.\n",
      "476    This mutant shows irregular yellow bands on le...\n",
      "12139                                   LOC_Os12g32630. \n",
      "8715                                BAB07976 (obsolete).\n",
      "6926   Glycosyl hydrolase family 1 (GH1) beta-glucosi...\n",
      "2041                                                    \n",
      "13372    OsMed19_1 in Malik et al. 2016. LOC_Os03g44010.\n",
      "1717   This QTL controls 1000-grain weight, being loc...\n",
      "9956                     JmjC domain containing protein.\n",
      "2236   This QTL controls seed dormancy, being located...\n"
     ]
    }
   ],
   "source": [
    "print(df[[\"Explanation\"]].sample(30))"
   ]
  },
  {
   "cell_type": "markdown",
   "metadata": {},
   "source": [
    "The explanation column holds information potentially about the phenotype, but also sometimes contains redundant information about the gene names or identifiers and sometimes the ontology term annotations as well. Sometimes methods are mentioned as well. Some of this could be handled with parsing to remove the redundant information that already appears somewhere else in a particular column for this line, but this should be considered irregular text annotations or descriptions for the purposes of downstream analyses. The following cell contains a preliminary attempt at a function that cleans values in this column by removing some redundant information from other columns."
   ]
  },
  {
   "cell_type": "code",
   "execution_count": 16,
   "metadata": {},
   "outputs": [],
   "source": [
    "def clean_oryzabase_explainations(string):\n",
    "    # Should be applied to the explanation column in the dataset.\n",
    "    # Returns a version of the the value in that column without some redundant information.\n",
    "    ontology_ids = get_ontology_ids(string)\n",
    "    for ontology_id in ontology_ids:\n",
    "        string = string.replace(ontology_id,\"\")\n",
    "        string = remove_punctuation(string)\n",
    "    return(string)"
   ]
  },
  {
   "cell_type": "markdown",
   "metadata": {},
   "source": [
    "### Restructuring the data and saving to a csv file"
   ]
  },
  {
   "cell_type": "code",
   "execution_count": 17,
   "metadata": {},
   "outputs": [
    {
     "name": "stdout",
     "output_type": "stream",
     "text": [
      "  species                                         gene_names\n",
      "0     osa  CMS-54257|cms-54257|CYTOPLASMIC MALE STERILITY...\n",
      "1     osa  CMS-JP|CMS-AK|[cms-ak]([cms-jp])|cms-jp|cms-ak...\n",
      "2     osa  CMS-ARC|cms-ARC|cms-ARC] [mt|CYTOPLASMIC MALE ...\n",
      "3     osa  CMS-BO|cms-bo|CYTOPLASMIC MALE STERILITY BO|Ch...\n",
      "4     osa  CMS-CW|cms-CW|CYTOPLASMIC MALE STERILITY CW|Ch...\n",
      "5     osa  CMS-GAM|cms-GAM|CYTOPLASMIC MALE STERILITY GAM...\n",
      "6     osa  CMS-HL|cms-HL|CYTOPLASMIC MALE STERILITY HL|HL...\n",
      "7     osa  CMS-IR66707A|cms-IR66707A|CYTOPLASMIC MALE STE...\n",
      "8     osa  CMS-KALINGA-I|cms-Kalinga-I|CYTOPLASMIC MALE S...\n",
      "9     osa  CMS-KHIABORO|cms-Khiaboro|CYTOPLASMIC MALE STE...\n",
      "      species                                         gene_names\n",
      "9109      osa                   U3|U3 snRNA|U3 small nuclear RNA\n",
      "15845     osa  LOC_Os10g29230|OsMB21|MB21|MATH-BTB protein 21...\n",
      "5596      osa  Os01g0665200|LOC_Os01g47530.1, LOC_Os01g47530....\n",
      "10292     osa  STOW-OS25|Stow-Os25|TRANSPOSON MITE STOWAWAY O...\n",
      "2852      osa  Os09g0561500|LOC_Os09g38840.1|WAK90|OsWAK90|WA...\n",
      "5194      osa  Os03g0410000|LOC_Os03g29614.1|OsMyb3|OSMYB3|MY...\n",
      "14407     osa  MIR5529|miR5529|osa-miR5529|osa-MIR5529|MICROR...\n",
      "39        osa  BPH7|bph7|BROWN PLANTHOPPER RESISTANCE 7|brown...\n",
      "2916      osa  Os03g0301950|LOC_Os03g19000.1, LOC_Os03g18990....\n",
      "3648      osa  Os03g0329200|LOC_Os03g21160.2, LOC_Os03g21160....\n"
     ]
    }
   ],
   "source": [
    "# Restructuring and combining columns that have gene name information.\n",
    "df[\"CGSNL Gene Symbol\"] = df[\"CGSNL Gene Symbol\"].apply(clean_oryzabase_symbol)\n",
    "df[\"Gene symbol synonym(s)\"] = df[\"Gene symbol synonym(s)\"].apply(clean_oryzabase_symbol_synonyms)\n",
    "df[\"CGSNL Gene Name\"] = df[\"CGSNL Gene Name\"].apply(lambda x: x.replace(\"_\",\"\").strip())\n",
    "df[\"Gene name synonym(s)\"] = df[\"Gene name synonym(s)\"].apply(lambda x: other_delim_to_bar_delim(string=x, delim=\",\"))\n",
    "df[\"gene_names\"] = np.vectorize(concatenate_with_bar_delim)(df[\"RAP ID\"], df[\"MUS ID\"], df[\"CGSNL Gene Symbol\"], df[\"Gene symbol synonym(s)\"], df[\"CGSNL Gene Name\"], df[\"Gene name synonym(s)\"])\n",
    "\n",
    "# Restructuring and combining columns that have ontology term annotations.\n",
    "df[\"Gene Ontology\"] = df[\"Gene Ontology\"].apply(lambda x: concatenate_with_bar_delim(*get_ontology_ids(x))) \n",
    "df[\"Trait Ontology\"] = df[\"Trait Ontology\"].apply(lambda x: concatenate_with_bar_delim(*get_ontology_ids(x))) \n",
    "df[\"Plant Ontology\"] = df[\"Plant Ontology\"].apply(lambda x: concatenate_with_bar_delim(*get_ontology_ids(x))) \n",
    "df[\"term_ids\"] = np.vectorize(concatenate_with_bar_delim)(df[\"Gene Ontology\"], df[\"Trait Ontology\"], df[\"Plant Ontology\"])\n",
    "\n",
    "# Adding other expected columns and subsetting the dataset.\n",
    "df[\"species\"] = \"osa\"\n",
    "df[\"description\"] = df[\"Explanation\"].apply(clean_oryzabase_explainations)\n",
    "df[\"pmid\"] = \"\"\n",
    "df = df[[\"species\", \"gene_names\", \"description\", \"term_ids\" ,\"pmid\"]]\n",
    "print(df[[\"species\",\"gene_names\"]].head(10))\n",
    "print(df[[\"species\",\"gene_names\"]].sample(10))"
   ]
  },
  {
   "cell_type": "code",
   "execution_count": 19,
   "metadata": {},
   "outputs": [],
   "source": [
    "# Outputting the dataset of descriptions to a csv file.\n",
    "path = os.path.join(OUTPUT_DIR,\"osa_oryzabase_gene_text_annot_go_po_to.csv\")\n",
    "df.to_csv(path, index=False)"
   ]
  }
 ],
 "metadata": {
  "kernelspec": {
   "display_name": "Python 3",
   "language": "python",
   "name": "python3"
  },
  "language_info": {
   "codemirror_mode": {
    "name": "ipython",
    "version": 3
   },
   "file_extension": ".py",
   "mimetype": "text/x-python",
   "name": "python",
   "nbconvert_exporter": "python",
   "pygments_lexer": "ipython3",
   "version": "3.6.7"
  }
 },
 "nbformat": 4,
 "nbformat_minor": 2
}
