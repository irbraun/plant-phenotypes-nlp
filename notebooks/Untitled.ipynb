{
 "cells": [
  {
   "cell_type": "code",
   "execution_count": 1,
   "metadata": {},
   "outputs": [],
   "source": [
    "import pandas as pd\n",
    "import numpy as np\n",
    "import gensim\n",
    "import random\n",
    "import sys\n",
    "import glob\n",
    "import os\n",
    "import datetime\n",
    "from nltk import sent_tokenize\n",
    "from nltk import word_tokenize\n",
    "from scipy.spatial.distance import cosine\n",
    "import warnings\n",
    "from gensim.parsing.preprocessing import strip_non_alphanum, stem_text, preprocess_string\n",
    "from gensim.utils import simple_preprocess\n",
    "from gensim.models.callbacks import CallbackAny2Vec\n",
    "from itertools import product\n",
    "from sklearn.metrics import precision_recall_curve\n",
    "\n",
    "warnings.simplefilter('ignore')\n",
    "\n",
    "sys.path.append(\"../../oats\")\n",
    "from oats.annotation.ontology import Ontology\n",
    "from oats.distances import pairwise as pw\n",
    "from oats.utils.utils import flatten"
   ]
  },
  {
   "cell_type": "code",
   "execution_count": 2,
   "metadata": {},
   "outputs": [
    {
     "data": {
      "text/plain": [
       "1.0"
      ]
     },
     "execution_count": 2,
     "metadata": {},
     "output_type": "execute_result"
    }
   ],
   "source": [
    "1-cosine([0.23,0.51,0.72,0.61,0,0,0], [0,0,0,0.61,0.34,0.56,0.79])\n",
    "1-cosine([0.23,0.51,0.72,0.61,0.12,0.15,0.18], [0.22,0.14,0.12,0.61,0.34,0.56,0.79])\n",
    "1-cosine([0.23,0.53,0.72,0.61], [0.23,0.53,0.72,0.61])"
   ]
  },
  {
   "cell_type": "code",
   "execution_count": null,
   "metadata": {},
   "outputs": [],
   "source": []
  },
  {
   "cell_type": "code",
   "execution_count": null,
   "metadata": {},
   "outputs": [],
   "source": []
  },
  {
   "cell_type": "code",
   "execution_count": null,
   "metadata": {},
   "outputs": [],
   "source": []
  },
  {
   "cell_type": "code",
   "execution_count": 3,
   "metadata": {},
   "outputs": [],
   "source": [
    "class LossLogger(CallbackAny2Vec):\n",
    "    def __init__(self):\n",
    "        self.epochs = []\n",
    "        self.epoch = 1\n",
    "        self.losses = []\n",
    "        self.deltas = []\n",
    "    def on_epoch_end(self, model):\n",
    "        loss = model.get_latest_training_loss()\n",
    "        if self.epoch == 1:\n",
    "            delta = loss\n",
    "        else:\n",
    "            delta = loss- self.loss_previous_step\n",
    "        self.loss_previous_step=loss\n",
    "        self.losses.append(loss)\n",
    "        self.epochs.append(self.epoch)\n",
    "        self.epoch += 1\n",
    "        self.deltas.append(delta)"
   ]
  },
  {
   "cell_type": "code",
   "execution_count": 9,
   "metadata": {},
   "outputs": [],
   "source": [
    "model = gensim.models.Word2Vec.load(\"../models/plants_sg/saved/word2vec_both_dim200_500_a_s_min3_window8.model\")"
   ]
  },
  {
   "cell_type": "code",
   "execution_count": 5,
   "metadata": {},
   "outputs": [
    {
     "data": {
      "text/plain": [
       "[('resist', 0.533036470413208),\n",
       " ('infect', 0.48954248428344727),\n",
       " ('pathogen', 0.4593661427497864),\n",
       " ('fungal', 0.4558146595954895),\n",
       " ('necrotroph', 0.42447996139526367)]"
      ]
     },
     "execution_count": 5,
     "metadata": {},
     "output_type": "execute_result"
    }
   ],
   "source": [
    "w = preprocess_string(\"susceptible\")[0]\n",
    "model.most_similar(w,topn=5)"
   ]
  },
  {
   "cell_type": "code",
   "execution_count": 6,
   "metadata": {},
   "outputs": [],
   "source": [
    "model_wiki = gensim.models.Word2Vec.load(\"../models/wiki_sg/word2vec.bin\")"
   ]
  },
  {
   "cell_type": "code",
   "execution_count": 7,
   "metadata": {},
   "outputs": [
    {
     "data": {
      "text/plain": [
       "[('resistant', 0.7845903635025024),\n",
       " ('susceptibility', 0.7155444622039795),\n",
       " ('prone', 0.6828949451446533),\n",
       " ('vulnerable', 0.6462675929069519),\n",
       " ('affects', 0.6267737150192261),\n",
       " ('inhibit', 0.5860500335693359)]"
      ]
     },
     "execution_count": 7,
     "metadata": {},
     "output_type": "execute_result"
    }
   ],
   "source": [
    "w = \"susceptible\"\n",
    "model_wiki.most_similar(w,topn=6)"
   ]
  },
  {
   "cell_type": "code",
   "execution_count": null,
   "metadata": {},
   "outputs": [],
   "source": []
  },
  {
   "cell_type": "code",
   "execution_count": 18,
   "metadata": {},
   "outputs": [],
   "source": [
    "# Trying to figure out if we can load weights directly using keyed vectors.\n",
    "from gensim.models.keyedvectors import KeyedVectors\n",
    "\n",
    "word_vectors = model.wv\n",
    "word_vectors.save('vectors.kv')\n",
    "reloaded_word_vectors = KeyedVectors.load('vectors.kv')\n",
    "\n"
   ]
  },
  {
   "cell_type": "code",
   "execution_count": 19,
   "metadata": {},
   "outputs": [
    {
     "data": {
      "text/plain": [
       "<gensim.models.keyedvectors.Word2VecKeyedVectors at 0x138601ba8>"
      ]
     },
     "execution_count": 19,
     "metadata": {},
     "output_type": "execute_result"
    }
   ],
   "source": [
    "reloaded_word_vectors"
   ]
  },
  {
   "cell_type": "code",
   "execution_count": 36,
   "metadata": {},
   "outputs": [
    {
     "data": {
      "text/plain": [
       "<gensim.models.keyedvectors.Word2VecKeyedVectors at 0x139fa13c8>"
      ]
     },
     "execution_count": 36,
     "metadata": {},
     "output_type": "execute_result"
    }
   ],
   "source": [
    "kv = gensim.models.keyedvectors.Word2VecKeyedVectors(vector_size=5)\n",
    "kv.add(\"something\", np.array([0.2352,0.1212,0.2323,0.23423,0.2323]))\n",
    "kv.add(\"else\", np.array([0.9999,0.1212,0.2323,0.23423,0.2323]))\n",
    "kv.add(\"another\", np.array([0.2352,0.9999,0.2323,0.23423,0.2323]))\n",
    "kv.save('vectors.kv')\n",
    "kv"
   ]
  },
  {
   "cell_type": "code",
   "execution_count": 40,
   "metadata": {},
   "outputs": [
    {
     "data": {
      "text/plain": [
       "array([0.2352 , 0.1212 , 0.2323 , 0.23423, 0.2323 ])"
      ]
     },
     "execution_count": 40,
     "metadata": {},
     "output_type": "execute_result"
    }
   ],
   "source": [
    "new_model = KeyedVectors.load(\"vectors.kv\")\n",
    "new_model[\"something\"]"
   ]
  }
 ],
 "metadata": {
  "kernelspec": {
   "display_name": "Python 3",
   "language": "python",
   "name": "python3"
  },
  "language_info": {
   "codemirror_mode": {
    "name": "ipython",
    "version": 3
   },
   "file_extension": ".py",
   "mimetype": "text/x-python",
   "name": "python",
   "nbconvert_exporter": "python",
   "pygments_lexer": "ipython3",
   "version": "3.6.10"
  }
 },
 "nbformat": 4,
 "nbformat_minor": 4
}
