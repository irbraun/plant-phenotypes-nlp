{
 "cells": [
  {
   "cell_type": "code",
   "execution_count": 1,
   "metadata": {},
   "outputs": [],
   "source": [
    "from nltk.tokenize import sent_tokenize\n",
    "import pandas as pd\n",
    "import sys\n",
    "import time\n",
    "import os\n",
    "\n",
    "\n",
    "\n",
    "#sys.path.append(\"../../oats\")\n",
    "#from oats.pubmed.query import search, fetch_details\n",
    "#from oats.utils.utils import save_to_pickle, load_from_pickle"
   ]
  },
  {
   "cell_type": "code",
   "execution_count": 2,
   "metadata": {},
   "outputs": [],
   "source": [
    "from Bio import Entrez\n",
    "\n",
    "def search(query,limit):\n",
    "    Entrez.email = 'a@b.com'\n",
    "    handle = Entrez.esearch(db='pubmed',sort='relevance',retmax=limit,retmode='xml',term=query)\n",
    "    results = Entrez.read(handle)\n",
    "    return results\n",
    "\n",
    "\n",
    "def fetch_details(id_list):\n",
    "    ids = ','.join(id_list)\n",
    "    Entrez.email = 'a@b.com'\n",
    "    handle = Entrez.efetch(db='pubmed', retmode='xml', id=ids)\n",
    "    results = Entrez.read(handle)\n",
    "    return results"
   ]
  },
  {
   "cell_type": "code",
   "execution_count": 3,
   "metadata": {},
   "outputs": [],
   "source": [
    "df = pd.read_csv(\"../../plant-data/genes_texts_annots.csv\")\n"
   ]
  },
  {
   "cell_type": "code",
   "execution_count": 14,
   "metadata": {},
   "outputs": [
    {
     "name": "stdout",
     "output_type": "stream",
     "text": [
      "['9294189']\n"
     ]
    }
   ],
   "source": [
    "query = \"XTC1 AND arabidopsis\"\n",
    "\n",
    "limit = 100\n",
    "results = search(query, limit)\n",
    "\n",
    "pubmed_ids = results[\"IdList\"]\n",
    "print(pubmed_ids)\n",
    "\n",
    "papers = fetch_details(pubmed_ids)"
   ]
  },
  {
   "cell_type": "code",
   "execution_count": 15,
   "metadata": {},
   "outputs": [
    {
     "name": "stdout",
     "output_type": "stream",
     "text": [
      "We describe mutations of three genes in Arabidopsis thaliana-extra cotyledon1 (xtc1), extra cotyledon2 (xtc2), and altered meristem programming1 (amp1)-that transform leaves into cotyledons. In all three of these mutations, this transformation is associated with a change in the timing of events in embryogenesis. xtc1 and xtc2 delay the morphogenesis of the embryo proper at the globular-to-heart transition but permit the shoot apex to develop to an unusually advanced stage late in embryogenesis. Both mutations have little or no effect on seed maturation and do not affect the viability of the shoot or the rate of leaf initiation after germination. amp1 perturbs the pattern of cell division at an early globular stage, dramatically increases the size of the shoot apex and, like xtc1 and xtc2, produces enlarged leaf primordia during seed development. These unusual phenotypes suggest that these genes play important regulatory roles in embryogenesis and demonstrate that the development of the shoot apical meristem and the development of the embryo proper are regulated by independent processes that must be temporally coordinated to ensure normal organ identity.\n"
     ]
    }
   ],
   "source": [
    "for paper in papers['PubmedArticle']:\n",
    "    abstract_text = paper['MedlineCitation']['Article']['Abstract'][\"AbstractText\"][0]\n",
    "    print(abstract_text)"
   ]
  },
  {
   "cell_type": "code",
   "execution_count": 8,
   "metadata": {},
   "outputs": [
    {
     "name": "stdout",
     "output_type": "stream",
     "text": [
      "Thanks for your submission. The session number is : 4680-5952-6882-3537\n",
      "\n"
     ]
    }
   ],
   "source": [
    "import requests\n",
    "#from unidecode import unidecode\n",
    "\n",
    "\n",
    "Bioconcept = \"Gene\"\n",
    "\n",
    "InputSTR = '9294189'\n",
    "\n",
    "\n",
    "# submit request\n",
    "r = requests.post(\"https://www.ncbi.nlm.nih.gov/research/pubtator-api/annotations/annotate/submit/\"+Bioconcept , data = InputSTR.encode('utf-8'))\n",
    "if r.status_code != 200 :\n",
    "    print (\"[Error]: HTTP code \"+ str(r.status_code))\n",
    "else:\n",
    "    SessionNumber = r.text\n",
    "    print (\"Thanks for your submission. The session number is : \"+ SessionNumber + \"\\n\")\n",
    "    #outputfile.write(SessionNumber+\"\\t\"+filename+\"\\n\")"
   ]
  },
  {
   "cell_type": "code",
   "execution_count": 12,
   "metadata": {},
   "outputs": [
    {
     "name": "stdout",
     "output_type": "stream",
     "text": [
      "https://www.ncbi.nlm.nih.gov/research/pubtator-api/annotations/annotate/submit/Gene\n"
     ]
    }
   ],
   "source": [
    "print(r.url)"
   ]
  },
  {
   "cell_type": "code",
   "execution_count": null,
   "metadata": {},
   "outputs": [],
   "source": []
  },
  {
   "cell_type": "code",
   "execution_count": null,
   "metadata": {},
   "outputs": [],
   "source": []
  },
  {
   "cell_type": "code",
   "execution_count": null,
   "metadata": {},
   "outputs": [],
   "source": [
    "papers = fetch_details(pubmed_ids)\n",
    "for paper in papers[\"PubmedArticle\"]"
   ]
  },
  {
   "cell_type": "code",
   "execution_count": null,
   "metadata": {},
   "outputs": [],
   "source": [
    "# Getting a sampling of text that is from some domain of interest.\n",
    "interesting_texts = []\n",
    "limit = 1000000\n",
    "fetch_batch_size = 1000\n",
    "seconds_between_fetch = 5\n",
    "\n",
    "query = \"maize AND phenotype\"\n",
    "print(\"querying\")\n",
    "results = search(query, limit)\n",
    "id_list = results['IdList']\n",
    "print(\"{} abstracts found with this query\".format(len(id_list)))\n",
    "if len(id_list) > 0:\n",
    "\tprint(\"fetching details\")\n",
    "\tid_list_batches = [id_list[x:x+fetch_batch_size] for x in range(0, len(id_list), fetch_batch_size)]\n",
    "\tprint(\"splitting into {} batches\".format(len(id_list_batches)))\n",
    "\tfor i,id_list_batch in enumerate(id_list_batches):\n",
    "\t\tprint(\"batch {}\".format(i))\n",
    "\t\tpapers = fetch_details(id_list_batch)\n",
    "\t\tfor i, paper in enumerate(papers['PubmedArticle']):\n",
    "\t\t\ttry:\n",
    "\t\t\t\tabstract_text = paper['MedlineCitation']['Article']['Abstract'][\"AbstractText\"][0]\n",
    "\t\t\t\tinteresting_texts.append(abstract_text)\n",
    "\t\t\texcept KeyError:\n",
    "\t\t\t\tcontinue\n",
    "\t\ttime.sleep(seconds_between_fetch)\n",
    "interesting_text = \" \".join(interesting_texts)"
   ]
  },
  {
   "cell_type": "code",
   "execution_count": null,
   "metadata": {},
   "outputs": [],
   "source": [
    "# Creating the dataset of sentences related to Arabidopsis phenotypes.\n",
    "path = \"../data/corpus_related_files/brat_annotations_ath_corpus\"\n",
    "query = \"arabidopsis AND phenotype\"\n",
    "limit = 100\n",
    "results = search(query, limit)\n",
    "id_list = results[\"IdList\"]\n",
    "papers = fetch_details(id_list)\n",
    "\n",
    "# A list of the sentences and a list of the corresponding PubMed IDs of the same length.\n",
    "sentences = []\n",
    "pubmed_ids = []\n",
    "for i, paper in enumerate(papers['PubmedArticle']):\n",
    "    try:\n",
    "        abstract_text = paper['MedlineCitation']['Article']['Abstract'][\"AbstractText\"][0]\n",
    "        abstract_sentences = sent_tokenize(abstract_text)\n",
    "        for sentence in abstract_sentences:\n",
    "            sentences.append(sentence)\n",
    "            pubmed_ids.append(str(id_list[i]))\n",
    "    except KeyError"
   ]
  }
 ],
 "metadata": {
  "kernelspec": {
   "display_name": "Python 3",
   "language": "python",
   "name": "python3"
  },
  "language_info": {
   "codemirror_mode": {
    "name": "ipython",
    "version": 3
   },
   "file_extension": ".py",
   "mimetype": "text/x-python",
   "name": "python",
   "nbconvert_exporter": "python",
   "pygments_lexer": "ipython3",
   "version": "3.6.10"
  }
 },
 "nbformat": 4,
 "nbformat_minor": 4
}
