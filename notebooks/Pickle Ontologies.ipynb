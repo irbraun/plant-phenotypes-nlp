{
 "cells": [
  {
   "cell_type": "code",
   "execution_count": null,
   "metadata": {},
   "outputs": [],
   "source": [
    "import sys\n",
    "\n",
    "sys.path.append(\"../../oats\")\n",
    "from oats.utils.utils import save_to_pickle\n",
    "from oats.annotation.ontology import Ontology"
   ]
  },
  {
   "cell_type": "code",
   "execution_count": null,
   "metadata": {},
   "outputs": [],
   "source": [
    "# Paths to obo ontology files are used to create the ontology objects used.\n",
    "# If pickling these objects works, that might be bette because building the larger ontology objects takes a long time.\n",
    "go_obo_path = \"../ontologies/go.obo\"                                                                \n",
    "po_obo_path = \"../ontologies/po.obo\"                                                             \n",
    "pato_obo_path = \"../ontologies/pato.obo\"\n",
    "go_pickle_path = \"../ontologies/go.pickle\"                                                                \n",
    "po_pickle_path = \"../ontologies/po.pickle\"                                                             \n",
    "pato_pickle_path = \"../ontologies/pato.pickle\""
   ]
  },
  {
   "cell_type": "code",
   "execution_count": null,
   "metadata": {},
   "outputs": [],
   "source": [
    "# Build the ontology objects and save them to pickles so they can be quickly read from there instead of obo files.\n",
    "pato = Ontology(pato_obo_path)\n",
    "po = Ontology(po_obo_path)\n",
    "go = Ontology(go_obo_path)\n",
    "save_to_pickle(pato, pato_pickle_path)\n",
    "save_to_pickle(po, po_pickle_path)\n",
    "save_to_pickle(go, go_pickle_path)\n",
    "print(\"done\")"
   ]
  }
 ],
 "metadata": {
  "kernelspec": {
   "display_name": "Python 3",
   "language": "python",
   "name": "python3"
  },
  "language_info": {
   "codemirror_mode": {
    "name": "ipython",
    "version": 3
   },
   "file_extension": ".py",
   "mimetype": "text/x-python",
   "name": "python",
   "nbconvert_exporter": "python",
   "pygments_lexer": "ipython3",
   "version": "3.6.10"
  }
 },
 "nbformat": 4,
 "nbformat_minor": 4
}
