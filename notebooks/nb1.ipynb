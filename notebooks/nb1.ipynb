{
 "cells": [
  {
   "cell_type": "markdown",
   "metadata": {},
   "source": [
    "# Characterizing a Single-Species Graph\n",
    "The purpose of this notebook is to characterize the dataset of genes, phenotypes, and annotations for Arabidopsis thaliana specifically. The sources of information include several different resources which are aggregated at differnet points in the analysis, and specified below. We want to figure out what kinds of properties the different graphs have in terms of potential predictive power for untangling pathway interactions or predicting pathway membership of regulatory network clusters. This is done for the purposes of figuring out if the predictions made over text descriptions that do *not* have the corresponding high-quality annotations or characterizations are likely to be useful to biologists."
   ]
  },
  {
   "cell_type": "code",
   "execution_count": 54,
   "metadata": {},
   "outputs": [],
   "source": [
    "import matplotlib.pyplot as plt\n",
    "import seaborn as sns\n",
    "import pandas as pd\n",
    "import numpy as np\n",
    "import time\n",
    "import math\n",
    "import sys\n",
    "import gensim\n",
    "import os\n",
    "import warnings\n",
    "import itertools\n",
    "from collections import Counter\n",
    "from inspect import signature\n",
    "from scipy.stats import ks_2samp\n",
    "\n",
    "from sklearn.metrics import precision_recall_curve\n",
    "from sklearn.metrics import f1_score\n",
    "from sklearn.metrics import auc\n",
    "from sklearn.metrics import average_precision_score\n",
    "from sklearn.datasets import make_classification\n",
    "from sklearn.model_selection import train_test_split\n",
    "\n",
    "sys.path.append(\"../../oats\")\n",
    "from oats.utils.utils import save_to_pickle, load_from_pickle, merge_list_dicts\n",
    "from oats.utils.utils import function_wrapper, to_hms\n",
    "from oats.datasets.dataset import Dataset\n",
    "from oats.datasets.groupings import Groupings\n",
    "from oats.datasets.string import get_stringdb_information\n",
    "from oats.annotation.ontology import Ontology\n",
    "from oats.annotation.annotation import write_annotations_to_tsv_file, read_annotations_from_tsv_file\n",
    "from oats.graphs.pairwise import pairwise_edgelist_doc2vec, pairwise_edgelist_bagofwords, pairwise_edgelist_setofwords\n",
    "from oats.graphs.pairwise import pairwise_edgelist_annotations, merge_edgelists, subset_edgelist_with_ids\n",
    "from oats.objectives.functions import balance_classes\n",
    "\n",
    "warnings.simplefilter('ignore')"
   ]
  },
  {
   "cell_type": "markdown",
   "metadata": {},
   "source": [
    "## Does the graph recapitulate known protein-protein interactions?\n",
    "The different sections in this notebook correspond to different ways of determining if the graphs based on similarity between text descriptions, encodings of text descriptions, or annotations derived from text descriptions at all correspond to known protein-protein interactions in this dataset. The knowledge source about the protein-protein interactions for genes in this dataset is the STRING database (https://string-db.org/). The available entries in the whole dataset are subset to include only the genes that correspond to proteins that are atleast mentioned in the STRING database. This ways if a protein-protein interaction is not specified between two of the remaining genes, it is not because no interactions at all are documented either of those genes. The following cells focus on setting up a dataframe which specifies edge lists specific to each similarity method, and also a protein-protein interaction score for the genes which correspond to those two given nodes in the graphs."
   ]
  },
  {
   "cell_type": "code",
   "execution_count": 55,
   "metadata": {},
   "outputs": [
    {
     "name": "stdout",
     "output_type": "stream",
     "text": [
      "Number of rows in the dataframe: 98\n",
      "Number of unique IDs:            98\n",
      "Number of unique descriptions:   95\n",
      "Number of unique gene name sets: 98\n",
      "Number of species represented:   1\n"
     ]
    }
   ],
   "source": [
    "# This dataset is only focused on including all genes mapped to some text information.\n",
    "dataset = Dataset()\n",
    "dataset.add_data(pd.read_csv(\"../data/reshaped_files/ath_tair_gene_text.csv\", lineterminator=\"\\n\"))\n",
    "dataset.add_data(pd.read_csv(\"../data/reshaped_files/all_pppn_gene_textlong_annot.csv\", lineterminator=\"\\n\"))\n",
    "dataset.add_data(pd.read_csv(\"../data/reshaped_files/all_pppn_gene_textshort_annot.csv\", lineterminator=\"\\n\"))\n",
    "dataset.filter_by_species([\"ath\"])\n",
    "dataset.filter_random_k(100, seed=19824)\n",
    "dataset.collapse_by_all_gene_names()\n",
    "dataset.describe()"
   ]
  },
  {
   "cell_type": "code",
   "execution_count": 56,
   "metadata": {},
   "outputs": [
    {
     "name": "stdout",
     "output_type": "stream",
     "text": [
      "Number of rows in the dataframe: 29\n",
      "Number of unique IDs:            29\n",
      "Number of unique descriptions:   29\n",
      "Number of unique gene name sets: 29\n",
      "Number of species represented:   1\n"
     ]
    }
   ],
   "source": [
    "# Reduce size of the dataset by removing genes not mentioned in the STRING.\n",
    "string_database_file = \"/Users/irbraun/Downloads/3702.protein.links.detailed.v11.0.txt\"\n",
    "string_df, string_id_list = get_stringdb_information(string_database_file, dataset.get_name_to_id_dictionary())\n",
    "dataset.filter_with_ids(string_id_list)\n",
    "dataset.describe()"
   ]
  },
  {
   "cell_type": "code",
   "execution_count": 102,
   "metadata": {},
   "outputs": [
    {
     "name": "stdout",
     "output_type": "stream",
     "text": [
      "   from  to   doc2vec  bagofwords  setofwords\n",
      "0     0   0  0.000000    0.000000    0.000000\n",
      "1     0   1  0.441946    0.882149    0.937500\n",
      "2     0   2  0.438640    0.676425    0.882353\n",
      "3     0   3  0.468062    1.000000    1.000000\n",
      "4     0   4  0.443751    1.000000    1.000000\n",
      "(435, 5)\n"
     ]
    }
   ],
   "source": [
    "# Setup some of the preliminary ontology, embedding, and datset objects.\n",
    "doc2vec_model_filename = \"../gensim/enwiki_dbow/doc2vec.bin\"\n",
    "doc2vec_model = gensim.models.Doc2Vec.load(doc2vec_model_filename)\n",
    "descriptions = dataset.get_description_dictionary()\n",
    "\n",
    "# Construct the graphs based on similarity between the text associated with each gene.\n",
    "name_to_df_mapping = {}\n",
    "name_to_df_mapping[\"doc2vec\"] = pairwise_edgelist_doc2vec(doc2vec_model, descriptions)\n",
    "name_to_df_mapping[\"bagofwords\"] = pairwise_edgelist_bagofwords(descriptions) \n",
    "name_to_df_mapping[\"setofwords\"] = pairwise_edgelist_setofwords(descriptions)\n",
    "df = merge_edgelists(name_to_df_mapping, default_value=0.000)\n",
    "print(df.head(5))\n",
    "print(df.shape)"
   ]
  },
  {
   "cell_type": "code",
   "execution_count": 103,
   "metadata": {
    "scrolled": true
   },
   "outputs": [
    {
     "name": "stdout",
     "output_type": "stream",
     "text": [
      "   from  to   doc2vec  bagofwords  setofwords  combined_score\n",
      "0     0   0  0.000000    0.000000    0.000000             0.0\n",
      "1     0   1  0.441946    0.882149    0.937500             0.0\n",
      "2     0   2  0.438640    0.676425    0.882353             0.0\n",
      "3     0   3  0.468062    1.000000    1.000000             0.0\n",
      "4     0   4  0.443751    1.000000    1.000000             0.0\n",
      "(435, 6)\n"
     ]
    }
   ],
   "source": [
    "# Merging information from the protein-protein interaction database with this data.\n",
    "df = df.merge(right=string_df, how=\"left\", on=[\"from\",\"to\"])\n",
    "df.fillna(value=0,inplace=True)\n",
    "print(df.head(5))\n",
    "print(df.shape)"
   ]
  },
  {
   "cell_type": "markdown",
   "metadata": {},
   "source": [
    "### 1.1 Do the edges joining interacting proteins come from a different distribution?\n",
    "This section uses a statistical test (Kolmogorov-Smirnov) to see if the distributions of edge weights which correspond to edges representing a known protein interaction come drom a different distribution than the edge weights for edges that do not. This test was chosen because the sizes of the two samples can be different and there is no assumption of normality for the underlying distributions."
   ]
  },
  {
   "cell_type": "code",
   "execution_count": 104,
   "metadata": {},
   "outputs": [],
   "source": [
    "METHOD_NAMES = [\"doc2vec\", \"bagofwords\", \"setofwords\"]"
   ]
  },
  {
   "cell_type": "code",
   "execution_count": 105,
   "metadata": {},
   "outputs": [
    {
     "name": "stdout",
     "output_type": "stream",
     "text": [
      "            pos_mean  neg_mean  pos_n  neg_n         D   p_value\n",
      "doc2vec     0.402857  0.393334    8.0  427.0  0.171253  0.945861\n",
      "bagofwords  0.969822  0.854495    8.0  427.0  0.344848  0.244219\n",
      "setofwords  0.986324  0.901129    8.0  427.0  0.344848  0.244219\n"
     ]
    }
   ],
   "source": [
    "# Use KS test to see if protein-protein interaction edges come from a unique distribution.\n",
    "ppi_pos_dict = {name:(df[df[\"combined_score\"] > 0.00][name].values) for name in METHOD_NAMES}\n",
    "ppi_neg_dict = {name:(df[df[\"combined_score\"] == 0.00][name].values) for name in METHOD_NAMES}\n",
    "results = {}\n",
    "for name in METHOD_NAMES:\n",
    "    stat,p = ks_2samp(ppi_pos_dict[name],ppi_neg_dict[name])\n",
    "    pos_mean = np.average(ppi_pos_dict[name])\n",
    "    neg_mean = np.average(ppi_neg_dict[name])\n",
    "    pos_n = len(ppi_pos_dict[name])\n",
    "    neg_n = len(ppi_neg_dict[name])\n",
    "    results[name] = {\"pos_mean\":pos_mean, \"neg_mean\":neg_mean, \"pos_n\":pos_n, \"neg_n\":neg_n, \"D\": stat, \"p_value\":p}  \n",
    "\n",
    "print(pd.DataFrame(results).transpose())"
   ]
  },
  {
   "cell_type": "markdown",
   "metadata": {},
   "source": [
    "### 1.2 What do those distributions of edge weights in the graph look like?\n",
    "The distributions of the samples are distinct enough for some of the similarity metrics that the KS tests are significant, where the mean distance between nodes connected by edges which correspond to real protein-protein interactions is lower than for those that do not. In the next cell the density plots of those distributions are visualized. The red distributions are edges that were not found to correspond to known protein-protein interactions, and the green distributions are for edges that do correspond to known protein-protein interactions."
   ]
  },
  {
   "cell_type": "code",
   "execution_count": 72,
   "metadata": {},
   "outputs": [
    {
     "data": {
      "image/png": "[encoded data removed]",
      "text/plain": [
       "<Figure size 1008x360 with 3 Axes>"
      ]
     },
     "metadata": {
      "needs_background": "light"
     },
     "output_type": "display_data"
    }
   ],
   "source": [
    "fig, axs = plt.subplots(1,len(METHOD_NAMES))\n",
    "for col,ax in zip(METHOD_NAMES,axs):\n",
    "    ax.set_title(col)\n",
    "    ax.set_xlabel(\"value\")\n",
    "    ax.set_ylabel(\"density\")\n",
    "    sns.kdeplot(ppi_pos_dict[col], color=\"green\", shade=True, alpha=0.3, ax=ax)\n",
    "    sns.kdeplot(ppi_neg_dict[col], color=\"red\", shade=True, alpha=0.3, ax=ax) \n",
    "fig.set_size_inches(14.0, 5.0)\n",
    "fig.show()"
   ]
  },
  {
   "cell_type": "markdown",
   "metadata": {},
   "source": [
    "### 1.3 Can we practically use the graph to predict known protein-protein interactions?\n",
    "This is a different question than above, because the false positive rate is a limiting factor in how practically useful it would be to generate predictions about real protein interactions. In the case of the statistical test above, the sample distribution could be significantly different than the whole distribution of edge values even if there are many high valued edges which look like they could come from the sample distribution (i.e., the sample distribution could be distinct because of a *lack* of low values, not there could still be many high values that aren't positive edges in this cases, which will be false positives)."
   ]
  },
  {
   "cell_type": "code",
   "execution_count": 73,
   "metadata": {},
   "outputs": [],
   "source": [
    "# Class ratio of negative over positive, set arbitrary large to effectively do no balancing.\n",
    "CLASS_RATIO = 3**10"
   ]
  },
  {
   "cell_type": "code",
   "execution_count": 75,
   "metadata": {},
   "outputs": [
    {
     "name": "stdout",
     "output_type": "stream",
     "text": [
      "                 auc  baseline  num_pos  num_neg\n",
      "doc2vec     0.019573  0.018391      8.0    427.0\n",
      "bagofwords  0.011483  0.018391      8.0    427.0\n",
      "setofwords  0.011497  0.018391      8.0    427.0\n"
     ]
    }
   ],
   "source": [
    "# Providing summary statistics for precision recall curve using graph directly.\n",
    "y_true_dict = {name:(np.where(df[\"combined_score\"] > 0.000, 1, 0)) for name in METHOD_NAMES}\n",
    "y_prob_dict = {name:(1 - df[name].values) for name in METHOD_NAMES}\n",
    "results = {}\n",
    "for name in METHOD_NAMES:\n",
    "    y_true, y_prob = y_true_dict[name], y_prob_dict[name]\n",
    "    y_true, y_prob = balance_classes(y_true, y_prob, CLASS_RATIO)\n",
    "    n_pos, n_neg = Counter(y_true)[1], Counter(y_true)[0]\n",
    "    precision, recall, thresholds = precision_recall_curve(y_true, y_prob)\n",
    "    baseline = Counter(y_true)[1]/len(y_true) \n",
    "    average_precision = average_precision_score(y_true, y_prob)\n",
    "    area = auc(recall, precision)\n",
    "    auc_to_baseline_auc_ratio = area/baseline\n",
    "    results[name] = {\"auc\":area, \"baseline\":baseline, \"num_pos\":n_pos, \"num_neg\":n_neg}\n",
    "    \n",
    "print(pd.DataFrame(results).transpose())"
   ]
  },
  {
   "cell_type": "code",
   "execution_count": 77,
   "metadata": {},
   "outputs": [
    {
     "data": {
      "image/png": "[encoded data removed]",
      "text/plain": [
       "<Figure size 1008x360 with 3 Axes>"
      ]
     },
     "metadata": {
      "needs_background": "light"
     },
     "output_type": "display_data"
    }
   ],
   "source": [
    "# Visualizing the precision recall curves for each method of estimating edge weight.\n",
    "fig, axs = plt.subplots(1,len(METHOD_NAMES))\n",
    "for method,ax in zip(METHOD_NAMES,axs):\n",
    "    y_true, y_prob = y_true_dict[method], y_prob_dict[method]\n",
    "    y_true, y_prob = balance_classes(y_true, y_prob, CLASS_RATIO)\n",
    "    precision, recall, thresholds = precision_recall_curve(y_true, y_prob)\n",
    "    baseline = Counter(y_true)[1]/len(y_true) \n",
    "    step_kwargs = ({'step': 'post'} if 'step' in signature(plt.fill_between).parameters else {})\n",
    "    ax.step(recall, precision, color='black', alpha=0.2, where='post')\n",
    "    ax.fill_between(recall, precision, alpha=0.7, color='black', **step_kwargs)\n",
    "    ax.set_xlabel('Recall')\n",
    "    ax.set_ylabel('Precision')\n",
    "    ax.set_ylim([0.0, 1.05])\n",
    "    ax.set_xlim([0.0, 1.0])\n",
    "    ax.set_title(\"P:P PR Curve ({0}): BL={1:0.3f}\".format(method, baseline))\n",
    "    \n",
    "fig.set_size_inches(14.0, 5.0)\n",
    "fig.show()"
   ]
  },
  {
   "cell_type": "markdown",
   "metadata": {},
   "source": [
    "### 1.4 Is there evidence that querying the graph with one gene will successfully return a gene that it interacts with?\n",
    "Explain what we mean by querying, and more in-depth description of what we're trying to find out here with these tests."
   ]
  },
  {
   "cell_type": "code",
   "execution_count": 99,
   "metadata": {},
   "outputs": [
    {
     "name": "stdout",
     "output_type": "stream",
     "text": [
      "doc2vec       16\n",
      "bagofwords    16\n",
      "setofwords    16\n"
     ]
    }
   ],
   "source": [
    "# Get the list of gene IDs involved in interation with atleast one other protein in this dataset.\n",
    "genes_with_partners = pd.unique(string_df[[\"from\",\"to\"]].dropna().values.ravel('K'))\n",
    "partner_ranks_dict = {}\n",
    "\n",
    "# For each method, obtain a list of the rankings in terms of similarity as measured by that method, using each gene\n",
    "# iteratively as the query gene. The method of accessing the ranks is to first subset the edgelist dataframe to \n",
    "# contain only the rows where an edge involving the node of the query gene is specified, then the edge list is \n",
    "# sorted by the specific similarity score for that method, so that the indices of edges where the protein-protein\n",
    "# interaction score is non-zero will correspond directly to ranks.\n",
    "for name in METHOD_NAMES:\n",
    "    partner_ranks = []\n",
    "    for gene_id in genes_with_partners:\n",
    "        merged_df = pd.concat([df[df[\"from\"]==gene_id],df[df[\"to\"]==gene_id]],ignore_index=True)\n",
    "        merged_df = merged_df.sort_values(by=[name]).reset_index(drop=True)\n",
    "        indices = merged_df.query(\"combined_score > 0.00\").index.tolist()\n",
    "        partner_ranks.extend(indices)\n",
    "    partner_ranks = [rank+1 for rank in partner_ranks]\n",
    "    partner_ranks_dict[name] = partner_ranks\n",
    "    print(\"{0:<14}{1:}\".format(name,len(partner_ranks)))"
   ]
  },
  {
   "cell_type": "code",
   "execution_count": 101,
   "metadata": {},
   "outputs": [
    {
     "data": {
      "image/png": "[encoded data removed]",
      "text/plain": [
       "<Figure size 720x360 with 3 Axes>"
      ]
     },
     "metadata": {
      "needs_background": "light"
     },
     "output_type": "display_data"
    }
   ],
   "source": [
    "max_rank = len(pd.unique(df[[\"from\",\"to\"]].dropna().values.ravel('K')))\n",
    "num_bins = 20\n",
    "fig, axs = plt.subplots(1,len(METHOD_NAMES))\n",
    "for name,ax in zip(METHOD_NAMES,axs):\n",
    "    partner_ranks = partner_ranks_dict[name]\n",
    "    random_ranks = np.random.choice(np.arange(max_rank), len(partner_ranks))\n",
    "    random_ranks = [r+1 for r in random_ranks]\n",
    "    ax.set_title(name)\n",
    "    ax.set_xlabel(\"value\")\n",
    "    ax.set_ylabel(\"density\")\n",
    "    sns.distplot(partner_ranks, bins=num_bins, color=\"green\", kde=False, ax=ax)\n",
    "    sns.distplot(random_ranks, bins=num_bins, color=\"red\", kde=False, ax=ax) \n",
    "\n",
    "fig.set_size_inches(10.0, 5.0)\n",
    "fig.show()"
   ]
  }
 ],
 "metadata": {
  "kernelspec": {
   "display_name": "Python 3",
   "language": "python",
   "name": "python3"
  },
  "language_info": {
   "codemirror_mode": {
    "name": "ipython",
    "version": 3
   },
   "file_extension": ".py",
   "mimetype": "text/x-python",
   "name": "python",
   "nbconvert_exporter": "python",
   "pygments_lexer": "ipython3",
   "version": "3.6.7"
  }
 },
 "nbformat": 4,
 "nbformat_minor": 2
}
