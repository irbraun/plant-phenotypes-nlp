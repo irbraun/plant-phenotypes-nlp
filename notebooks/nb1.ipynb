{
 "cells": [
  {
   "cell_type": "markdown",
   "metadata": {},
   "source": [
    "## Characterizing a Single-Species Graph\n",
    "The purpose of this notebook is to characterize the dataset of genes, phenotypes, and annotations for Arabidopsis thaliana specifically. The sources of information include several different resources which are aggregated at differnet points in the analysis, and specified below. We want to figure out what kinds of properties the different graphs have in terms of potential predictive power for untangling pathway interactions or predicting pathway membership of regulatory network clusters. This is done for the purposes of figuring out if the predictions made over text descriptions that do *not* have the corresponding high-quality annotations or characterizations are likely to be useful to biologists."
   ]
  },
  {
   "cell_type": "code",
   "execution_count": 44,
   "metadata": {},
   "outputs": [],
   "source": [
    "import matplotlib.pyplot as plt\n",
    "import pandas as pd\n",
    "import numpy as np\n",
    "import time\n",
    "import sys\n",
    "import gensim\n",
    "import os\n",
    "import warnings\n",
    "import itertools\n",
    "from collections import Counter\n",
    "from inspect import signature\n",
    "\n",
    "from sklearn.metrics import precision_recall_curve\n",
    "from sklearn.metrics import precision_recall_curve\n",
    "from sklearn.metrics import f1_score\n",
    "from sklearn.metrics import auc\n",
    "from sklearn.metrics import average_precision_score\n",
    "from sklearn.datasets import make_classification\n",
    "from sklearn.model_selection import train_test_split\n",
    "from scipy.stats import ks_2samp\n",
    "\n",
    "sys.path.append(\"../../oats\")\n",
    "from oats.utils.utils import save_to_pickle, load_from_pickle, merge_list_dicts\n",
    "from oats.utils.utils import function_wrapper, to_hms\n",
    "from oats.datasets.dataset import Dataset\n",
    "from oats.datasets.groupings import Groupings\n",
    "from oats.datasets.string import get_string_protein_links_df\n",
    "from oats.annotation.ontology import Ontology\n",
    "from oats.annotation.annotation import write_annotations_to_tsv_file, read_annotations_from_tsv_file\n",
    "from oats.graphs.pairwise import get_edgelist_with_doc2vec, get_edgelist_with_bagofwords, get_edgelist_with_setofwords\n",
    "from oats.graphs.pairwise import get_edgelist_with_annotations, merge_edgelists, subset_edgelist_with_ids\n",
    "\n",
    "warnings.simplefilter('ignore')"
   ]
  },
  {
   "cell_type": "markdown",
   "metadata": {},
   "source": [
    "### Does the graph based on text similarity recapitulate known protein-protein interactions?\n",
    "A more in depth description of this question here, what we expected and what we want to know and why we want to know it."
   ]
  },
  {
   "cell_type": "code",
   "execution_count": 2,
   "metadata": {},
   "outputs": [
    {
     "name": "stdout",
     "output_type": "stream",
     "text": [
      "Number of rows in the dataframe: 100\n",
      "Number of unique IDs:            100\n",
      "Number of unique descriptions:   86\n",
      "Number of unique gene name sets: 100\n",
      "Number of species represented:   1\n"
     ]
    }
   ],
   "source": [
    "# This dataset is only focused on including all genes mapped to some text information.\n",
    "dataset = Dataset()\n",
    "dataset.add_data(pd.read_csv(\"../data/reshaped_files/ath_tair_gene_text.csv\", lineterminator=\"\\n\"))\n",
    "dataset.add_data(pd.read_csv(\"../data/reshaped_files/all_pppn_gene_textlong_annot.csv\", lineterminator=\"\\n\"))\n",
    "dataset.add_data(pd.read_csv(\"../data/reshaped_files/all_pppn_gene_textshort_annot.csv\", lineterminator=\"\\n\"))\n",
    "dataset.filter_by_species([\"ath\"])\n",
    "dataset.collapse_by_first_gene_name()\n",
    "dataset.filter_has_description()\n",
    "dataset.filter_random_k(100, seed=19824)\n",
    "dataset.describe()"
   ]
  },
  {
   "cell_type": "code",
   "execution_count": 3,
   "metadata": {},
   "outputs": [
    {
     "name": "stdout",
     "output_type": "stream",
     "text": [
      "    from  to   doc2vec  bagofwords  setofwords\n",
      "0      0   0  0.000000    0.000000         0.0\n",
      "1      0   1  0.518536    0.974048         1.0\n",
      "2      0   2  0.476540    0.933660         1.0\n",
      "3      0   3  0.522806    1.000000         1.0\n",
      "4      0   4  0.556991    0.840248         1.0\n",
      "5      0   5  0.492572    1.000000         1.0\n",
      "6      0   6  0.509483    1.000000         1.0\n",
      "7      0   7  0.501633    0.849093         1.0\n",
      "8      0   8  0.302197    0.779455         1.0\n",
      "9      0   9  0.521054    0.920943         1.0\n",
      "10     0  10  0.398420    1.000000         1.0\n",
      "11     0  11  0.555490    1.000000         1.0\n",
      "12     0  12  0.317432    0.785487         1.0\n",
      "13     0  13  0.529254    1.000000         1.0\n",
      "14     0  14  0.558438    1.000000         1.0\n",
      "15     0  15  0.562853    1.000000         1.0\n",
      "(5050, 5)\n"
     ]
    }
   ],
   "source": [
    "# Setup some of the preliminary ontology, embedding, and datset stuff.\n",
    "doc2vec_model_filename = \"../gensim/enwiki_dbow/doc2vec.bin\"\n",
    "doc2vec_model = gensim.models.Doc2Vec.load(doc2vec_model_filename)\n",
    "descriptions = dataset.get_description_dictionary()\n",
    "genes = dataset.get_gene_dictionary()\n",
    "\n",
    "# Construct the graphs based on similarity between the text associated with each gene.\n",
    "name_to_df_mapping = {}\n",
    "name_to_df_mapping[\"doc2vec\"] = get_edgelist_with_doc2vec(doc2vec_model, descriptions)\n",
    "name_to_df_mapping[\"bagofwords\"] = get_edgelist_with_bagofwords(descriptions) \n",
    "name_to_df_mapping[\"setofwords\"] = get_edgelist_with_setofwords(descriptions)\n",
    "df = merge_edgelists(name_to_df_mapping, default_value=0.000)\n",
    "print(df.head(16))\n",
    "print(df.shape)"
   ]
  },
  {
   "cell_type": "code",
   "execution_count": 4,
   "metadata": {
    "scrolled": true
   },
   "outputs": [
    {
     "name": "stdout",
     "output_type": "stream",
     "text": [
      "   from  to   doc2vec  bagofwords  setofwords  neighborhood  combined_score\n",
      "0     0   0  0.000000    0.000000         0.0           0.0             0.0\n",
      "1     0   1  0.518536    0.974048         1.0           0.0             0.0\n",
      "2     0   2  0.476540    0.933660         1.0           0.0             0.0\n",
      "3     0   3  0.522806    1.000000         1.0           0.0             0.0\n",
      "4     0   4  0.556991    0.840248         1.0           0.0             0.0\n",
      "5     0   5  0.492572    1.000000         1.0           0.0             0.0\n",
      "6     0   6  0.509483    1.000000         1.0           0.0             0.0\n",
      "7     0   7  0.501633    0.849093         1.0           0.0             0.0\n",
      "8     0   8  0.302197    0.779455         1.0           0.0             0.0\n",
      "9     0   9  0.521054    0.920943         1.0           0.0             0.0\n"
     ]
    }
   ],
   "source": [
    "string_database_file = \"/Users/irbraun/Downloads/3702.protein.links.detailed.v11.0.txt\"\n",
    "ppi_df = get_string_protein_links_df(string_database_file, genes)\n",
    "df = df.merge(right=ppi_df, how=\"left\", on=[\"from\",\"to\"])\n",
    "df.fillna(value=0,inplace=True)\n",
    "print(df.head(10))"
   ]
  },
  {
   "cell_type": "markdown",
   "metadata": {},
   "source": [
    "Testing to see if the similarity values generated based on text were able to recapitulate the known protein-protein interactions from the STRING database specifically for Arabdidopsis proteins. Does a distinction need to be made here between whether or not nodes from the graph were not found at all in the STRING database, or whether it was just that\n",
    "no relevant interaction (to another node in the dataset) occurs? Figure this out."
   ]
  },
  {
   "cell_type": "code",
   "execution_count": 20,
   "metadata": {},
   "outputs": [
    {
     "name": "stdout",
     "output_type": "stream",
     "text": [
      "0.8343380043871298\n",
      "0.878261898392364\n",
      "Ks_2sampResult(statistic=0.28278907273521275, pvalue=0.004315560655747452)\n"
     ]
    }
   ],
   "source": [
    "ppi_pos = df[df[\"combined_score\"] > 0.00][\"bagofwords\"].values\n",
    "ppi_neg = df[df[\"combined_score\"] == 0.00][\"bagofwords\"].values\n",
    "print(np.average(ppi_pos))\n",
    "print(np.average(ppi_neg))\n",
    "print(ks_2samp(ppi_neg,ppi_pos))"
   ]
  },
  {
   "cell_type": "code",
   "execution_count": 50,
   "metadata": {},
   "outputs": [],
   "source": [
    "def balance_classes(y_true, y_scores, ratio):\n",
    "    pos_tuples = [(t,s) for t,s in zip(y_true,y_scores) if t==1]\n",
    "    neg_tuples = [(t,s) for t,s in zip(y_true,y_scores) if t==0]\n",
    "    max_pos_samples = len(pos_tuples)\n",
    "    max_neg_samples = len(pos_tuples)*ratio\n",
    "    pos_tuples = pos_tuples[:max_pos_samples]\n",
    "    neg_tuples = neg_tuples[:max_neg_samples]\n",
    "    pos_tuples.extend(neg_tuples)\n",
    "    all_tuples = pos_tuples\n",
    "    y_true = [x[0] for x in all_tuples]\n",
    "    y_scores = [x[1] for x in all_tuples]\n",
    "    return(y_true,y_scores)"
   ]
  },
  {
   "cell_type": "code",
   "execution_count": 74,
   "metadata": {},
   "outputs": [
    {
     "data": {
      "text/plain": [
       "Text(0.5, 1.0, 'Protein-Protein Precision-Recall Curve: BL=0.01')"
      ]
     },
     "execution_count": 74,
     "metadata": {},
     "output_type": "execute_result"
    },
    {
     "data": {
      "image/png": "[encoded data removed]",
      "text/plain": [
       "<Figure size 432x288 with 1 Axes>"
      ]
     },
     "metadata": {
      "needs_background": "light"
     },
     "output_type": "display_data"
    }
   ],
   "source": [
    "df[\"new\"] = 1-df[\"bagofwords\"]\n",
    "\n",
    "y_true = np.where(df[\"combined_score\"] > 0.000, 1, 0)\n",
    "y_scores = df[\"new\"].values\n",
    "\n",
    "#class_ratio = 2\n",
    "#y_true,y_scores = balance_classes(y_true,y_scores, class_ratio)\n",
    "\n",
    "                    \n",
    "# Generating the precision and recall values from the predicted values and classes.\n",
    "precision, recall, thresholds = precision_recall_curve(y_true, y_scores)\n",
    "baseline = Counter(y_true)[1]/len(y_true) \n",
    "average_precision = average_precision_score(y_true, y_scores)\n",
    "area = auc(recall, precision)\n",
    "auc_to_baseline_auc_ratio = area/baseline\n",
    "step_kwargs = ({'step': 'post'} if 'step' in signature(plt.fill_between).parameters else {})\n",
    "plt.step(recall, precision, color='b', alpha=0.2, where='post')\n",
    "plt.fill_between(recall, precision, alpha=0.2, color='b', **step_kwargs)\n",
    "\n",
    "# Formatting the precision and recall plot.\n",
    "plt.xlabel('Recall')\n",
    "plt.ylabel('Precision')\n",
    "plt.ylim([0.0, 1.05])\n",
    "plt.xlim([0.0, 1.0])\n",
    "plt.title('Protein-Protein Precision-Recall Curve: BL={0:0.2f}'.format(baseline))"
   ]
  },
  {
   "cell_type": "code",
   "execution_count": null,
   "metadata": {},
   "outputs": [],
   "source": []
  },
  {
   "cell_type": "code",
   "execution_count": null,
   "metadata": {},
   "outputs": [],
   "source": []
  },
  {
   "cell_type": "code",
   "execution_count": null,
   "metadata": {},
   "outputs": [],
   "source": []
  },
  {
   "cell_type": "code",
   "execution_count": null,
   "metadata": {},
   "outputs": [],
   "source": []
  },
  {
   "cell_type": "code",
   "execution_count": null,
   "metadata": {},
   "outputs": [],
   "source": []
  }
 ],
 "metadata": {
  "kernelspec": {
   "display_name": "Python 3",
   "language": "python",
   "name": "python3"
  },
  "language_info": {
   "codemirror_mode": {
    "name": "ipython",
    "version": 3
   },
   "file_extension": ".py",
   "mimetype": "text/x-python",
   "name": "python",
   "nbconvert_exporter": "python",
   "pygments_lexer": "ipython3",
   "version": "3.6.7"
  }
 },
 "nbformat": 4,
 "nbformat_minor": 2
}
