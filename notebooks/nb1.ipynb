{
 "cells": [
  {
   "cell_type": "markdown",
   "metadata": {},
   "source": [
    "# Characterizing a Single-Species Graph\n",
    "The purpose of this notebook is to characterize the dataset of genes, phenotypes, and annotations for Arabidopsis thaliana specifically. The sources of information include several different resources which are aggregated at differnet points in the analysis, and specified below. We want to figure out what kinds of properties the different graphs have in terms of potential predictive power for untangling pathway interactions or predicting pathway membership of regulatory network clusters. This is done for the purposes of figuring out if the predictions made over text descriptions that do *not* have the corresponding high-quality annotations or characterizations are likely to be useful to biologists."
   ]
  },
  {
   "cell_type": "code",
   "execution_count": 110,
   "metadata": {},
   "outputs": [],
   "source": [
    "import matplotlib.pyplot as plt\n",
    "import seaborn as sns\n",
    "import pandas as pd\n",
    "import numpy as np\n",
    "import time\n",
    "import math\n",
    "import sys\n",
    "import gensim\n",
    "import os\n",
    "import warnings\n",
    "import itertools\n",
    "from collections import Counter\n",
    "from inspect import signature\n",
    "from scipy.stats import ks_2samp\n",
    "\n",
    "from sklearn.metrics import precision_recall_curve\n",
    "from sklearn.metrics import f1_score\n",
    "from sklearn.metrics import auc\n",
    "from sklearn.metrics import average_precision_score\n",
    "from sklearn.datasets import make_classification\n",
    "from sklearn.model_selection import train_test_split\n",
    "\n",
    "sys.path.append(\"../../oats\")\n",
    "from oats.utils.utils import save_to_pickle, load_from_pickle, merge_list_dicts\n",
    "from oats.utils.utils import function_wrapper, to_hms\n",
    "from oats.datasets.dataset import Dataset\n",
    "from oats.datasets.groupings import Groupings\n",
    "from oats.datasets.string import get_string_protein_links_df\n",
    "from oats.annotation.ontology import Ontology\n",
    "from oats.annotation.annotation import write_annotations_to_tsv_file, read_annotations_from_tsv_file\n",
    "from oats.graphs.pairwise import get_edgelist_with_doc2vec, get_edgelist_with_bagofwords, get_edgelist_with_setofwords\n",
    "from oats.graphs.pairwise import get_edgelist_with_annotations, merge_edgelists, subset_edgelist_with_ids\n",
    "from oats.objectives.functions import balance_classes\n",
    "\n",
    "warnings.simplefilter('ignore')"
   ]
  },
  {
   "cell_type": "markdown",
   "metadata": {},
   "source": [
    "## 1 Does the graph recapitulate known protein-protein interactions?\n",
    "A more in depth description of this question here, what we expected and what we want to know and why we want to know it."
   ]
  },
  {
   "cell_type": "code",
   "execution_count": 131,
   "metadata": {},
   "outputs": [
    {
     "name": "stdout",
     "output_type": "stream",
     "text": [
      "Number of rows in the dataframe: 1000\n",
      "Number of unique IDs:            1000\n",
      "Number of unique descriptions:   721\n",
      "Number of unique gene name sets: 1000\n",
      "Number of species represented:   1\n",
      "Number of rows in the dataframe: 393\n",
      "Number of unique IDs:            393\n",
      "Number of unique descriptions:   354\n",
      "Number of unique gene name sets: 393\n",
      "Number of species represented:   1\n"
     ]
    }
   ],
   "source": [
    "# This dataset is only focused on including all genes mapped to some text information.\n",
    "dataset = Dataset()\n",
    "dataset.add_data(pd.read_csv(\"../data/reshaped_files/ath_tair_gene_text.csv\", lineterminator=\"\\n\"))\n",
    "dataset.add_data(pd.read_csv(\"../data/reshaped_files/all_pppn_gene_textlong_annot.csv\", lineterminator=\"\\n\"))\n",
    "dataset.add_data(pd.read_csv(\"../data/reshaped_files/all_pppn_gene_textshort_annot.csv\", lineterminator=\"\\n\"))\n",
    "dataset.filter_by_species([\"ath\"])\n",
    "dataset.collapse_by_first_gene_name()\n",
    "dataset.filter_has_description()\n",
    "dataset.filter_random_k(1000, seed=19824)\n",
    "dataset.describe()\n",
    "\n",
    "\n",
    "# ADDING NEW PIECE HERE\n",
    "genes = dataset.get_gene_dictionary()\n",
    "string_database_file = \"/Users/irbraun/Downloads/3702.protein.links.detailed.v11.0.txt\"\n",
    "ppi_df = get_string_protein_links_df(string_database_file, genes)\n",
    "genes_with_partners = set()\n",
    "genes_with_partners.update(ppi_df[\"from\"].values)\n",
    "genes_with_partners.update(ppi_df[\"to\"].values)\n",
    "genes_with_partners = list(genes_with_partners)\n",
    "dataset.filter_with_ids(ids=genes_with_partners)\n",
    "dataset.describe()"
   ]
  },
  {
   "cell_type": "code",
   "execution_count": null,
   "metadata": {},
   "outputs": [],
   "source": []
  },
  {
   "cell_type": "code",
   "execution_count": 132,
   "metadata": {},
   "outputs": [
    {
     "name": "stdout",
     "output_type": "stream",
     "text": [
      "    from  to   doc2vec  bagofwords  setofwords\n",
      "0      0   0  0.000000    0.000000    0.000000\n",
      "1      0   1  0.391817    0.915242    0.948276\n",
      "2      0   2  0.569858    1.000000    1.000000\n",
      "3      0   3  0.607987    0.803446    0.980000\n",
      "4      0   4  0.350718    0.921216    0.977778\n",
      "5      0   5  0.443974    0.781477    0.967391\n",
      "6      0   6  0.450671    0.980426    0.980392\n",
      "7      0   7  0.488673    0.803040    0.966667\n",
      "8      0   8  0.412744    0.950371    0.970588\n",
      "9      0   9  0.379198    0.848380    0.945946\n",
      "10     0  10  0.389383    0.920819    1.000000\n",
      "11     0  11  0.393709    0.874165    0.971429\n",
      "12     0  12  0.503804    0.848380    1.000000\n",
      "13     0  13  0.399292    0.983048    1.000000\n",
      "14     0  14  0.451353    0.827625    0.965217\n",
      "15     0  15  0.329067    0.713382    0.943820\n",
      "(77421, 5)\n"
     ]
    }
   ],
   "source": [
    "# Setup some of the preliminary ontology, embedding, and datset stuff.\n",
    "doc2vec_model_filename = \"../gensim/enwiki_dbow/doc2vec.bin\"\n",
    "doc2vec_model = gensim.models.Doc2Vec.load(doc2vec_model_filename)\n",
    "ontology_filename = \"../ontologies/mo.obo\"\n",
    "#ontology = Ontology(ontology_filename)\n",
    "descriptions = dataset.get_description_dictionary()\n",
    "#annotations = annotate_using_rabin_karp(descriptions, ontology)\n",
    "genes = dataset.get_gene_dictionary()\n",
    "\n",
    "# Construct the graphs based on similarity between the text associated with each gene.\n",
    "name_to_df_mapping = {}\n",
    "name_to_df_mapping[\"doc2vec\"] = get_edgelist_with_doc2vec(doc2vec_model, descriptions)\n",
    "#name_to_df_mapping[\"ontology\"] = get_edgelist_with_annotations(annotations, ontology)\n",
    "name_to_df_mapping[\"bagofwords\"] = get_edgelist_with_bagofwords(descriptions) \n",
    "name_to_df_mapping[\"setofwords\"] = get_edgelist_with_setofwords(descriptions)\n",
    "df = merge_edgelists(name_to_df_mapping, default_value=0.000)\n",
    "print(df.head(16))\n",
    "print(df.shape)"
   ]
  },
  {
   "cell_type": "code",
   "execution_count": 133,
   "metadata": {
    "scrolled": true
   },
   "outputs": [
    {
     "name": "stdout",
     "output_type": "stream",
     "text": [
      "   from  to   doc2vec  bagofwords  setofwords  combined_score\n",
      "0     0   0  0.000000    0.000000    0.000000             0.0\n",
      "1     0   1  0.391817    0.915242    0.948276             0.0\n",
      "2     0   2  0.569858    1.000000    1.000000             0.0\n",
      "3     0   3  0.607987    0.803446    0.980000             0.0\n",
      "4     0   4  0.350718    0.921216    0.977778             0.0\n",
      "5     0   5  0.443974    0.781477    0.967391             0.0\n",
      "6     0   6  0.450671    0.980426    0.980392             0.0\n",
      "7     0   7  0.488673    0.803040    0.966667             0.0\n",
      "8     0   8  0.412744    0.950371    0.970588             0.0\n",
      "9     0   9  0.379198    0.848380    0.945946             0.0\n"
     ]
    }
   ],
   "source": [
    "# Merging information from the protein-protein interaction database (STRING) with this data.\n",
    "string_database_file = \"/Users/irbraun/Downloads/3702.protein.links.detailed.v11.0.txt\"\n",
    "ppi_df = get_string_protein_links_df(string_database_file, genes)\n",
    "df = df.merge(right=ppi_df, how=\"left\", on=[\"from\",\"to\"])\n",
    "df.fillna(value=0,inplace=True)\n",
    "print(df.head(10))"
   ]
  },
  {
   "cell_type": "markdown",
   "metadata": {},
   "source": [
    "### 1.1 Do the edges joining interacting proteins come from a different distribution?\n",
    "Testing to see if the similarity values generated based on text were able to recapitulate the known protein-protein interactions from the STRING database specifically for Arabdidopsis proteins. Does a distinction need to be made here between whether or not nodes from the graph were not found at all in the STRING database, or whether it was just that\n",
    "no relevant interaction (to another node in the dataset) occurs? Figure this out."
   ]
  },
  {
   "cell_type": "code",
   "execution_count": 134,
   "metadata": {},
   "outputs": [],
   "source": [
    "METHOD_NAMES = [\"doc2vec\", \"bagofwords\", \"setofwords\"]"
   ]
  },
  {
   "cell_type": "code",
   "execution_count": 137,
   "metadata": {},
   "outputs": [
    {
     "name": "stdout",
     "output_type": "stream",
     "text": [
      "            pos_mean  neg_mean         D       p_value\n",
      "doc2vec     0.441514  0.445116  0.063819  1.976810e-11\n",
      "bagofwords  0.820420  0.843573  0.063504  2.537737e-11\n",
      "setofwords  0.970397  0.966637  0.044369  9.589055e-06\n"
     ]
    }
   ],
   "source": [
    "# Use KS test to see if protein-protein interaction edges come from a unique distribution.\n",
    "ppi_pos_dict = {name:(df[df[\"combined_score\"] > 0.00][name].values) for name in METHOD_NAMES}\n",
    "ppi_neg_dict = {name:(df[df[\"combined_score\"] == 0.00][name].values) for name in METHOD_NAMES}\n",
    "results = {}\n",
    "for name in METHOD_NAMES:\n",
    "    stat,p = ks_2samp(ppi_pos_dict[name],ppi_neg_dict[name])\n",
    "    pos_mean = np.average(ppi_pos_dict[name])\n",
    "    neg_mean = np.average(ppi_neg_dict[name])\n",
    "    results[name] = {\"pos_mean\":pos_mean, \"neg_mean\":neg_mean, \"D\": stat, \"p_value\":p}  \n",
    "    \n",
    "print(pd.DataFrame(results).transpose())"
   ]
  },
  {
   "cell_type": "markdown",
   "metadata": {},
   "source": [
    "### 1.2 What do those distributions of edge weights in the graph look like?\n",
    "The distributions of the samples are distinct enough for some of the similarity metrics that the KS tests are significant, where the mean distance between nodes connected by edges which correspond to real protein-protein interactions is lower than for those that do not. In the next cell the density plots of those distributions are visualized. The red distributions are edges that were not found to correspond to known protein-protein interactions, and the green distributions are for edges that do correspond to known protein-protein interactions."
   ]
  },
  {
   "cell_type": "code",
   "execution_count": 138,
   "metadata": {},
   "outputs": [
    {
     "data": {
      "image/png": "[encoded data removed]",
      "text/plain": [
       "<Figure size 1008x360 with 3 Axes>"
      ]
     },
     "metadata": {
      "needs_background": "light"
     },
     "output_type": "display_data"
    }
   ],
   "source": [
    "fig, axs = plt.subplots(1,len(METHOD_NAMES))\n",
    "for col,ax in zip(METHOD_NAMES,axs):\n",
    "    ax.set_title(col)\n",
    "    ax.set_xlabel(\"value\")\n",
    "    ax.set_ylabel(\"density\")\n",
    "    sns.kdeplot(ppi_pos_dict[col], color=\"green\", shade=True, alpha=0.3, ax=ax)\n",
    "    sns.kdeplot(ppi_neg_dict[col], color=\"red\", shade=True, alpha=0.3, ax=ax) \n",
    "    \n",
    "fig.set_size_inches(14.0, 5.0)\n",
    "fig.show()"
   ]
  },
  {
   "cell_type": "markdown",
   "metadata": {},
   "source": [
    "### 1.3 Can we practically use the graph to predict known protein-protein interactions?\n",
    "This is a different question than above, because the false positive rate is a limiting factor in how practically useful it would be to generate predictions about real protein interactions. In the case of the statistical test above, the sample distribution could be significantly different than the whole distribution of edge values even if there are many high valued edges which look like they could come from the sample distribution (i.e., the sample distribution could be distinct because of a *lack* of low values, not there could still be many high values that aren't positive edges in this cases, which will be false positives)."
   ]
  },
  {
   "cell_type": "code",
   "execution_count": 139,
   "metadata": {},
   "outputs": [],
   "source": [
    "# Class ratio of negative over positive, set arbitrary large to effectively do no balancing.\n",
    "CLASS_RATIO = 3**10"
   ]
  },
  {
   "cell_type": "code",
   "execution_count": 140,
   "metadata": {},
   "outputs": [
    {
     "name": "stdout",
     "output_type": "stream",
     "text": [
      "                 auc  baseline  num_pos  num_neg\n",
      "doc2vec     0.045520   0.04194   3247.0  74174.0\n",
      "bagofwords  0.051286   0.04194   3247.0  74174.0\n",
      "setofwords  0.045944   0.04194   3247.0  74174.0\n"
     ]
    }
   ],
   "source": [
    "# Providing summary statistics for precision recall curve using graph directly.\n",
    "y_true_dict = {name:(np.where(df[\"combined_score\"] > 0.000, 1, 0)) for name in METHOD_NAMES}\n",
    "y_prob_dict = {name:(1 - df[name].values) for name in METHOD_NAMES}\n",
    "results = {}\n",
    "for name in METHOD_NAMES:\n",
    "    y_true, y_prob = y_true_dict[name], y_prob_dict[name]\n",
    "    y_true, y_prob = balance_classes(y_true, y_prob, CLASS_RATIO)\n",
    "    n_pos, n_neg = Counter(y_true)[1], Counter(y_true)[0]\n",
    "    precision, recall, thresholds = precision_recall_curve(y_true, y_prob)\n",
    "    baseline = Counter(y_true)[1]/len(y_true) \n",
    "    average_precision = average_precision_score(y_true, y_prob)\n",
    "    area = auc(recall, precision)\n",
    "    auc_to_baseline_auc_ratio = area/baseline\n",
    "    results[name] = {\"auc\":area, \"baseline\":baseline, \"num_pos\":n_pos, \"num_neg\":n_neg}\n",
    "    \n",
    "print(pd.DataFrame(results).transpose())"
   ]
  },
  {
   "cell_type": "code",
   "execution_count": 141,
   "metadata": {},
   "outputs": [
    {
     "data": {
      "image/png": "[encoded data removed]",
      "text/plain": [
       "<Figure size 1008x360 with 3 Axes>"
      ]
     },
     "metadata": {
      "needs_background": "light"
     },
     "output_type": "display_data"
    }
   ],
   "source": [
    "# Visualizing the precision recall curves for each method of estimating edge weight.\n",
    "fig, axs = plt.subplots(1,len(METHOD_NAMES))\n",
    "for method,ax in zip(METHOD_NAMES,axs):\n",
    "    y_true, y_prob = y_true_dict[method], y_prob_dict[method]\n",
    "    y_true, y_prob = balance_classes(y_true, y_prob, CLASS_RATIO)\n",
    "    precision, recall, thresholds = precision_recall_curve(y_true, y_prob)\n",
    "    baseline = Counter(y_true)[1]/len(y_true) \n",
    "    step_kwargs = ({'step': 'post'} if 'step' in signature(plt.fill_between).parameters else {})\n",
    "    ax.step(recall, precision, color='black', alpha=0.2, where='post')\n",
    "    ax.fill_between(recall, precision, alpha=0.7, color='black', **step_kwargs)\n",
    "    ax.set_xlabel('Recall')\n",
    "    ax.set_ylabel('Precision')\n",
    "    ax.set_ylim([0.0, 1.05])\n",
    "    ax.set_xlim([0.0, 1.0])\n",
    "    ax.set_title(\"P:P PR Curve ({0}): BL={1:0.3f}\".format(method, baseline))\n",
    "    \n",
    "fig.set_size_inches(14.0, 5.0)\n",
    "fig.show()"
   ]
  },
  {
   "cell_type": "markdown",
   "metadata": {},
   "source": [
    "### 1.4 Is there evidence that querying the graph with one gene will return a successfully return a gene that it interacts with?\n",
    "Explain what we mean by querying, and more in-depth description of what we're trying to find out here with these tests."
   ]
  },
  {
   "cell_type": "code",
   "execution_count": 142,
   "metadata": {},
   "outputs": [],
   "source": [
    "# Which genes have some known functional partner in the dataset?\n",
    "genes_with_partners = set()\n",
    "genes_with_partners.update(ppi_df[\"from\"].values)\n",
    "genes_with_partners.update(ppi_df[\"to\"].values)\n",
    "\n",
    "# Find the ranks of each of those partners when iteratively querying with each of gene.\n",
    "partner_ranks = []\n",
    "for gene_id in genes_with_partners:\n",
    "    sub_df_one =  df[df[\"from\"] == gene_id]\n",
    "    sub_df_two = df[df[\"to\"] == gene_id]\n",
    "    sub_df_one[\"other\"] = sub_df_one[\"to\"]\n",
    "    sub_df_two[\"other\"] = sub_df_two[\"from\"]\n",
    "    merged_df = pd.concat([sub_df_one,sub_df_two],ignore_index=True)\n",
    "    merged_df = merged_df.sort_values(by=[\"bagofwords\"]).reset_index(drop=True)\n",
    "    indices = merged_df.query(\"combined_score > 0.00\").index.tolist()\n",
    "    partner_ranks.extend(indices)\n",
    "\n",
    "\n",
    "\n",
    "\n",
    "\n"
   ]
  },
  {
   "cell_type": "code",
   "execution_count": 155,
   "metadata": {},
   "outputs": [
    {
     "data": {
      "image/png": "[encoded data removed]",
      "text/plain": [
       "<Figure size 720x360 with 2 Axes>"
      ]
     },
     "metadata": {
      "needs_background": "light"
     },
     "output_type": "display_data"
    }
   ],
   "source": [
    "partner_ranks = [r+1 for r in partner_ranks]\n",
    "max_rank = 393 #?\n",
    "random_ranks = np.random.choice(np.arange(max_rank), len(partner_ranks))\n",
    "random_ranks = [r+1 for r in random_ranks]\n",
    "\n",
    "METHOD_NAMES = [\"bagofwords\", \"bagofwords\"]\n",
    "\n",
    "fig, axs = plt.subplots(1,len(METHOD_NAMES))\n",
    "for col,ax in zip(METHOD_NAMES,axs):\n",
    "    ax.set_title(col)\n",
    "    ax.set_xlabel(\"value\")\n",
    "    ax.set_ylabel(\"density\")\n",
    "    sns.distplot(partner_ranks, bins=100, color=\"green\", kde=False, ax=ax)\n",
    "    sns.distplot(random_ranks, bins=100, color=\"red\", kde=False, ax=ax) \n",
    "\n",
    "fig.set_size_inches(10.0, 5.0)\n",
    "fig.show()"
   ]
  },
  {
   "cell_type": "code",
   "execution_count": null,
   "metadata": {},
   "outputs": [],
   "source": []
  },
  {
   "cell_type": "code",
   "execution_count": null,
   "metadata": {},
   "outputs": [],
   "source": []
  },
  {
   "cell_type": "code",
   "execution_count": null,
   "metadata": {},
   "outputs": [],
   "source": []
  },
  {
   "cell_type": "code",
   "execution_count": null,
   "metadata": {},
   "outputs": [],
   "source": []
  },
  {
   "cell_type": "code",
   "execution_count": null,
   "metadata": {},
   "outputs": [],
   "source": []
  }
 ],
 "metadata": {
  "kernelspec": {
   "display_name": "Python 3",
   "language": "python",
   "name": "python3"
  },
  "language_info": {
   "codemirror_mode": {
    "name": "ipython",
    "version": 3
   },
   "file_extension": ".py",
   "mimetype": "text/x-python",
   "name": "python",
   "nbconvert_exporter": "python",
   "pygments_lexer": "ipython3",
   "version": "3.6.7"
  }
 },
 "nbformat": 4,
 "nbformat_minor": 2
}
