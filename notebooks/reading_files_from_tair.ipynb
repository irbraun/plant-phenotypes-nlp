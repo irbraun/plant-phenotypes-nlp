{
 "cells": [
  {
   "cell_type": "markdown",
   "metadata": {},
   "source": [
    "## Data from TAIR (The Arabidopsis Information Resource)\n",
    "The purpose of this notebook is to read in and do a preliminary analysis of the data related to text and ontology annotations of text that is available through TAIR. The datasets need to be organized and also restructured into a standard format that will allow it be combined with datasets from other resources."
   ]
  },
  {
   "cell_type": "code",
   "execution_count": 1,
   "metadata": {},
   "outputs": [],
   "source": [
    "import sys\n",
    "import os\n",
    "import pandas as pd\n",
    "import numpy as np\n",
    "import itertools\n",
    "import re\n",
    "import matplotlib.pyplot as plt\n",
    "from nltk.tokenize import word_tokenize\n",
    "from nltk.tokenize import sent_tokenize\n",
    "\n",
    "sys.path.append(\"../../oats\")\n",
    "from oats.utils.constants import NCBI_TAG\n",
    "from oats.utils.constants import EVIDENCE_CODES\n",
    "from oats.utils.utils import to_abbreviation\n",
    "from oats.nlp.preprocess import concatenate_with_bar_delim\n",
    "from oats.nlp.preprocess import other_delim_to_bar_delim\n",
    "from oats.nlp.preprocess import remove_punctuation\n",
    "from oats.nlp.preprocess import remove_enclosing_brackets\n",
    "\n",
    "OUTPUT_DIR = \"../data/reshaped_files\""
   ]
  },
  {
   "cell_type": "markdown",
   "metadata": {},
   "source": [
    "### Reading in the dataset of phenotypic descriptions."
   ]
  },
  {
   "cell_type": "code",
   "execution_count": 2,
   "metadata": {},
   "outputs": [
    {
     "name": "stdout",
     "output_type": "stream",
     "text": [
      "   gene_names                                        description  pmid\n",
      "0        ACL2  flower stems are much reduced in length, semi-...   NaN\n",
      "1        ADE1  sustained and enhanced levels of ABA-regulated...   NaN\n",
      "2        ALB2        white embryo and seedling (albino), lethal.   NaN\n",
      "3     ALR-104  incomplete penetrance; increased aluminum resi...   NaN\n",
      "4     ALR-128  incomplete penetrance; increased aluminum resi...   NaN\n",
      "5        ALS4  increased aluminum sensitivity; poor root grow...   NaN\n",
      "6        ALS5  incomplete penetrance; increased aluminum sens...   NaN\n",
      "7       ARC10  no visible whole plant phenotypic effect; mean...   NaN\n",
      "8        ARC2  mesophyll cells contain approximately half the...   NaN\n",
      "9        ARC4  fewer and larger chloroplasts than wild type i...   NaN\n",
      "10       ARC7  pale first leaves in early seedling growth; me...   NaN\n",
      "11       ARC8  no visible whole plant phenotypic effect;  mea...   NaN\n",
      "12       ARC9  no visible whole plant phenotypic effect; mean...   NaN\n",
      "13       ARS1  Semi-dominant arsenic resistance phenotype. In...   NaN\n",
      "14  AT1G01040  embryo defective; developmental arrest of muta...   NaN\n",
      "15  AT1G01040  embryo defective; developmental arrest of muta...   NaN\n",
      "16  AT1G01040  embryo defective; developmental arrest of muta...   NaN\n",
      "17  AT1G01040  embryo defective; developmental arrest of muta...   NaN\n",
      "18  AT1G01040                         embryo defective; globular   NaN\n",
      "19  AT1G01040                         embryo defective; globular   NaN\n",
      "(14013, 3)\n"
     ]
    }
   ],
   "source": [
    "filename = \"../data/gene_related_files/tair/Locus_Germplasm_Phenotype_20180702.txt\"\n",
    "usecols = [\"LOCUS_NAME\", \"PHENOTYPE\", \"PUBMED_ID\"]\n",
    "usenames = [\"gene_names\", \"description\", \"pmid\"]\n",
    "renamed = {k:v for k,v in zip(usecols,usenames)}\n",
    "df = pd.read_table(filename, usecols=usecols)\n",
    "df.rename(columns=renamed, inplace=True)\n",
    "print(df.head(20))\n",
    "print(df.shape)"
   ]
  },
  {
   "cell_type": "markdown",
   "metadata": {},
   "source": [
    "There is only one value specified as the gene name (locus name) in the original dataset so this column does not need to be parsed further. The descriptions commmonly use semi-colons to separate phrases. The next cell gets the distribution of the number of phrases in each description field for the dataset of text descriptions, as determined by a sentence parser. The majority of the descriptions are a single sentence or phrase, but some contain more."
   ]
  },
  {
   "cell_type": "code",
   "execution_count": 3,
   "metadata": {},
   "outputs": [
    {
     "data": {
      "image/png": "[encoded data removed]",
      "text/plain": [
       "<Figure size 432x288 with 1 Axes>"
      ]
     },
     "metadata": {
      "needs_background": "light"
     },
     "output_type": "display_data"
    }
   ],
   "source": [
    "# Plotting distributions of number of phrases in each description.\n",
    "x = [len(sent_tokenize(x)) for x in df[\"description\"].values]\n",
    "plt.hist(x, bins=10, range=(1,10), density=False, alpha=0.8, histtype='stepfilled', color=\"black\", edgecolor='none')\n",
    "plt.title(\"Phenotype Descriptions\")\n",
    "plt.xlabel(\"Number of Phrases\")\n",
    "plt.tight_layout()"
   ]
  },
  {
   "cell_type": "markdown",
   "metadata": {},
   "source": [
    "### Restructing the data and saving to a csv file"
   ]
  },
  {
   "cell_type": "code",
   "execution_count": 4,
   "metadata": {},
   "outputs": [],
   "source": [
    "# Restructuring the dataset to include all expected column names.\n",
    "df[\"species\"] = \"ath\"\n",
    "df[\"term_ids\"] = \"\"\n",
    "\n",
    "# Outputting the dataset of phenotype descriptions to csv file.\n",
    "path = os.path.join(OUTPUT_DIR,\"ath_tair_gene_text.csv\")\n",
    "df.to_csv(path, index=False)"
   ]
  },
  {
   "cell_type": "markdown",
   "metadata": {},
   "source": [
    "### Reading in the dataset of GO annotations\n",
    "Read in the file containing names of loci and corresponding information relating to gene ontology term annotation. Not all of the columns are used here, only a subset of them are read in. The relationship column refers to the relationships between the gene for that loci and the term mentioned on that given line. Evidence refer to the method of acquiring and the confidence in the annotation itself. This is retained so that we can subset that dataset based on whether the annotations are experimentally confirmed or simply predicted annotations. This section also looks at how many unique values are present for each field."
   ]
  },
  {
   "cell_type": "code",
   "execution_count": 5,
   "metadata": {
    "scrolled": true
   },
   "outputs": [
    {
     "name": "stdout",
     "output_type": "stream",
     "text": [
      "       locus     term_id evidence_code                    reference\n",
      "0  AT1G01010  GO:0007275           ISS      Communication:501714663\n",
      "1  AT1G01010  GO:0005634           ISM  AnalysisReference:501750651\n",
      "2  AT1G01010  GO:0003700           ISS          Publication:1345963\n",
      "3  AT1G01010  GO:0043090           RCA        Publication:501748728\n",
      "4  AT1G01010  GO:0006888           RCA        Publication:501748728\n",
      "5  AT1G01020  GO:0006665           IMP        Publication:501719026\n",
      "6  AT1G01020  GO:0016125           IMP        Publication:501719026\n",
      "7  AT1G01020  GO:0005783           IDA        Publication:501719026\n",
      "8  AT1G01020  GO:0016020           ISS      Communication:501714663\n",
      "9  AT1G01020  GO:0005739           ISM  AnalysisReference:501750651\n",
      "(251297, 6)\n",
      "locus                30251\n",
      "relationship            19\n",
      "term_label            4924\n",
      "term_id               4924\n",
      "evidence_code           13\n",
      "reference             9149\n"
     ]
    }
   ],
   "source": [
    "filename = \"../data/gene_related_files/tair/ATH_GO_GOSLIM.txt\"\n",
    "df_go = pd.read_table(filename, header=None, usecols=[0,3,4,5,9,12])\n",
    "df_go.columns = [\"locus\",\"relationship\",\"term_label\",\"term_id\",\"evidence_code\",\"reference\"]\n",
    "unique_values = {col:len(pd.unique(df_go[col].values)) for col in df_go.columns}\n",
    "print(df_go[[\"locus\",\"term_id\",\"evidence_code\",\"reference\"]].head(10))\n",
    "print(df_go.shape)\n",
    "for k,v in unique_values.items():\n",
    "    print(\"{:18}{:8}\".format(k,v))"
   ]
  },
  {
   "cell_type": "markdown",
   "metadata": {},
   "source": [
    "### Looking at the confidence level for the GO annotations\n",
    "Each term annotation in this dataset is also associated with an evidence code specifying the method by which this annotation was made, which is related to the confidence that we can have in this annotation, and the tasks that the annotation should be used for. About half of the term annotations were made computationally, but there are also a high number of annotations available from high confidence annotations such as experimentally validated, curator statements, and author statements."
   ]
  },
  {
   "cell_type": "code",
   "execution_count": 6,
   "metadata": {},
   "outputs": [
    {
     "name": "stdout",
     "output_type": "stream",
     "text": [
      "curator_statement           24550\n",
      "experimental                85701\n",
      "phylogenetics                1671\n",
      "author_statement            13460\n",
      "high_throughput                 0\n",
      "electronic_annotation           0\n",
      "computational              125915\n"
     ]
    }
   ],
   "source": [
    "code_quantities = {c:len([x for x in df_go[\"evidence_code\"] if EVIDENCE_CODES[x] in c]) \n",
    "             for c in list(set(EVIDENCE_CODES.values()))}\n",
    "for k,v in code_quantities.items():\n",
    "    print(\"{:25}{:8}\".format(k,v))"
   ]
  },
  {
   "cell_type": "markdown",
   "metadata": {},
   "source": [
    "### Restructing the GO annotations data and saving to a csv file"
   ]
  },
  {
   "cell_type": "code",
   "execution_count": 7,
   "metadata": {},
   "outputs": [],
   "source": [
    "# Restructuring the dataset to include all the expected column names.\n",
    "df_go[\"species\"] = \"ath\"\n",
    "df_go[\"gene_names\"] = df_go[\"locus\"]\n",
    "df_go[\"description\"] = \"\"\n",
    "df_go[\"term_ids\"] = df_go[\"term_id\"]\n",
    "df_go[\"pmid\"] = df_go[\"reference\"]\n",
    "df_go = df_go[[\"species\", \"gene_names\", \"description\", \"term_ids\", \"pmid\"]]\n",
    "\n",
    "# Outputting the dataset of annotations to a csv file.\n",
    "path = os.path.join(OUTPUT_DIR,\"ath_tair_gene_annot_go.csv\")\n",
    "df_go.to_csv(path, index=False)"
   ]
  },
  {
   "cell_type": "markdown",
   "metadata": {},
   "source": [
    "### Reading in the datasets of PO annotations\n",
    "There are two separate files available that include annotations of PO terms. The files do not have headers so column names are added based on how the columns are described in the accompanying available readme files. One of the files contains annotations for PO terms that are spatial, or describe a specific part of plant anatomy or plant molecular structures. The other file contains annotations for PO terms that are temporal, or refer to a specific process or stage of development. These files are each read in separately, and the next cells look at the quantity of unique values in the columns of each dataset. There are more spatial annotations than temporal annotations, and a greater number of terms used to describe the spatial annotations."
   ]
  },
  {
   "cell_type": "code",
   "execution_count": 8,
   "metadata": {},
   "outputs": [
    {
     "name": "stdout",
     "output_type": "stream",
     "text": [
      "(366398, 7)\n",
      "symbol               24123\n",
      "term_id                365\n",
      "references            2600\n",
      "evidence_code            6\n",
      "name                 25269\n",
      "synonyms             28005\n",
      "type                     6\n"
     ]
    }
   ],
   "source": [
    "filename = \"../data/gene_related_files/tair/po_anatomy_gene_arabidopsis_tair.assoc\"\n",
    "df_po_spatial = pd.read_table(filename, header=None, skiprows=1, usecols=[2,4,5,6,9,10,11])\n",
    "df_po_spatial.columns = [\"symbol\",\"term_id\",\"references\",\"evidence_code\",\"name\",\"synonyms\",\"type\"]\n",
    "unique_values = {col:len(pd.unique(df_po_spatial[col].values)) for col in df_po_spatial.columns}\n",
    "print(df_po_spatial.shape)\n",
    "for k,v in unique_values.items():\n",
    "    print(\"{:18}{:8}\".format(k,v))"
   ]
  },
  {
   "cell_type": "code",
   "execution_count": 9,
   "metadata": {},
   "outputs": [
    {
     "name": "stdout",
     "output_type": "stream",
     "text": [
      "(186740, 7)\n",
      "symbol               18015\n",
      "term_id                 84\n",
      "references             447\n",
      "evidence_code            4\n",
      "name                 18506\n",
      "synonyms             18960\n",
      "type                     5\n"
     ]
    }
   ],
   "source": [
    "filename = \"../data/gene_related_files/tair/po_temporal_gene_arabidopsis_tair.assoc\"\n",
    "df_po_temporal = pd.read_table(filename, header=None, skiprows=1, usecols=[2,4,5,6,9,10,11])\n",
    "df_po_temporal.columns = [\"symbol\",\"term_id\",\"references\",\"evidence_code\",\"name\",\"synonyms\",\"type\"]\n",
    "unique_values = {col:len(pd.unique(df_po_temporal[col].values)) for col in df_po_temporal.columns}\n",
    "print(df_po_temporal.shape)\n",
    "for k,v in unique_values.items():\n",
    "    print(\"{:18}{:8}\".format(k,v))"
   ]
  },
  {
   "cell_type": "markdown",
   "metadata": {},
   "source": [
    "### Combining each type of PO annotations into single dataset\n",
    "The next field combines the two datasets of PO annotations and looks at the number of unique values for each column in the resulting dataset. Because there is no overlap in the terms between the two, the datasets are simply appended to one another and the total unique terms are a sum of the individual datasets."
   ]
  },
  {
   "cell_type": "code",
   "execution_count": 10,
   "metadata": {},
   "outputs": [
    {
     "name": "stdout",
     "output_type": "stream",
     "text": [
      "   symbol                                           synonyms evidence_code\n",
      "0  ATARCA  AT1G18080|ATARCA|RACK1A_AT|RACK1A|SAC53|AtRACK...           IEP\n",
      "1    HMG1  AT1G76490|HMG1|HMGR1|AtHMGR1|MAD3|hydroxy meth...           TAS\n",
      "2    BAS1  AT2G26710|BAS1|CYP734A1|CYP72B1|PHYB ACTIVATIO...           TAS\n",
      "3    BAK1  AT4G33430|BAK1|RKS10|SERK3|ELG|ATSERK3|ATBAK1|...           TAS\n",
      "4    BRI1  AT4G39400|BRI1|CBB2|DWF2|BIN1|ATBRI1|BRASSINOS...           TAS\n",
      "5    ATJ6    AT5G06910|ATJ6|J-domain protein 6|MOJ9.8|MOJ9_8           IEP\n",
      "6    XPB2  AT5G41360|XPB2|ATXPB2|homolog of Xeroderma pig...           NAS\n",
      "7    XPB1  AT5G41370|XPB1|ATXPB1|homolog of xeroderma pig...           NAS\n",
      "8   PPCK2  AT3G04530|PPCK2|PEPCK2|ATPPCK2|phosphoenolpyru...           IEP\n",
      "9    MYC2  AT1G32640|ATMYC2|RD22BP1|JAI1|JIN1|MYC2|ZBF1|J...           NAS\n",
      "(553138, 7)\n",
      "symbol               24188\n",
      "term_id                449\n",
      "references            2671\n",
      "evidence_code            6\n",
      "name                 25350\n",
      "synonyms             28150\n",
      "type                     7\n"
     ]
    }
   ],
   "source": [
    "df_po = df_po_spatial.append(df_po_temporal, ignore_index=True)\n",
    "unique_values = {col:len(pd.unique(df_po[col].values)) for col in df_po.columns}\n",
    "print(df_po[[\"symbol\",\"synonyms\",\"evidence_code\"]].head(10))\n",
    "print(df_po.shape)\n",
    "for k,v in unique_values.items():\n",
    "    print(\"{:18}{:8}\".format(k,v))"
   ]
  },
  {
   "cell_type": "markdown",
   "metadata": {},
   "source": [
    "### Looking at the confidence level for the PO annotations\n",
    "Each term annotation in this dataset is also associated with an evidence code specifying the method by which this annotation was made, which is related to the confidence that we can have in this annotation, and the tasks that the annotation should be used for. Almost all of the PO term annotations are high confidence, they are experimentally validated, and only a few of them are derived from author statements."
   ]
  },
  {
   "cell_type": "code",
   "execution_count": 11,
   "metadata": {},
   "outputs": [
    {
     "name": "stdout",
     "output_type": "stream",
     "text": [
      "curator_statement               0\n",
      "experimental               553020\n",
      "phylogenetics                   0\n",
      "author_statement              118\n",
      "high_throughput                 0\n",
      "electronic_annotation           0\n",
      "computational                   0\n"
     ]
    }
   ],
   "source": [
    "code_quantities = {c:len([x for x in df_po[\"evidence_code\"] if EVIDENCE_CODES[x] in c]) \n",
    "             for c in list(set(EVIDENCE_CODES.values()))}\n",
    "for k,v in code_quantities.items():\n",
    "    print(\"{:25}{:8}\".format(k,v))"
   ]
  },
  {
   "cell_type": "markdown",
   "metadata": {},
   "source": [
    "### Restructing the PO annotations data and saving to a csv file\n",
    "The strings which are described in the synonyms column are included as references to each gene, and are combined with the gene name mentioned in the symbol column into a single bar delimited list."
   ]
  },
  {
   "cell_type": "code",
   "execution_count": 12,
   "metadata": {},
   "outputs": [],
   "source": [
    "# Restructuring the dataset to include all the expected column names.\n",
    "df_po[\"species\"] = \"ath\"\n",
    "df_po[\"gene_names\"] = np.vectorize(concatenate_with_bar_delim)(df_po[\"symbol\"], df_po[\"synonyms\"])\n",
    "df_po[\"description\"] = \"\"\n",
    "df_po[\"term_ids\"] = df_po[\"term_id\"]\n",
    "df_po[\"pmid\"] = \"\"\n",
    "df_po = df_po[[\"species\", \"gene_names\", \"description\", \"term_ids\", \"pmid\"]]\n",
    "\n",
    "# Outputting the dataset of annotations to a csv file.\n",
    "path = os.path.join(OUTPUT_DIR,\"ath_tair_gene_annot_po.csv\")\n",
    "df_po.to_csv(path, index=False)"
   ]
  }
 ],
 "metadata": {
  "kernelspec": {
   "display_name": "Python 3",
   "language": "python",
   "name": "python3"
  },
  "language_info": {
   "codemirror_mode": {
    "name": "ipython",
    "version": 3
   },
   "file_extension": ".py",
   "mimetype": "text/x-python",
   "name": "python",
   "nbconvert_exporter": "python",
   "pygments_lexer": "ipython3",
   "version": "3.6.7"
  }
 },
 "nbformat": 4,
 "nbformat_minor": 2
}
