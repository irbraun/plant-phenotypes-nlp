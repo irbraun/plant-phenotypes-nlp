{
 "cells": [
  {
   "cell_type": "code",
   "execution_count": 8,
   "metadata": {},
   "outputs": [],
   "source": [
    "import sys\n",
    "import os\n",
    "import pandas as pd\n",
    "import numpy as np\n",
    "\n",
    "sys.path.append(\"../.\")\n",
    "from phenolog.datasets.dataset import Dataset\n",
    "from phenolog.language.nlp import get_clean_description\n",
    "from phenolog.annotation.ontology import Ontology\n",
    "from phenolog.annotation.annotation import annotate_using_rabin_karp, annotate_using_noble_coder, write_annotations_to_tsv_file\n",
    "from phenolog.graphs.similarity import get_similarity_df_using_fastsemsim\n",
    "from phenolog.graphs.similarity import get_similarity_df_using_doc2vec\n",
    "from phenolog.graphs.similarity import get_similarity_df_using_bagofwords\n",
    "from phenolog.graphs.similarity import get_similarity_df_using_setofwords\n",
    "from phenolog.graphs.similarity import get_similarity_df_using_annotations_unweighted_jaccard\n",
    "from phenolog.graphs.similarity import get_similarity_df_using_annotations_weighted_jaccard\n",
    "\n",
    "from phenolog.graphs.models import combine_dfs_with_name_dict\n",
    "from phenolog.graphs.models import apply_mean\n",
    "from phenolog.graphs.models import train_linear_regression_model\n",
    "from phenolog.graphs.models import apply_linear_regression_model\n",
    "from phenolog.graphs.models import train_random_forest_model\n",
    "from phenolog.graphs.models import apply_random_forest_model\n",
    "\n"
   ]
  },
  {
   "cell_type": "code",
   "execution_count": 2,
   "metadata": {},
   "outputs": [
    {
     "name": "stdout",
     "output_type": "stream",
     "text": [
      "\n",
      "Describing the Dataset object...\n",
      "Number of rows in the dataframe: 23918\n",
      "Number of unique IDs: 23918\n",
      "Number of unique descriptions: 10974\n",
      "Number of unique gene name sets: 10394\n",
      "Number of species represented: 6\n"
     ]
    }
   ],
   "source": [
    "dataset = Dataset()\n",
    "dataset.add_data(pd.read_csv(\"../data/reshaped/arabidopsis_phenotypes.csv\", lineterminator=\"\\n\"))\n",
    "dataset.add_data(pd.read_csv(\"../data/reshaped/maize_phenotypes.csv\", lineterminator=\"\\n\"))\n",
    "dataset.add_data(pd.read_csv(\"../data/reshaped/ppn_phenotypes.csv\", lineterminator=\"\\n\"))\n",
    "dataset.add_data(pd.read_csv(\"../data/reshaped/ppn_phenes.csv\", lineterminator=\"\\n\"))\n",
    "dataset.describe()"
   ]
  },
  {
   "cell_type": "code",
   "execution_count": 3,
   "metadata": {},
   "outputs": [
    {
     "name": "stdout",
     "output_type": "stream",
     "text": [
      "\n",
      "Describing the Dataset object...\n",
      "Number of rows in the dataframe: 10\n",
      "Number of unique IDs: 10\n",
      "Number of unique descriptions: 10\n",
      "Number of unique gene name sets: 10\n",
      "Number of species represented: 3\n"
     ]
    }
   ],
   "source": [
    "# Subsample the data that is available.\n",
    "dataset.randomly_subsample_dataset(n=10)\n",
    "dataset.describe()"
   ]
  },
  {
   "cell_type": "code",
   "execution_count": 4,
   "metadata": {},
   "outputs": [
    {
     "name": "stdout",
     "output_type": "stream",
     "text": [
      "21337\tpale green\n",
      "11649\tcollapsed endosperm endosperm collapsed and partia\n",
      "18753\tsmall leaves under continuous light\n",
      "17594\thighlevel resistance to many strains of tobacco mo\n",
      "16066\tlate flowering\n",
      "4441\tin the mutant about 2 of the trichomes showed a cl\n",
      "10925\treduced amounts of xylose and fucose in cell wall \n",
      "566\tmutant plant does not show the post illumination i\n",
      "14810\tabnormal leaf growth\n",
      "14915\taborted kernel\n"
     ]
    }
   ],
   "source": [
    "# Prepare a dictionary of phenotype descriptions where each has a unique ID value.\n",
    "description_dict = dataset.get_description_dictionary()\n",
    "description_dict = {i:get_clean_description(d) for (i,d) in description_dict.items()}\n",
    "\n",
    "for identifier, description in description_dict.items():\n",
    "    print(\"{}\\t{}\".format(identifier, description[0:50]))"
   ]
  },
  {
   "cell_type": "code",
   "execution_count": 5,
   "metadata": {},
   "outputs": [
    {
     "name": "stdout",
     "output_type": "stream",
     "text": [
      "21337\t['PATO:0000320', 'PATO:0000328', 'PO:0009038', 'PO:0009054', 'PATO:0001272']\n",
      "11649\t['PATO:0000460', 'PATO:0001511', 'PATO:0001341', 'PATO:0001478', 'PO:0009089']\n",
      "18753\t['PATO:0000587', 'PATO:0000665', 'PATO:0000689', 'PATO:0001341', 'NCBITaxon:1']\n",
      "17594\t['PATO:0001034', 'PATO:0001046', 'PATO:0001046', 'PATO:0001341']\n",
      "16066\t['PATO:0000502', 'PATO:0001341', 'PO:0009046']\n",
      "4441\t['PATO:0000161', 'PATO:0001470', 'PATO:0000322', 'PATO:0001341', 'PO:0000282']\n",
      "10925\t['PATO:0000070', 'PATO:0000304', 'PATO:0000322', 'PATO:0000587', 'PATO:0001997']\n",
      "566\t['PATO:0000018', 'PATO:0000322', 'PATO:0000327', 'PATO:0001341', 'PATO:0001999']\n",
      "14810\t['PATO:0000460', 'PATO:0000461', 'PATO:0001341', 'PO:0025034']\n",
      "14915\t['PATO:0001341', 'PO:0025263', 'PO:0030104']\n"
     ]
    }
   ],
   "source": [
    "merged_ontology_file = \"../ontologies/mo.obo\"\n",
    "annotations_file = \"../data/annotations/annotations_with_mo.tsv\"\n",
    "doc2vec_model_file = \"../gensim/apnews_dbow/doc2vec.bin\"\n",
    "\n",
    "mo = Ontology(merged_ontology_file)\n",
    "annotations = annotate_using_rabin_karp(description_dict, mo)\n",
    "write_annotations_to_tsv_file(annotations, annotations_file)\n",
    "\n",
    "for identifier, term_list in annotations.items():\n",
    "    print(\"{}\\t{}\".format(identifier, term_list[0:5]))"
   ]
  },
  {
   "cell_type": "code",
   "execution_count": 6,
   "metadata": {},
   "outputs": [
    {
     "name": "stdout",
     "output_type": "stream",
     "text": [
      "1 [1.8182 2 [3.6364 3 [5.4545 4 [7.2727 5 [9.0909 6 [10.9091 %7 [12.7273 %8 [14.5455 %9 [16.3636 %10 [18.1818 11 [20.0000 12 [21.8182 13 [23.6364 14 [25.4545 15 [27.2727 16 [29.0909 17 [30.9091 18 [32.7273 19 [34.5455 20 [36.3636 21 [38.1818 22 [40.0000 23 [41.8182 24 [43.6364 25 [45.4545 26 [47.2727 27 [49.0909 28 [50.9091 29 [52.7273 30 [54.5455 31 [56.3636 32 [58.1818 33 [60.0000 34 [61.8182 35 [63.6364 36 [65.4545 37 [67.2727 38 [69.0909 39 [70.9091 40 [72.7273 41 [74.5455 42 [76.3636 43 [78.1818 44 [80.0000 45 [81.8182 46 [83.6364 47 [85.4545 48 [87.2727 49 [89.0909 50 [90.9091 51 [92.7273 52 [94.5455 53 [96.3636 54 [98.1818 55 [100.0000 %]"
     ]
    },
    {
     "name": "stderr",
     "output_type": "stream",
     "text": [
      "/anaconda2/envs/phenolog/lib/python3.6/site-packages/smart_open/smart_open_lib.py:398: UserWarning: This function is deprecated, use smart_open.open instead. See the migration notes for details: https://github.com/RaRe-Technologies/smart_open/blob/master/README.rst#migrating-to-the-new-open-function\n",
      "  'See the migration notes for details: %s' % _MIGRATION_NOTES_URL\n",
      "/anaconda2/envs/phenolog/lib/python3.6/site-packages/gensim/models/doc2vec.py:566: UserWarning: The parameter `iter` is deprecated, will be removed in 4.0.0, use `epochs` instead.\n",
      "  warnings.warn(\"The parameter `iter` is deprecated, will be removed in 4.0.0, use `epochs` instead.\")\n",
      "/anaconda2/envs/phenolog/lib/python3.6/site-packages/gensim/models/doc2vec.py:570: UserWarning: The parameter `size` is deprecated, will be removed in 4.0.0, use `vector_size` instead.\n",
      "  warnings.warn(\"The parameter `size` is deprecated, will be removed in 4.0.0, use `vector_size` instead.\")\n"
     ]
    }
   ],
   "source": [
    "df1 = get_similarity_df_using_fastsemsim(merged_ontology_file, annotations_file, description_dict)\n",
    "df2 = get_similarity_df_using_doc2vec(doc2vec_model_file, description_dict)\n",
    "df3 = get_similarity_df_using_bagofwords(description_dict)\n",
    "df4 = get_similarity_df_using_setofwords(description_dict)\n",
    "df5 = get_similarity_df_using_annotations_unweighted_jaccard(annotations, mo)\n",
    "df6 = get_similarity_df_using_annotations_weighted_jaccard(annotations, mo)\n",
    "dfs = [df1, df2, df3, df4, df5, df6]\n",
    "methods = [\"ontology\", \"doc2vec\", \"bagofwords\", \"setofwords\", \"onto_unwt\", \"onto_wt\"]\n",
    "method_to_df = {k:v for (k,v) in zip(methods,dfs)}"
   ]
  },
  {
   "cell_type": "code",
   "execution_count": 10,
   "metadata": {},
   "outputs": [
    {
     "name": "stdout",
     "output_type": "stream",
     "text": [
      "    from     to  ontology   doc2vec  bagofwords  setofwords  onto_unwt  \\\n",
      "0  21337  21337  1.000000  1.000000         1.0         1.0   1.000000   \n",
      "1  21337  11649  0.346154  0.469696         0.0         0.0   0.356164   \n",
      "2  21337  18753  0.156627  0.612293         0.0         0.0   0.186667   \n",
      "3  21337  17594  0.151515  0.445399         0.0         0.0   0.177419   \n",
      "4  21337  16066  0.492537  0.568404         0.0         0.0   0.507692   \n",
      "\n",
      "    onto_wt  \n",
      "0  1.000000  \n",
      "1  0.124120  \n",
      "2  0.092680  \n",
      "3  0.082881  \n",
      "4  0.225099  \n"
     ]
    }
   ],
   "source": [
    "merged_df = combine_dfs_with_name_dict(method_to_df)\n",
    "print(merged_df.head())"
   ]
  },
  {
   "cell_type": "code",
   "execution_count": null,
   "metadata": {},
   "outputs": [],
   "source": []
  },
  {
   "cell_type": "code",
   "execution_count": null,
   "metadata": {},
   "outputs": [],
   "source": []
  }
 ],
 "metadata": {
  "kernelspec": {
   "display_name": "Python 3",
   "language": "python",
   "name": "python3"
  },
  "language_info": {
   "codemirror_mode": {
    "name": "ipython",
    "version": 3
   },
   "file_extension": ".py",
   "mimetype": "text/x-python",
   "name": "python",
   "nbconvert_exporter": "python",
   "pygments_lexer": "ipython3",
   "version": "3.6.7"
  }
 },
 "nbformat": 4,
 "nbformat_minor": 2
}
