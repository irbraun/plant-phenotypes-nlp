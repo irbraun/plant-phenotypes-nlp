{
 "cells": [
  {
   "cell_type": "markdown",
   "metadata": {},
   "source": [
    "# Biological Pathways Notebook"
   ]
  },
  {
   "cell_type": "code",
   "execution_count": null,
   "metadata": {},
   "outputs": [],
   "source": [
    "import sys\n",
    "import os\n",
    "import pandas as pd\n",
    "import numpy as np\n",
    "\n",
    "sys.path.append(\"../.\")\n",
    "from phenolog.datasets.dataset import Dataset\n",
    "from phenolog.datasets.pathways import Pathways"
   ]
  },
  {
   "cell_type": "markdown",
   "metadata": {},
   "source": [
    "### Creating a dataset of descriptions and corresponding genes\n",
    "The methods used in the following cell create a dataset object which contains all of the text descriptions, associated genes, and corresponding data that makes up all the data of interest for different species. The created dataset object has a function to provide a high level description of its contents."
   ]
  },
  {
   "cell_type": "code",
   "execution_count": null,
   "metadata": {},
   "outputs": [],
   "source": [
    "dataset = Dataset()\n",
    "dataset.add_data(pd.read_csv(\"../data/reshaped/arabidopsis_phenotypes.csv\", lineterminator=\"\\n\"))\n",
    "dataset.add_data(pd.read_csv(\"../data/reshaped/maize_phenotypes.csv\", lineterminator=\"\\n\"))\n",
    "dataset.add_data(pd.read_csv(\"../data/reshaped/ppn_phenotypes.csv\", lineterminator=\"\\n\"))\n",
    "dataset.add_data(pd.read_csv(\"../data/reshaped/ppn_phenes.csv\", lineterminator=\"\\n\"))\n",
    "dataset.describe()"
   ]
  },
  {
   "cell_type": "markdown",
   "metadata": {},
   "source": [
    "### Accessing information about biological pathways\n",
    "A object containing all the information about biological pathways relevant to this dataset of this dataset can be generated as demonstrated in the next cell. The required input for building this object is a dictionary which maps species names (here specified using the KEGG three-letter species codes) to files which contain pathway data specific to each species, and string which determines whether KEGG or the Plant Metabolic Network (PMN) resources are used as the source of the data. In the first case, the filenames in the required dictionary are not used. In the second case they are used, and should be the PlantCyc data files available for each species. The created pathways object has a function to describe the contents of the object after creating it."
   ]
  },
  {
   "cell_type": "code",
   "execution_count": null,
   "metadata": {},
   "outputs": [],
   "source": [
    "# Species of interest and files related to each.\n",
    "species_dict = {\n",
    "    \"ath\":\"../data/pathways/plantcyc/aracyc_pathways.20180702\", \n",
    "    \"zma\":\"../data/pathways/plantcyc/corncyc_pathways.20180702\", \n",
    "    \"mtr\":\"../data/pathways/plantcyc/mtruncatulacyc_pathways.20180702\", \n",
    "    \"osa\":\"../data/pathways/plantcyc/oryzacyc_pathways.20180702\", \n",
    "    \"gmx\":\"../data/pathways/plantcyc/soycyc_pathways.20180702\",\n",
    "    \"sly\":\"../data/pathways/plantcyc/tomatocyc_pathways.20180702\"}\n",
    "\n",
    "# Building an object to contain information from the Plant Metabolic Network databases.\n",
    "pathways = Pathways(species_dict, source=\"pmn\")\n",
    "pathways.describe()\n",
    "pathways.write_to_csv(\"pmn_pathways.csv\")"
   ]
  },
  {
   "cell_type": "code",
   "execution_count": null,
   "metadata": {},
   "outputs": [],
   "source": [
    "# For KEGG, the files aren't needed, only the species codes.\n",
    "species_dict = {\n",
    "    \"ath\":\"\", \n",
    "    \"zma\":\"\", \n",
    "    \"mtr\":\"\", \n",
    "    \"osa\":\"\", \n",
    "    \"gmx\":\"\",\n",
    "    \"sly\":\"\"}\n",
    "\n",
    "# Building an object to contain information from the KEGG database.\n",
    "pathways = Pathways(species_dict, source=\"kegg\")\n",
    "pathways.describe()\n",
    "pathways.write_to_csv(\"kegg_pathways.csv\")"
   ]
  },
  {
   "cell_type": "markdown",
   "metadata": {},
   "source": [
    "### What biological pathways do the genes in this dataset belong to?\n",
    "The primary function of the pathways object is to provide a dictionary which maps any ID values to lists of pathway IDs, given a dictionary that maps those same ID values to gene objects. In the next cell, a dictionary mapping ID values to gene objects is obtained from the dataset object. Then the values of the dictionary are used to check how many of the genes in this dataset were successfully mapped to atleast one pathway in the pathways database for these species."
   ]
  },
  {
   "cell_type": "code",
   "execution_count": null,
   "metadata": {},
   "outputs": [],
   "source": [
    "genes = dataset.get_gene_dictionary()\n",
    "pathway_membership = pathways.get_pathway_dict(genes)\n",
    "num_found = len([x for x in pathway_membership.values() if len(x)>0])\n",
    "num_missing = len([x for x in pathway_membership.values() if len(x)==0])\n",
    "num_total = len(pathway_membership.values())\n",
    "\n",
    "print(\"Number of genes genes mapped to atleast one pathway: {}\".format(num_found))\n",
    "print(\"Number of genes genes mapped to no pathways:         {}\".format(num_missing))\n",
    "print(\"Number of total genes that were looked for:          {}\".format(num_total))"
   ]
  }
 ],
 "metadata": {
  "kernelspec": {
   "display_name": "Python 3",
   "language": "python",
   "name": "python3"
  },
  "language_info": {
   "codemirror_mode": {
    "name": "ipython",
    "version": 3
   },
   "file_extension": ".py",
   "mimetype": "text/x-python",
   "name": "python",
   "nbconvert_exporter": "python",
   "pygments_lexer": "ipython3",
   "version": "3.6.7"
  }
 },
 "nbformat": 4,
 "nbformat_minor": 2
}
