{
 "cells": [
  {
   "cell_type": "markdown",
   "metadata": {},
   "source": [
    "## Data from Maize GDB\n",
    "The purpose of this notebook is to read in and do a preliminary analysis of the data related to text descriptions that are available through Maize GDB. The data was provided in the form of the input file by a request through Maize GDB curators, rather than obtained through an already available file from the database. The data needs to be organized and also restructured into a standard format that will allow it to be easily combined with datasets from other resources."
   ]
  },
  {
   "cell_type": "code",
   "execution_count": 1,
   "metadata": {},
   "outputs": [],
   "source": [
    "import sys\n",
    "import os\n",
    "import pandas as pd\n",
    "import numpy as np\n",
    "import itertools\n",
    "import re\n",
    "import matplotlib.pyplot as plt\n",
    "from nltk.tokenize import word_tokenize\n",
    "from nltk.tokenize import sent_tokenize\n",
    "\n",
    "sys.path.append(\"../../oats\")\n",
    "from oats.utils.constants import NCBI_TAG, UNIPROT_TAG\n",
    "from oats.utils.constants import EVIDENCE_CODES\n",
    "from oats.utils.utils import to_abbreviation\n",
    "from oats.nlp.preprocess import concatenate_with_bar_delim\n",
    "from oats.nlp.preprocess import other_delim_to_bar_delim\n",
    "from oats.nlp.preprocess import remove_punctuation\n",
    "from oats.nlp.preprocess import remove_enclosing_brackets\n",
    "from oats.nlp.preprocess import concatenate_descriptions\n",
    "from oats.nlp.preprocess import add_prefix\n",
    "\n",
    "OUTPUT_DIR = \"../data/reshaped_files\""
   ]
  },
  {
   "cell_type": "markdown",
   "metadata": {},
   "source": [
    "### Reading in the dataset of phenotype descriptions\n",
    "Note that fillna is being used here to replace missing values with an empty string. This is done so that the missing string will be quantified when checking for the number of occurences of unique values from different columns, see the analysis below. However this is not necessary as a preprocessing step because when the data is read in and appended to a dataset object later, any missing values or empty strings will be handled at that step."
   ]
  },
  {
   "cell_type": "code",
   "execution_count": 2,
   "metadata": {},
   "outputs": [
    {
     "name": "stdout",
     "output_type": "stream",
     "text": [
      "         phenotype_name                              phenotype_description\n",
      "0      2-seeded kernels                                                   \n",
      "1    A1 null transcript  No color in the aleurone, specifically no colo...\n",
      "2     aberrant seedling  first leaf is small, round and flat; second le...\n",
      "3     aberrant seedling  first leaf is small, round and flat; second le...\n",
      "4   abnormal root hairs                        root hairs fail to elongate\n",
      "5   abnormal root hairs                        root hairs fail to elongate\n",
      "6   abnormal root hairs                        root hairs fail to elongate\n",
      "7   abnormal root hairs                        root hairs fail to elongate\n",
      "8   abnormal root hairs                        root hairs fail to elongate\n",
      "9   abnormal root hairs                        root hairs fail to elongate\n",
      "10    abnormal stomates  Guard cells development is abnormal, or comple...\n",
      "11    abnormal stomates  Guard cells development is abnormal, or comple...\n",
      "(3616, 9)\n"
     ]
    }
   ],
   "source": [
    "filename = \"../data/gene_related_files/maizegdb/pheno_genes.txt\"\n",
    "usecols = [\"phenotype_name\", \"phenotype_description\", \"locus_name\", \"alleles\", \"locus_synonyms\", \"v3_gene_model\", \"v4_gene_model\", \"uniprot_id\", \"ncbi_gene\"]\n",
    "df = pd.read_table(filename, usecols=usecols)\n",
    "df.fillna(\"\", inplace=True)\n",
    "print(df[[\"phenotype_name\",\"phenotype_description\"]].head(12))\n",
    "print(df.shape)"
   ]
  },
  {
   "cell_type": "markdown",
   "metadata": {},
   "source": [
    "Text information about the phenotypes are contained in both the phenotype name and phenotype description for these data. The can be concatenated and retained together in a new description column that contains all this information, or just the phenotype description could be retained, depending on which data should be used downstream for making similarity comparisons. This is different than for most of the other sources of text used. The next cell looks at how many unique values there are in this data for each column."
   ]
  },
  {
   "cell_type": "code",
   "execution_count": 3,
   "metadata": {},
   "outputs": [
    {
     "name": "stdout",
     "output_type": "stream",
     "text": [
      "phenotype_name               648\n",
      "phenotype_description        379\n",
      "locus_name                  1410\n",
      "alleles                     2088\n",
      "locus_synonyms              1408\n",
      "v3_gene_model                482\n",
      "v4_gene_model                469\n",
      "uniprot_id                   140\n",
      "ncbi_gene                    503\n"
     ]
    }
   ],
   "source": [
    "# Finding out how many unique values there are for each column.\n",
    "unique_values = {col:len(pd.unique(df[col].values)) for col in df.columns}\n",
    "for k,v in unique_values.items():\n",
    "    print(\"{:24}{:8}\".format(k,v))"
   ]
  },
  {
   "cell_type": "markdown",
   "metadata": {},
   "source": [
    "There are a fairly small number of distinct phenotype descriptions (379) compared to the number of lines that are in the complete dataset (3,616). This means that the same descriptions is occuring many times. Look at which descriptions are occuring most often."
   ]
  },
  {
   "cell_type": "code",
   "execution_count": 4,
   "metadata": {},
   "outputs": [
    {
     "name": "stdout",
     "output_type": "stream",
     "text": [
      "   892                        \n",
      "    90    Anthers shriveled, not usually exerted from glum. Pollen absent or abo\n",
      "    87    seedling white, yellow or palegreen, becomes green, often normal\n",
      "    81    Seedling leaves are white.\n",
      "    81    Two classes of albino seedlings: Class I characterized by white or pal\n",
      "    77    endosperm is opaque and firm, not chalky and not waxy\n",
      "    73    a general term describing an improperly developed endosperm that appea\n",
      "    73    small kernel is the consistent characteristic but variable in other as\n",
      "    71    endosperm has a soft, chalk-like texture, usually a reduced yellow col\n",
      "    65    lighter green seedlings or plants; less yellow than yellow green\n"
     ]
    }
   ],
   "source": [
    "# Get a list sorted by number of occurences for each phenotype description.\n",
    "description_counts = df[\"phenotype_description\"].value_counts().to_dict()\n",
    "sorted_tuples = sorted(description_counts.items(), key = lambda x: x[1], reverse=True)\n",
    "for t in sorted_tuples[0:10]:\n",
    "    print(\"{:6}    {:20}\".format(t[1],t[0][:70]))"
   ]
  },
  {
   "cell_type": "markdown",
   "metadata": {},
   "source": [
    "The only description that occurs far more often than the next is an empty string, where this information is missing entirely. The next cell looks at how many phrases are included in the phenotype description values. Most have a single phrase, some have multiple. These look like they are separated with semicolons."
   ]
  },
  {
   "cell_type": "code",
   "execution_count": 5,
   "metadata": {},
   "outputs": [
    {
     "data": {
      "image/png": "[encoded data removed]",
      "text/plain": [
       "<Figure size 432x288 with 1 Axes>"
      ]
     },
     "metadata": {
      "needs_background": "light"
     },
     "output_type": "display_data"
    }
   ],
   "source": [
    "# Plotting distributions of number of phrases in each description.\n",
    "x = [len(sent_tokenize(x)) for x in df[\"phenotype_description\"].values]\n",
    "plt.hist(x, bins=10, range=(1,10), density=False, alpha=0.8, histtype='stepfilled', color=\"black\", edgecolor='none')\n",
    "plt.title(\"Phenotype Descriptions\")\n",
    "plt.xlabel(\"Number of Phrases\")\n",
    "plt.tight_layout()"
   ]
  },
  {
   "cell_type": "markdown",
   "metadata": {},
   "source": [
    "### Restructuring the data and saving to a csv file"
   ]
  },
  {
   "cell_type": "code",
   "execution_count": 6,
   "metadata": {},
   "outputs": [
    {
     "name": "stdout",
     "output_type": "stream",
     "text": [
      "  species                                         gene_names\n",
      "0     zma              wcr1|Wcr1-reference|wandering carpel1\n",
      "1     zma  a1|a1-m2-8004::dSpm|anthocyaninless1|bnl(a1)|D...\n",
      "2     zma  pve1|pve1-M2|pve1-R|AC211276.4_FG008|cl12053_1...\n",
      "3     zma  ubl1|ubl1-1|si945031h05(438)|si945031h05a|GRMZ...\n",
      "4     zma  bhlh10|bhlh10-1|bhlh10-2|Lotus japonicus rooth...\n",
      "5     zma  rboh1|rth5-1|rth5-2|rth5-3|rth5-4|pco107390|pc...\n",
      "6     zma  rth1|rth1-1|rth1-2d|exocyst complex component ...\n",
      "7     zma                           rth2|roothair defective2\n",
      "8     zma  rth3|rth3-3|AY112035|roothair defective3|GRMZM...\n",
      "9     zma  rth6|rth6-1|rth6-2|rth6-3|rth6-4|rth6-5|rth6-6...\n",
      "     species                                         gene_names\n",
      "674      zma                                 ct1|compact plant1\n",
      "7        zma                           rth2|roothair defective2\n",
      "1621     zma                  les6|Les6-N1451|Les*-1451|lesion6\n",
      "2515     zma                      rea1|des*|red embryonic axis1\n",
      "3424     zma         v36|v36-N1835|v*-1835|virescent36|v*-N1835\n",
      "2919     zma  ppr2263|ppr2263-m1::Mu|ZmPPR463|AC215198.3_FG0...\n",
      "856      zma  ts5|Ts5|cytochrome P450 94B3|tassel seed5|ZmCY...\n",
      "294      zma  vt2|vt2-ref::Mu1|L-tryptophan--pyruvate aminot...\n",
      "281      zma   bif*-SH1606|barren inflorescence SH1606|bif*1606\n",
      "11       zma  asc1|Asc1-1::Mu4|Asc1-2::Mu1|asceapen1|CL2906_...\n"
     ]
    }
   ],
   "source": [
    "# Restructuring the dataset to include all the expected column names.\n",
    "df[\"description\"] = np.vectorize(concatenate_descriptions)(df[\"phenotype_name\"], df[\"phenotype_description\"])\n",
    "df[\"uniprot_id\"] = df[\"uniprot_id\"].apply(add_prefix, prefix=UNIPROT_TAG)\n",
    "df[\"ncbi_gene\"] = df[\"ncbi_gene\"].apply(add_prefix, prefix=NCBI_TAG)\n",
    "df[\"gene_names\"] = np.vectorize(concatenate_with_bar_delim)(df[\"locus_name\"], df[\"alleles\"], df[\"locus_synonyms\"], df[\"v3_gene_model\"], df[\"v4_gene_model\"], df[\"uniprot_id\"], df[\"ncbi_gene\"])\n",
    "df[\"species\"] = \"zma\"\n",
    "df[\"term_ids\"] = \"\"\n",
    "df[\"pmid\"] = \"\"\n",
    "df = df[[\"species\", \"gene_names\", \"description\", \"term_ids\", \"pmid\"]]\n",
    "print(df[[\"species\",\"gene_names\"]].head(10))\n",
    "print(df[[\"species\",\"gene_names\"]].sample(10))"
   ]
  },
  {
   "cell_type": "code",
   "execution_count": 7,
   "metadata": {},
   "outputs": [],
   "source": [
    "# Outputting the dataset of descriptions to a csv file.\n",
    "path = os.path.join(OUTPUT_DIR,\"zma_maizegdb_gene_text.csv\")\n",
    "df.to_csv(path, index=False)"
   ]
  }
 ],
 "metadata": {
  "kernelspec": {
   "display_name": "Python 3",
   "language": "python",
   "name": "python3"
  },
  "language_info": {
   "codemirror_mode": {
    "name": "ipython",
    "version": 3
   },
   "file_extension": ".py",
   "mimetype": "text/x-python",
   "name": "python",
   "nbconvert_exporter": "python",
   "pygments_lexer": "ipython3",
   "version": "3.6.7"
  }
 },
 "nbformat": 4,
 "nbformat_minor": 2
}
