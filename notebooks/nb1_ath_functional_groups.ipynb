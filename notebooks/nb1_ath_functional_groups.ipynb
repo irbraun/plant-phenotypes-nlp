{
 "cells": [
  {
   "cell_type": "markdown",
   "metadata": {},
   "source": [
    "## Notebook looking at functional groups/pathways in A. thaliana"
   ]
  },
  {
   "cell_type": "code",
   "execution_count": 1,
   "metadata": {},
   "outputs": [],
   "source": [
    "import matplotlib.pyplot as plt\n",
    "import matplotlib as mpl\n",
    "import seaborn as sns\n",
    "import pandas as pd\n",
    "import numpy as np\n",
    "import time\n",
    "import math\n",
    "import sys\n",
    "import gensim\n",
    "import os\n",
    "import warnings\n",
    "import itertools\n",
    "from collections import Counter\n",
    "from inspect import signature\n",
    "from scipy.stats import ks_2samp\n",
    "from sklearn.metrics import precision_recall_curve, f1_score, auc\n",
    "from collections import defaultdict\n",
    "\n",
    "sys.path.append(\"../../oats\")\n",
    "from oats.utils.utils import save_to_pickle, load_from_pickle, merge_list_dicts, flatten\n",
    "from oats.datasets.dataset import Dataset\n",
    "from oats.datasets.groupings import Groupings\n",
    "from oats.datasets.string import get_stringdb_information\n",
    "from oats.annotation.ontology import Ontology\n",
    "from oats.annotation.annotation import write_annotations_to_tsv_file, read_annotations_from_tsv_file\n",
    "from oats.graphs.pairwise import pairwise_edgelist_doc2vec, pairwise_edgelist_bagofwords, pairwise_edgelist_setofwords\n",
    "from oats.graphs.pairwise import pairwise_edgelist_annotations, merge_edgelists, subset_edgelist_with_ids\n",
    "from oats.graphs.pairwise import remove_self_loops\n",
    "from oats.objectives.functions import balance_classes\n",
    "from oats.graphs.indexed import IndexedGraph\n",
    "\n",
    "mpl.rcParams[\"figure.dpi\"] = 200\n",
    "warnings.simplefilter('ignore')\n",
    "pd.set_option('display.max_rows', 500)\n",
    "pd.set_option('display.max_columns', 500)\n",
    "pd.set_option('display.width', 1000)"
   ]
  },
  {
   "cell_type": "code",
   "execution_count": 12,
   "metadata": {},
   "outputs": [
    {
     "name": "stdout",
     "output_type": "stream",
     "text": [
      "['CHLRE', 'Gene_ORFName=CHLRE_18g748397v5', 'UniProtKB=A0A2K3CNG5']\n",
      "['AMBTC', 'EnsemblGenome=AMTR_s00046p00227230', 'UniProtKB=U5CXP6']\n",
      "['CHLRE', 'Gene_ORFName=CHLRE_18g748397v5', 'UniProtKB=A0A2K3CNG5']\n",
      "['ZOSMR', 'Gene_ORFName=ZOSMA_39G00070', 'UniProtKB=A0A0K9P3W9']\n",
      "['CHLRE', 'Gene_ORFName=CHLRE_18g748397v5', 'UniProtKB=A0A2K3CNG5']\n",
      "['PHODC', 'Gene=LOC103712764', 'UniProtKB=A0A2H3YEN8']\n",
      "['CHLRE', 'Gene_ORFName=CHLRE_18g748397v5', 'UniProtKB=A0A2K3CNG5']\n",
      "['SETIT', 'EnsemblGenome=Si035784m.g', 'UniProtKB=K4AA78']\n",
      "['CHLRE', 'Gene_ORFName=CHLRE_18g748397v5', 'UniProtKB=A0A2K3CNG5']\n",
      "['SORBI', 'EnsemblGenome=SORBI_3010G157700', 'UniProtKB=C5Z408']\n",
      "['CHLRE', 'Gene_ORFName=CHLRE_18g748397v5', 'UniProtKB=A0A2K3CNG5']\n",
      "['SORBI', 'EnsemblGenome=SORBI_3007G027000', 'UniProtKB=A0A1B6PF58']\n",
      "['CHLRE', 'Gene_ORFName=CHLRE_18g748397v5', 'UniProtKB=A0A2K3CNG5']\n",
      "['MAIZE', 'EnsemblGenome=Zm00001d035185', 'UniProtKB=A0A1D6LEW9']\n",
      "['CHLRE', 'Gene_ORFName=CHLRE_18g748397v5', 'UniProtKB=A0A2K3CNG5']\n",
      "['ORYSJ', 'EnsemblGenome=Os01g0306800', 'UniProtKB=Q656E2']\n",
      "['CHLRE', 'Gene_ORFName=CHLRE_18g748397v5', 'UniProtKB=A0A2K3CNG5']\n",
      "['ORYSJ', 'Gene=Os08g0320800', 'UniProtKB=A0A0N7KPN0']\n",
      "['CHLRE', 'Gene_ORFName=CHLRE_18g748397v5', 'UniProtKB=A0A2K3CNG5']\n",
      "['BRADI', 'EnsemblGenome=BRADI3G18120', 'UniProtKB=I1I202']\n",
      "['CHLRE', 'Gene_ORFName=CHLRE_18g748397v5', 'UniProtKB=A0A2K3CNG5']\n",
      "['HORVV', 'EnsemblGenome=HORVU5Hr1G049810', 'UniProtKB=A0A287R5I0']\n",
      "['CHLRE', 'Gene_ORFName=CHLRE_18g748397v5', 'UniProtKB=A0A2K3CNG5']\n",
      "['WHEAT', 'EnsemblGenome=TRIAE_CS42_5AL_TGACv1_374035_AA1188540', 'UniProtKB=A0A1D5YBG7']\n",
      "['CHLRE', 'Gene_ORFName=CHLRE_18g748397v5', 'UniProtKB=A0A2K3CNG5']\n",
      "['WHEAT', 'EnsemblGenome=TRIAE_CS42_5BL_TGACv1_405058_AA1319000', 'UniProtKB=W5FEQ4']\n",
      "['CHLRE', 'Gene_ORFName=CHLRE_18g748397v5', 'UniProtKB=A0A2K3CNG5']\n",
      "['WHEAT', 'EnsemblGenome=TRIAE_CS42_5DL_TGACv1_433458_AA1413650', 'UniProtKB=A0A1D6S681']\n",
      "['CHLRE', 'Gene_ORFName=CHLRE_18g748397v5', 'UniProtKB=A0A2K3CNG5']\n",
      "['HELAN', 'Gene_ORFName=HannXRQ_Chr14g0447081', 'UniProtKB=A0A251SIA0']\n",
      "['CHLRE', 'Gene_ORFName=CHLRE_18g748397v5', 'UniProtKB=A0A2K3CNG5']\n",
      "['ERYGU', 'Gene_ORFName=MIMGU_mgv1a006938mg', 'UniProtKB=A0A022RX64']\n",
      "['CHLRE', 'Gene_ORFName=CHLRE_18g748397v5', 'UniProtKB=A0A2K3CNG5']\n",
      "['ERYGU', 'Gene_ORFName=MIMGU_mgv1a017882mg', 'UniProtKB=A0A022RZH4']\n",
      "['CHLRE', 'Gene_ORFName=CHLRE_18g748397v5', 'UniProtKB=A0A2K3CNG5']\n",
      "['ERYGU', 'Gene_ORFName=MIMGU_mgv1a018171mg', 'UniProtKB=A0A022S0N1']\n",
      "['CHLRE', 'Gene_ORFName=CHLRE_18g748397v5', 'UniProtKB=A0A2K3CNG5']\n",
      "['SOLLC', 'EnsemblGenome=Solyc02g091640.2', 'UniProtKB=K4BCW2']\n",
      "['CHLRE', 'Gene_ORFName=CHLRE_18g748397v5', 'UniProtKB=A0A2K3CNG5']\n",
      "['TOBAC', 'Gene=LOC107764216', 'UniProtKB=A0A1S3XEQ9']\n",
      "['CHLRE', 'Gene_ORFName=CHLRE_18g748397v5', 'UniProtKB=A0A2K3CNG5']\n",
      "['TOBAC', 'Gene=LOC107831445', 'UniProtKB=A0A1S4DMP2']\n",
      "['CHLRE', 'Gene_ORFName=CHLRE_18g748397v5', 'UniProtKB=A0A2K3CNG5']\n",
      "['VITVI', 'EnsemblGenome=VIT_00s0415g00020', 'UniProtKB=F6HCT6']\n",
      "['CHLRE', 'Gene_ORFName=CHLRE_18g748397v5', 'UniProtKB=A0A2K3CNG5']\n",
      "['VITVI', 'EnsemblGenome=VIT_00s0211g00010', 'UniProtKB=D7T5B2']\n",
      "['CHLRE', 'Gene_ORFName=CHLRE_18g748397v5', 'UniProtKB=A0A2K3CNG5']\n",
      "['BRARP', 'EnsemblGenome=Bra011795', 'UniProtKB=M4D5N8']\n",
      "['CHLRE', 'Gene_ORFName=CHLRE_18g748397v5', 'UniProtKB=A0A2K3CNG5']\n",
      "['ARATH', 'TAIR=AT4G37920', 'UniProtKB=Q84WN0']\n",
      "['CHLRE', 'Gene_ORFName=CHLRE_18g748397v5', 'UniProtKB=A0A2K3CNG5']\n",
      "['GOSHI', 'Gene=LOC107915333', 'UniProtKB=A0A1U8KBX8']\n",
      "['CHLRE', 'Gene_ORFName=CHLRE_18g748397v5', 'UniProtKB=A0A2K3CNG5']\n",
      "['THECC', 'EnsemblGenome=TCM_000921', 'UniProtKB=A0A061DPH2']\n",
      "['CHLRE', 'Gene_ORFName=CHLRE_18g748397v5', 'UniProtKB=A0A2K3CNG5']\n",
      "['POPTR', 'Gene_ORFName=POPTR_007G000400v3', 'UniProtKB=A0A2K1ZLL1']\n",
      "['CHLRE', 'Gene_ORFName=CHLRE_18g748397v5', 'UniProtKB=A0A2K3CNG5']\n",
      "['RICCO', 'Gene_ORFName=RCOM_0230440', 'UniProtKB=B9SMJ7']\n",
      "['CHLRE', 'Gene_ORFName=CHLRE_18g748397v5', 'UniProtKB=A0A2K3CNG5']\n",
      "['SOYBN', 'EnsemblGenome=GLYMA_09G202500', 'UniProtKB=I1L4U7']\n",
      "['CHLRE', 'Gene_ORFName=CHLRE_18g748397v5', 'UniProtKB=A0A2K3CNG5']\n",
      "['SOYBN', 'EnsemblGenome=GLYMA_01G019900', 'UniProtKB=I1J4X3']\n",
      "['CHLRE', 'Gene_ORFName=CHLRE_18g748397v5', 'UniProtKB=A0A2K3CNG5']\n",
      "['MEDTR', 'EnsemblGenome=MTR_5g030900', 'UniProtKB=A9YWR5']\n",
      "['CHLRE', 'Gene_ORFName=CHLRE_18g748397v5', 'UniProtKB=A0A2K3CNG5']\n",
      "['CUCSA', 'EnsemblGenome=Csa_4G515540', 'UniProtKB=A0A0A0L3X1']\n",
      "['CHLRE', 'Gene_ORFName=CHLRE_18g748397v5', 'UniProtKB=A0A2K3CNG5']\n",
      "['PRUPE', 'EnsemblGenome=PRUPE_6G209500', 'UniProtKB=M5VYC6']\n",
      "['CHLRE', 'Gene_ORFName=CHLRE_18g748397v5', 'UniProtKB=A0A2K3CNG5']\n",
      "['AMBTC', 'EnsemblGenome=AMTR_s00010p00223650', 'UniProtKB=W1NGE9']\n",
      "['CHLRE', 'Gene_ORFName=CHLRE_18g748397v5', 'UniProtKB=A0A2K3CNG5']\n",
      "['ZOSMR', 'Gene_ORFName=ZOSMA_85G00050', 'UniProtKB=A0A0K9NLF5']\n",
      "['CHLRE', 'Gene_ORFName=CHLRE_18g748397v5', 'UniProtKB=A0A2K3CNG5']\n",
      "['ZOSMR', 'Gene_ORFName=ZOSMA_394G00020', 'UniProtKB=A0A0K9P4C6']\n",
      "['CHLRE', 'Gene_ORFName=CHLRE_18g748397v5', 'UniProtKB=A0A2K3CNG5']\n",
      "['ZOSMR', 'Gene_ORFName=ZOSMA_93G00600', 'UniProtKB=A0A0K9NIN0']\n",
      "['CHLRE', 'Gene_ORFName=CHLRE_18g748397v5', 'UniProtKB=A0A2K3CNG5']\n",
      "['MUSAM', 'EnsemblGenome=GSMUA_Achr10G26230_001', 'UniProtKB=M0RLJ7']\n",
      "['CHLRE', 'Gene_ORFName=CHLRE_18g748397v5', 'UniProtKB=A0A2K3CNG5']\n",
      "['PHODC', 'Gene=LOC103719692', 'UniProtKB=A0A2H3Z288']\n",
      "['CHLRE', 'Gene_ORFName=CHLRE_18g748397v5', 'UniProtKB=A0A2K3CNG5']\n",
      "['SETIT', 'EnsemblGenome=Si017203m.g', 'UniProtKB=K3YSF9']\n",
      "['CHLRE', 'Gene_ORFName=CHLRE_18g748397v5', 'UniProtKB=A0A2K3CNG5']\n",
      "['SORBI', 'EnsemblGenome=SORBI_3001G530900', 'UniProtKB=A0A1B6QQZ3']\n",
      "['CHLRE', 'Gene_ORFName=CHLRE_18g748397v5', 'UniProtKB=A0A2K3CNG5']\n",
      "['MAIZE', 'EnsemblGenome=Zm00001d053290', 'UniProtKB=C0PEL6']\n",
      "['CHLRE', 'Gene_ORFName=CHLRE_18g748397v5', 'UniProtKB=A0A2K3CNG5']\n",
      "['BRADI', 'EnsemblGenome=BRADI2G40070', 'UniProtKB=I1HNA0']\n",
      "['CHLRE', 'Gene_ORFName=CHLRE_18g748397v5', 'UniProtKB=A0A2K3CNG5']\n",
      "['HORVV', 'EnsemblGenome=HORVU1Hr1G000110', 'UniProtKB=A0A287EEF1']\n",
      "['CHLRE', 'Gene_ORFName=CHLRE_18g748397v5', 'UniProtKB=A0A2K3CNG5']\n",
      "['WHEAT', 'EnsemblGenome=TRIAE_CS42_1AS_TGACv1_021761_AA0082130', 'UniProtKB=W4ZVH7']\n",
      "['CHLRE', 'Gene_ORFName=CHLRE_18g748397v5', 'UniProtKB=A0A2K3CNG5']\n",
      "['WHEAT', 'EnsemblGenome=TRIAE_CS42_1BS_TGACv1_050538_AA0173180', 'UniProtKB=W5AAI6']\n",
      "['CHLRE', 'Gene_ORFName=CHLRE_18g748397v5', 'UniProtKB=A0A2K3CNG5']\n",
      "['WHEAT', 'EnsemblGenome=TRIAE_CS42_1DS_TGACv1_080190_AA0242560', 'UniProtKB=A0A1D5T1I4']\n",
      "['CHLRE', 'Gene_ORFName=CHLRE_18g748397v5', 'UniProtKB=A0A2K3CNG5']\n",
      "['HELAN', 'Gene_ORFName=HannXRQ_Chr10g0278531', 'UniProtKB=A0A251TG71']\n",
      "['CHLRE', 'Gene_ORFName=CHLRE_18g748397v5', 'UniProtKB=A0A2K3CNG5']\n",
      "['HELAN', 'Gene_ORFName=HannXRQ_Chr05g0162251', 'UniProtKB=A0A251UWQ6']\n",
      "['CHLRE', 'Gene_ORFName=CHLRE_18g748397v5', 'UniProtKB=A0A2K3CNG5']\n",
      "['ERYGU', 'Gene_ORFName=MIMGU_mgv1a008619mg', 'UniProtKB=A0A022RV06']\n",
      "['CHLRE', 'Gene_ORFName=CHLRE_18g748397v5', 'UniProtKB=A0A2K3CNG5']\n",
      "['SOLLC', 'EnsemblGenome=Solyc04g072400.2', 'UniProtKB=K4BTM7']\n",
      "['CHLRE', 'Gene_ORFName=CHLRE_18g748397v5', 'UniProtKB=A0A2K3CNG5']\n",
      "['TOBAC', 'Gene=LOC107819910', 'UniProtKB=A0A1S4CKX3']\n",
      "['CHLRE', 'Gene_ORFName=CHLRE_18g748397v5', 'UniProtKB=A0A2K3CNG5']\n",
      "['TOBAC', 'Gene=LOC107806176', 'UniProtKB=A0A1S4BA45']\n",
      "['CHLRE', 'Gene_ORFName=CHLRE_18g748397v5', 'UniProtKB=A0A2K3CNG5']\n",
      "['TOBAC', 'Gene=LOC107784055', 'UniProtKB=A0A1S3Z7Z6']\n",
      "['CHLRE', 'Gene_ORFName=CHLRE_18g748397v5', 'UniProtKB=A0A2K3CNG5']\n",
      "['VITVI', 'EnsemblGenome=VIT_18s0001g04580', 'UniProtKB=E0CRE9']\n",
      "['CHLRE', 'Gene_ORFName=CHLRE_18g748397v5', 'UniProtKB=A0A2K3CNG5']\n",
      "['BRARP', 'EnsemblGenome=Bra036773', 'UniProtKB=M4FIR2']\n",
      "['CHLRE', 'Gene_ORFName=CHLRE_18g748397v5', 'UniProtKB=A0A2K3CNG5']\n",
      "['ARATH', 'TAIR=AT1G36320', 'UniProtKB=Q9C8X8']\n",
      "['CHLRE', 'Gene_ORFName=CHLRE_18g748397v5', 'UniProtKB=A0A2K3CNG5']\n",
      "['GOSHI', 'Gene=LOC107957924', 'UniProtKB=A0A1U8PD23']\n",
      "['CHLRE', 'Gene_ORFName=CHLRE_18g748397v5', 'UniProtKB=A0A2K3CNG5']\n",
      "['GOSHI', 'Gene=LOC107905034', 'UniProtKB=A0A1U8J9R3']\n",
      "['CHLRE', 'Gene_ORFName=CHLRE_18g748397v5', 'UniProtKB=A0A2K3CNG5']\n",
      "['THECC', 'EnsemblGenome=TCM_034989', 'UniProtKB=A0A061FGT6']\n",
      "['CHLRE', 'Gene_ORFName=CHLRE_18g748397v5', 'UniProtKB=A0A2K3CNG5']\n",
      "['CITSI', 'Gene_ORFName=CISIN_1g048140mg', 'UniProtKB=A0A067GMK3']\n",
      "['CHLRE', 'Gene_ORFName=CHLRE_18g748397v5', 'UniProtKB=A0A2K3CNG5']\n",
      "['POPTR', 'EnsemblGenome=POPTR_0005s16410', 'UniProtKB=B9H779']\n",
      "['CHLRE', 'Gene_ORFName=CHLRE_18g748397v5', 'UniProtKB=A0A2K3CNG5']\n",
      "['POPTR', 'EnsemblGenome=POPTR_0002s09160', 'UniProtKB=B9GUI1']\n",
      "['CHLRE', 'Gene_ORFName=CHLRE_18g748397v5', 'UniProtKB=A0A2K3CNG5']\n",
      "['RICCO', 'Gene_ORFName=RCOM_1033290', 'UniProtKB=B9RJD5']\n",
      "['CHLRE', 'Gene_ORFName=CHLRE_18g748397v5', 'UniProtKB=A0A2K3CNG5']\n",
      "['SOYBN', 'EnsemblGenome=GLYMA_09G020900', 'UniProtKB=I1L0B7']\n",
      "['CHLRE', 'Gene_ORFName=CHLRE_18g748397v5', 'UniProtKB=A0A2K3CNG5']\n",
      "['MEDTR', 'EnsemblGenome=MTR_2g029030', 'UniProtKB=G7IJR9']\n",
      "['CHLRE', 'Gene_ORFName=CHLRE_18g748397v5', 'UniProtKB=A0A2K3CNG5']\n",
      "['CUCSA', 'EnsemblGenome=Csa_2G403700', 'UniProtKB=A0A0A0LMH6']\n",
      "['CHLRE', 'Gene_ORFName=CHLRE_18g748397v5', 'UniProtKB=A0A2K3CNG5']\n",
      "['PRUPE', 'Gene_ORFName=PRUPE_1G508600', 'UniProtKB=A0A251RG89']\n",
      "['CHLRE', 'Gene_ORFName=CHLRE_18g748397v5', 'UniProtKB=A0A2K3CNG5']\n",
      "['PHYPA', 'Gene_ORFName=PHYPA_006614', 'UniProtKB=A0A2K1KPM0']\n",
      "['CHLRE', 'Gene_ORFName=CHLRE_18g748397v5', 'UniProtKB=A0A2K3CNG5']\n",
      "['PHYPA', 'Gene_ORFName=PHYPA_014531', 'UniProtKB=A0A2K1JT99']\n",
      "['CHLRE', 'Gene_ORFName=CHLRE_18g748397v5', 'UniProtKB=A0A2K3CNG5']\n",
      "['PHYPA', 'Gene_ORFName=PHYPA_017269', 'UniProtKB=A0A2K1JLL2']\n",
      "['OSTTA', 'Gene_ORFName=OT_ostta07g01890', 'UniProtKB=Q015G1']\n",
      "['AMBTC', 'EnsemblGenome=AMTR_s00046p00227230', 'UniProtKB=U5CXP6']\n",
      "['OSTTA', 'Gene_ORFName=OT_ostta07g01890', 'UniProtKB=Q015G1']\n",
      "['ZOSMR', 'Gene_ORFName=ZOSMA_39G00070', 'UniProtKB=A0A0K9P3W9']\n",
      "['OSTTA', 'Gene_ORFName=OT_ostta07g01890', 'UniProtKB=Q015G1']\n",
      "['PHODC', 'Gene=LOC103712764', 'UniProtKB=A0A2H3YEN8']\n",
      "['OSTTA', 'Gene_ORFName=OT_ostta07g01890', 'UniProtKB=Q015G1']\n",
      "['SETIT', 'EnsemblGenome=Si035784m.g', 'UniProtKB=K4AA78']\n",
      "['OSTTA', 'Gene_ORFName=OT_ostta07g01890', 'UniProtKB=Q015G1']\n",
      "['SORBI', 'EnsemblGenome=SORBI_3010G157700', 'UniProtKB=C5Z408']\n",
      "['OSTTA', 'Gene_ORFName=OT_ostta07g01890', 'UniProtKB=Q015G1']\n",
      "['SORBI', 'EnsemblGenome=SORBI_3007G027000', 'UniProtKB=A0A1B6PF58']\n",
      "['OSTTA', 'Gene_ORFName=OT_ostta07g01890', 'UniProtKB=Q015G1']\n",
      "['MAIZE', 'EnsemblGenome=Zm00001d035185', 'UniProtKB=A0A1D6LEW9']\n",
      "['OSTTA', 'Gene_ORFName=OT_ostta07g01890', 'UniProtKB=Q015G1']\n",
      "['ORYSJ', 'EnsemblGenome=Os01g0306800', 'UniProtKB=Q656E2']\n",
      "['OSTTA', 'Gene_ORFName=OT_ostta07g01890', 'UniProtKB=Q015G1']\n",
      "['ORYSJ', 'Gene=Os08g0320800', 'UniProtKB=A0A0N7KPN0']\n",
      "['OSTTA', 'Gene_ORFName=OT_ostta07g01890', 'UniProtKB=Q015G1']\n",
      "['BRADI', 'EnsemblGenome=BRADI3G18120', 'UniProtKB=I1I202']\n",
      "['OSTTA', 'Gene_ORFName=OT_ostta07g01890', 'UniProtKB=Q015G1']\n",
      "['HORVV', 'EnsemblGenome=HORVU5Hr1G049810', 'UniProtKB=A0A287R5I0']\n",
      "['OSTTA', 'Gene_ORFName=OT_ostta07g01890', 'UniProtKB=Q015G1']\n",
      "['WHEAT', 'EnsemblGenome=TRIAE_CS42_5AL_TGACv1_374035_AA1188540', 'UniProtKB=A0A1D5YBG7']\n",
      "['OSTTA', 'Gene_ORFName=OT_ostta07g01890', 'UniProtKB=Q015G1']\n",
      "['WHEAT', 'EnsemblGenome=TRIAE_CS42_5BL_TGACv1_405058_AA1319000', 'UniProtKB=W5FEQ4']\n",
      "['OSTTA', 'Gene_ORFName=OT_ostta07g01890', 'UniProtKB=Q015G1']\n",
      "['WHEAT', 'EnsemblGenome=TRIAE_CS42_5DL_TGACv1_433458_AA1413650', 'UniProtKB=A0A1D6S681']\n",
      "['OSTTA', 'Gene_ORFName=OT_ostta07g01890', 'UniProtKB=Q015G1']\n",
      "['HELAN', 'Gene_ORFName=HannXRQ_Chr14g0447081', 'UniProtKB=A0A251SIA0']\n",
      "['OSTTA', 'Gene_ORFName=OT_ostta07g01890', 'UniProtKB=Q015G1']\n",
      "['ERYGU', 'Gene_ORFName=MIMGU_mgv1a006938mg', 'UniProtKB=A0A022RX64']\n",
      "['OSTTA', 'Gene_ORFName=OT_ostta07g01890', 'UniProtKB=Q015G1']\n",
      "['ERYGU', 'Gene_ORFName=MIMGU_mgv1a017882mg', 'UniProtKB=A0A022RZH4']\n",
      "['OSTTA', 'Gene_ORFName=OT_ostta07g01890', 'UniProtKB=Q015G1']\n",
      "['ERYGU', 'Gene_ORFName=MIMGU_mgv1a018171mg', 'UniProtKB=A0A022S0N1']\n",
      "['OSTTA', 'Gene_ORFName=OT_ostta07g01890', 'UniProtKB=Q015G1']\n",
      "['SOLLC', 'EnsemblGenome=Solyc02g091640.2', 'UniProtKB=K4BCW2']\n",
      "['OSTTA', 'Gene_ORFName=OT_ostta07g01890', 'UniProtKB=Q015G1']\n",
      "['TOBAC', 'Gene=LOC107764216', 'UniProtKB=A0A1S3XEQ9']\n",
      "['OSTTA', 'Gene_ORFName=OT_ostta07g01890', 'UniProtKB=Q015G1']\n",
      "['TOBAC', 'Gene=LOC107831445', 'UniProtKB=A0A1S4DMP2']\n",
      "['OSTTA', 'Gene_ORFName=OT_ostta07g01890', 'UniProtKB=Q015G1']\n",
      "['VITVI', 'EnsemblGenome=VIT_00s0415g00020', 'UniProtKB=F6HCT6']\n",
      "['OSTTA', 'Gene_ORFName=OT_ostta07g01890', 'UniProtKB=Q015G1']\n",
      "['VITVI', 'EnsemblGenome=VIT_00s0211g00010', 'UniProtKB=D7T5B2']\n",
      "['OSTTA', 'Gene_ORFName=OT_ostta07g01890', 'UniProtKB=Q015G1']\n",
      "['BRARP', 'EnsemblGenome=Bra011795', 'UniProtKB=M4D5N8']\n",
      "['OSTTA', 'Gene_ORFName=OT_ostta07g01890', 'UniProtKB=Q015G1']\n",
      "['ARATH', 'TAIR=AT4G37920', 'UniProtKB=Q84WN0']\n",
      "['OSTTA', 'Gene_ORFName=OT_ostta07g01890', 'UniProtKB=Q015G1']\n",
      "['GOSHI', 'Gene=LOC107915333', 'UniProtKB=A0A1U8KBX8']\n",
      "['OSTTA', 'Gene_ORFName=OT_ostta07g01890', 'UniProtKB=Q015G1']\n",
      "['THECC', 'EnsemblGenome=TCM_000921', 'UniProtKB=A0A061DPH2']\n",
      "['OSTTA', 'Gene_ORFName=OT_ostta07g01890', 'UniProtKB=Q015G1']\n",
      "['POPTR', 'Gene_ORFName=POPTR_007G000400v3', 'UniProtKB=A0A2K1ZLL1']\n"
     ]
    }
   ],
   "source": [
    "# Reading in and generating orthologs dictionary from panther dataset for plant species.\n",
    "# Need to figure out if reciprocals are given in this file.\n",
    "df = pd.read_table(\"/Users/irbraun/Desktop/orthologs.txt\")\n",
    "df = df.head(100)\n",
    "for row in df.itertuples():\n",
    "    gene1_list = row[1].split(\"|\")\n",
    "    gene2_list = row[2].split(\"|\")\n",
    "    print(gene1_list)\n",
    "    print(gene2_list)\n",
    "\n",
    "    \n",
    "\n",
    "\n",
    "\n"
   ]
  },
  {
   "cell_type": "markdown",
   "metadata": {},
   "source": [
    "### Reading in dataset and subsetting based on a functional group dataset"
   ]
  },
  {
   "cell_type": "code",
   "execution_count": 2,
   "metadata": {},
   "outputs": [
    {
     "name": "stdout",
     "output_type": "stream",
     "text": [
      "Number of rows in the dataframe: 47151\n",
      "Number of unique IDs:            47151\n",
      "Number of unique descriptions:   16504\n",
      "Number of unique gene name sets: 47151\n",
      "Number of species represented:   6\n",
      "Number of rows in the dataframe: 5972\n",
      "Number of unique IDs:            5972\n",
      "Number of unique descriptions:   3635\n",
      "Number of unique gene name sets: 5972\n",
      "Number of species represented:   1\n"
     ]
    }
   ],
   "source": [
    "# Reading in the entire dataset, subsetting for Arabidosis and all annotation types.\n",
    "dataset = load_from_pickle(\"../data/pickles/full_dataset.pickle\")\n",
    "dataset.describe()\n",
    "dataset.filter_by_species(\"ath\")\n",
    "dataset.collapse_by_all_gene_names()\n",
    "dataset.filter_has_description()\n",
    "dataset.filter_has_annotation()\n",
    "dataset.describe()"
   ]
  },
  {
   "cell_type": "code",
   "execution_count": 3,
   "metadata": {},
   "outputs": [
    {
     "name": "stdout",
     "output_type": "stream",
     "text": [
      "Number of rows in the dataframe: 444\n",
      "Number of unique IDs:            444\n",
      "Number of unique descriptions:   394\n",
      "Number of unique gene name sets: 444\n",
      "Number of species represented:   1\n"
     ]
    }
   ],
   "source": [
    "# Subsetting the dataset to include only those genes that map to atleast one group from some classification source.\n",
    "groups = load_from_pickle(path=\"../data/pickles/pmn_pathways.pickle\")\n",
    "id_to_group_ids = groups.get_forward_dict(dataset.get_gene_dictionary())\n",
    "group_mapped_ids = [k for (k,v) in id_to_group_ids.items() if len(v)>1]    \n",
    "dataset.filter_with_ids(group_mapped_ids)\n",
    "#dataset.filter_random_k(40)\n",
    "dataset.describe()\n",
    "\n",
    "\n",
    "# What about subsetting for groups that have atleast two genes mapped to them?"
   ]
  },
  {
   "cell_type": "code",
   "execution_count": 4,
   "metadata": {
    "scrolled": false
   },
   "outputs": [
    {
     "name": "stdout",
     "output_type": "stream",
     "text": [
      "Num Genes Mapped    Pathway ID          Pathway Name        \n",
      "21                  PWY66-399           gluconeogenesis III \n",
      "21                  GLUCONEO-PWY        gluconeogenesis I   \n",
      "19                  PWY-6733            sporopollenin precursors biosynthesis\n",
      "19                  PWY-6803            phosphatidylcholine acyl editing\n",
      "18                  PWY-1121            suberin monomers biosynthesis\n",
      "18                  PWY-361             phenylpropanoid biosynthesis\n",
      "17                  GLYCOLYSIS          glycolysis I (from glucose 6-phosphate)\n",
      "16                  PWY-5484            glycolysis II (from fructose 6-phosphate)\n",
      "16                  PWY-581             indole-3-acetate biosynthesis II\n",
      "15                  PWY-5971            palmitate biosynthesis II (bacteria and plants)\n"
     ]
    }
   ],
   "source": [
    "# Get the mappings again now that the data has been subset.\n",
    "id_to_group_ids = groups.get_forward_dict(dataset.get_gene_dictionary())\n",
    "group_id_to_ids = groups.get_reverse_dict(dataset.get_gene_dictionary())\n",
    "sorted_group_tuples = sorted(group_id_to_ids.items(), key=lambda x: len(x[1]), reverse=True)\n",
    "print(\"{:<20}{:<20}{:<20}\".format(\"Num Genes Mapped\",\"Pathway ID\", \"Pathway Name\"))\n",
    "for group in sorted_group_tuples[:10]:\n",
    "    print(\"{:<20}{:<20}{:<20}\".format(len(group_id_to_ids[group[0]]), group[0], groups.get_long_name(group[0]))) "
   ]
  },
  {
   "cell_type": "code",
   "execution_count": 5,
   "metadata": {},
   "outputs": [],
   "source": [
    "# Make a dictionary of descriptions with same quantity of words but randomly selected from the vocabulary.\n",
    "from nltk.tokenize import word_tokenize\n",
    "descriptions = dataset.get_description_dictionary()\n",
    "annotations = dataset.get_annotations_dictionary()\n",
    "go_annotations = {k:[term for term in v if term[0:2]==\"GO\"] for k,v in annotations.items()}\n",
    "po_annotations = {k:[term for term in v if term[0:2]==\"PO\"] for k,v in annotations.items()}\n",
    "#tokens = [w for w in itertools.chain.from_iterable(word_tokenize(desc) for desc in descriptions.values())]\n",
    "#scrambled_descriptions = {k:\" \".join(np.random.choice(tokens,len(word_tokenize(v)))) for k,v in descriptions.items()}"
   ]
  },
  {
   "cell_type": "code",
   "execution_count": 6,
   "metadata": {},
   "outputs": [],
   "source": [
    "combined = {i:descriptions[i]+\" \"+\" \".join(annotations[i]) for i in descriptions.keys()}"
   ]
  },
  {
   "cell_type": "markdown",
   "metadata": {},
   "source": [
    "### Generating the edge list that specifies the graph constructed from text similarity"
   ]
  },
  {
   "cell_type": "code",
   "execution_count": 7,
   "metadata": {},
   "outputs": [
    {
     "name": "stdout",
     "output_type": "stream",
     "text": [
      "   from  to   doc2vec  bagofwords  setofwords  ontology   go        po\n",
      "1     1   9  0.508956    0.763184    0.963636  0.995556  1.0  1.000000\n",
      "2     1  20  0.281114    0.734933    0.875000  0.937198  1.0  1.000000\n",
      "3     1  23  0.228607    0.751529    0.875000  0.740741  1.0  0.000000\n",
      "4     1  31  0.177779    0.617454    0.785714  0.917647  0.9  0.982456\n",
      "5     1  32  0.201247    0.622242    0.800000  0.969512  1.0  1.000000\n",
      "6     1  40  0.350276    0.811728    0.923077  0.993197  1.0  1.000000\n",
      "7     1  44  0.520317    0.789153    0.960784  0.995349  1.0  1.000000\n",
      "8     1  53  0.396525    0.928551    0.960000  0.976415  1.0  1.000000\n",
      "98346\n"
     ]
    }
   ],
   "source": [
    "# Objects and dictionaries needed to build the list of edges for the full graph.\n",
    "doc2vec_model_filename = \"../gensim/enwiki_dbow/doc2vec.bin\"\n",
    "doc2vec_model = gensim.models.Doc2Vec.load(doc2vec_model_filename)\n",
    "ontology_filename = \"../ontologies/mo.obo\"\n",
    "ontology = Ontology(ontology_filename)\n",
    "descriptions = dataset.get_description_dictionary()\n",
    "annotations = dataset.get_annotations_dictionary()\n",
    "\n",
    "# Generating the pairwise edgelist and saving it as a dataframe.\n",
    "name_to_df_mapping = {}\n",
    "name_to_df_mapping[\"doc2vec\"] = pairwise_edgelist_doc2vec(doc2vec_model, descriptions)\n",
    "name_to_df_mapping[\"bagofwords\"] = pairwise_edgelist_bagofwords(descriptions) \n",
    "name_to_df_mapping[\"setofwords\"] = pairwise_edgelist_setofwords(descriptions)\n",
    "name_to_df_mapping[\"ontology\"] = pairwise_edgelist_annotations(annotations, ontology)\n",
    "#name_to_df_mapping[\"d2v_scrambled\"] = pairwise_edgelist_doc2vec(doc2vec_model, scrambled_descriptions)\n",
    "#name_to_df_mapping[\"bow_scrambled\"] = pairwise_edgelist_bagofwords(scrambled_descriptions) \n",
    "#name_to_df_mapping[\"sow_scrambled\"] = pairwise_edgelist_setofwords(scrambled_descriptions)\n",
    "name_to_df_mapping[\"go\"] = pairwise_edgelist_annotations(go_annotations, ontology)\n",
    "name_to_df_mapping[\"po\"] = pairwise_edgelist_annotations(po_annotations, ontology)\n",
    "\n",
    "\n",
    "df = merge_edgelists(name_to_df_mapping, default_value=0.000)\n",
    "df = remove_self_loops(df)\n",
    "print(df.head(8))\n",
    "print(df.shape[0])"
   ]
  },
  {
   "cell_type": "markdown",
   "metadata": {},
   "source": [
    "### Comparing baseline to within-group edge weight distributions"
   ]
  },
  {
   "cell_type": "code",
   "execution_count": 8,
   "metadata": {
    "scrolled": false
   },
   "outputs": [
    {
     "data": {
      "image/png": "[encoded data removed]",
      "text/plain": [
       "<Figure size 1008x432 with 8 Axes>"
      ]
     },
     "metadata": {
      "needs_background": "light"
     },
     "output_type": "display_data"
    }
   ],
   "source": [
    "# Obtain the whole-data and within-group edge weight distributions by method.\n",
    "METHODS = [\"doc2vec\", \"bagofwords\", \"setofwords\", \"ontology\", \"po\", \"go\"]\n",
    "group_id_to_ids = groups.get_reverse_dict(dataset.get_gene_dictionary())\n",
    "group_ids = list(group_id_to_ids.keys())\n",
    "graph = IndexedGraph(df)\n",
    "within_weights_dict = defaultdict(list)\n",
    "all_weights_dict = {}\n",
    "for method in METHODS:\n",
    "    all_weights_dict[method] = df[method].values\n",
    "    for group in group_ids:\n",
    "        within_ids = group_id_to_ids[group]\n",
    "        within_pairs = [(i,j) for i,j in itertools.permutations(within_ids,2)]\n",
    "        within_weights_dict[method].extend(graph.get_values(within_pairs, kind=method))\n",
    "        \n",
    "# Plotting the kernel density estimates of the whole-data and within-group distributions.\n",
    "num_plots, plots_per_row, row_width, row_height = (len(METHODS), 4, 14, 3)\n",
    "fig,axs = plt.subplots(math.ceil(num_plots/plots_per_row), plots_per_row, squeeze=False)\n",
    "for method,ax in zip(METHODS,axs.flatten()):\n",
    "    ax.set_title(method)\n",
    "    ax.set_xlabel(\"value\")\n",
    "    ax.set_ylabel(\"density\")\n",
    "    sns.kdeplot(within_weights_dict[method], color=\"black\", shade=False, alpha=1.0, ax=ax)\n",
    "    sns.kdeplot(all_weights_dict[method], color=\"black\", shade=True, alpha=0.1, ax=ax) \n",
    "fig.set_size_inches(row_width, row_height*math.ceil(num_plots/plots_per_row))\n",
    "fig.tight_layout()\n",
    "fig.show()"
   ]
  },
  {
   "cell_type": "markdown",
   "metadata": {},
   "source": [
    "### Which biochemical pathways are the most 'phenotypically visible' in this dataset?"
   ]
  },
  {
   "cell_type": "code",
   "execution_count": 9,
   "metadata": {},
   "outputs": [],
   "source": [
    "# Same thing but keeping track of means for each specific pathway or grouping with nested dict.\n",
    "\n",
    "# Obtain the whole-data and within-group edge weight distributions by method.\n",
    "METHODS = [\"doc2vec\", \"bagofwords\", \"setofwords\", \"ontology\", \"po\", \"go\"]\n",
    "group_id_to_ids = groups.get_reverse_dict(dataset.get_gene_dictionary())\n",
    "group_ids = list(group_id_to_ids.keys())\n",
    "graph = IndexedGraph(df)\n",
    "within_weights_dict = defaultdict(lambda: defaultdict(list))\n",
    "all_weights_dict = {}\n",
    "for method in METHODS:\n",
    "    all_weights_dict[method] = df[method].values\n",
    "    for group in group_ids:\n",
    "        within_ids = group_id_to_ids[group]\n",
    "        within_pairs = [(i,j) for i,j in itertools.permutations(within_ids,2)]\n",
    "        within_weights_dict[method][group] = np.mean((graph.get_values(within_pairs, kind=method)))"
   ]
  },
  {
   "cell_type": "code",
   "execution_count": 47,
   "metadata": {
    "scrolled": false
   },
   "outputs": [
    {
     "name": "stdout",
     "output_type": "stream",
     "text": [
      "     average                                          full_name\n",
      "0   4.833333                         L-asparagine degradation I\n",
      "1   6.666667  UDP-&alpha;-D-galacturonate biosynthesis I (fr...\n",
      "2   7.500000                          neurosporene biosynthesis\n",
      "3  20.000000                                 UMP biosynthesis I\n",
      "4  20.000000        L-arginine biosynthesis I (via L-ornithine)\n",
      "5  28.833333                     caffeoylglucarate biosynthesis\n",
      "6  29.833333                            zeaxanthin biosynthesis\n",
      "7  29.833333                                lutein biosynthesis\n",
      "8  30.666667                           L-histidine biosynthesis\n",
      "9  32.500000  superpathway of carotenoid biosynthesis in plants\n"
     ]
    }
   ],
   "source": [
    "# Find the average rank of each pathway or group in terms of how low the mean within-group distance values were.\n",
    "ranks = pd.DataFrame(within_weights_dict).rank()\n",
    "ranks[\"average\"] = ranks.mean(axis=1)\n",
    "ranks.sort_values(by=\"average\", inplace=True)\n",
    "\n",
    "\n",
    "ranks.reset_index(inplace=True)\n",
    "ranks[\"group_id\"] = ranks[\"index\"]\n",
    "ranks[\"full_name\"] = ranks[\"group_id\"].apply(lambda x: groups.get_long_name(x))\n",
    "ranks = ranks[[\"average\",\"full_name\"]]\n",
    "print(ranks.head(10))\n",
    "\n",
    "\n",
    "\n",
    "#means_df = pd.DataFrame(within_weights_dict)\n",
    "#means_df.reset_index(inplace=True)\n",
    "#means_df[\"name\"] = means_df[\"index\"].apply(lambda x: groups.get_long_name(x))\n",
    "\n",
    "# need to add the values of n to this dataframe for each?\n",
    "\n",
    "\n",
    "\n",
    "\n",
    "#means_df.sort_values(by=[\"doc2vec\"], inplace=True)\n",
    "#means_df[\"rank\"] = means_df[\"doc2vec\"].rank()\n",
    "#print(means_df.head(20))\n",
    "\n",
    "\n",
    "\n",
    "\n",
    "\n",
    "\n",
    "\n"
   ]
  },
  {
   "cell_type": "markdown",
   "metadata": {},
   "source": [
    "### Predicting whether two genes share or do not share a functional classification or pathway"
   ]
  },
  {
   "cell_type": "code",
   "execution_count": 11,
   "metadata": {},
   "outputs": [
    {
     "name": "stdout",
     "output_type": "stream",
     "text": [
      "   from  to   doc2vec  bagofwords  setofwords  ontology   go        po  class\n",
      "1     1   9  0.508956    0.763184    0.963636  0.995556  1.0  1.000000      0\n",
      "2     1  20  0.281114    0.734933    0.875000  0.937198  1.0  1.000000      0\n",
      "3     1  23  0.228607    0.751529    0.875000  0.740741  1.0  0.000000      0\n",
      "4     1  31  0.177779    0.617454    0.785714  0.917647  0.9  0.982456      1\n",
      "5     1  32  0.201247    0.622242    0.800000  0.969512  1.0  1.000000      1\n",
      "6     1  40  0.350276    0.811728    0.923077  0.993197  1.0  1.000000      0\n",
      "7     1  44  0.520317    0.789153    0.960784  0.995349  1.0  1.000000      0\n",
      "8     1  53  0.396525    0.928551    0.960000  0.976415  1.0  1.000000      0\n"
     ]
    }
   ],
   "source": [
    "# Generate the targe class values, 1 indicating common function and 0 indicating no common function.\n",
    "df.loc[:,\"class\"] = [int(len(set(id_to_group_ids[id1]).intersection(set(id_to_group_ids[id2])))>0) \n",
    "    for (id1,id2) in zip(df[\"from\"].values,df[\"to\"].values)]\n",
    "print(df.head(8))"
   ]
  },
  {
   "cell_type": "code",
   "execution_count": 12,
   "metadata": {},
   "outputs": [
    {
     "name": "stdout",
     "output_type": "stream",
     "text": [
      "               auc baseline n_shared  n_not\n",
      "doc2vec     0.0542   0.0249     2451  95895\n",
      "bagofwords  0.0639   0.0249     2451  95895\n",
      "setofwords  0.0679   0.0249     2451  95895\n",
      "ontology    0.0325   0.0249     2451  95895\n",
      "po          0.0309   0.0249     2451  95895\n",
      "go          0.0630   0.0249     2451  95895\n"
     ]
    },
    {
     "data": {
      "image/png": "[encoded data removed]",
      "text/plain": [
       "<Figure size 1008x432 with 8 Axes>"
      ]
     },
     "metadata": {
      "needs_background": "light"
     },
     "output_type": "display_data"
    }
   ],
   "source": [
    "y_true_dict = {name:df[\"class\"] for name in METHODS}\n",
    "y_prob_dict = {name:(1 - df[name].values) for name in METHODS}\n",
    "results = {}\n",
    "\n",
    "num_plots, plots_per_row, row_width, row_height = (len(METHODS), 4, 14, 3)\n",
    "fig,axs = plt.subplots(math.ceil(num_plots/plots_per_row), plots_per_row, squeeze=False)\n",
    "for method,ax in zip(METHODS, axs.flatten()):\n",
    "    # Obtaining the values and metrics.\n",
    "    y_true, y_prob = y_true_dict[method], y_prob_dict[method]\n",
    "    n_pos, n_neg = Counter(y_true)[1], Counter(y_true)[0]\n",
    "    precision, recall, thresholds = precision_recall_curve(y_true, y_prob)\n",
    "    baseline = Counter(y_true)[1]/len(y_true) \n",
    "    area = auc(recall, precision)\n",
    "    auc_to_baseline_auc_ratio = area/baseline\n",
    "    results[method] = {\"auc\":\"{:.4f}\".format(area), \n",
    "                       \"baseline\":\"{:.4f}\".format(baseline), \n",
    "                       \"n_shared\":\"{:.0f}\".format(n_pos), \n",
    "                       \"n_not\":\"{:.0f}\".format(n_neg)}\n",
    "    # Producing the precision recall curve.\n",
    "    step_kwargs = ({'step': 'post'} if 'step' in signature(plt.fill_between).parameters else {})\n",
    "    ax.step(recall, precision, color='black', alpha=0.2, where='post')\n",
    "    ax.fill_between(recall, precision, alpha=0.7, color='black', **step_kwargs)\n",
    "    ax.set_xlabel('Recall')\n",
    "    ax.set_ylabel('Precision')\n",
    "    ax.set_ylim([0.0, 1.05])\n",
    "    ax.set_xlim([0.0, 1.0])\n",
    "    ax.set_title(\"PR {0} (Baseline={1:0.3f})\".format(method, baseline))\n",
    "print(pd.DataFrame(results).transpose())\n",
    "fig.set_size_inches(row_width, row_height*math.ceil(num_plots/plots_per_row))\n",
    "fig.tight_layout()\n",
    "fig.show()"
   ]
  },
  {
   "cell_type": "markdown",
   "metadata": {},
   "source": [
    "### Predicting which functional group or pathway a specific gene belongs to"
   ]
  },
  {
   "cell_type": "code",
   "execution_count": null,
   "metadata": {},
   "outputs": [],
   "source": [
    "# Can we learn associations between biochemical pathways and text descriptions?\n",
    "# The non ml ways of doing this would be:\n",
    "#    1 create a representative datapoint for each pathway by first dropping the specific sample then mapping.\n",
    "#    need to implement a function for dropping k samples from the matrix calculation and then classifying them?\n",
    "#    2 just use the mean similarity to other members of that thing.\n",
    "#    3 The thing "
   ]
  },
  {
   "cell_type": "code",
   "execution_count": null,
   "metadata": {},
   "outputs": [],
   "source": []
  },
  {
   "cell_type": "code",
   "execution_count": null,
   "metadata": {},
   "outputs": [],
   "source": []
  }
 ],
 "metadata": {
  "kernelspec": {
   "display_name": "Python 3",
   "language": "python",
   "name": "python3"
  },
  "language_info": {
   "codemirror_mode": {
    "name": "ipython",
    "version": 3
   },
   "file_extension": ".py",
   "mimetype": "text/x-python",
   "name": "python",
   "nbconvert_exporter": "python",
   "pygments_lexer": "ipython3",
   "version": "3.6.7"
  }
 },
 "nbformat": 4,
 "nbformat_minor": 2
}
