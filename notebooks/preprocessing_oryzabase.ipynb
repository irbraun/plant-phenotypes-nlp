{
 "cells": [
  {
   "cell_type": "markdown",
   "metadata": {},
   "source": [
    "## Reading in data available through Oryzabase (Integrated Rice Science Database)\n",
    "The purpose of this notebook is to read in and do a preliminary analysis of the data related to text descriptions and ontology term annotations that are available through Oryzabase. The data needs to be organized and also restructured into a standard format that will allow it to be easily combined with datasets from other resources."
   ]
  },
  {
   "cell_type": "code",
   "execution_count": 30,
   "metadata": {
    "scrolled": true
   },
   "outputs": [],
   "source": [
    "import matplotlib.pyplot as plt\n",
    "import matplotlib as mpl\n",
    "import seaborn as sns\n",
    "import sys\n",
    "import os\n",
    "import warnings\n",
    "import pandas as pd\n",
    "import numpy as np\n",
    "import itertools\n",
    "import re\n",
    "import matplotlib.pyplot as plt\n",
    "from nltk.tokenize import word_tokenize\n",
    "from nltk.tokenize import sent_tokenize\n",
    "\n",
    "sys.path.append(\"../../oats\")\n",
    "from oats.utils.utils import to_abbreviation\n",
    "from oats.utils.constants import NCBI_TAG\n",
    "from oats.utils.constants import EVIDENCE_CODES\n",
    "from oats.nlp.preprocess import add_prefix\n",
    "from oats.nlp.preprocess import other_delim_to_bar_delim\n",
    "from oats.nlp.preprocess import get_ontology_ids\n",
    "from oats.nlp.preprocess import concatenate_descriptions\n",
    "from oats.nlp.preprocess import remove_character\n",
    "from oats.nlp.preprocess import remove_punctuation\n",
    "from oats.nlp.preprocess import handle_synonym_in_parentheses\n",
    "from oats.nlp.preprocess import remove_enclosing_brackets\n",
    "from oats.nlp.preprocess import remove_short_tokens\n",
    "from oats.nlp.preprocess import concatenate_with_bar_delim\n",
    "\n",
    "OUTPUT_DIR = \"../data/reshaped_files\"\n",
    "mpl.rcParams[\"figure.dpi\"] = 200\n",
    "warnings.simplefilter('ignore')\n",
    "pd.set_option('display.max_rows', 500)\n",
    "pd.set_option('display.max_columns', 500)\n",
    "pd.set_option('display.width', 1000)"
   ]
  },
  {
   "cell_type": "markdown",
   "metadata": {},
   "source": [
    "### Part 1: Phenotypic Text Data\n",
    "There are several columns that contain information about gene names and accessions. We need to know what type of information is in each in order to know which should be retained or parsed to form the desired cleaned dataset. We are interested in both gene names that should map to a specific accession (like cms-54257) as well as gene names that are enzyme descriptions (like Ubiquitin-Specific Protease) that could map to more than one gene in a particular species. Each type of information is valuable, but needs to be differentiated so that when comparing whether two rows are specifying the same gene, this is not confused with specifying two different genes that have the same function.\n",
    "\n",
    "The gene symbols in this dataset are typically surrounded by square brackets but not always. If a second symbol for that same gene is mentioned in the same column, the second symbol might be enclosed in parentheses. The synonynms for the gene symbols are similarly sometimes enclosed in square brackets, and are typically separated by commas in cases where more than one are mentioned in this column. Also note that an underscore is being used to represent missing data, so this has to handled so that that character is not treated as a gene name that appears many times."
   ]
  },
  {
   "cell_type": "code",
   "execution_count": 31,
   "metadata": {},
   "outputs": [
    {
     "name": "stdout",
     "output_type": "stream",
     "text": [
      "(17674, 14)\n",
      "CGSNL Gene Symbol           10041\n",
      "Gene symbol synonym(s)      15948\n",
      "CGSNL Gene Name              9845\n",
      "Gene name synonym(s)        15216\n",
      "Protein Name                 5588\n",
      "Allele                       1151\n",
      "Explanation                 13841\n",
      "Trait Class                   726\n",
      "RAP ID                      11531\n",
      "MUS ID                      11642\n",
      "Gramene ID                   1656\n",
      "Gene Ontology                7624\n",
      "Trait Ontology               2476\n",
      "Plant Ontology                797\n"
     ]
    }
   ],
   "source": [
    "filename = \"../data/gene_related_files/oryzabase/OryzabaseGeneListEn_20190826010113.txt\"\n",
    "usecols = [\"CGSNL Gene Symbol\", \"Gene symbol synonym(s)\", \"CGSNL Gene Name\", \"Gene name synonym(s)\", \"Protein Name\", \n",
    "           \"Allele\", \"Explanation\", \"Trait Class\", \"RAP ID\", \"MUS ID\", \"Gramene ID\", \"Gene Ontology\", \n",
    "           \"Trait Ontology\", \"Plant Ontology\"]\n",
    "df = pd.read_table(filename, usecols=usecols, sep=\"\\t\")\n",
    "df.fillna(\"\", inplace=True)\n",
    "unique_values = {col:len(pd.unique(df[col].values)) for col in df.columns}\n",
    "print(df.shape)\n",
    "for k,v in unique_values.items():\n",
    "    print(\"{:25}{:8}\".format(k,v))"
   ]
  },
  {
   "cell_type": "code",
   "execution_count": 32,
   "metadata": {},
   "outputs": [
    {
     "name": "stdout",
     "output_type": "stream",
     "text": [
      "    CGSNL Gene Symbol                  Gene symbol synonym(s)\n",
      "0         [CMS-54257]               [cms-54257]*, [cms-54257]\n",
      "1  [CMS-AK]([CMS-JP])  [cms-ak]([cms-jp]), [cms-jp], [cms-ak]\n",
      "2           [CMS-ARC]   [cms-ARC]*, [cms-ARC] [mt], [cms-ARC]\n",
      "3            [CMS-BO]                                [cms-bo]\n",
      "4            [CMS-CW]                                [cms-CW]\n",
      "      CGSNL Gene Symbol Gene symbol synonym(s)\n",
      "17375                 _                       \n",
      "12758                 _                  rrn18\n",
      "16316                 _                   FCO6\n",
      "4626              ATG8F                OsATG8f\n",
      "697                TMS3         tms3(t)*, ms82\n"
     ]
    }
   ],
   "source": [
    "print(df[[\"CGSNL Gene Symbol\", \"Gene symbol synonym(s)\"]].head(5))\n",
    "print(df[[\"CGSNL Gene Symbol\", \"Gene symbol synonym(s)\"]].sample(5))"
   ]
  },
  {
   "cell_type": "markdown",
   "metadata": {},
   "source": [
    "The values in the gene name synonym(s) column can be comma delimited lists if more than one synonym for the gene name was known. Sometimes quotes are used. Empty strings and possibly underscores can be used to denote missing information."
   ]
  },
  {
   "cell_type": "code",
   "execution_count": 33,
   "metadata": {},
   "outputs": [
    {
     "name": "stdout",
     "output_type": "stream",
     "text": [
      "                    CGSNL Gene Name\n",
      "0  CYTOPLASMIC MALE STERILITY 54257\n",
      "1     CYTOPLASMIC MALE STERILITY AK\n",
      "2    CYTOPLASMIC MALE STERILITY ARC\n",
      "3     CYTOPLASMIC MALE STERILITY BO\n",
      "4     CYTOPLASMIC MALE STERILITY CW\n",
      "                     CGSNL Gene Name\n",
      "14654                              _\n",
      "16992        CATION/H+ EXCHANGER  17\n",
      "7348   ACTIN DEPOLYMERIZING FACTOR 8\n",
      "11764                              _\n",
      "12655                              _\n"
     ]
    }
   ],
   "source": [
    "print(df[[\"CGSNL Gene Name\"]].head(5))\n",
    "print(df[[\"CGSNL Gene Name\"]].sample(5))"
   ]
  },
  {
   "cell_type": "markdown",
   "metadata": {},
   "source": [
    "The gene name column has strings representing the full name of each gene rather than just the symbol. Note that an underscore is also being used to denote missing values in this column as well."
   ]
  },
  {
   "cell_type": "code",
   "execution_count": 34,
   "metadata": {},
   "outputs": [
    {
     "name": "stdout",
     "output_type": "stream",
     "text": [
      "                                Gene name synonym(s)\n",
      "0  Cytoplasmic mutant induced by somaclonal varia...\n",
      "1            Akebono' cytoplasm, 'Akebono' cytoplasm\n",
      "2     ARC13829-16 cytoplasm, `ARC13829-26' cytoplasm\n",
      "3  Chinsurah boro II' cytoplasm, `Chinsurah boro ...\n",
      "4                        Chinese wild rice cytoplasm\n",
      "                                    Gene name synonym(s)\n",
      "5411   phosphoenolpyruvate (PEP) carboxylase kinase-r...\n",
      "14320                                 rice DJC75 homolog\n",
      "901    Pyricularia oryzae resistance, Magnaporthe gri...\n",
      "17640                  hypersensitive induced reaction 3\n",
      "17264                            RNA-Binding Protein 208\n"
     ]
    }
   ],
   "source": [
    "print(df[[\"Gene name synonym(s)\"]].head(5))\n",
    "print(df[[\"Gene name synonym(s)\"]].sample(5))"
   ]
  },
  {
   "cell_type": "markdown",
   "metadata": {},
   "source": [
    "The values in the gene name synonym(s) column can be comma delimited lists if more than one synonym for the gene name was known. Sometimes quotes are used. Empty strings and possibly underscores can be used to denote missing information."
   ]
  },
  {
   "cell_type": "code",
   "execution_count": 35,
   "metadata": {},
   "outputs": [
    {
     "name": "stdout",
     "output_type": "stream",
     "text": [
      "                                Protein Name Allele\n",
      "11912                                              \n",
      "8900                                               \n",
      "58                                                 \n",
      "14457                                              \n",
      "4788   STRESS/ABA-ACTIVATED PROTEIN KINASE 9       \n"
     ]
    }
   ],
   "source": [
    "print(df[[\"Protein Name\",\"Allele\"]].sample(5))"
   ]
  },
  {
   "cell_type": "markdown",
   "metadata": {},
   "source": [
    "Both the protein name and allele columns are sparse within the dataset. Either can be a single value or a comma delimited list of values. These may not need to be retained for finding reference to genes in other resources because we already have more standardized representations of the genes in other columns."
   ]
  },
  {
   "cell_type": "code",
   "execution_count": 36,
   "metadata": {},
   "outputs": [
    {
     "name": "stdout",
     "output_type": "stream",
     "text": [
      "             RAP ID                                             MUS ID\n",
      "11422  Os03g0248600                 LOC_Os03g14450.2, LOC_Os03g14450.1\n",
      "3770                                                                  \n",
      "16512  Os03g0210800                                   LOC_Os03g11240.1\n",
      "16742  Os09g0538800  LOC_Os09g36770.3, LOC_Os09g36770.2, LOC_Os09g3...\n",
      "11356                                                                 \n"
     ]
    }
   ],
   "source": [
    "print(df[[\"RAP ID\",\"MUS ID\"]].sample(5))"
   ]
  },
  {
   "cell_type": "markdown",
   "metadata": {},
   "source": [
    "Both the RAP ID and the MUS ID can columns can contain multiple values for a given gene which are included as members of a comma delimited list. These values can also be missing using the same scheme for missing information as in the rest of the dataset."
   ]
  },
  {
   "cell_type": "markdown",
   "metadata": {},
   "source": [
    "The following functions were created based on the needs following how the gene symbols, names, synonyms, and accessions are previously described in this dataset. These are a not guaranteed to be a perfectly accurate method of parsing in the information in this dataset but they are meant to approximate what is required based on going through the dataset by hand. The methods are meant to be applied only to specific columns within the dataset, and to make the code that later cleans the columns more readable by compressing multiple cleaning steps into a single function. Some of these rely on other very specific functions that are within the text preprocessing module and not shown here."
   ]
  },
  {
   "cell_type": "code",
   "execution_count": 37,
   "metadata": {},
   "outputs": [],
   "source": [
    "def clean_oryzabase_symbol(string):\n",
    "    # Should be applied to the gene symbol column in the dataset.\n",
    "    # Returns a single string representing a bar delimited list of gene symbols.\n",
    "    string = remove_character(string, \"*\")\n",
    "    names = handle_synonym_in_parentheses(string, min_length=4)\n",
    "    names = [remove_enclosing_brackets(name) for name in names]\n",
    "    names = remove_short_tokens(names, min_length=2)\n",
    "    names_string = concatenate_with_bar_delim(*names)\n",
    "    return(names_string)\n",
    "\n",
    "def clean_oryzabase_symbol_synonyms(string):\n",
    "    # Should be applied to the gene symbol synonym(s) column in the dataset.\n",
    "    # Returns a single string representing a bar delimited list of gene symbols.\n",
    "    string = remove_character(string, \"*\")\n",
    "    names = string.split(\",\")\n",
    "    names = [name.strip() for name in names]\n",
    "    names = [remove_enclosing_brackets(name) for name in names]\n",
    "    names_string = concatenate_with_bar_delim(*names)\n",
    "    return(names_string)"
   ]
  },
  {
   "cell_type": "markdown",
   "metadata": {},
   "source": [
    "### Part 2: Ontology Term Annotations\n",
    "Multiple columns within the dataset specify ontology term annotations that have been applied to the geen mentioned on that particular line. Ontology term annotations are separated into different columns based on which ontology the terms belong to, and both the term ID of each annotation and the accompanying label for that term and explicitly given. Columns for terms from the Gene Ontolgoy (GO), Plant Ontology (PO), and Plant Trait Ontology (TO) are all included. There is no information about what evidence codes these annotations are associated with in this dataset."
   ]
  },
  {
   "cell_type": "code",
   "execution_count": 38,
   "metadata": {},
   "outputs": [
    {
     "name": "stdout",
     "output_type": "stream",
     "text": [
      "                                       Gene Ontology\n",
      "0  GO:0000001 - mitochondrion inheritance, GO:000...\n",
      "1  GO:0000001 - mitochondrion inheritance, GO:000...\n",
      "2  GO:0007275 - multicellular organismal development\n",
      "3  GO:0007275 - multicellular organismal developm...\n",
      "4  GO:0007275 - multicellular organismal development\n",
      "                                      Plant Ontology\n",
      "0                               PO:0009066 - anther \n",
      "1                               PO:0009066 - anther \n",
      "2  PO:0009082 - spikelet floret , PO:0020048 - mi...\n",
      "3  PO:0009082 - spikelet floret , PO:0020048 - mi...\n",
      "4  PO:0009082 - spikelet floret , PO:0020048 - mi...\n",
      "                                      Trait Ontology\n",
      "0  TO:0000232 - cytoplasmic male sterility (sensu...\n",
      "1  TO:0000232 - cytoplasmic male sterility (sensu...\n",
      "2  TO:0000232 - cytoplasmic male sterility (sensu...\n",
      "3  TO:0000232 - cytoplasmic male sterility (sensu...\n",
      "4  TO:0000232 - cytoplasmic male sterility (sensu...\n"
     ]
    }
   ],
   "source": [
    "print(df[[\"Gene Ontology\"]].head(5))\n",
    "print(df[[\"Plant Ontology\"]].head(5))\n",
    "print(df[[\"Trait Ontology\"]].head(5))"
   ]
  },
  {
   "cell_type": "markdown",
   "metadata": {},
   "source": [
    "Both the term IDs and labels for each annotation are given. Multiple annotations from the same ontology for a given line are separated by commas. We want to parse out just the gene ontology IDs for the cleaned dataset so that they can be referenced later, all the other information is not needed. There is a function to the return a list of gene IDs present in a longer string of text that is in the preprocessing module."
   ]
  },
  {
   "cell_type": "markdown",
   "metadata": {},
   "source": [
    "### Part 3: Handling other text description and keyword information in this data\n",
    "This dataset does not contain any columns that consistly contain a natural language description of a phenotype associated with a given gene. But some text-based information is still present. The trait class column contains a value from a limited set of keyword descriptors for the trait a particular gene is associated with. The size of the vocabulary used is obtained here. Also see the specific description of this keyword vocabulary here (https://shigen.nig.ac.jp/rice/oryzabase/traitclass/). The explaination column also occasionally contains text information about a corresponding phenotype."
   ]
  },
  {
   "cell_type": "code",
   "execution_count": 39,
   "metadata": {},
   "outputs": [
    {
     "name": "stdout",
     "output_type": "stream",
     "text": [
      "  4121                      \n",
      "  3621   Biochemical character\n",
      "  2566   Other              \n",
      "   875   Tolerance and resistance - Stress tolerance\n",
      "   862   Biochemical character,  Tolerance and resistance - Stress tolerance\n",
      "   527   Tolerance and resistance - Disease resistance\n",
      "   293   Reproductive organ - Spikelet, flower, glume, awn\n",
      "   244   Biochemical character,  Tolerance and resistance - Disease resistance\n",
      "   222   Character as QTL - Yield and productivity\n",
      "   204   Tolerance and resistance - Stress tolerance,  Other\n"
     ]
    }
   ],
   "source": [
    "# Get a list sorted by number of occurences for each trait class.\n",
    "description_counts = df[\"Trait Class\"].value_counts().to_dict()\n",
    "sorted_tuples = sorted(description_counts.items(), key = lambda x: x[1], reverse=True)\n",
    "for t in sorted_tuples[0:10]:\n",
    "    print(\"{:6}  {:20}\".format(t[1],t[0][:70]))"
   ]
  },
  {
   "cell_type": "markdown",
   "metadata": {},
   "source": [
    "The most common value in the trait class column is whitespace or an empty string indicating missing data. Another very common value though is 'Other' which has 2,566 occurences out of the 17,674 total instances. This needs to be handled if using this information as text descriptions because this contains no semantics relevant to the phenotype (two phenotypes with trait classes of 'Other' should not be considered similar)."
   ]
  },
  {
   "cell_type": "code",
   "execution_count": 40,
   "metadata": {},
   "outputs": [
    {
     "name": "stdout",
     "output_type": "stream",
     "text": [
      "                                             Explanation\n",
      "8662                                           AF251067.\n",
      "14599                                    LOC_Os03g61960.\n",
      "13173                        OsAAP9 in Zhao et al. 2012.\n",
      "12513  class II PUB protein (U-box + ARM/HEAT). LOC_O...\n",
      "10164                                                   \n",
      "11408                        D14534 (O. longistaminata).\n",
      "13172        LOC_Os01g66010. OsAAP8 in Zhao et al. 2012.\n",
      "15648                                    LOC_Os02g22140.\n",
      "884    LOC_Os11g12740.1 SP1 encodes a putative PTR fa...\n",
      "3914   Pi47 was identified in XZ3150 (indica rice cul...\n",
      "3746                                                    \n",
      "1099   Whitebacked planthopper resistant QTL on the c...\n",
      "13025  rice homolog of Arabidopsis HID1. noncoding RN...\n",
      "1002   transposable element RMu2-A1, transposon:RMu2-...\n",
      "1943   This QTL controls egg mortality in relation to...\n",
      "7116                                             Q2QYH7.\n",
      "13997  a mature anther-preferentially expressed gene....\n",
      "16535                                   LOC_Os05g49920.1\n",
      "14729  LOC_Os08g04920. Trypsin Family (Peptidase_S1; ...\n",
      "5227   BK004863. Q6AWY1. GO:1900150: regulation of de...\n",
      "5905                                                    \n",
      "10986  a member of Gaijin-like miniature inverted rep...\n",
      "14590                                            D85874.\n",
      "7365                                     LOC_Os10g38850.\n",
      "11790       LOC_Os06g02110. Os_F0750 in Hua et al. 2011.\n",
      "17095       a family of Ty3/gypsy-like retrotransposons.\n",
      "10762  LOC_Os11g39220. AU064119, AU101254. GO:0071949...\n",
      "12059       LOC_Os11g05580. Os_F0713 in Hua et al. 2011.\n",
      "1612   This QTL controls biomass per plant, being loc...\n",
      "7251                                                    \n"
     ]
    }
   ],
   "source": [
    "print(df[[\"Explanation\"]].sample(30))"
   ]
  },
  {
   "cell_type": "markdown",
   "metadata": {},
   "source": [
    "The explanation column holds information potentially about the phenotype, but also sometimes contains redundant information about the gene names or identifiers and sometimes the ontology term annotations as well. Sometimes methods are mentioned as well. Some of this could be handled with parsing to remove the redundant information that already appears somewhere else in a particular column for this line, but this should be considered irregular text annotations or descriptions for the purposes of downstream analyses. The following cell contains a preliminary attempt at a function that cleans values in this column by removing some redundant information from other columns."
   ]
  },
  {
   "cell_type": "code",
   "execution_count": 41,
   "metadata": {},
   "outputs": [],
   "source": [
    "def clean_oryzabase_explainations(string):\n",
    "    # Should be applied to the explanation column in the dataset.\n",
    "    # Returns a version of the the value in that column without some redundant information.\n",
    "    ontology_ids = get_ontology_ids(string)\n",
    "    for ontology_id in ontology_ids:\n",
    "        string = string.replace(ontology_id,\"\")\n",
    "        string = remove_punctuation(string)\n",
    "    return(string)"
   ]
  },
  {
   "cell_type": "code",
   "execution_count": 42,
   "metadata": {},
   "outputs": [
    {
     "name": "stdout",
     "output_type": "stream",
     "text": [
      "  species                                         gene_names\n",
      "0     osa  CMS-54257|cms-54257|CYTOPLASMIC MALE STERILITY...\n",
      "1     osa  CMS-JP|CMS-AK|[cms-ak]([cms-jp])|cms-jp|cms-ak...\n",
      "2     osa  CMS-ARC|cms-ARC|cms-ARC] [mt|CYTOPLASMIC MALE ...\n",
      "3     osa  CMS-BO|cms-bo|CYTOPLASMIC MALE STERILITY BO|Ch...\n",
      "4     osa  CMS-CW|cms-CW|CYTOPLASMIC MALE STERILITY CW|Ch...\n",
      "5     osa  CMS-GAM|cms-GAM|CYTOPLASMIC MALE STERILITY GAM...\n",
      "6     osa  CMS-HL|cms-HL|CYTOPLASMIC MALE STERILITY HL|HL...\n",
      "7     osa  CMS-IR66707A|cms-IR66707A|CYTOPLASMIC MALE STE...\n",
      "8     osa  CMS-KALINGA-I|cms-Kalinga-I|CYTOPLASMIC MALE S...\n",
      "9     osa  CMS-KHIABORO|cms-Khiaboro|CYTOPLASMIC MALE STE...\n",
      "      species                                         gene_names\n",
      "12219     osa                            LOC_Os05g40430|Os_F0724\n",
      "3270      osa  Os01g0273800|LOC_Os01g16714.1|YUCCA9|OsYUCCA9|...\n",
      "6867      osa  Os02g0208300|LOC_Os02g11760.1|PDR7|OsABCG39|Os...\n",
      "16120     osa  Os07g0498900|LOC_Os07g31550.1|OsTBL37|TBL37|tr...\n",
      "17173     osa  Os09g0356800|LOC_Os09g19229.1|LRR receptor-lik...\n",
      "7563      osa  MIR812D|miR812d|osa-miR812d|osa-MIR812d|MICROR...\n",
      "13183     osa  Os04g0490833/Os04g0490900|OsAAP11G|AAP11G|OsAA...\n",
      "16317     osa  Os12g0518200|LOC_Os12g33300.1|FCO9|Functioning...\n",
      "5927      osa  Os06g0560700|LOC_Os06g36520.1|GELP86|OsGELP86|...\n",
      "9025      osa  OsCLE501|CLE501|CLV3/ESR-related 501|CLAVATA3/...\n"
     ]
    }
   ],
   "source": [
    "# Restructuring and combining columns that have gene name information.\n",
    "df[\"CGSNL Gene Symbol\"] = df[\"CGSNL Gene Symbol\"].apply(clean_oryzabase_symbol)\n",
    "df[\"Gene symbol synonym(s)\"] = df[\"Gene symbol synonym(s)\"].apply(clean_oryzabase_symbol_synonyms)\n",
    "df[\"CGSNL Gene Name\"] = df[\"CGSNL Gene Name\"].apply(lambda x: x.replace(\"_\",\"\").strip())\n",
    "df[\"Gene name synonym(s)\"] = df[\"Gene name synonym(s)\"].apply(lambda x: other_delim_to_bar_delim(string=x, delim=\",\"))\n",
    "df[\"gene_names\"] = np.vectorize(concatenate_with_bar_delim)(df[\"RAP ID\"], df[\"MUS ID\"], df[\"CGSNL Gene Symbol\"], df[\"Gene symbol synonym(s)\"], df[\"CGSNL Gene Name\"], df[\"Gene name synonym(s)\"])\n",
    "\n",
    "# Restructuring and combining columns that have ontology term annotations.\n",
    "df[\"Gene Ontology\"] = df[\"Gene Ontology\"].apply(lambda x: concatenate_with_bar_delim(*get_ontology_ids(x))) \n",
    "df[\"Trait Ontology\"] = df[\"Trait Ontology\"].apply(lambda x: concatenate_with_bar_delim(*get_ontology_ids(x))) \n",
    "df[\"Plant Ontology\"] = df[\"Plant Ontology\"].apply(lambda x: concatenate_with_bar_delim(*get_ontology_ids(x))) \n",
    "df[\"term_ids\"] = np.vectorize(concatenate_with_bar_delim)(df[\"Gene Ontology\"], df[\"Trait Ontology\"], df[\"Plant Ontology\"])\n",
    "\n",
    "# Adding other expected columns and subsetting the dataset.\n",
    "df[\"species\"] = \"osa\"\n",
    "df[\"description\"] = df[\"Explanation\"].apply(clean_oryzabase_explainations)\n",
    "df[\"pmid\"] = \"\"\n",
    "df = df[[\"species\", \"gene_names\", \"description\", \"term_ids\" ,\"pmid\"]]\n",
    "print(df[[\"species\",\"gene_names\"]].head(10))\n",
    "print(df[[\"species\",\"gene_names\"]].sample(10))"
   ]
  },
  {
   "cell_type": "code",
   "execution_count": 43,
   "metadata": {},
   "outputs": [],
   "source": [
    "# Outputting the dataset of descriptions to a csv file.\n",
    "path = os.path.join(OUTPUT_DIR,\"osa_phenotypes_and_annotations.csv\")\n",
    "df.to_csv(path, index=False)"
   ]
  }
 ],
 "metadata": {
  "kernelspec": {
   "display_name": "Python 3",
   "language": "python",
   "name": "python3"
  },
  "language_info": {
   "codemirror_mode": {
    "name": "ipython",
    "version": 3
   },
   "file_extension": ".py",
   "mimetype": "text/x-python",
   "name": "python",
   "nbconvert_exporter": "python",
   "pygments_lexer": "ipython3",
   "version": "3.6.7"
  }
 },
 "nbformat": 4,
 "nbformat_minor": 2
}
